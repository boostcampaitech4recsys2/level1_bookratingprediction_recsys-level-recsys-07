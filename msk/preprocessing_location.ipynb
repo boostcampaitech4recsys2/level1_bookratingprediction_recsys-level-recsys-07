{
 "cells": [
  {
   "cell_type": "code",
   "execution_count": 1,
   "metadata": {
    "id": "lVEmDp_FlyPW"
   },
   "outputs": [],
   "source": [
    "import pandas as pd\n",
    "import numpy as np\n",
    "import seaborn as sns\n",
    "import matplotlib.pyplot as plt"
   ]
  },
  {
   "cell_type": "code",
   "execution_count": 2,
   "metadata": {
    "colab": {
     "base_uri": "https://localhost:8080/"
    },
    "id": "WN-q4u-8nCIe",
    "outputId": "a5408e37-b755-4b51-e738-010c5e8acaa5"
   },
   "outputs": [
    {
     "name": "stdout",
     "output_type": "stream",
     "text": [
      "users shape:  (68092, 3)\n",
      "books shape:  (149570, 10)\n",
      "ratings shape:  (306795, 3)\n"
     ]
    }
   ],
   "source": [
    "path='../data/'\n",
    "\n",
    "users = pd.read_csv(path+'users.csv')\n",
    "books = pd.read_csv(path+'books.csv')\n",
    "ratings = pd.read_csv(path+'train_ratings.csv')\n",
    "\n",
    "print('users shape: ', users.shape)\n",
    "print('books shape: ', books.shape)\n",
    "print('ratings shape: ', ratings.shape)"
   ]
  },
  {
   "cell_type": "code",
   "execution_count": 3,
   "metadata": {},
   "outputs": [],
   "source": [
    "def print_full(x):\n",
    "    pd.set_option('display.max_rows', 500)\n",
    "    print(x)\n",
    "    pd.reset_option('display.max_rows')"
   ]
  },
  {
   "cell_type": "markdown",
   "metadata": {},
   "source": [
    "## `location` 전처리"
   ]
  },
  {
   "cell_type": "code",
   "execution_count": 4,
   "metadata": {},
   "outputs": [],
   "source": [
    "users['location'] = users['location'].apply(lambda x: x.replace(',,', ','))"
   ]
  },
  {
   "cell_type": "code",
   "execution_count": 5,
   "metadata": {},
   "outputs": [
    {
     "data": {
      "text/html": [
       "<div>\n",
       "<style scoped>\n",
       "    .dataframe tbody tr th:only-of-type {\n",
       "        vertical-align: middle;\n",
       "    }\n",
       "\n",
       "    .dataframe tbody tr th {\n",
       "        vertical-align: top;\n",
       "    }\n",
       "\n",
       "    .dataframe thead th {\n",
       "        text-align: right;\n",
       "    }\n",
       "</style>\n",
       "<table border=\"1\" class=\"dataframe\">\n",
       "  <thead>\n",
       "    <tr style=\"text-align: right;\">\n",
       "      <th></th>\n",
       "      <th>user_id</th>\n",
       "      <th>location</th>\n",
       "    </tr>\n",
       "  </thead>\n",
       "  <tbody>\n",
       "    <tr>\n",
       "      <th>435</th>\n",
       "      <td>259223</td>\n",
       "      <td>twin falls, idaho, idaho, usa</td>\n",
       "    </tr>\n",
       "    <tr>\n",
       "      <th>762</th>\n",
       "      <td>14387</td>\n",
       "      <td>coalville, leicestershire, england, united kin...</td>\n",
       "    </tr>\n",
       "    <tr>\n",
       "      <th>940</th>\n",
       "      <td>38464</td>\n",
       "      <td>tharston, norwich, england, united kingdom</td>\n",
       "    </tr>\n",
       "    <tr>\n",
       "      <th>1044</th>\n",
       "      <td>53688</td>\n",
       "      <td>paris, france, ile de france, france</td>\n",
       "    </tr>\n",
       "    <tr>\n",
       "      <th>1207</th>\n",
       "      <td>75842</td>\n",
       "      <td>chicago, il, illinois, usa</td>\n",
       "    </tr>\n",
       "    <tr>\n",
       "      <th>...</th>\n",
       "      <td>...</td>\n",
       "      <td>...</td>\n",
       "    </tr>\n",
       "    <tr>\n",
       "      <th>66162</th>\n",
       "      <td>179728</td>\n",
       "      <td>brentwood bay,  b.c., british columbia, canada</td>\n",
       "    </tr>\n",
       "    <tr>\n",
       "      <th>66751</th>\n",
       "      <td>269037</td>\n",
       "      <td>seattle, wa, washington, usa</td>\n",
       "    </tr>\n",
       "    <tr>\n",
       "      <th>66770</th>\n",
       "      <td>202347</td>\n",
       "      <td>seba beach, ab., alberta, canada</td>\n",
       "    </tr>\n",
       "    <tr>\n",
       "      <th>67584</th>\n",
       "      <td>278215</td>\n",
       "      <td>nelson, motueka, nz, new zealand</td>\n",
       "    </tr>\n",
       "    <tr>\n",
       "      <th>67586</th>\n",
       "      <td>245812</td>\n",
       "      <td>canberra, act, australian capital territory, a...</td>\n",
       "    </tr>\n",
       "  </tbody>\n",
       "</table>\n",
       "<p>218 rows × 2 columns</p>\n",
       "</div>"
      ],
      "text/plain": [
       "       user_id                                           location\n",
       "435     259223                      twin falls, idaho, idaho, usa\n",
       "762      14387  coalville, leicestershire, england, united kin...\n",
       "940      38464         tharston, norwich, england, united kingdom\n",
       "1044     53688               paris, france, ile de france, france\n",
       "1207     75842                         chicago, il, illinois, usa\n",
       "...        ...                                                ...\n",
       "66162   179728     brentwood bay,  b.c., british columbia, canada\n",
       "66751   269037                       seattle, wa, washington, usa\n",
       "66770   202347                   seba beach, ab., alberta, canada\n",
       "67584   278215                   nelson, motueka, nz, new zealand\n",
       "67586   245812  canberra, act, australian capital territory, a...\n",
       "\n",
       "[218 rows x 2 columns]"
      ]
     },
     "execution_count": 5,
     "metadata": {},
     "output_type": "execute_result"
    }
   ],
   "source": [
    "users[['user_id', 'location']][users['location'].apply(lambda x: sum([s==',' for s in x])>2)]"
   ]
  },
  {
   "cell_type": "code",
   "execution_count": 6,
   "metadata": {},
   "outputs": [],
   "source": [
    "# users[['user_id', 'location']][users['location'].apply(lambda x: sum([s==',' for s in x])>2)].to_csv('../msk/location_out.csv', index=False)\n"
   ]
  },
  {
   "cell_type": "code",
   "execution_count": 7,
   "metadata": {},
   "outputs": [],
   "source": [
    "location_out_corrected = pd.read_csv('../msk/location_out copy.csv')\n"
   ]
  },
  {
   "cell_type": "code",
   "execution_count": 8,
   "metadata": {},
   "outputs": [
    {
     "data": {
      "text/plain": [
       "False"
      ]
     },
     "execution_count": 8,
     "metadata": {},
     "output_type": "execute_result"
    }
   ],
   "source": [
    "any(location_out_corrected['location'].apply(lambda x: sum([s==',' for s in x])>2))"
   ]
  },
  {
   "cell_type": "code",
   "execution_count": 9,
   "metadata": {},
   "outputs": [],
   "source": [
    "users.loc[users['user_id'].isin(location_out_corrected['user_id']),'location'] = location_out_corrected['location'].values"
   ]
  },
  {
   "cell_type": "code",
   "execution_count": 10,
   "metadata": {},
   "outputs": [
    {
     "data": {
      "text/plain": [
       "False"
      ]
     },
     "execution_count": 10,
     "metadata": {},
     "output_type": "execute_result"
    }
   ],
   "source": [
    "any(users['location'].apply(lambda x: sum([s==',' for s in list(str(x))])>2))"
   ]
  },
  {
   "cell_type": "markdown",
   "metadata": {},
   "source": [
    "### location -> location_city, location_state, location_country\n"
   ]
  },
  {
   "cell_type": "code",
   "execution_count": 11,
   "metadata": {},
   "outputs": [
    {
     "name": "stderr",
     "output_type": "stream",
     "text": [
      "/tmp/ipykernel_118709/2475927196.py:1: FutureWarning: The default value of regex will change from True to False in a future version.\n",
      "  users['location'] = users['location'].str.replace(r'[^0-9a-zA-Z:,]', '')\n"
     ]
    }
   ],
   "source": [
    "users['location'] = users['location'].str.replace(r'[^0-9a-zA-Z:,]', '')\n",
    "\n",
    "users['location_city'] = users['location'].apply(lambda x: x.split(',')[0].strip())\n",
    "users['location_state'] = users['location'].apply(lambda x: x.split(',')[1].strip())\n",
    "users['location_country'] = users['location'].apply(lambda x: x.split(',')[2].strip())\n",
    "\n",
    "users = users.replace('na', np.nan)\n",
    "users = users.replace('', np.nan)\n"
   ]
  },
  {
   "cell_type": "code",
   "execution_count": 12,
   "metadata": {},
   "outputs": [
    {
     "data": {
      "text/plain": [
       "user_id             68092\n",
       "location            17865\n",
       "age                    91\n",
       "location_city       11972\n",
       "location_state       1457\n",
       "location_country      219\n",
       "dtype: int64"
      ]
     },
     "execution_count": 12,
     "metadata": {},
     "output_type": "execute_result"
    }
   ],
   "source": [
    "users.nunique()"
   ]
  },
  {
   "cell_type": "markdown",
   "metadata": {},
   "source": [
    "### location_country"
   ]
  },
  {
   "cell_type": "code",
   "execution_count": 13,
   "metadata": {},
   "outputs": [],
   "source": [
    "# pd.set_option('display.max_rows', 500)\n",
    "# print(users['location_country'].value_counts().sort_index())\n",
    "# pd.reset_option('display.max_rows')\n",
    "# unitedsates                           1\n",
    "# unitedstaes                           1\n",
    "# unitedstate                           1\n",
    "# unitedstates                          9\n",
    "# us, unitedstatesofamerica, losestadosunidosdenorteamerica -> usa\n",
    "# usacurrentlylivinginengland\n",
    "# usacanada\n",
    "# america\n",
    "# disgruntledstatesofamerica\n",
    "\n",
    "# phillipines -> philippines\n",
    "# uae, ua, unitedarabemirates\n",
    "# nz -> newzealand\n",
    "# c\n",
    "# unitedkindgonm, uk, england -> unitedkingdom\n",
    "# unknown"
   ]
  },
  {
   "cell_type": "code",
   "execution_count": 14,
   "metadata": {
    "id": "lVEmDp_FlyPW"
   },
   "outputs": [],
   "source": [
    "# -> usa\n",
    "users.loc[users['location_country'].isin(['unitedsates', 'unitedstaes', 'unitedstate', 'unitedstates', 'us', 'unitedstatesofamerica', 'losestadosunidosdenorteamerica', 'usacurrentlylivinginengland', 'usacanada', 'america', 'disgruntledstatesofamerica', 'ua']),'location_country'] = 'usa'"
   ]
  },
  {
   "cell_type": "code",
   "execution_count": 15,
   "metadata": {
    "colab": {
     "base_uri": "https://localhost:8080/"
    },
    "id": "WN-q4u-8nCIe",
    "outputId": "a5408e37-b755-4b51-e738-010c5e8acaa5"
   },
   "outputs": [],
   "source": [
    "# phillipines -> philippines\n",
    "users.loc[users['location_country'].isin(['phillipines']),'location_country'] = 'philippines'\n"
   ]
  },
  {
   "cell_type": "code",
   "execution_count": 16,
   "metadata": {},
   "outputs": [],
   "source": [
    "# uae, ua, unitedarabemirates\n",
    "users.loc[users['location_country'].isin(['uae']),'location_country'] = 'unitedarabemirates'\n",
    "\n",
    "# nz -> newzealand\n",
    "users.loc[users['location_country'].isin(['nz']),'location_country'] = 'newzealand'\n",
    "\n",
    "# c\n",
    "users.loc[users['location_country'].isin(['c']),'location_country'] = np.nan\n",
    "users.loc[users['location_state'].isin(['c']),'location_country'] = np.nan\n",
    "users.loc[users['location_city'].isin(['c']),'location_country'] = np.nan\n",
    "\n",
    "# unitedkindgonm, uk, england -> unitedkingdom\n",
    "users.loc[users['location_country'].isin(['unitedkindgonm', 'uk', 'england']),'location_country'] = 'unitedkingdom'\n",
    "\n",
    "# unknown\n",
    "users.loc[users['location_country'].isin(['unknown']),'location_country'] = np.nan\n",
    "users.loc[users['location_state'].isin(['unknown']),'location_country'] = np.nan\n",
    "users.loc[users['location_city'].isin(['unknown']),'location_country'] = np.nan"
   ]
  },
  {
   "cell_type": "markdown",
   "metadata": {},
   "source": [
    "### location_state 전처리"
   ]
  },
  {
   "cell_type": "code",
   "execution_count": 17,
   "metadata": {},
   "outputs": [
    {
     "data": {
      "text/html": [
       "<div>\n",
       "<style scoped>\n",
       "    .dataframe tbody tr th:only-of-type {\n",
       "        vertical-align: middle;\n",
       "    }\n",
       "\n",
       "    .dataframe tbody tr th {\n",
       "        vertical-align: top;\n",
       "    }\n",
       "\n",
       "    .dataframe thead th {\n",
       "        text-align: right;\n",
       "    }\n",
       "</style>\n",
       "<table border=\"1\" class=\"dataframe\">\n",
       "  <thead>\n",
       "    <tr style=\"text-align: right;\">\n",
       "      <th></th>\n",
       "      <th>location_country</th>\n",
       "      <th>location_state</th>\n",
       "    </tr>\n",
       "  </thead>\n",
       "  <tbody>\n",
       "    <tr>\n",
       "      <th>54</th>\n",
       "      <td>usa</td>\n",
       "      <td>ga</td>\n",
       "    </tr>\n",
       "    <tr>\n",
       "      <th>503</th>\n",
       "      <td>usa</td>\n",
       "      <td>dc</td>\n",
       "    </tr>\n",
       "    <tr>\n",
       "      <th>781</th>\n",
       "      <td>usa</td>\n",
       "      <td>dc</td>\n",
       "    </tr>\n",
       "    <tr>\n",
       "      <th>834</th>\n",
       "      <td>usa</td>\n",
       "      <td>nj</td>\n",
       "    </tr>\n",
       "    <tr>\n",
       "      <th>1064</th>\n",
       "      <td>usa</td>\n",
       "      <td>nm</td>\n",
       "    </tr>\n",
       "    <tr>\n",
       "      <th>...</th>\n",
       "      <td>...</td>\n",
       "      <td>...</td>\n",
       "    </tr>\n",
       "    <tr>\n",
       "      <th>66218</th>\n",
       "      <td>usa</td>\n",
       "      <td>dc</td>\n",
       "    </tr>\n",
       "    <tr>\n",
       "      <th>67264</th>\n",
       "      <td>usa</td>\n",
       "      <td>ne</td>\n",
       "    </tr>\n",
       "    <tr>\n",
       "      <th>67333</th>\n",
       "      <td>usa</td>\n",
       "      <td>dc</td>\n",
       "    </tr>\n",
       "    <tr>\n",
       "      <th>67372</th>\n",
       "      <td>usa</td>\n",
       "      <td>ca</td>\n",
       "    </tr>\n",
       "    <tr>\n",
       "      <th>67492</th>\n",
       "      <td>usa</td>\n",
       "      <td>mn</td>\n",
       "    </tr>\n",
       "  </tbody>\n",
       "</table>\n",
       "<p>222 rows × 2 columns</p>\n",
       "</div>"
      ],
      "text/plain": [
       "      location_country location_state\n",
       "54                 usa             ga\n",
       "503                usa             dc\n",
       "781                usa             dc\n",
       "834                usa             nj\n",
       "1064               usa             nm\n",
       "...                ...            ...\n",
       "66218              usa             dc\n",
       "67264              usa             ne\n",
       "67333              usa             dc\n",
       "67372              usa             ca\n",
       "67492              usa             mn\n",
       "\n",
       "[222 rows x 2 columns]"
      ]
     },
     "execution_count": 17,
     "metadata": {},
     "output_type": "execute_result"
    }
   ],
   "source": [
    "state_names = {\n",
    " 'AK': 'Alaska',\n",
    " 'AL': 'Alabama',\n",
    " 'AR': 'Arkansas',\n",
    " 'AS': 'American Samoa',\n",
    " 'AZ': 'Arizona',\n",
    " 'CA': 'California',\n",
    " 'CO': 'Colorado',\n",
    " 'CT': 'Connecticut',\n",
    " 'DC': 'District of Columbia',\n",
    " 'DE': 'Delaware',\n",
    " 'FL': 'Florida',\n",
    " 'GA': 'Georgia',\n",
    " 'GU': 'Guam',\n",
    " 'HI': 'Hawaii',\n",
    " 'IA': 'Iowa',\n",
    " 'ID': 'Idaho',\n",
    " 'IL': 'Illinois',\n",
    " 'IN': 'Indiana',\n",
    " 'KS': 'Kansas',\n",
    " 'KY': 'Kentucky',\n",
    " 'LA': 'Louisiana',\n",
    " 'MA': 'Massachusetts',\n",
    " 'MD': 'Maryland',\n",
    " 'ME': 'Maine',\n",
    " 'MI': 'Michigan',\n",
    " 'MN': 'Minnesota',\n",
    " 'MO': 'Missouri',\n",
    " 'MP': 'Northern Mariana Islands',\n",
    " 'MS': 'Mississippi',\n",
    " 'MT': 'Montana',\n",
    " 'NC': 'North Carolina',\n",
    " 'ND': 'North Dakota',\n",
    " 'NE': 'Nebraska',\n",
    " 'NH': 'New Hampshire',\n",
    " 'NJ': 'New Jersey',\n",
    " 'NM': 'New Mexico',\n",
    " 'NV': 'Nevada',\n",
    " 'NY': 'New York',\n",
    " 'OH': 'Ohio',\n",
    " 'OK': 'Oklahoma',\n",
    " 'OR': 'Oregon',\n",
    " 'PA': 'Pennsylvania',\n",
    " 'PR': 'Puerto Rico',\n",
    " 'RI': 'Rhode Island',\n",
    " 'SC': 'South Carolina',\n",
    " 'SD': 'South Dakota',\n",
    " 'TN': 'Tennessee',\n",
    " 'TX': 'Texas',\n",
    " 'UT': 'Utah',\n",
    " 'VA': 'Virginia',\n",
    " 'VI': 'Virgin Islands',\n",
    " 'VT': 'Vermont',\n",
    " 'WA': 'Washington',\n",
    " 'WI': 'Wisconsin',\n",
    " 'WV': 'West Virginia',\n",
    " 'WY': 'Wyoming',\n",
    " }\n",
    "state_names_lower = {}\n",
    "for k, v in state_names.items():\n",
    "    state_names_lower[k.lower()] = v.lower().replace(' ', '')\n",
    "users[(users['location_country']=='usa')&(users['location_state'].isin(state_names_lower.keys()))][['location_country', 'location_state']]\n"
   ]
  },
  {
   "cell_type": "code",
   "execution_count": 18,
   "metadata": {},
   "outputs": [],
   "source": [
    "users.loc[(users['location_country']=='usa')&(users['location_state'].isin(state_names_lower.keys())), 'location_state'] = users[(users['location_country']=='usa')&(users['location_state'].isin(state_names_lower.keys()))]['location_state'].map(state_names_lower)"
   ]
  },
  {
   "cell_type": "markdown",
   "metadata": {},
   "source": [
    "### 존재하는 city 정보로 state, country 결측 대치"
   ]
  },
  {
   "cell_type": "code",
   "execution_count": 19,
   "metadata": {},
   "outputs": [],
   "source": [
    "users['location_pp'] = users[['location_city', 'location_state', 'location_country']].apply(lambda x: ', '.join(x.fillna('n/a').values), axis=1).values\n",
    "users[['location_city_pp', 'location_state_pp', 'location_country_pp']] = users[['location_city', 'location_state', 'location_country']].copy()"
   ]
  },
  {
   "cell_type": "code",
   "execution_count": 20,
   "metadata": {},
   "outputs": [
    {
     "data": {
      "text/plain": [
       "user_id                    0\n",
       "location                   0\n",
       "age                    27833\n",
       "location_city            124\n",
       "location_state          3212\n",
       "location_country        2103\n",
       "location_pp                0\n",
       "location_city_pp         124\n",
       "location_state_pp       3212\n",
       "location_country_pp     2103\n",
       "dtype: int64"
      ]
     },
     "execution_count": 20,
     "metadata": {},
     "output_type": "execute_result"
    }
   ],
   "source": [
    "users.isna().sum()"
   ]
  },
  {
   "cell_type": "code",
   "execution_count": 21,
   "metadata": {},
   "outputs": [],
   "source": [
    "# location_state 결측 대치\n",
    "modify_location = users[((users['location_state_pp'].isna()))&(users['location_city_pp'].notnull())]['location_city_pp'].values\n",
    "location_list = []\n",
    "for location in modify_location:\n",
    "    try:\n",
    "        tmp_users = users[users['location_city_pp'].notnull()]\n",
    "        right_location = tmp_users[(tmp_users['location_city_pp']==location)&((tmp_users['location_state_pp'].notnull()))]['location_pp'].value_counts().index[0]\n",
    "        location_list.append(right_location)\n",
    "    except:\n",
    "        pass\n",
    "for location in location_list:\n",
    "    users.loc[(users['location_city_pp']==location.split(',')[0])&(users['location_state_pp'].isnull()),'location_state_pp'] = location.split(',')[1].strip()\n",
    "    \n",
    "\n",
    "# users = users.drop(['location'], axis=1)"
   ]
  },
  {
   "cell_type": "code",
   "execution_count": 22,
   "metadata": {},
   "outputs": [],
   "source": [
    "# location_country 결측 대치\n",
    "modify_location = users[((users['location_country_pp'].isna()))&(users['location_city_pp'].notnull())]['location_city_pp'].values\n",
    "location_list = []\n",
    "for location in modify_location:\n",
    "    try:\n",
    "        tmp_users = users[users['location_city_pp'].notnull()]\n",
    "        right_location = tmp_users[(tmp_users['location_city_pp']==location)&(tmp_users['location_country_pp'].notnull())]['location_pp'].value_counts().index[0]\n",
    "        location_list.append(right_location)\n",
    "    except:\n",
    "        pass\n",
    "for location in location_list:\n",
    "    users.loc[(users['location_city_pp']==location.split(',')[0])&(users['location_country_pp'].isnull()),'location_country_pp'] = location.split(',')[2].strip()\n",
    "    \n",
    "\n",
    "# users = users.drop(['location'], axis=1)"
   ]
  },
  {
   "cell_type": "code",
   "execution_count": 23,
   "metadata": {},
   "outputs": [],
   "source": [
    "# modify_location = users[(users['location_country_pp'].isna())&(users['location_city_pp'].notnull())]['location_city_pp'].values\n",
    "\n",
    "# location_list = []\n",
    "# for location in modify_location:\n",
    "#     try:\n",
    "#         right_location = users[(users['location_pp'].str.contains(location))&(users['location_country_pp'].notnull())]['location_pp'].value_counts().index[0]\n",
    "#         location_list.append(right_location)\n",
    "#     except:\n",
    "#         pass\n",
    "# for location in location_list:\n",
    "#     users.loc[users[users['location_city_pp']==location.split(',')[0]].index,'location_state_pp'] = location.split(',')[1].strip()\n",
    "#     users.loc[users[users['location_city_pp']==location.split(',')[0]].index,'location_country_pp'] = location.split(',')[2].strip()"
   ]
  },
  {
   "cell_type": "code",
   "execution_count": 24,
   "metadata": {},
   "outputs": [],
   "source": [
    "users['location_state_pp'] = users['location_state_pp'].replace('n/a', np.nan)\n",
    "users['location_country_pp'] = users['location_country_pp'].replace('n/a', np.nan)"
   ]
  },
  {
   "cell_type": "code",
   "execution_count": 25,
   "metadata": {},
   "outputs": [
    {
     "data": {
      "text/plain": [
       "user_id                    0\n",
       "location                   0\n",
       "age                    27833\n",
       "location_city            124\n",
       "location_state          3212\n",
       "location_country        2103\n",
       "location_pp                0\n",
       "location_city_pp         124\n",
       "location_state_pp        469\n",
       "location_country_pp      172\n",
       "dtype: int64"
      ]
     },
     "execution_count": 25,
     "metadata": {},
     "output_type": "execute_result"
    }
   ],
   "source": [
    "users.isna().sum()"
   ]
  },
  {
   "cell_type": "markdown",
   "metadata": {},
   "source": [
    "### state, city 최빈값 대치"
   ]
  },
  {
   "cell_type": "code",
   "execution_count": 26,
   "metadata": {},
   "outputs": [],
   "source": [
    "# state 최빈값 대치\n",
    "state_mode = users.groupby(['location_country_pp'])['location_country_pp'].agg(pd.Series.mode)\n",
    "\n",
    "idx = users[(users['location_state_pp'].isna())].index\n",
    "for i in idx:\n",
    "    try:\n",
    "        tmp_country = users.loc[i, 'location_country_pp']\n",
    "        if isinstance(state_mode[tmp_country], str):\n",
    "            users.loc[i, 'location_state_pp'] = state_mode[tmp_country]\n",
    "        else:\n",
    "            users.loc[i, 'location_state_pp'] = state_mode[tmp_country][0]\n",
    "    except:\n",
    "        pass\n",
    "        "
   ]
  },
  {
   "cell_type": "code",
   "execution_count": 27,
   "metadata": {},
   "outputs": [],
   "source": [
    "# city 최빈값 대치\n",
    "city_mode1 = users.groupby(['location_country_pp','location_state_pp'])['location_city_pp'].agg(pd.Series.mode)\n",
    "city_mode2 = users.groupby(['location_state_pp'])['location_city_pp'].agg(pd.Series.mode)\n",
    "city_mode3 = users.groupby(['location_country_pp'])['location_city_pp'].agg(pd.Series.mode)\n",
    "\n",
    "idx = users[(users['location_city_pp'].isna())].index\n",
    "for i in idx:\n",
    "    tmp_state = users.loc[i, 'location_state_pp']\n",
    "    tmp_country = users.loc[i, 'location_country_pp']\n",
    "    try:\n",
    "        if isinstance(city_mode1[tmp_country,tmp_state], str):\n",
    "            users.loc[i, 'location_city_pp'] = city_mode1[tmp_country, tmp_state]\n",
    "        else:\n",
    "            users.loc[i, 'location_city_pp'] = city_mode1[tmp_country, tmp_state][0]\n",
    "    except:\n",
    "        try:\n",
    "            if isinstance(city_mode1[tmp_country,tmp_state], str):\n",
    "                users.loc[i, 'location_city_pp'] = city_mode2[tmp_state]\n",
    "            else:\n",
    "                users.loc[i, 'location_city_pp'] = city_mode2[tmp_state][0]\n",
    "        except:\n",
    "            try:\n",
    "                if isinstance(city_mode1[tmp_country,tmp_state], str):\n",
    "                    users.loc[i, 'location_city_pp'] = city_mode3[tmp_country]\n",
    "                else:\n",
    "                    users.loc[i, 'location_city_pp'] = city_mode3[tmp_country][0]\n",
    "            except:\n",
    "                pass"
   ]
  },
  {
   "cell_type": "code",
   "execution_count": 28,
   "metadata": {},
   "outputs": [
    {
     "data": {
      "text/plain": [
       "user_id                    0\n",
       "location                   0\n",
       "age                    27833\n",
       "location_city            124\n",
       "location_state          3212\n",
       "location_country        2103\n",
       "location_pp                0\n",
       "location_city_pp          15\n",
       "location_state_pp        117\n",
       "location_country_pp      172\n",
       "dtype: int64"
      ]
     },
     "execution_count": 28,
     "metadata": {},
     "output_type": "execute_result"
    }
   ],
   "source": [
    "users.isna().sum()"
   ]
  },
  {
   "cell_type": "markdown",
   "metadata": {},
   "source": [
    "### location_state, location_city \n",
    "- 각 `location_country` 기준\n",
    "- `location_state`의 nunique < 15 -> `location_country` + \"_others\"\n",
    "- `location_city`의 nunique < 10 -> `location_state` + \"_others\""
   ]
  },
  {
   "cell_type": "code",
   "execution_count": 29,
   "metadata": {},
   "outputs": [],
   "source": [
    "countries = users['location_country_pp'].unique()\n",
    "for country in countries:\n",
    "    tmp = users[users['location_country_pp']==country]['location_state_pp'].value_counts()\n",
    "    try:\n",
    "        users.loc[(users['location_country_pp']==country)&(users['location_state_pp'].isin(tmp[tmp<15].index)), 'location_state_pp'] = country+'_others'\n",
    "    except:\n",
    "        pass\n",
    "    \n",
    "    states = users[(users['location_country_pp']==country)]['location_state_pp'].unique()\n",
    "    for state in states:\n",
    "        tmp = users[(users['location_country_pp']==country)&(users['location_state_pp']==state)]['location_city_pp'].value_counts()\n",
    "        try:\n",
    "            users.loc[(users['location_country_pp']==country)&(users['location_state_pp']==state)&(users['location_state_pp'].isin(tmp[tmp<10].index)), 'location_city_pp'] = state+'_others'\n",
    "        except:\n",
    "            pass"
   ]
  },
  {
   "cell_type": "code",
   "execution_count": 30,
   "metadata": {},
   "outputs": [
    {
     "data": {
      "text/html": [
       "<div>\n",
       "<style scoped>\n",
       "    .dataframe tbody tr th:only-of-type {\n",
       "        vertical-align: middle;\n",
       "    }\n",
       "\n",
       "    .dataframe tbody tr th {\n",
       "        vertical-align: top;\n",
       "    }\n",
       "\n",
       "    .dataframe thead th {\n",
       "        text-align: right;\n",
       "    }\n",
       "</style>\n",
       "<table border=\"1\" class=\"dataframe\">\n",
       "  <thead>\n",
       "    <tr style=\"text-align: right;\">\n",
       "      <th></th>\n",
       "      <th>user_id</th>\n",
       "      <th>location</th>\n",
       "      <th>age</th>\n",
       "      <th>location_city</th>\n",
       "      <th>location_state</th>\n",
       "      <th>location_country</th>\n",
       "      <th>location_pp</th>\n",
       "      <th>location_city_pp</th>\n",
       "      <th>location_state_pp</th>\n",
       "      <th>location_country_pp</th>\n",
       "    </tr>\n",
       "  </thead>\n",
       "  <tbody>\n",
       "    <tr>\n",
       "      <th>0</th>\n",
       "      <td>8</td>\n",
       "      <td>timmins,ontario,canada</td>\n",
       "      <td>NaN</td>\n",
       "      <td>timmins</td>\n",
       "      <td>ontario</td>\n",
       "      <td>canada</td>\n",
       "      <td>timmins, ontario, canada</td>\n",
       "      <td>ontario_others</td>\n",
       "      <td>ontario</td>\n",
       "      <td>canada</td>\n",
       "    </tr>\n",
       "    <tr>\n",
       "      <th>1</th>\n",
       "      <td>11400</td>\n",
       "      <td>ottawa,ontario,canada</td>\n",
       "      <td>49.0</td>\n",
       "      <td>ottawa</td>\n",
       "      <td>ontario</td>\n",
       "      <td>canada</td>\n",
       "      <td>ottawa, ontario, canada</td>\n",
       "      <td>ontario_others</td>\n",
       "      <td>ontario</td>\n",
       "      <td>canada</td>\n",
       "    </tr>\n",
       "    <tr>\n",
       "      <th>2</th>\n",
       "      <td>11676</td>\n",
       "      <td>na,na,na</td>\n",
       "      <td>NaN</td>\n",
       "      <td>NaN</td>\n",
       "      <td>NaN</td>\n",
       "      <td>NaN</td>\n",
       "      <td>n/a, n/a, n/a</td>\n",
       "      <td>NaN</td>\n",
       "      <td>NaN</td>\n",
       "      <td>NaN</td>\n",
       "    </tr>\n",
       "    <tr>\n",
       "      <th>3</th>\n",
       "      <td>67544</td>\n",
       "      <td>toronto,ontario,canada</td>\n",
       "      <td>30.0</td>\n",
       "      <td>toronto</td>\n",
       "      <td>ontario</td>\n",
       "      <td>canada</td>\n",
       "      <td>toronto, ontario, canada</td>\n",
       "      <td>ontario_others</td>\n",
       "      <td>ontario</td>\n",
       "      <td>canada</td>\n",
       "    </tr>\n",
       "    <tr>\n",
       "      <th>4</th>\n",
       "      <td>85526</td>\n",
       "      <td>victoria,britishcolumbia,canada</td>\n",
       "      <td>36.0</td>\n",
       "      <td>victoria</td>\n",
       "      <td>britishcolumbia</td>\n",
       "      <td>canada</td>\n",
       "      <td>victoria, britishcolumbia, canada</td>\n",
       "      <td>victoria</td>\n",
       "      <td>britishcolumbia</td>\n",
       "      <td>canada</td>\n",
       "    </tr>\n",
       "    <tr>\n",
       "      <th>...</th>\n",
       "      <td>...</td>\n",
       "      <td>...</td>\n",
       "      <td>...</td>\n",
       "      <td>...</td>\n",
       "      <td>...</td>\n",
       "      <td>...</td>\n",
       "      <td>...</td>\n",
       "      <td>...</td>\n",
       "      <td>...</td>\n",
       "      <td>...</td>\n",
       "    </tr>\n",
       "    <tr>\n",
       "      <th>68087</th>\n",
       "      <td>278376</td>\n",
       "      <td>danville,pennsylvania,usa</td>\n",
       "      <td>54.0</td>\n",
       "      <td>danville</td>\n",
       "      <td>pennsylvania</td>\n",
       "      <td>usa</td>\n",
       "      <td>danville, pennsylvania, usa</td>\n",
       "      <td>danville</td>\n",
       "      <td>pennsylvania</td>\n",
       "      <td>usa</td>\n",
       "    </tr>\n",
       "    <tr>\n",
       "      <th>68088</th>\n",
       "      <td>278621</td>\n",
       "      <td>victoria,delaware,canada</td>\n",
       "      <td>74.0</td>\n",
       "      <td>victoria</td>\n",
       "      <td>delaware</td>\n",
       "      <td>canada</td>\n",
       "      <td>victoria, delaware, canada</td>\n",
       "      <td>victoria</td>\n",
       "      <td>canada_others</td>\n",
       "      <td>canada</td>\n",
       "    </tr>\n",
       "    <tr>\n",
       "      <th>68089</th>\n",
       "      <td>278636</td>\n",
       "      <td>irvington,alabama,usa</td>\n",
       "      <td>NaN</td>\n",
       "      <td>irvington</td>\n",
       "      <td>alabama</td>\n",
       "      <td>usa</td>\n",
       "      <td>irvington, alabama, usa</td>\n",
       "      <td>irvington</td>\n",
       "      <td>alabama</td>\n",
       "      <td>usa</td>\n",
       "    </tr>\n",
       "    <tr>\n",
       "      <th>68090</th>\n",
       "      <td>278659</td>\n",
       "      <td>vancouver,washington,usa</td>\n",
       "      <td>33.0</td>\n",
       "      <td>vancouver</td>\n",
       "      <td>washington</td>\n",
       "      <td>usa</td>\n",
       "      <td>vancouver, washington, usa</td>\n",
       "      <td>vancouver</td>\n",
       "      <td>washington</td>\n",
       "      <td>usa</td>\n",
       "    </tr>\n",
       "    <tr>\n",
       "      <th>68091</th>\n",
       "      <td>278713</td>\n",
       "      <td>albuquerque,newmexico,usa</td>\n",
       "      <td>63.0</td>\n",
       "      <td>albuquerque</td>\n",
       "      <td>newmexico</td>\n",
       "      <td>usa</td>\n",
       "      <td>albuquerque, newmexico, usa</td>\n",
       "      <td>albuquerque</td>\n",
       "      <td>newmexico</td>\n",
       "      <td>usa</td>\n",
       "    </tr>\n",
       "  </tbody>\n",
       "</table>\n",
       "<p>68092 rows × 10 columns</p>\n",
       "</div>"
      ],
      "text/plain": [
       "       user_id                         location   age location_city  \\\n",
       "0            8           timmins,ontario,canada   NaN       timmins   \n",
       "1        11400            ottawa,ontario,canada  49.0        ottawa   \n",
       "2        11676                         na,na,na   NaN           NaN   \n",
       "3        67544           toronto,ontario,canada  30.0       toronto   \n",
       "4        85526  victoria,britishcolumbia,canada  36.0      victoria   \n",
       "...        ...                              ...   ...           ...   \n",
       "68087   278376        danville,pennsylvania,usa  54.0      danville   \n",
       "68088   278621         victoria,delaware,canada  74.0      victoria   \n",
       "68089   278636            irvington,alabama,usa   NaN     irvington   \n",
       "68090   278659         vancouver,washington,usa  33.0     vancouver   \n",
       "68091   278713        albuquerque,newmexico,usa  63.0   albuquerque   \n",
       "\n",
       "        location_state location_country                        location_pp  \\\n",
       "0              ontario           canada           timmins, ontario, canada   \n",
       "1              ontario           canada            ottawa, ontario, canada   \n",
       "2                  NaN              NaN                      n/a, n/a, n/a   \n",
       "3              ontario           canada           toronto, ontario, canada   \n",
       "4      britishcolumbia           canada  victoria, britishcolumbia, canada   \n",
       "...                ...              ...                                ...   \n",
       "68087     pennsylvania              usa        danville, pennsylvania, usa   \n",
       "68088         delaware           canada         victoria, delaware, canada   \n",
       "68089          alabama              usa            irvington, alabama, usa   \n",
       "68090       washington              usa         vancouver, washington, usa   \n",
       "68091        newmexico              usa        albuquerque, newmexico, usa   \n",
       "\n",
       "      location_city_pp location_state_pp location_country_pp  \n",
       "0       ontario_others           ontario              canada  \n",
       "1       ontario_others           ontario              canada  \n",
       "2                  NaN               NaN                 NaN  \n",
       "3       ontario_others           ontario              canada  \n",
       "4             victoria   britishcolumbia              canada  \n",
       "...                ...               ...                 ...  \n",
       "68087         danville      pennsylvania                 usa  \n",
       "68088         victoria     canada_others              canada  \n",
       "68089        irvington           alabama                 usa  \n",
       "68090        vancouver        washington                 usa  \n",
       "68091      albuquerque         newmexico                 usa  \n",
       "\n",
       "[68092 rows x 10 columns]"
      ]
     },
     "execution_count": 30,
     "metadata": {},
     "output_type": "execute_result"
    }
   ],
   "source": [
    "users"
   ]
  },
  {
   "cell_type": "code",
   "execution_count": 31,
   "metadata": {},
   "outputs": [
    {
     "data": {
      "text/plain": [
       "user_id                    0\n",
       "location                   0\n",
       "age                    27833\n",
       "location_city            124\n",
       "location_state          3212\n",
       "location_country        2103\n",
       "location_pp                0\n",
       "location_city_pp          15\n",
       "location_state_pp        117\n",
       "location_country_pp      172\n",
       "dtype: int64"
      ]
     },
     "execution_count": 31,
     "metadata": {},
     "output_type": "execute_result"
    }
   ],
   "source": [
    "users.isna().sum()"
   ]
  },
  {
   "cell_type": "code",
   "execution_count": 40,
   "metadata": {},
   "outputs": [
    {
     "data": {
      "text/plain": [
       "user_id             68092\n",
       "age                   496\n",
       "location_city       11169\n",
       "location_state        416\n",
       "location_country      199\n",
       "dtype: int64"
      ]
     },
     "execution_count": 40,
     "metadata": {},
     "output_type": "execute_result"
    }
   ],
   "source": [
    "users.nunique()"
   ]
  },
  {
   "cell_type": "code",
   "execution_count": 32,
   "metadata": {},
   "outputs": [
    {
     "data": {
      "text/html": [
       "<div>\n",
       "<style scoped>\n",
       "    .dataframe tbody tr th:only-of-type {\n",
       "        vertical-align: middle;\n",
       "    }\n",
       "\n",
       "    .dataframe tbody tr th {\n",
       "        vertical-align: top;\n",
       "    }\n",
       "\n",
       "    .dataframe thead th {\n",
       "        text-align: right;\n",
       "    }\n",
       "</style>\n",
       "<table border=\"1\" class=\"dataframe\">\n",
       "  <thead>\n",
       "    <tr style=\"text-align: right;\">\n",
       "      <th></th>\n",
       "      <th>user_id</th>\n",
       "      <th>location</th>\n",
       "      <th>age</th>\n",
       "      <th>location_city</th>\n",
       "      <th>location_state</th>\n",
       "      <th>location_country</th>\n",
       "      <th>location_pp</th>\n",
       "      <th>location_city_pp</th>\n",
       "      <th>location_state_pp</th>\n",
       "      <th>location_country_pp</th>\n",
       "    </tr>\n",
       "  </thead>\n",
       "  <tbody>\n",
       "    <tr>\n",
       "      <th>2</th>\n",
       "      <td>11676</td>\n",
       "      <td>na,na,na</td>\n",
       "      <td>NaN</td>\n",
       "      <td>NaN</td>\n",
       "      <td>NaN</td>\n",
       "      <td>NaN</td>\n",
       "      <td>n/a, n/a, n/a</td>\n",
       "      <td>NaN</td>\n",
       "      <td>NaN</td>\n",
       "      <td>NaN</td>\n",
       "    </tr>\n",
       "    <tr>\n",
       "      <th>1679</th>\n",
       "      <td>146804</td>\n",
       "      <td>na,na,</td>\n",
       "      <td>NaN</td>\n",
       "      <td>NaN</td>\n",
       "      <td>NaN</td>\n",
       "      <td>NaN</td>\n",
       "      <td>n/a, n/a, n/a</td>\n",
       "      <td>NaN</td>\n",
       "      <td>NaN</td>\n",
       "      <td>NaN</td>\n",
       "    </tr>\n",
       "    <tr>\n",
       "      <th>7760</th>\n",
       "      <td>70063</td>\n",
       "      <td>na,na,na</td>\n",
       "      <td>NaN</td>\n",
       "      <td>NaN</td>\n",
       "      <td>NaN</td>\n",
       "      <td>NaN</td>\n",
       "      <td>n/a, n/a, n/a</td>\n",
       "      <td>NaN</td>\n",
       "      <td>NaN</td>\n",
       "      <td>NaN</td>\n",
       "    </tr>\n",
       "    <tr>\n",
       "      <th>8634</th>\n",
       "      <td>112345</td>\n",
       "      <td>,,</td>\n",
       "      <td>39.0</td>\n",
       "      <td>NaN</td>\n",
       "      <td>NaN</td>\n",
       "      <td>NaN</td>\n",
       "      <td>n/a, n/a, n/a</td>\n",
       "      <td>NaN</td>\n",
       "      <td>NaN</td>\n",
       "      <td>NaN</td>\n",
       "    </tr>\n",
       "    <tr>\n",
       "      <th>38772</th>\n",
       "      <td>156948</td>\n",
       "      <td>na,na,</td>\n",
       "      <td>NaN</td>\n",
       "      <td>NaN</td>\n",
       "      <td>NaN</td>\n",
       "      <td>NaN</td>\n",
       "      <td>n/a, n/a, n/a</td>\n",
       "      <td>NaN</td>\n",
       "      <td>NaN</td>\n",
       "      <td>NaN</td>\n",
       "    </tr>\n",
       "    <tr>\n",
       "      <th>48206</th>\n",
       "      <td>169489</td>\n",
       "      <td>na,,</td>\n",
       "      <td>NaN</td>\n",
       "      <td>NaN</td>\n",
       "      <td>NaN</td>\n",
       "      <td>NaN</td>\n",
       "      <td>n/a, n/a, n/a</td>\n",
       "      <td>NaN</td>\n",
       "      <td>NaN</td>\n",
       "      <td>NaN</td>\n",
       "    </tr>\n",
       "    <tr>\n",
       "      <th>58435</th>\n",
       "      <td>56072</td>\n",
       "      <td>,,</td>\n",
       "      <td>NaN</td>\n",
       "      <td>NaN</td>\n",
       "      <td>NaN</td>\n",
       "      <td>NaN</td>\n",
       "      <td>n/a, n/a, n/a</td>\n",
       "      <td>NaN</td>\n",
       "      <td>NaN</td>\n",
       "      <td>NaN</td>\n",
       "    </tr>\n",
       "    <tr>\n",
       "      <th>60682</th>\n",
       "      <td>64582</td>\n",
       "      <td>na,na,</td>\n",
       "      <td>30.0</td>\n",
       "      <td>NaN</td>\n",
       "      <td>NaN</td>\n",
       "      <td>NaN</td>\n",
       "      <td>n/a, n/a, n/a</td>\n",
       "      <td>NaN</td>\n",
       "      <td>NaN</td>\n",
       "      <td>NaN</td>\n",
       "    </tr>\n",
       "    <tr>\n",
       "      <th>67104</th>\n",
       "      <td>218092</td>\n",
       "      <td>na,na,</td>\n",
       "      <td>NaN</td>\n",
       "      <td>NaN</td>\n",
       "      <td>NaN</td>\n",
       "      <td>NaN</td>\n",
       "      <td>n/a, n/a, n/a</td>\n",
       "      <td>NaN</td>\n",
       "      <td>NaN</td>\n",
       "      <td>NaN</td>\n",
       "    </tr>\n",
       "  </tbody>\n",
       "</table>\n",
       "</div>"
      ],
      "text/plain": [
       "       user_id  location   age location_city location_state location_country  \\\n",
       "2        11676  na,na,na   NaN           NaN            NaN              NaN   \n",
       "1679    146804    na,na,   NaN           NaN            NaN              NaN   \n",
       "7760     70063  na,na,na   NaN           NaN            NaN              NaN   \n",
       "8634    112345        ,,  39.0           NaN            NaN              NaN   \n",
       "38772   156948    na,na,   NaN           NaN            NaN              NaN   \n",
       "48206   169489      na,,   NaN           NaN            NaN              NaN   \n",
       "58435    56072        ,,   NaN           NaN            NaN              NaN   \n",
       "60682    64582    na,na,  30.0           NaN            NaN              NaN   \n",
       "67104   218092    na,na,   NaN           NaN            NaN              NaN   \n",
       "\n",
       "         location_pp location_city_pp location_state_pp location_country_pp  \n",
       "2      n/a, n/a, n/a              NaN               NaN                 NaN  \n",
       "1679   n/a, n/a, n/a              NaN               NaN                 NaN  \n",
       "7760   n/a, n/a, n/a              NaN               NaN                 NaN  \n",
       "8634   n/a, n/a, n/a              NaN               NaN                 NaN  \n",
       "38772  n/a, n/a, n/a              NaN               NaN                 NaN  \n",
       "48206  n/a, n/a, n/a              NaN               NaN                 NaN  \n",
       "58435  n/a, n/a, n/a              NaN               NaN                 NaN  \n",
       "60682  n/a, n/a, n/a              NaN               NaN                 NaN  \n",
       "67104  n/a, n/a, n/a              NaN               NaN                 NaN  "
      ]
     },
     "execution_count": 32,
     "metadata": {},
     "output_type": "execute_result"
    }
   ],
   "source": [
    "users[(users.location_city_pp.isna())&(users.location_state_pp.isna())&(users.location_country_pp.isna())]"
   ]
  },
  {
   "cell_type": "code",
   "execution_count": 33,
   "metadata": {},
   "outputs": [],
   "source": [
    "# print_full(users.loc[(users.location_city_pp.isna())|(users.location_state_pp.isna())|(users.location_country_pp.isna()), ['location_city_pp', 'location_state_pp','location_country_pp']])"
   ]
  },
  {
   "cell_type": "code",
   "execution_count": 34,
   "metadata": {},
   "outputs": [],
   "source": [
    "tmp_mode = users.groupby('location_city_pp')['age'].agg(lambda x: pd.Series.mode(x).mean())"
   ]
  },
  {
   "cell_type": "code",
   "execution_count": 35,
   "metadata": {},
   "outputs": [],
   "source": [
    "for i in tmp_mode.index:\n",
    "    users.loc[(users['location_city_pp']==i)&(users['age']).isna(),'age'] = tmp_mode[i]"
   ]
  },
  {
   "cell_type": "code",
   "execution_count": 36,
   "metadata": {},
   "outputs": [
    {
     "data": {
      "text/plain": [
       "user_id                   0\n",
       "location                  0\n",
       "age                    3124\n",
       "location_city           124\n",
       "location_state         3212\n",
       "location_country       2103\n",
       "location_pp               0\n",
       "location_city_pp         15\n",
       "location_state_pp       117\n",
       "location_country_pp     172\n",
       "dtype: int64"
      ]
     },
     "execution_count": 36,
     "metadata": {},
     "output_type": "execute_result"
    }
   ],
   "source": [
    "users.isna().sum()"
   ]
  },
  {
   "cell_type": "code",
   "execution_count": 37,
   "metadata": {},
   "outputs": [],
   "source": [
    "users=users[['user_id','age','location_city_pp','location_state_pp','location_country_pp']]\n",
    "users.columns=['user_id','age','location_city','location_state','location_country']"
   ]
  },
  {
   "cell_type": "code",
   "execution_count": 38,
   "metadata": {},
   "outputs": [
    {
     "data": {
      "text/html": [
       "<div>\n",
       "<style scoped>\n",
       "    .dataframe tbody tr th:only-of-type {\n",
       "        vertical-align: middle;\n",
       "    }\n",
       "\n",
       "    .dataframe tbody tr th {\n",
       "        vertical-align: top;\n",
       "    }\n",
       "\n",
       "    .dataframe thead th {\n",
       "        text-align: right;\n",
       "    }\n",
       "</style>\n",
       "<table border=\"1\" class=\"dataframe\">\n",
       "  <thead>\n",
       "    <tr style=\"text-align: right;\">\n",
       "      <th></th>\n",
       "      <th>user_id</th>\n",
       "      <th>age</th>\n",
       "      <th>location_city</th>\n",
       "      <th>location_state</th>\n",
       "      <th>location_country</th>\n",
       "    </tr>\n",
       "  </thead>\n",
       "  <tbody>\n",
       "    <tr>\n",
       "      <th>0</th>\n",
       "      <td>8</td>\n",
       "      <td>30.0</td>\n",
       "      <td>ontario_others</td>\n",
       "      <td>ontario</td>\n",
       "      <td>canada</td>\n",
       "    </tr>\n",
       "    <tr>\n",
       "      <th>1</th>\n",
       "      <td>11400</td>\n",
       "      <td>49.0</td>\n",
       "      <td>ontario_others</td>\n",
       "      <td>ontario</td>\n",
       "      <td>canada</td>\n",
       "    </tr>\n",
       "    <tr>\n",
       "      <th>2</th>\n",
       "      <td>11676</td>\n",
       "      <td>NaN</td>\n",
       "      <td>NaN</td>\n",
       "      <td>NaN</td>\n",
       "      <td>NaN</td>\n",
       "    </tr>\n",
       "    <tr>\n",
       "      <th>3</th>\n",
       "      <td>67544</td>\n",
       "      <td>30.0</td>\n",
       "      <td>ontario_others</td>\n",
       "      <td>ontario</td>\n",
       "      <td>canada</td>\n",
       "    </tr>\n",
       "    <tr>\n",
       "      <th>4</th>\n",
       "      <td>85526</td>\n",
       "      <td>36.0</td>\n",
       "      <td>victoria</td>\n",
       "      <td>britishcolumbia</td>\n",
       "      <td>canada</td>\n",
       "    </tr>\n",
       "  </tbody>\n",
       "</table>\n",
       "</div>"
      ],
      "text/plain": [
       "   user_id   age   location_city   location_state location_country\n",
       "0        8  30.0  ontario_others          ontario           canada\n",
       "1    11400  49.0  ontario_others          ontario           canada\n",
       "2    11676   NaN             NaN              NaN              NaN\n",
       "3    67544  30.0  ontario_others          ontario           canada\n",
       "4    85526  36.0        victoria  britishcolumbia           canada"
      ]
     },
     "execution_count": 38,
     "metadata": {},
     "output_type": "execute_result"
    }
   ],
   "source": [
    "users.head()"
   ]
  },
  {
   "cell_type": "code",
   "execution_count": 39,
   "metadata": {},
   "outputs": [],
   "source": [
    "users.to_csv('../data/users_preprocessed.csv', index=False)"
   ]
  }
 ],
 "metadata": {
  "kernelspec": {
   "display_name": "Python 3.8.5 ('base')",
   "language": "python",
   "name": "python3"
  },
  "language_info": {
   "codemirror_mode": {
    "name": "ipython",
    "version": 3
   },
   "file_extension": ".py",
   "mimetype": "text/x-python",
   "name": "python",
   "nbconvert_exporter": "python",
   "pygments_lexer": "ipython3",
   "version": "3.8.5"
  },
  "orig_nbformat": 4,
  "vscode": {
   "interpreter": {
    "hash": "d4d1e4263499bec80672ea0156c357c1ee493ec2b1c70f0acce89fc37c4a6abe"
   }
  }
 },
 "nbformat": 4,
 "nbformat_minor": 2
}
