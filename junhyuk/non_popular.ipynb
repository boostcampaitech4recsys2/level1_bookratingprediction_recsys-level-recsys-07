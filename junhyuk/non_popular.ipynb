{
 "cells": [
  {
   "cell_type": "code",
   "execution_count": 1,
   "metadata": {},
   "outputs": [],
   "source": [
    "import pandas as pd\n",
    "import numpy as np"
   ]
  },
  {
   "cell_type": "code",
   "execution_count": 3,
   "metadata": {},
   "outputs": [],
   "source": [
    "DATA_PATH = './data/'\n",
    "\n",
    "users = pd.read_csv(DATA_PATH + 'users_preprocessed.csv')\n",
    "books = pd.read_csv(DATA_PATH + 'books_merged.csv')\n",
    "train = pd.read_csv(DATA_PATH + 'train_ratings.csv')\n",
    "test = pd.read_csv(DATA_PATH + 'test_ratings.csv')\n",
    "sub = pd.read_csv(DATA_PATH + 'sample_submission.csv')"
   ]
  },
  {
   "cell_type": "code",
   "execution_count": 4,
   "metadata": {},
   "outputs": [],
   "source": [
    "features_name = ['isbn']\n",
    "\n",
    "context_df = train.merge(users, on='user_id', how='left').merge(books[features_name], on='isbn', how='left')\n",
    "train_df = test.merge(users, on='user_id', how='left').merge(books[features_name], on='isbn', how='left')\n",
    "test_df =sub.merge(users, on='user_id', how='left').merge(books[features_name], on='isbn', how='left')"
   ]
  },
  {
   "cell_type": "code",
   "execution_count": 5,
   "metadata": {},
   "outputs": [
    {
     "data": {
      "text/html": [
       "<div>\n",
       "<style scoped>\n",
       "    .dataframe tbody tr th:only-of-type {\n",
       "        vertical-align: middle;\n",
       "    }\n",
       "\n",
       "    .dataframe tbody tr th {\n",
       "        vertical-align: top;\n",
       "    }\n",
       "\n",
       "    .dataframe thead th {\n",
       "        text-align: right;\n",
       "    }\n",
       "</style>\n",
       "<table border=\"1\" class=\"dataframe\">\n",
       "  <thead>\n",
       "    <tr style=\"text-align: right;\">\n",
       "      <th></th>\n",
       "      <th>user_id</th>\n",
       "      <th>isbn</th>\n",
       "      <th>rating</th>\n",
       "      <th>age</th>\n",
       "      <th>location_city</th>\n",
       "      <th>location_state</th>\n",
       "      <th>location_country</th>\n",
       "    </tr>\n",
       "  </thead>\n",
       "  <tbody>\n",
       "    <tr>\n",
       "      <th>0</th>\n",
       "      <td>8</td>\n",
       "      <td>0002005018</td>\n",
       "      <td>4</td>\n",
       "      <td>18.0</td>\n",
       "      <td>ontario_others</td>\n",
       "      <td>ontario</td>\n",
       "      <td>canada</td>\n",
       "    </tr>\n",
       "    <tr>\n",
       "      <th>1</th>\n",
       "      <td>67544</td>\n",
       "      <td>0002005018</td>\n",
       "      <td>7</td>\n",
       "      <td>30.0</td>\n",
       "      <td>toronto</td>\n",
       "      <td>ontario</td>\n",
       "      <td>canada</td>\n",
       "    </tr>\n",
       "    <tr>\n",
       "      <th>2</th>\n",
       "      <td>123629</td>\n",
       "      <td>0002005018</td>\n",
       "      <td>8</td>\n",
       "      <td>30.2</td>\n",
       "      <td>kingston</td>\n",
       "      <td>ontario</td>\n",
       "      <td>canada</td>\n",
       "    </tr>\n",
       "    <tr>\n",
       "      <th>3</th>\n",
       "      <td>200273</td>\n",
       "      <td>0002005018</td>\n",
       "      <td>8</td>\n",
       "      <td>18.0</td>\n",
       "      <td>ontario_others</td>\n",
       "      <td>ontario</td>\n",
       "      <td>canada</td>\n",
       "    </tr>\n",
       "    <tr>\n",
       "      <th>4</th>\n",
       "      <td>210926</td>\n",
       "      <td>0002005018</td>\n",
       "      <td>9</td>\n",
       "      <td>26.5</td>\n",
       "      <td>guelph</td>\n",
       "      <td>ontario</td>\n",
       "      <td>canada</td>\n",
       "    </tr>\n",
       "    <tr>\n",
       "      <th>...</th>\n",
       "      <td>...</td>\n",
       "      <td>...</td>\n",
       "      <td>...</td>\n",
       "      <td>...</td>\n",
       "      <td>...</td>\n",
       "      <td>...</td>\n",
       "      <td>...</td>\n",
       "    </tr>\n",
       "    <tr>\n",
       "      <th>306790</th>\n",
       "      <td>278843</td>\n",
       "      <td>0743525493</td>\n",
       "      <td>7</td>\n",
       "      <td>28.0</td>\n",
       "      <td>california_others</td>\n",
       "      <td>california</td>\n",
       "      <td>usa</td>\n",
       "    </tr>\n",
       "    <tr>\n",
       "      <th>306791</th>\n",
       "      <td>278851</td>\n",
       "      <td>067161746X</td>\n",
       "      <td>6</td>\n",
       "      <td>33.0</td>\n",
       "      <td>dallas</td>\n",
       "      <td>texas</td>\n",
       "      <td>usa</td>\n",
       "    </tr>\n",
       "    <tr>\n",
       "      <th>306792</th>\n",
       "      <td>278851</td>\n",
       "      <td>0884159221</td>\n",
       "      <td>7</td>\n",
       "      <td>33.0</td>\n",
       "      <td>dallas</td>\n",
       "      <td>texas</td>\n",
       "      <td>usa</td>\n",
       "    </tr>\n",
       "    <tr>\n",
       "      <th>306793</th>\n",
       "      <td>278851</td>\n",
       "      <td>0912333022</td>\n",
       "      <td>7</td>\n",
       "      <td>33.0</td>\n",
       "      <td>dallas</td>\n",
       "      <td>texas</td>\n",
       "      <td>usa</td>\n",
       "    </tr>\n",
       "    <tr>\n",
       "      <th>306794</th>\n",
       "      <td>278851</td>\n",
       "      <td>1569661057</td>\n",
       "      <td>10</td>\n",
       "      <td>33.0</td>\n",
       "      <td>dallas</td>\n",
       "      <td>texas</td>\n",
       "      <td>usa</td>\n",
       "    </tr>\n",
       "  </tbody>\n",
       "</table>\n",
       "<p>306795 rows × 7 columns</p>\n",
       "</div>"
      ],
      "text/plain": [
       "        user_id        isbn  rating   age      location_city location_state  \\\n",
       "0             8  0002005018       4  18.0     ontario_others        ontario   \n",
       "1         67544  0002005018       7  30.0            toronto        ontario   \n",
       "2        123629  0002005018       8  30.2           kingston        ontario   \n",
       "3        200273  0002005018       8  18.0     ontario_others        ontario   \n",
       "4        210926  0002005018       9  26.5             guelph        ontario   \n",
       "...         ...         ...     ...   ...                ...            ...   \n",
       "306790   278843  0743525493       7  28.0  california_others     california   \n",
       "306791   278851  067161746X       6  33.0             dallas          texas   \n",
       "306792   278851  0884159221       7  33.0             dallas          texas   \n",
       "306793   278851  0912333022       7  33.0             dallas          texas   \n",
       "306794   278851  1569661057      10  33.0             dallas          texas   \n",
       "\n",
       "       location_country  \n",
       "0                canada  \n",
       "1                canada  \n",
       "2                canada  \n",
       "3                canada  \n",
       "4                canada  \n",
       "...                 ...  \n",
       "306790              usa  \n",
       "306791              usa  \n",
       "306792              usa  \n",
       "306793              usa  \n",
       "306794              usa  \n",
       "\n",
       "[306795 rows x 7 columns]"
      ]
     },
     "execution_count": 5,
     "metadata": {},
     "output_type": "execute_result"
    }
   ],
   "source": [
    "context_df"
   ]
  },
  {
   "cell_type": "code",
   "execution_count": 12,
   "metadata": {},
   "outputs": [
    {
     "data": {
      "text/plain": [
       "129777"
      ]
     },
     "execution_count": 12,
     "metadata": {},
     "output_type": "execute_result"
    }
   ],
   "source": [
    "train['isbn'].nunique()"
   ]
  },
  {
   "cell_type": "code",
   "execution_count": 14,
   "metadata": {},
   "outputs": [],
   "source": [
    "# 책 이름을 기준으로 평균 평점을 merge\n",
    "mean_ratings = train.groupby('isbn')['rating'].mean().to_frame()\n",
    "count_ratings = train.groupby('isbn')['rating'].count().to_frame()"
   ]
  },
  {
   "cell_type": "code",
   "execution_count": 19,
   "metadata": {},
   "outputs": [
    {
     "name": "stdout",
     "output_type": "stream",
     "text": [
      "129777\n",
      "129777\n"
     ]
    }
   ],
   "source": [
    "print(len(mean_ratings))\n",
    "print(len(count_ratings))"
   ]
  },
  {
   "cell_type": "code",
   "execution_count": 17,
   "metadata": {},
   "outputs": [],
   "source": [
    "isbn_mean_count = mean_ratings.merge(count_ratings, on='isbn', how='left')"
   ]
  },
  {
   "cell_type": "code",
   "execution_count": 21,
   "metadata": {},
   "outputs": [],
   "source": [
    "isbn_mean_count.columns = ['mean_rating', 'count_rating']"
   ]
  },
  {
   "cell_type": "code",
   "execution_count": 22,
   "metadata": {},
   "outputs": [
    {
     "data": {
      "text/html": [
       "<div>\n",
       "<style scoped>\n",
       "    .dataframe tbody tr th:only-of-type {\n",
       "        vertical-align: middle;\n",
       "    }\n",
       "\n",
       "    .dataframe tbody tr th {\n",
       "        vertical-align: top;\n",
       "    }\n",
       "\n",
       "    .dataframe thead th {\n",
       "        text-align: right;\n",
       "    }\n",
       "</style>\n",
       "<table border=\"1\" class=\"dataframe\">\n",
       "  <thead>\n",
       "    <tr style=\"text-align: right;\">\n",
       "      <th></th>\n",
       "      <th>mean_rating</th>\n",
       "      <th>count_rating</th>\n",
       "    </tr>\n",
       "    <tr>\n",
       "      <th>isbn</th>\n",
       "      <th></th>\n",
       "      <th></th>\n",
       "    </tr>\n",
       "  </thead>\n",
       "  <tbody>\n",
       "    <tr>\n",
       "      <th>0000913154</th>\n",
       "      <td>8.0</td>\n",
       "      <td>1</td>\n",
       "    </tr>\n",
       "    <tr>\n",
       "      <th>000104687X</th>\n",
       "      <td>6.0</td>\n",
       "      <td>1</td>\n",
       "    </tr>\n",
       "    <tr>\n",
       "      <th>0001047213</th>\n",
       "      <td>8.0</td>\n",
       "      <td>1</td>\n",
       "    </tr>\n",
       "    <tr>\n",
       "      <th>0001047973</th>\n",
       "      <td>9.0</td>\n",
       "      <td>2</td>\n",
       "    </tr>\n",
       "    <tr>\n",
       "      <th>000104799X</th>\n",
       "      <td>6.0</td>\n",
       "      <td>1</td>\n",
       "    </tr>\n",
       "    <tr>\n",
       "      <th>...</th>\n",
       "      <td>...</td>\n",
       "      <td>...</td>\n",
       "    </tr>\n",
       "    <tr>\n",
       "      <th>B0001FZGBC</th>\n",
       "      <td>7.0</td>\n",
       "      <td>1</td>\n",
       "    </tr>\n",
       "    <tr>\n",
       "      <th>B0001FZGPI</th>\n",
       "      <td>6.0</td>\n",
       "      <td>1</td>\n",
       "    </tr>\n",
       "    <tr>\n",
       "      <th>B0001FZGRQ</th>\n",
       "      <td>9.0</td>\n",
       "      <td>1</td>\n",
       "    </tr>\n",
       "    <tr>\n",
       "      <th>B0001GMSV2</th>\n",
       "      <td>8.0</td>\n",
       "      <td>2</td>\n",
       "    </tr>\n",
       "    <tr>\n",
       "      <th>B000234N3A</th>\n",
       "      <td>9.0</td>\n",
       "      <td>1</td>\n",
       "    </tr>\n",
       "  </tbody>\n",
       "</table>\n",
       "<p>129777 rows × 2 columns</p>\n",
       "</div>"
      ],
      "text/plain": [
       "            mean_rating  count_rating\n",
       "isbn                                 \n",
       "0000913154          8.0             1\n",
       "000104687X          6.0             1\n",
       "0001047213          8.0             1\n",
       "0001047973          9.0             2\n",
       "000104799X          6.0             1\n",
       "...                 ...           ...\n",
       "B0001FZGBC          7.0             1\n",
       "B0001FZGPI          6.0             1\n",
       "B0001FZGRQ          9.0             1\n",
       "B0001GMSV2          8.0             2\n",
       "B000234N3A          9.0             1\n",
       "\n",
       "[129777 rows x 2 columns]"
      ]
     },
     "execution_count": 22,
     "metadata": {},
     "output_type": "execute_result"
    }
   ],
   "source": [
    "isbn_mean_count"
   ]
  },
  {
   "cell_type": "code",
   "execution_count": 31,
   "metadata": {},
   "outputs": [],
   "source": [
    "# 평균 평점이 3점 이하이고, 3개 이상의 count인 책들 집계\n",
    "bad_books = isbn_mean_count[(isbn_mean_count['mean_rating'] <= 3.0) & (isbn_mean_count['count_rating'] >= 3.0)]"
   ]
  },
  {
   "cell_type": "code",
   "execution_count": 35,
   "metadata": {},
   "outputs": [
    {
     "data": {
      "text/html": [
       "<div>\n",
       "<style scoped>\n",
       "    .dataframe tbody tr th:only-of-type {\n",
       "        vertical-align: middle;\n",
       "    }\n",
       "\n",
       "    .dataframe tbody tr th {\n",
       "        vertical-align: top;\n",
       "    }\n",
       "\n",
       "    .dataframe thead th {\n",
       "        text-align: right;\n",
       "    }\n",
       "</style>\n",
       "<table border=\"1\" class=\"dataframe\">\n",
       "  <thead>\n",
       "    <tr style=\"text-align: right;\">\n",
       "      <th></th>\n",
       "      <th>mean_rating</th>\n",
       "      <th>count_rating</th>\n",
       "    </tr>\n",
       "    <tr>\n",
       "      <th>isbn</th>\n",
       "      <th></th>\n",
       "      <th></th>\n",
       "    </tr>\n",
       "  </thead>\n",
       "  <tbody>\n",
       "    <tr>\n",
       "      <th>0373031289</th>\n",
       "      <td>3.0</td>\n",
       "      <td>3</td>\n",
       "    </tr>\n",
       "  </tbody>\n",
       "</table>\n",
       "</div>"
      ],
      "text/plain": [
       "            mean_rating  count_rating\n",
       "isbn                                 \n",
       "0373031289          3.0             3"
      ]
     },
     "execution_count": 35,
     "metadata": {},
     "output_type": "execute_result"
    }
   ],
   "source": [
    "bad_books.sample(1)"
   ]
  },
  {
   "cell_type": "code",
   "execution_count": 32,
   "metadata": {},
   "outputs": [
    {
     "data": {
      "text/plain": [
       "142"
      ]
     },
     "execution_count": 32,
     "metadata": {},
     "output_type": "execute_result"
    }
   ],
   "source": [
    "len(bad_books)"
   ]
  },
  {
   "cell_type": "code",
   "execution_count": null,
   "metadata": {},
   "outputs": [],
   "source": [
    "# bad books로 집계된 책들이 train에 얼마나 있을까?\n"
   ]
  },
  {
   "cell_type": "code",
   "execution_count": 33,
   "metadata": {},
   "outputs": [],
   "source": [
    "# 평균 평점이 3점 이하이고, 3개 이상의 count인 책들 집계\n",
    "good_books = isbn_mean_count[(isbn_mean_count['mean_rating'] >= 8.0) & (isbn_mean_count['count_rating'] >= 3.0)]"
   ]
  },
  {
   "cell_type": "code",
   "execution_count": 34,
   "metadata": {},
   "outputs": [
    {
     "data": {
      "text/plain": [
       "1381"
      ]
     },
     "execution_count": 34,
     "metadata": {},
     "output_type": "execute_result"
    }
   ],
   "source": [
    "len(good_books)"
   ]
  },
  {
   "cell_type": "code",
   "execution_count": 36,
   "metadata": {},
   "outputs": [
    {
     "data": {
      "text/html": [
       "<div>\n",
       "<style scoped>\n",
       "    .dataframe tbody tr th:only-of-type {\n",
       "        vertical-align: middle;\n",
       "    }\n",
       "\n",
       "    .dataframe tbody tr th {\n",
       "        vertical-align: top;\n",
       "    }\n",
       "\n",
       "    .dataframe thead th {\n",
       "        text-align: right;\n",
       "    }\n",
       "</style>\n",
       "<table border=\"1\" class=\"dataframe\">\n",
       "  <thead>\n",
       "    <tr style=\"text-align: right;\">\n",
       "      <th></th>\n",
       "      <th>mean_rating</th>\n",
       "      <th>count_rating</th>\n",
       "    </tr>\n",
       "    <tr>\n",
       "      <th>isbn</th>\n",
       "      <th></th>\n",
       "      <th></th>\n",
       "    </tr>\n",
       "  </thead>\n",
       "  <tbody>\n",
       "    <tr>\n",
       "      <th>0517799693</th>\n",
       "      <td>9.666667</td>\n",
       "      <td>3</td>\n",
       "    </tr>\n",
       "  </tbody>\n",
       "</table>\n",
       "</div>"
      ],
      "text/plain": [
       "            mean_rating  count_rating\n",
       "isbn                                 \n",
       "0517799693     9.666667             3"
      ]
     },
     "execution_count": 36,
     "metadata": {},
     "output_type": "execute_result"
    }
   ],
   "source": [
    "good_books.sample(1)"
   ]
  },
  {
   "cell_type": "code",
   "execution_count": 45,
   "metadata": {},
   "outputs": [
    {
     "name": "stdout",
     "output_type": "stream",
     "text": [
      "평균 평점이 1점 이하이고, 3개 이상의 count인 책들 집계\n",
      "4\n",
      "12\n",
      "구간별 count: 12\n",
      "평균 평점이 2점 이하이고, 3개 이상의 count인 책들 집계\n",
      "29\n",
      "98\n",
      "구간별 count: 86\n",
      "평균 평점이 3점 이하이고, 3개 이상의 count인 책들 집계\n",
      "142\n",
      "464\n",
      "구간별 count: 366\n",
      "평균 평점이 4점 이하이고, 3개 이상의 count인 책들 집계\n",
      "568\n",
      "2516\n",
      "구간별 count: 2052\n"
     ]
    }
   ],
   "source": [
    "# 평균 평점이 n점 이하이고, 3개 이상의 count인 책들 집계\n",
    "bad_books_dict = dict()\n",
    "for n in range(1,5):\n",
    "    bad_books_dict[n] = isbn_mean_count[(isbn_mean_count['mean_rating'] <= n) & (isbn_mean_count['count_rating'] >= 3.0)]\n",
    "    print(f\"평균 평점이 {n}점 이하이고, 3개 이상의 count인 책들 집계\")\n",
    "    print(len(bad_books_dict[n]))\n",
    "    print((bad_books_dict[n]['count_rating']).sum())\n",
    "    if n == 1:\n",
    "        print(f\"구간별 count: {(bad_books_dict[n]['count_rating']).sum()}\")\n",
    "        tmp = (bad_books_dict[n]['count_rating']).sum()\n",
    "    else:\n",
    "        print(f\"구간별 count: {(bad_books_dict[n]['count_rating']).sum() - tmp}\")\n",
    "        tmp = (bad_books_dict[n]['count_rating']).sum()"
   ]
  },
  {
   "cell_type": "code",
   "execution_count": 49,
   "metadata": {},
   "outputs": [
    {
     "name": "stdout",
     "output_type": "stream",
     "text": [
      "평균 평점이 10점 이상이고, 3개 이상의 count인 책들 집계\n",
      "54\n",
      "169\n",
      "구간별 count: 169\n",
      "평균 평점이 9점 이상이고, 3개 이상의 count인 책들 집계\n",
      "1381\n",
      "5884\n",
      "구간별 count: 5715\n",
      "평균 평점이 8점 이상이고, 3개 이상의 count인 책들 집계\n",
      "6338\n",
      "39908\n",
      "구간별 count: 34024\n",
      "평균 평점이 7점 이상이고, 3개 이상의 count인 책들 집계\n",
      "13511\n",
      "115508\n",
      "구간별 count: 75600\n",
      "평균 평점이 6점 이상이고, 3개 이상의 count인 책들 집계\n",
      "18696\n",
      "161268\n",
      "구간별 count: 45760\n"
     ]
    }
   ],
   "source": [
    "# 평균 평점이 n점 이하이고, 3개 이상의 count인 책들 집계\n",
    "good_books_dict = dict()\n",
    "for n in range(10, 5, -1):\n",
    "    good_books_dict[n] = isbn_mean_count[(isbn_mean_count['mean_rating'] >= n) & (isbn_mean_count['count_rating'] >= 3.0)]\n",
    "    print(f\"평균 평점이 {n}점 이상이고, 3개 이상의 count인 책들 집계\")\n",
    "    print(len(good_books_dict[n]))\n",
    "    print((good_books_dict[n]['count_rating']).sum())\n",
    "    if n == 10:\n",
    "        print(f\"구간별 count: {(good_books_dict[n]['count_rating']).sum()}\")\n",
    "        tmp = (good_books_dict[n]['count_rating']).sum()\n",
    "    else:\n",
    "        print(f\"구간별 count: {(good_books_dict[n]['count_rating']).sum() - tmp}\")\n",
    "        tmp = (good_books_dict[n]['count_rating']).sum()"
   ]
  },
  {
   "cell_type": "code",
   "execution_count": null,
   "metadata": {},
   "outputs": [],
   "source": []
  }
 ],
 "metadata": {
  "kernelspec": {
   "display_name": "Python 3.8.5 ('base')",
   "language": "python",
   "name": "python3"
  },
  "language_info": {
   "codemirror_mode": {
    "name": "ipython",
    "version": 3
   },
   "file_extension": ".py",
   "mimetype": "text/x-python",
   "name": "python",
   "nbconvert_exporter": "python",
   "pygments_lexer": "ipython3",
   "version": "3.8.5"
  },
  "orig_nbformat": 4,
  "vscode": {
   "interpreter": {
    "hash": "d4d1e4263499bec80672ea0156c357c1ee493ec2b1c70f0acce89fc37c4a6abe"
   }
  }
 },
 "nbformat": 4,
 "nbformat_minor": 2
}
