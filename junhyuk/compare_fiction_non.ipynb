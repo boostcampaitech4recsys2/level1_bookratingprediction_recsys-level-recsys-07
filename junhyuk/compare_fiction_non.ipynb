{
 "cells": [
  {
   "cell_type": "code",
   "execution_count": 101,
   "metadata": {},
   "outputs": [],
   "source": [
    "import pandas as pd\n",
    "import numpy as np\n",
    "import seaborn as sns\n",
    "import matplotlib.pyplot as plt"
   ]
  },
  {
   "cell_type": "code",
   "execution_count": 102,
   "metadata": {},
   "outputs": [],
   "source": [
    "path='./data/'\n",
    "\n",
    "users = pd.read_csv('processed_users_2.csv')\n",
    "books = pd.read_csv('basic_preprocess_books.csv')\n",
    "ratings = pd.read_csv(path+'train_ratings.csv')\n",
    "title_label_data = pd.read_csv('isbn_title_dataset.csv')"
   ]
  },
  {
   "cell_type": "code",
   "execution_count": 103,
   "metadata": {},
   "outputs": [
    {
     "name": "stdout",
     "output_type": "stream",
     "text": [
      "fiction 39678\n",
      "others 4136\n",
      "biography & autobiography 3335\n",
      "history 1949\n",
      "religion 1824\n",
      "nonfiction 1427\n",
      "humor 1291\n",
      "social 1271\n",
      "business 1146\n",
      "cook 1125\n",
      "body, mind & spirit 1113\n",
      "science 1063\n",
      "family 988\n",
      "health & fitness 971\n",
      "literary 848\n",
      "computer 806\n",
      "language 804\n",
      "poetry 740\n",
      "psycholog 729\n",
      "travel 672\n",
      "self-help 640\n",
      "art 563\n",
      "drama 537\n",
      "children 525\n",
      "philosophy 491\n",
      "nature 490\n",
      "reference 471\n",
      "performing arts 457\n",
      "sports & recreation 446\n",
      "comics & graphic novels 422\n",
      "crafts 413\n",
      "music 365\n",
      "education 339\n",
      "true crime 336\n",
      "pets 306\n",
      "garden 294\n",
      "detective and mystery stories 257\n",
      "medical 243\n",
      "animal 225\n",
      "adventure 208\n",
      "house 203\n",
      "photograph 175\n",
      "literature 174\n",
      "technology & engineering 161\n",
      "christian 138\n",
      "architect 129\n",
      "games & activities 128\n",
      "science fiction 128\n",
      "games 125\n",
      "law 104\n",
      "india 98\n",
      "antiques & collectibles 97\n",
      "friendship 84\n",
      "brothers and sisters 84\n",
      "cats 83\n",
      "motion picture 76\n",
      "mathemat 73\n",
      "families 71\n",
      "bible 67\n",
      "england 65\n",
      "australia 64\n",
      "fantasy 63\n",
      "adolescence 62\n",
      "design 62\n",
      "great britain 56\n",
      "fairy tales 53\n",
      "authors, american 52\n",
      "african americans 49\n",
      "actors 47\n",
      "dogs 47\n",
      "conduct of life 47\n",
      "france 46\n",
      "horror tales 46\n",
      "transportation 44\n",
      "adultery 41\n",
      "murder 41\n",
      "criminal 39\n",
      "city and town life 38\n",
      "camp 38\n",
      "united states 37\n",
      "brothers 37\n",
      "bears 36\n",
      "bibles 35\n",
      "christmas stories 35\n",
      "canada 35\n",
      "country life 34\n",
      "dinosaurs 34\n",
      "authors, english 34\n",
      "babysitters 33\n",
      "disease 32\n",
      "africa 32\n",
      "americans 32\n",
      "comic books, strips, etc 32\n",
      "man-woman relationships 30\n",
      "curiosities and wonders 30\n",
      "angels 30\n",
      "artists 30\n",
      "british 27\n",
      "bird 26\n",
      "child rearing 26\n",
      "china 26\n",
      "death 25\n",
      "electronic 25\n",
      "crime 25\n",
      "ghost stories 25\n",
      "boarding schools 24\n",
      "egypt 23\n",
      "horror stories 23\n",
      "germany 23\n",
      "arthurian romances 23\n",
      "study aids 23\n",
      "boys 22\n",
      "authorship 22\n",
      "interplanetary voyages 21\n",
      "short stories 19\n",
      "ireland 19\n",
      "behavior 18\n",
      "california 18\n",
      "love 18\n",
      "london (england 18\n",
      "interpersonal relations 18\n",
      "extraterrestrial beings 18\n",
      "authors 17\n",
      "europe 17\n",
      "aunts 17\n",
      "frontier and pioneer life 17\n",
      "ecology 17\n",
      "love stories 17\n",
      "buddhism 17\n",
      "blind 17\n",
      "bereavement 16\n",
      "divorce 16\n",
      "folklore 16\n",
      "books and reading 16\n",
      "feminism 15\n",
      "high schools 15\n",
      "magic 15\n",
      "alcoholics 15\n",
      "ghosts 15\n",
      "caricatures and cartoons 14\n",
      "fantasy games 14\n",
      "childbirth 14\n",
      "alternative medicine 14\n",
      "large type books 14\n",
      "clubs 14\n",
      "paris (france 14\n",
      "child development 14\n",
      "composers 14\n",
      "christmas 14\n",
      "dragons 14\n",
      "aboriginal australians 14\n",
      "horror tales, american 14\n",
      "boston (mass 14\n",
      "authors, german 14\n",
      "health 13\n",
      "plot-your-own stories 13\n",
      "holocaust, jewish (1939-1945 13\n",
      "lesbians 13\n",
      "birthdays 13\n",
      "dune (imaginary place 13\n",
      "detective and mystery stories, english 13\n",
      "environmental 13\n",
      "berlin (germany 13\n",
      "new york (n.y 13\n",
      "mothers and daughters 12\n",
      "schools 12\n",
      "baseball 12\n",
      "novel 12\n",
      "counting 12\n",
      "dream interpretation 12\n",
      "vampires 12\n",
      "actresses 12\n",
      "courtship 12\n",
      "presidents 12\n",
      "horses 12\n",
      "baggins, frodo (fictitious character 12\n",
      "world war, 1939-1945 12\n",
      "life on other planets 12\n",
      "journalists 12\n",
      "tarot 11\n",
      "african american women 11\n",
      "authors, french 11\n",
      "amsterdam (netherlands 11\n",
      "encyclopedias and dictionaries 11\n",
      "discworld (imaginary place 11\n",
      "exercise 11\n",
      "finance, personal 11\n",
      "readers 11\n",
      "hollywood (los angeles, calif 11\n",
      "cancer 11\n",
      "russia 11\n",
      "cults 11\n",
      "alphabet 11\n",
      "women 11\n",
      "beauty, personal 10\n",
      "college students 10\n",
      "bedtime 10\n",
      "intelligence service 10\n",
      "brazil 10\n",
      "dreams 10\n",
      "archaeology 10\n",
      "fairies 10\n",
      "herbs 10\n",
      "chicago (ill 10\n",
      "celebrities 10\n",
      "home economics 10\n",
      "cornwall (england : county 10\n",
      "courage 10\n",
      "arizona 10\n",
      "quotations, english 9\n",
      "fathers and daughters 9\n",
      "halloween 9\n",
      "astronomy 9\n",
      "civilization, medieval 9\n",
      "accelerated readers 9\n",
      "physics 9\n",
      "mystery and detective stories 9\n",
      "acting 9\n",
      "girls 9\n",
      "drug abuse 9\n",
      "jews 9\n",
      "astrology 9\n",
      "child care 9\n",
      "gay men 9\n",
      "avarice 9\n",
      "dracula, count (fictitious character 9\n",
      "dwellings 9\n",
      "anger 9\n",
      "arctic regions 9\n",
      "circus 9\n",
      "bible stories, english 8\n",
      "antiques 8\n",
      "fathers and sons 8\n",
      "bildungsromans 8\n",
      "college readers 8\n",
      "aging 8\n",
      "handicraft 8\n",
      "good and evil 8\n",
      "elephants 8\n",
      "covenant, thomas (fictitious character 8\n",
      "adoption 8\n",
      "audiobooks 8\n",
      "chile 8\n",
      "monsters 8\n",
      "brain 8\n",
      "authors, australian 8\n",
      "dolls 8\n",
      "italy 8\n",
      "scotland 8\n",
      "castaways 8\n",
      "high school students 8\n",
      "communication 8\n",
      "artificial intelligence 8\n",
      "soccer 8\n",
      "audiocassettes 8\n",
      "mice 8\n",
      "alaska 8\n",
      "african american men 8\n",
      "assassins 8\n",
      "veterinarians 8\n",
      "fear 8\n",
      "devotional calendars 8\n",
      "clothing and dress 8\n",
      "manners and customs 8\n",
      "spiritual life 7\n",
      "human-alien encounters 7\n",
      "generals 7\n",
      "cousins 7\n",
      "apologetics 7\n",
      "african american families 7\n",
      "aromatherapy 7\n",
      "horse racing 7\n",
      "color 7\n",
      "meditation 7\n",
      "spain 7\n",
      "college teachers 7\n",
      "economics 7\n",
      "homicide 7\n",
      "child abuse 7\n",
      "erotic stories, american 7\n",
      "adoptees 7\n",
      "aeronautics 7\n",
      "dent, arthur (fictitious character 7\n",
      "consciousness 7\n",
      "arab-israeli conflict 7\n",
      "board books 7\n",
      "food 7\n",
      "journalism 7\n",
      "abortion 7\n",
      "sisters 7\n",
      "police 7\n",
      "unidentified flying objects 7\n",
      "comedians 7\n",
      "cities and towns 7\n",
      "advertising 7\n",
      "infants 6\n",
      "bible stories 6\n",
      "executives 6\n",
      "singers 6\n",
      "drawing 6\n",
      "sat (educational test 6\n",
      "mythology 6\n",
      "civilization 6\n",
      "air pilots 6\n",
      "hiking 6\n",
      "orphans 6\n",
      "cosmology 6\n",
      "sociology 6\n",
      "asterix (fictitious character 6\n",
      "farm life 6\n",
      "almanacs 6\n",
      "accidents 6\n",
      "amusements 6\n",
      "antisemitism 6\n",
      "biology 6\n",
      "cowboys 6\n",
      "chocolate 6\n",
      "catholics 6\n",
      "african american authors 6\n",
      "christmas decorations 6\n",
      "entertainers 6\n",
      "chickens 6\n",
      "arkansas 6\n",
      "horror 6\n",
      "blake, anita (fictitious character 6\n",
      "kidnapping 6\n",
      "medicine, popular 6\n",
      "extrasensory perception 6\n",
      "diaries 6\n",
      "aliens 6\n",
      "castles 6\n",
      "amnesia 6\n",
      "brunetti, guido (fictitious character 6\n",
      "consumer education 6\n",
      "japan 6\n",
      "celts 6\n",
      "robots 6\n",
      "names, personal 6\n",
      "ants 6\n",
      "canon (literarature 6\n",
      "emotions 6\n",
      "contests 6\n",
      "conspiracies 6\n",
      "stories in rhyme 6\n",
      "antarctica 6\n",
      "bashfulness 6\n",
      "outer space 5\n",
      "elves 5\n",
      "detective and mystery stories, american 5\n",
      "authors, spanish 5\n",
      "chemistry 5\n",
      "arranged marriage 5\n",
      "criticism 5\n",
      "vietnam war, 1961-1975 5\n",
      "current events 5\n",
      "soviet union 5\n",
      "inheritance and succession 5\n",
      "cheerleading 5\n",
      "kings and rulers 5\n",
      "interior decoration 5\n",
      "city planning 5\n",
      "buried treasure 5\n",
      "diet 5\n",
      "brooklyn (new york, n.y 5\n",
      "ethics 5\n",
      "fables 5\n",
      "bicycle touring 5\n",
      "achievement motivation 5\n",
      "government investigators 5\n",
      "idaho 5\n",
      "country homes 5\n",
      "female friendship 5\n",
      "colorado 5\n",
      "clergy 5\n",
      "devil 5\n",
      "greece 5\n",
      "colombia 5\n",
      "atomic bomb 5\n",
      "cruise ships 5\n",
      "missing persons 5\n",
      "success 5\n",
      "abduction 5\n",
      "depressions 5\n",
      "abused wives 5\n",
      "baseball stories 5\n",
      "authors, austrian 5\n",
      "clowns 5\n",
      "mothers and sons 5\n",
      "rabbits 5\n",
      "god 5\n",
      "beaches 5\n",
      "bullies 5\n",
      "caribbean area 5\n",
      "grandmothers 5\n",
      "feng shui 5\n",
      "athens (greece 5\n",
      "classic 5\n",
      "antiquities 5\n",
      "homeless persons 5\n",
      "chess 5\n",
      "applications for positions 5\n",
      "relaxation 5\n",
      "mexico 5\n",
      "autumn 5\n",
      "ballet 5\n",
      "frogs 5\n",
      "communication in marriage 5\n",
      "questions and answers 5\n",
      "internet 5\n",
      "alchemists 5\n",
      "executive ability 5\n",
      "ducks 5\n"
     ]
    }
   ],
   "source": [
    "for cat, cnt in books['category_high'].value_counts().to_dict().items():\n",
    "    print(cat, cnt)"
   ]
  },
  {
   "cell_type": "code",
   "execution_count": 105,
   "metadata": {},
   "outputs": [],
   "source": [
    "gt_test_data = books[(books['category_high']=='fiction') | (books['category_high']=='nonfiction')]\n",
    "pred_fiction_data = title_label_data[['isbn','label']]"
   ]
  },
  {
   "cell_type": "code",
   "execution_count": 106,
   "metadata": {},
   "outputs": [
    {
     "name": "stderr",
     "output_type": "stream",
     "text": [
      "/tmp/ipykernel_62155/1279227253.py:1: SettingWithCopyWarning: \n",
      "A value is trying to be set on a copy of a slice from a DataFrame.\n",
      "Try using .loc[row_indexer,col_indexer] = value instead\n",
      "\n",
      "See the caveats in the documentation: https://pandas.pydata.org/pandas-docs/stable/user_guide/indexing.html#returning-a-view-versus-a-copy\n",
      "  pred_fiction_data['label'] = pred_fiction_data['label'].apply(lambda x: x.lower())\n"
     ]
    }
   ],
   "source": [
    "pred_fiction_data['label'] = pred_fiction_data['label'].apply(lambda x: x.lower())"
   ]
  },
  {
   "cell_type": "code",
   "execution_count": 107,
   "metadata": {},
   "outputs": [
    {
     "name": "stderr",
     "output_type": "stream",
     "text": [
      "/tmp/ipykernel_62155/2213006294.py:1: SettingWithCopyWarning: \n",
      "A value is trying to be set on a copy of a slice from a DataFrame\n",
      "\n",
      "See the caveats in the documentation: https://pandas.pydata.org/pandas-docs/stable/user_guide/indexing.html#returning-a-view-versus-a-copy\n",
      "  gt_test_data.drop(['Unnamed: 0'], axis=1, inplace=True)\n"
     ]
    }
   ],
   "source": [
    "gt_test_data.drop(['Unnamed: 0'], axis=1, inplace=True)"
   ]
  },
  {
   "cell_type": "code",
   "execution_count": 108,
   "metadata": {},
   "outputs": [
    {
     "data": {
      "text/html": [
       "<div>\n",
       "<style scoped>\n",
       "    .dataframe tbody tr th:only-of-type {\n",
       "        vertical-align: middle;\n",
       "    }\n",
       "\n",
       "    .dataframe tbody tr th {\n",
       "        vertical-align: top;\n",
       "    }\n",
       "\n",
       "    .dataframe thead th {\n",
       "        text-align: right;\n",
       "    }\n",
       "</style>\n",
       "<table border=\"1\" class=\"dataframe\">\n",
       "  <thead>\n",
       "    <tr style=\"text-align: right;\">\n",
       "      <th></th>\n",
       "      <th>isbn</th>\n",
       "      <th>label</th>\n",
       "    </tr>\n",
       "  </thead>\n",
       "  <tbody>\n",
       "    <tr>\n",
       "      <th>25715</th>\n",
       "      <td>055312997X</td>\n",
       "      <td>fiction</td>\n",
       "    </tr>\n",
       "    <tr>\n",
       "      <th>16151</th>\n",
       "      <td>0439083699</td>\n",
       "      <td>fiction</td>\n",
       "    </tr>\n",
       "    <tr>\n",
       "      <th>86243</th>\n",
       "      <td>0671036068</td>\n",
       "      <td>fiction</td>\n",
       "    </tr>\n",
       "  </tbody>\n",
       "</table>\n",
       "</div>"
      ],
      "text/plain": [
       "             isbn    label\n",
       "25715  055312997X  fiction\n",
       "16151  0439083699  fiction\n",
       "86243  0671036068  fiction"
      ]
     },
     "execution_count": 108,
     "metadata": {},
     "output_type": "execute_result"
    }
   ],
   "source": [
    "pred_fiction_data.sample(3)"
   ]
  },
  {
   "cell_type": "code",
   "execution_count": 109,
   "metadata": {},
   "outputs": [
    {
     "data": {
      "text/html": [
       "<div>\n",
       "<style scoped>\n",
       "    .dataframe tbody tr th:only-of-type {\n",
       "        vertical-align: middle;\n",
       "    }\n",
       "\n",
       "    .dataframe tbody tr th {\n",
       "        vertical-align: top;\n",
       "    }\n",
       "\n",
       "    .dataframe thead th {\n",
       "        text-align: right;\n",
       "    }\n",
       "</style>\n",
       "<table border=\"1\" class=\"dataframe\">\n",
       "  <thead>\n",
       "    <tr style=\"text-align: right;\">\n",
       "      <th></th>\n",
       "      <th>isbn</th>\n",
       "      <th>book_title</th>\n",
       "      <th>book_author</th>\n",
       "      <th>year_of_publication</th>\n",
       "      <th>publisher</th>\n",
       "      <th>img_url</th>\n",
       "      <th>language</th>\n",
       "      <th>summary</th>\n",
       "      <th>img_path</th>\n",
       "      <th>category_high</th>\n",
       "    </tr>\n",
       "  </thead>\n",
       "  <tbody>\n",
       "    <tr>\n",
       "      <th>58849</th>\n",
       "      <td>0312874219</td>\n",
       "      <td>The Pickup Artist</td>\n",
       "      <td>Terry Bisson</td>\n",
       "      <td>2002.0</td>\n",
       "      <td>Tor Books</td>\n",
       "      <td>http://images.amazon.com/images/P/0312874219.0...</td>\n",
       "      <td>en</td>\n",
       "      <td>From the author of Pirates of the Universe com...</td>\n",
       "      <td>images/0312874219.01.THUMBZZZ.jpg</td>\n",
       "      <td>fiction</td>\n",
       "    </tr>\n",
       "  </tbody>\n",
       "</table>\n",
       "</div>"
      ],
      "text/plain": [
       "             isbn         book_title   book_author  year_of_publication  \\\n",
       "58849  0312874219  The Pickup Artist  Terry Bisson               2002.0   \n",
       "\n",
       "       publisher                                            img_url language  \\\n",
       "58849  Tor Books  http://images.amazon.com/images/P/0312874219.0...       en   \n",
       "\n",
       "                                                 summary  \\\n",
       "58849  From the author of Pirates of the Universe com...   \n",
       "\n",
       "                                img_path category_high  \n",
       "58849  images/0312874219.01.THUMBZZZ.jpg       fiction  "
      ]
     },
     "execution_count": 109,
     "metadata": {},
     "output_type": "execute_result"
    }
   ],
   "source": [
    "gt_test_data.sample(1)"
   ]
  },
  {
   "cell_type": "code",
   "execution_count": 110,
   "metadata": {},
   "outputs": [],
   "source": [
    "gt_test_data.loc[gt_test_data['category_high'] != 'fiction', 'category_high'] = 'non-fiction'"
   ]
  },
  {
   "cell_type": "code",
   "execution_count": 111,
   "metadata": {},
   "outputs": [
    {
     "data": {
      "text/html": [
       "<div>\n",
       "<style scoped>\n",
       "    .dataframe tbody tr th:only-of-type {\n",
       "        vertical-align: middle;\n",
       "    }\n",
       "\n",
       "    .dataframe tbody tr th {\n",
       "        vertical-align: top;\n",
       "    }\n",
       "\n",
       "    .dataframe thead th {\n",
       "        text-align: right;\n",
       "    }\n",
       "</style>\n",
       "<table border=\"1\" class=\"dataframe\">\n",
       "  <thead>\n",
       "    <tr style=\"text-align: right;\">\n",
       "      <th></th>\n",
       "      <th>isbn</th>\n",
       "      <th>book_title</th>\n",
       "      <th>book_author</th>\n",
       "      <th>year_of_publication</th>\n",
       "      <th>publisher</th>\n",
       "      <th>img_url</th>\n",
       "      <th>language</th>\n",
       "      <th>summary</th>\n",
       "      <th>img_path</th>\n",
       "      <th>category_high</th>\n",
       "    </tr>\n",
       "  </thead>\n",
       "  <tbody>\n",
       "    <tr>\n",
       "      <th>74736</th>\n",
       "      <td>0515135968</td>\n",
       "      <td>Shadow Game</td>\n",
       "      <td>Christine Feehan</td>\n",
       "      <td>2003.0</td>\n",
       "      <td>Jove Books</td>\n",
       "      <td>http://images.amazon.com/images/P/0515135968.0...</td>\n",
       "      <td>en</td>\n",
       "      <td>From the &amp;quot;New York Times&amp;quot; bestsellin...</td>\n",
       "      <td>images/0515135968.01.THUMBZZZ.jpg</td>\n",
       "      <td>fiction</td>\n",
       "    </tr>\n",
       "    <tr>\n",
       "      <th>19957</th>\n",
       "      <td>0395833620</td>\n",
       "      <td>Jubilee (Literature Connections)</td>\n",
       "      <td>Margaret Walker</td>\n",
       "      <td>1997.0</td>\n",
       "      <td>Houghton Mifflin School</td>\n",
       "      <td>http://images.amazon.com/images/P/0395833620.0...</td>\n",
       "      <td>en</td>\n",
       "      <td>Here is the classic--and true--story of Vyry, ...</td>\n",
       "      <td>images/0395833620.01.THUMBZZZ.jpg</td>\n",
       "      <td>non-fiction</td>\n",
       "    </tr>\n",
       "    <tr>\n",
       "      <th>72821</th>\n",
       "      <td>1568490739</td>\n",
       "      <td>The Anastasia Syndrome and Other Stories</td>\n",
       "      <td>Mary Higgins Clark</td>\n",
       "      <td>1991.0</td>\n",
       "      <td>Buccaneer Books Inc</td>\n",
       "      <td>http://images.amazon.com/images/P/1568490739.0...</td>\n",
       "      <td>en</td>\n",
       "      <td>The remaining four stories in the collection a...</td>\n",
       "      <td>images/1568490739.01.THUMBZZZ.jpg</td>\n",
       "      <td>fiction</td>\n",
       "    </tr>\n",
       "  </tbody>\n",
       "</table>\n",
       "</div>"
      ],
      "text/plain": [
       "             isbn                                book_title  \\\n",
       "74736  0515135968                               Shadow Game   \n",
       "19957  0395833620          Jubilee (Literature Connections)   \n",
       "72821  1568490739  The Anastasia Syndrome and Other Stories   \n",
       "\n",
       "              book_author  year_of_publication                publisher  \\\n",
       "74736    Christine Feehan               2003.0               Jove Books   \n",
       "19957     Margaret Walker               1997.0  Houghton Mifflin School   \n",
       "72821  Mary Higgins Clark               1991.0      Buccaneer Books Inc   \n",
       "\n",
       "                                                 img_url language  \\\n",
       "74736  http://images.amazon.com/images/P/0515135968.0...       en   \n",
       "19957  http://images.amazon.com/images/P/0395833620.0...       en   \n",
       "72821  http://images.amazon.com/images/P/1568490739.0...       en   \n",
       "\n",
       "                                                 summary  \\\n",
       "74736  From the &quot;New York Times&quot; bestsellin...   \n",
       "19957  Here is the classic--and true--story of Vyry, ...   \n",
       "72821  The remaining four stories in the collection a...   \n",
       "\n",
       "                                img_path category_high  \n",
       "74736  images/0515135968.01.THUMBZZZ.jpg       fiction  \n",
       "19957  images/0395833620.01.THUMBZZZ.jpg   non-fiction  \n",
       "72821  images/1568490739.01.THUMBZZZ.jpg       fiction  "
      ]
     },
     "execution_count": 111,
     "metadata": {},
     "output_type": "execute_result"
    }
   ],
   "source": [
    "gt_test_data.sample(3)"
   ]
  },
  {
   "cell_type": "code",
   "execution_count": 112,
   "metadata": {},
   "outputs": [
    {
     "data": {
      "text/html": [
       "<div>\n",
       "<style scoped>\n",
       "    .dataframe tbody tr th:only-of-type {\n",
       "        vertical-align: middle;\n",
       "    }\n",
       "\n",
       "    .dataframe tbody tr th {\n",
       "        vertical-align: top;\n",
       "    }\n",
       "\n",
       "    .dataframe thead th {\n",
       "        text-align: right;\n",
       "    }\n",
       "</style>\n",
       "<table border=\"1\" class=\"dataframe\">\n",
       "  <thead>\n",
       "    <tr style=\"text-align: right;\">\n",
       "      <th></th>\n",
       "      <th>isbn</th>\n",
       "      <th>category_high</th>\n",
       "    </tr>\n",
       "  </thead>\n",
       "  <tbody>\n",
       "    <tr>\n",
       "      <th>3</th>\n",
       "      <td>0399135782</td>\n",
       "      <td>fiction</td>\n",
       "    </tr>\n",
       "    <tr>\n",
       "      <th>6</th>\n",
       "      <td>074322678X</td>\n",
       "      <td>fiction</td>\n",
       "    </tr>\n",
       "    <tr>\n",
       "      <th>7</th>\n",
       "      <td>0771074670</td>\n",
       "      <td>fiction</td>\n",
       "    </tr>\n",
       "    <tr>\n",
       "      <th>13</th>\n",
       "      <td>1881320189</td>\n",
       "      <td>fiction</td>\n",
       "    </tr>\n",
       "    <tr>\n",
       "      <th>14</th>\n",
       "      <td>0440234743</td>\n",
       "      <td>fiction</td>\n",
       "    </tr>\n",
       "    <tr>\n",
       "      <th>...</th>\n",
       "      <td>...</td>\n",
       "      <td>...</td>\n",
       "    </tr>\n",
       "    <tr>\n",
       "      <th>149532</th>\n",
       "      <td>0821726595</td>\n",
       "      <td>fiction</td>\n",
       "    </tr>\n",
       "    <tr>\n",
       "      <th>149556</th>\n",
       "      <td>1896095186</td>\n",
       "      <td>fiction</td>\n",
       "    </tr>\n",
       "    <tr>\n",
       "      <th>149559</th>\n",
       "      <td>0449225208</td>\n",
       "      <td>fiction</td>\n",
       "    </tr>\n",
       "    <tr>\n",
       "      <th>149563</th>\n",
       "      <td>0689818904</td>\n",
       "      <td>fiction</td>\n",
       "    </tr>\n",
       "    <tr>\n",
       "      <th>149568</th>\n",
       "      <td>0912333022</td>\n",
       "      <td>fiction</td>\n",
       "    </tr>\n",
       "  </tbody>\n",
       "</table>\n",
       "<p>41105 rows × 2 columns</p>\n",
       "</div>"
      ],
      "text/plain": [
       "              isbn category_high\n",
       "3       0399135782       fiction\n",
       "6       074322678X       fiction\n",
       "7       0771074670       fiction\n",
       "13      1881320189       fiction\n",
       "14      0440234743       fiction\n",
       "...            ...           ...\n",
       "149532  0821726595       fiction\n",
       "149556  1896095186       fiction\n",
       "149559  0449225208       fiction\n",
       "149563  0689818904       fiction\n",
       "149568  0912333022       fiction\n",
       "\n",
       "[41105 rows x 2 columns]"
      ]
     },
     "execution_count": 112,
     "metadata": {},
     "output_type": "execute_result"
    }
   ],
   "source": [
    "gt_test_data = gt_test_data[['isbn','category_high']]\n",
    "gt_test_data"
   ]
  },
  {
   "cell_type": "code",
   "execution_count": 113,
   "metadata": {},
   "outputs": [
    {
     "data": {
      "text/html": [
       "<div>\n",
       "<style scoped>\n",
       "    .dataframe tbody tr th:only-of-type {\n",
       "        vertical-align: middle;\n",
       "    }\n",
       "\n",
       "    .dataframe tbody tr th {\n",
       "        vertical-align: top;\n",
       "    }\n",
       "\n",
       "    .dataframe thead th {\n",
       "        text-align: right;\n",
       "    }\n",
       "</style>\n",
       "<table border=\"1\" class=\"dataframe\">\n",
       "  <thead>\n",
       "    <tr style=\"text-align: right;\">\n",
       "      <th></th>\n",
       "      <th>isbn</th>\n",
       "      <th>category_high</th>\n",
       "    </tr>\n",
       "  </thead>\n",
       "  <tbody>\n",
       "    <tr>\n",
       "      <th>91336</th>\n",
       "      <td>0064401766</td>\n",
       "      <td>fiction</td>\n",
       "    </tr>\n",
       "  </tbody>\n",
       "</table>\n",
       "</div>"
      ],
      "text/plain": [
       "             isbn category_high\n",
       "91336  0064401766       fiction"
      ]
     },
     "execution_count": 113,
     "metadata": {},
     "output_type": "execute_result"
    }
   ],
   "source": [
    "gt_test_data.sample(1)"
   ]
  },
  {
   "cell_type": "code",
   "execution_count": 114,
   "metadata": {},
   "outputs": [
    {
     "data": {
      "text/html": [
       "<div>\n",
       "<style scoped>\n",
       "    .dataframe tbody tr th:only-of-type {\n",
       "        vertical-align: middle;\n",
       "    }\n",
       "\n",
       "    .dataframe tbody tr th {\n",
       "        vertical-align: top;\n",
       "    }\n",
       "\n",
       "    .dataframe thead th {\n",
       "        text-align: right;\n",
       "    }\n",
       "</style>\n",
       "<table border=\"1\" class=\"dataframe\">\n",
       "  <thead>\n",
       "    <tr style=\"text-align: right;\">\n",
       "      <th></th>\n",
       "      <th>isbn</th>\n",
       "      <th>label</th>\n",
       "    </tr>\n",
       "  </thead>\n",
       "  <tbody>\n",
       "    <tr>\n",
       "      <th>119335</th>\n",
       "      <td>073226491X</td>\n",
       "      <td>fiction</td>\n",
       "    </tr>\n",
       "  </tbody>\n",
       "</table>\n",
       "</div>"
      ],
      "text/plain": [
       "              isbn    label\n",
       "119335  073226491X  fiction"
      ]
     },
     "execution_count": 114,
     "metadata": {},
     "output_type": "execute_result"
    }
   ],
   "source": [
    "pred_fiction_data.sample(1)"
   ]
  },
  {
   "cell_type": "code",
   "execution_count": 115,
   "metadata": {},
   "outputs": [],
   "source": [
    "merge = gt_test_data.merge(pred_fiction_data, how='left', on='isbn')\n",
    "ground_true = merge['category_high']\n",
    "pred = merge['label']"
   ]
  },
  {
   "cell_type": "code",
   "execution_count": 116,
   "metadata": {},
   "outputs": [
    {
     "data": {
      "text/plain": [
       "0        fiction\n",
       "1        fiction\n",
       "2        fiction\n",
       "3        fiction\n",
       "4        fiction\n",
       "          ...   \n",
       "41100    fiction\n",
       "41101    fiction\n",
       "41102    fiction\n",
       "41103    fiction\n",
       "41104    fiction\n",
       "Name: category_high, Length: 41105, dtype: object"
      ]
     },
     "execution_count": 116,
     "metadata": {},
     "output_type": "execute_result"
    }
   ],
   "source": [
    "ground_true"
   ]
  },
  {
   "cell_type": "code",
   "execution_count": 117,
   "metadata": {},
   "outputs": [
    {
     "data": {
      "text/plain": [
       "0            fiction\n",
       "1            fiction\n",
       "2        non-fiction\n",
       "3            fiction\n",
       "4            fiction\n",
       "            ...     \n",
       "41100        fiction\n",
       "41101    non-fiction\n",
       "41102        fiction\n",
       "41103        fiction\n",
       "41104        fiction\n",
       "Name: label, Length: 41105, dtype: object"
      ]
     },
     "execution_count": 117,
     "metadata": {},
     "output_type": "execute_result"
    }
   ],
   "source": [
    "pred"
   ]
  },
  {
   "cell_type": "code",
   "execution_count": 118,
   "metadata": {},
   "outputs": [
    {
     "data": {
      "image/png": "[encoded data removed]",
      "text/plain": [
       "<Figure size 640x480 with 2 Axes>"
      ]
     },
     "metadata": {},
     "output_type": "display_data"
    }
   ],
   "source": [
    "from sklearn.metrics import confusion_matrix\n",
    "cm = confusion_matrix(ground_true, pred)\n",
    "sns.heatmap(cm, annot = True, fmt = 'd',cmap = 'Reds')\n",
    "plt.xlabel('predtion')\n",
    "plt.ylabel('ground_true')\n",
    "plt.xticks([0.5,1.5],['1(fiction)', '0(non-fiction)'])\n",
    "plt.yticks([0.5,1.5],['1(fiction)', '0(non-fiction)'])\n",
    "plt.show()"
   ]
  },
  {
   "cell_type": "code",
   "execution_count": null,
   "metadata": {},
   "outputs": [],
   "source": []
  },
  {
   "cell_type": "code",
   "execution_count": null,
   "metadata": {},
   "outputs": [],
   "source": []
  },
  {
   "cell_type": "code",
   "execution_count": null,
   "metadata": {},
   "outputs": [],
   "source": []
  },
  {
   "cell_type": "code",
   "execution_count": null,
   "metadata": {},
   "outputs": [],
   "source": []
  },
  {
   "cell_type": "code",
   "execution_count": null,
   "metadata": {},
   "outputs": [],
   "source": []
  },
  {
   "cell_type": "code",
   "execution_count": null,
   "metadata": {},
   "outputs": [],
   "source": []
  },
  {
   "cell_type": "code",
   "execution_count": 11,
   "metadata": {},
   "outputs": [
    {
     "data": {
      "text/plain": [
       "['non-fiction']"
      ]
     },
     "execution_count": 11,
     "metadata": {},
     "output_type": "execute_result"
    }
   ],
   "source": [
    "list(pred_fiction_data[pred_fiction_data['isbn'] == '0671870432']['label'])"
   ]
  },
  {
   "cell_type": "code",
   "execution_count": 12,
   "metadata": {},
   "outputs": [],
   "source": [
    "import tqdm\n",
    "import time"
   ]
  },
  {
   "cell_type": "code",
   "execution_count": 13,
   "metadata": {},
   "outputs": [
    {
     "name": "stderr",
     "output_type": "stream",
     "text": [
      "39678it [07:06, 93.13it/s]\n"
     ]
    }
   ],
   "source": [
    "for idx,isbn in tqdm.tqdm(enumerate(fiction_data_isbn)):\n",
    "    if list(pred_fiction_data[pred_fiction_data['isbn'] == isbn]['label'])[0] == 'fiction':\n",
    "        cnt_true += 1"
   ]
  },
  {
   "cell_type": "code",
   "execution_count": 14,
   "metadata": {},
   "outputs": [
    {
     "name": "stdout",
     "output_type": "stream",
     "text": [
      "90.85639397147034\n"
     ]
    }
   ],
   "source": [
    "acc = cnt_true / len(fiction_data_isbn)\n",
    "print(acc * 100)"
   ]
  },
  {
   "cell_type": "code",
   "execution_count": 65,
   "metadata": {},
   "outputs": [],
   "source": [
    "def cat2num(s:str):\n",
    "    return 1 if s == 'fiction' else 0"
   ]
  },
  {
   "cell_type": "code",
   "execution_count": 66,
   "metadata": {},
   "outputs": [
    {
     "data": {
      "text/plain": [
       "array([1, 1, 1, ..., 1, 1, 1])"
      ]
     },
     "execution_count": 66,
     "metadata": {},
     "output_type": "execute_result"
    }
   ],
   "source": [
    "y_true = gt_fiction_data['category_high'].apply(lambda x: cat2num(x)).values\n",
    "y_true"
   ]
  },
  {
   "cell_type": "code",
   "execution_count": 67,
   "metadata": {},
   "outputs": [
    {
     "data": {
      "text/plain": [
       "39678"
      ]
     },
     "execution_count": 67,
     "metadata": {},
     "output_type": "execute_result"
    }
   ],
   "source": [
    "len(y_true)"
   ]
  },
  {
   "cell_type": "code",
   "execution_count": 73,
   "metadata": {},
   "outputs": [],
   "source": [
    "merge = gt_fiction_data.merge(pred_fiction_data, how='left', on='isbn')"
   ]
  },
  {
   "cell_type": "code",
   "execution_count": 78,
   "metadata": {},
   "outputs": [],
   "source": [
    "ground_true = list(map(cat2num, merge['category_high'].values))\n",
    "pred = list(map(cat2num, merge['label'].values))"
   ]
  },
  {
   "cell_type": "code",
   "execution_count": 88,
   "metadata": {},
   "outputs": [],
   "source": [
    "ground_true = merge['category_high']\n",
    "pred = merge['label']"
   ]
  },
  {
   "cell_type": "code",
   "execution_count": 89,
   "metadata": {},
   "outputs": [],
   "source": [
    "from sklearn.metrics import confusion_matrix\n",
    "cm = confusion_matrix(ground_true, pred)"
   ]
  },
  {
   "cell_type": "code",
   "execution_count": 97,
   "metadata": {},
   "outputs": [
    {
     "data": {
      "image/png": "[encoded data removed]",
      "text/plain": [
       "<Figure size 640x480 with 2 Axes>"
      ]
     },
     "metadata": {},
     "output_type": "display_data"
    }
   ],
   "source": [
    "sns.heatmap(cm, annot = True, fmt = 'd',cmap = 'Reds')\n",
    "plt.xlabel('predtion')\n",
    "plt.ylabel('ground_true')\n",
    "plt.xticks([0.5,1.5],['1(fiction)', '0(non-fiction)'])\n",
    "plt.yticks([0.5,1.5],['1(fiction)', '0(non-fiction)'])\n",
    "plt.show()"
   ]
  },
  {
   "cell_type": "code",
   "execution_count": 81,
   "metadata": {},
   "outputs": [
    {
     "data": {
      "text/plain": [
       "0.9085639397147034"
      ]
     },
     "execution_count": 81,
     "metadata": {},
     "output_type": "execute_result"
    }
   ],
   "source": [
    "36050/(36050 + 3628)"
   ]
  },
  {
   "cell_type": "code",
   "execution_count": null,
   "metadata": {},
   "outputs": [],
   "source": []
  }
 ],
 "metadata": {
  "kernelspec": {
   "display_name": "Python 3.8.5 ('base')",
   "language": "python",
   "name": "python3"
  },
  "language_info": {
   "codemirror_mode": {
    "name": "ipython",
    "version": 3
   },
   "file_extension": ".py",
   "mimetype": "text/x-python",
   "name": "python",
   "nbconvert_exporter": "python",
   "pygments_lexer": "ipython3",
   "version": "3.8.5"
  },
  "orig_nbformat": 4,
  "vscode": {
   "interpreter": {
    "hash": "d4d1e4263499bec80672ea0156c357c1ee493ec2b1c70f0acce89fc37c4a6abe"
   }
  }
 },
 "nbformat": 4,
 "nbformat_minor": 2
}
