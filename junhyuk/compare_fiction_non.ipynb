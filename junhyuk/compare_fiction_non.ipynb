{
 "cells": [
  {
   "cell_type": "code",
   "execution_count": 1,
   "metadata": {},
   "outputs": [],
   "source": [
    "import pandas as pd\n",
    "import numpy as np\n",
    "import seaborn as sns\n",
    "import matplotlib.pyplot as plt"
   ]
  },
  {
   "cell_type": "code",
   "execution_count": 2,
   "metadata": {},
   "outputs": [],
   "source": [
    "path='./data/'\n",
    "\n",
    "users = pd.read_csv('processed_users_2.csv')\n",
    "books = pd.read_csv('basic_preprocess_books.csv')\n",
    "ratings = pd.read_csv(path+'train_ratings.csv')\n",
    "title_label_data = pd.read_csv('isbn_title_dataset.csv')"
   ]
  },
  {
   "cell_type": "code",
   "execution_count": 3,
   "metadata": {},
   "outputs": [],
   "source": [
    "gt_fiction_data = books[books['category_high']=='fiction']\n",
    "pred_fiction_data = title_label_data[['isbn','label']]"
   ]
  },
  {
   "cell_type": "code",
   "execution_count": 4,
   "metadata": {},
   "outputs": [
    {
     "name": "stderr",
     "output_type": "stream",
     "text": [
      "/tmp/ipykernel_60164/1279227253.py:1: SettingWithCopyWarning: \n",
      "A value is trying to be set on a copy of a slice from a DataFrame.\n",
      "Try using .loc[row_indexer,col_indexer] = value instead\n",
      "\n",
      "See the caveats in the documentation: https://pandas.pydata.org/pandas-docs/stable/user_guide/indexing.html#returning-a-view-versus-a-copy\n",
      "  pred_fiction_data['label'] = pred_fiction_data['label'].apply(lambda x: x.lower())\n"
     ]
    }
   ],
   "source": [
    "pred_fiction_data['label'] = pred_fiction_data['label'].apply(lambda x: x.lower())"
   ]
  },
  {
   "cell_type": "code",
   "execution_count": 5,
   "metadata": {},
   "outputs": [
    {
     "data": {
      "text/html": [
       "<div>\n",
       "<style scoped>\n",
       "    .dataframe tbody tr th:only-of-type {\n",
       "        vertical-align: middle;\n",
       "    }\n",
       "\n",
       "    .dataframe tbody tr th {\n",
       "        vertical-align: top;\n",
       "    }\n",
       "\n",
       "    .dataframe thead th {\n",
       "        text-align: right;\n",
       "    }\n",
       "</style>\n",
       "<table border=\"1\" class=\"dataframe\">\n",
       "  <thead>\n",
       "    <tr style=\"text-align: right;\">\n",
       "      <th></th>\n",
       "      <th>isbn</th>\n",
       "      <th>label</th>\n",
       "    </tr>\n",
       "  </thead>\n",
       "  <tbody>\n",
       "    <tr>\n",
       "      <th>85300</th>\n",
       "      <td>0345410297</td>\n",
       "      <td>fiction</td>\n",
       "    </tr>\n",
       "    <tr>\n",
       "      <th>73414</th>\n",
       "      <td>0938817442</td>\n",
       "      <td>fiction</td>\n",
       "    </tr>\n",
       "    <tr>\n",
       "      <th>143907</th>\n",
       "      <td>0891344608</td>\n",
       "      <td>non-fiction</td>\n",
       "    </tr>\n",
       "  </tbody>\n",
       "</table>\n",
       "</div>"
      ],
      "text/plain": [
       "              isbn        label\n",
       "85300   0345410297      fiction\n",
       "73414   0938817442      fiction\n",
       "143907  0891344608  non-fiction"
      ]
     },
     "execution_count": 5,
     "metadata": {},
     "output_type": "execute_result"
    }
   ],
   "source": [
    "pred_fiction_data.sample(3)"
   ]
  },
  {
   "cell_type": "code",
   "execution_count": 6,
   "metadata": {},
   "outputs": [
    {
     "name": "stderr",
     "output_type": "stream",
     "text": [
      "/tmp/ipykernel_60164/2527333095.py:1: SettingWithCopyWarning: \n",
      "A value is trying to be set on a copy of a slice from a DataFrame\n",
      "\n",
      "See the caveats in the documentation: https://pandas.pydata.org/pandas-docs/stable/user_guide/indexing.html#returning-a-view-versus-a-copy\n",
      "  gt_fiction_data.drop(['Unnamed: 0'], axis=1, inplace=True)\n"
     ]
    }
   ],
   "source": [
    "gt_fiction_data.drop(['Unnamed: 0'], axis=1, inplace=True)"
   ]
  },
  {
   "cell_type": "code",
   "execution_count": 7,
   "metadata": {},
   "outputs": [
    {
     "data": {
      "text/html": [
       "<div>\n",
       "<style scoped>\n",
       "    .dataframe tbody tr th:only-of-type {\n",
       "        vertical-align: middle;\n",
       "    }\n",
       "\n",
       "    .dataframe tbody tr th {\n",
       "        vertical-align: top;\n",
       "    }\n",
       "\n",
       "    .dataframe thead th {\n",
       "        text-align: right;\n",
       "    }\n",
       "</style>\n",
       "<table border=\"1\" class=\"dataframe\">\n",
       "  <thead>\n",
       "    <tr style=\"text-align: right;\">\n",
       "      <th></th>\n",
       "      <th>isbn</th>\n",
       "      <th>book_title</th>\n",
       "      <th>book_author</th>\n",
       "      <th>year_of_publication</th>\n",
       "      <th>publisher</th>\n",
       "      <th>img_url</th>\n",
       "      <th>language</th>\n",
       "      <th>summary</th>\n",
       "      <th>img_path</th>\n",
       "      <th>category_high</th>\n",
       "    </tr>\n",
       "  </thead>\n",
       "  <tbody>\n",
       "    <tr>\n",
       "      <th>35460</th>\n",
       "      <td>0765302705</td>\n",
       "      <td>Callahan's Con</td>\n",
       "      <td>Spider Robinson</td>\n",
       "      <td>2003.0</td>\n",
       "      <td>Tor Books</td>\n",
       "      <td>http://images.amazon.com/images/P/0765302705.0...</td>\n",
       "      <td>en</td>\n",
       "      <td>Raves for Spider Robinson “Spider Robinson is ...</td>\n",
       "      <td>images/0765302705.01.THUMBZZZ.jpg</td>\n",
       "      <td>fiction</td>\n",
       "    </tr>\n",
       "    <tr>\n",
       "      <th>9374</th>\n",
       "      <td>0312144504</td>\n",
       "      <td>The Year's Best Fantasy and Horror: Ninth Annu...</td>\n",
       "      <td>Ellen Datlow</td>\n",
       "      <td>1996.0</td>\n",
       "      <td>St. Martin's Griffin</td>\n",
       "      <td>http://images.amazon.com/images/P/0312144504.0...</td>\n",
       "      <td>en</td>\n",
       "      <td>This renowned series, recipient of three World...</td>\n",
       "      <td>images/0312144504.01.THUMBZZZ.jpg</td>\n",
       "      <td>fiction</td>\n",
       "    </tr>\n",
       "    <tr>\n",
       "      <th>437</th>\n",
       "      <td>0515130923</td>\n",
       "      <td>Dawn in Eclipse Bay</td>\n",
       "      <td>Jayne Ann Krentz</td>\n",
       "      <td>2001.0</td>\n",
       "      <td>Jove Books</td>\n",
       "      <td>http://images.amazon.com/images/P/0515130923.0...</td>\n",
       "      <td>en</td>\n",
       "      <td>Just months after the wedding of their sibling...</td>\n",
       "      <td>images/0515130923.01.THUMBZZZ.jpg</td>\n",
       "      <td>fiction</td>\n",
       "    </tr>\n",
       "  </tbody>\n",
       "</table>\n",
       "</div>"
      ],
      "text/plain": [
       "             isbn                                         book_title  \\\n",
       "35460  0765302705                                     Callahan's Con   \n",
       "9374   0312144504  The Year's Best Fantasy and Horror: Ninth Annu...   \n",
       "437    0515130923                                Dawn in Eclipse Bay   \n",
       "\n",
       "            book_author  year_of_publication             publisher  \\\n",
       "35460   Spider Robinson               2003.0             Tor Books   \n",
       "9374       Ellen Datlow               1996.0  St. Martin's Griffin   \n",
       "437    Jayne Ann Krentz               2001.0            Jove Books   \n",
       "\n",
       "                                                 img_url language  \\\n",
       "35460  http://images.amazon.com/images/P/0765302705.0...       en   \n",
       "9374   http://images.amazon.com/images/P/0312144504.0...       en   \n",
       "437    http://images.amazon.com/images/P/0515130923.0...       en   \n",
       "\n",
       "                                                 summary  \\\n",
       "35460  Raves for Spider Robinson “Spider Robinson is ...   \n",
       "9374   This renowned series, recipient of three World...   \n",
       "437    Just months after the wedding of their sibling...   \n",
       "\n",
       "                                img_path category_high  \n",
       "35460  images/0765302705.01.THUMBZZZ.jpg       fiction  \n",
       "9374   images/0312144504.01.THUMBZZZ.jpg       fiction  \n",
       "437    images/0515130923.01.THUMBZZZ.jpg       fiction  "
      ]
     },
     "execution_count": 7,
     "metadata": {},
     "output_type": "execute_result"
    }
   ],
   "source": [
    "gt_fiction_data.sample(3)"
   ]
  },
  {
   "cell_type": "code",
   "execution_count": 8,
   "metadata": {},
   "outputs": [],
   "source": [
    "fiction_data_isbn = gt_fiction_data['isbn'].values"
   ]
  },
  {
   "cell_type": "code",
   "execution_count": 9,
   "metadata": {},
   "outputs": [
    {
     "name": "stdout",
     "output_type": "stream",
     "text": [
      "['0399135782' '074322678X' '0771074670' ... '0449225208' '0689818904'\n",
      " '0912333022']\n",
      "39678\n"
     ]
    }
   ],
   "source": [
    "print(fiction_data_isbn)\n",
    "print(len(fiction_data_isbn))"
   ]
  },
  {
   "cell_type": "code",
   "execution_count": 10,
   "metadata": {},
   "outputs": [],
   "source": [
    "cnt_true = 0"
   ]
  },
  {
   "cell_type": "code",
   "execution_count": 11,
   "metadata": {},
   "outputs": [
    {
     "data": {
      "text/plain": [
       "['non-fiction']"
      ]
     },
     "execution_count": 11,
     "metadata": {},
     "output_type": "execute_result"
    }
   ],
   "source": [
    "list(pred_fiction_data[pred_fiction_data['isbn'] == '0671870432']['label'])"
   ]
  },
  {
   "cell_type": "code",
   "execution_count": 12,
   "metadata": {},
   "outputs": [],
   "source": [
    "import tqdm\n",
    "import time"
   ]
  },
  {
   "cell_type": "code",
   "execution_count": 13,
   "metadata": {},
   "outputs": [
    {
     "name": "stderr",
     "output_type": "stream",
     "text": [
      "39678it [07:06, 93.13it/s]\n"
     ]
    }
   ],
   "source": [
    "for idx,isbn in tqdm.tqdm(enumerate(fiction_data_isbn)):\n",
    "    if list(pred_fiction_data[pred_fiction_data['isbn'] == isbn]['label'])[0] == 'fiction':\n",
    "        cnt_true += 1"
   ]
  },
  {
   "cell_type": "code",
   "execution_count": 14,
   "metadata": {},
   "outputs": [
    {
     "name": "stdout",
     "output_type": "stream",
     "text": [
      "90.85639397147034\n"
     ]
    }
   ],
   "source": [
    "acc = cnt_true / len(fiction_data_isbn)\n",
    "print(acc * 100)"
   ]
  },
  {
   "cell_type": "code",
   "execution_count": 65,
   "metadata": {},
   "outputs": [],
   "source": [
    "def cat2num(s:str):\n",
    "    return 1 if s == 'fiction' else 0"
   ]
  },
  {
   "cell_type": "code",
   "execution_count": 66,
   "metadata": {},
   "outputs": [
    {
     "data": {
      "text/plain": [
       "array([1, 1, 1, ..., 1, 1, 1])"
      ]
     },
     "execution_count": 66,
     "metadata": {},
     "output_type": "execute_result"
    }
   ],
   "source": [
    "y_true = gt_fiction_data['category_high'].apply(lambda x: cat2num(x)).values\n",
    "y_true"
   ]
  },
  {
   "cell_type": "code",
   "execution_count": 67,
   "metadata": {},
   "outputs": [
    {
     "data": {
      "text/plain": [
       "39678"
      ]
     },
     "execution_count": 67,
     "metadata": {},
     "output_type": "execute_result"
    }
   ],
   "source": [
    "len(y_true)"
   ]
  },
  {
   "cell_type": "code",
   "execution_count": 73,
   "metadata": {},
   "outputs": [],
   "source": [
    "merge = gt_fiction_data.merge(pred_fiction_data, how='left', on='isbn')"
   ]
  },
  {
   "cell_type": "code",
   "execution_count": 78,
   "metadata": {},
   "outputs": [],
   "source": [
    "ground_true = list(map(cat2num, merge['category_high'].values))\n",
    "pred = list(map(cat2num, merge['label'].values))"
   ]
  },
  {
   "cell_type": "code",
   "execution_count": 88,
   "metadata": {},
   "outputs": [],
   "source": [
    "ground_true = merge['category_high']\n",
    "pred = merge['label']"
   ]
  },
  {
   "cell_type": "code",
   "execution_count": 89,
   "metadata": {},
   "outputs": [],
   "source": [
    "from sklearn.metrics import confusion_matrix\n",
    "cm = confusion_matrix(ground_true, pred)"
   ]
  },
  {
   "cell_type": "code",
   "execution_count": 97,
   "metadata": {},
   "outputs": [
    {
     "data": {
      "image/png": "[encoded data removed]",
      "text/plain": [
       "<Figure size 640x480 with 2 Axes>"
      ]
     },
     "metadata": {},
     "output_type": "display_data"
    }
   ],
   "source": [
    "sns.heatmap(cm, annot = True, fmt = 'd',cmap = 'Reds')\n",
    "plt.xlabel('predtion')\n",
    "plt.ylabel('ground_true')\n",
    "plt.xticks([0.5,1.5],['1(fiction)', '0(non-fiction)'])\n",
    "plt.yticks([0.5,1.5],['1(fiction)', '0(non-fiction)'])\n",
    "plt.show()"
   ]
  },
  {
   "cell_type": "code",
   "execution_count": 81,
   "metadata": {},
   "outputs": [
    {
     "data": {
      "text/plain": [
       "0.9085639397147034"
      ]
     },
     "execution_count": 81,
     "metadata": {},
     "output_type": "execute_result"
    }
   ],
   "source": [
    "36050/(36050 + 3628)"
   ]
  },
  {
   "cell_type": "code",
   "execution_count": null,
   "metadata": {},
   "outputs": [],
   "source": []
  }
 ],
 "metadata": {
  "kernelspec": {
   "display_name": "Python 3.8.5 ('base')",
   "language": "python",
   "name": "python3"
  },
  "language_info": {
   "codemirror_mode": {
    "name": "ipython",
    "version": 3
   },
   "file_extension": ".py",
   "mimetype": "text/x-python",
   "name": "python",
   "nbconvert_exporter": "python",
   "pygments_lexer": "ipython3",
   "version": "3.8.5"
  },
  "orig_nbformat": 4,
  "vscode": {
   "interpreter": {
    "hash": "d4d1e4263499bec80672ea0156c357c1ee493ec2b1c70f0acce89fc37c4a6abe"
   }
  }
 },
 "nbformat": 4,
 "nbformat_minor": 2
}
