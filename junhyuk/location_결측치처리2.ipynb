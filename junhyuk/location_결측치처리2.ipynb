{
 "cells": [
  {
   "cell_type": "code",
   "execution_count": 1,
   "metadata": {},
   "outputs": [],
   "source": [
    "import pandas as pd\n",
    "import numpy as np\n",
    "import seaborn as sns\n",
    "import matplotlib.pyplot as plt"
   ]
  },
  {
   "cell_type": "code",
   "execution_count": 13,
   "metadata": {},
   "outputs": [
    {
     "name": "stdout",
     "output_type": "stream",
     "text": [
      "users shape:  (68092, 3)\n",
      "books shape:  (149570, 10)\n",
      "ratings shape:  (306795, 3)\n"
     ]
    }
   ],
   "source": [
    "path='./data/'\n",
    "\n",
    "users = pd.read_csv(path+'users.csv')\n",
    "books = pd.read_csv(path+'books.csv')\n",
    "ratings = pd.read_csv(path+'train_ratings.csv')\n",
    "test_ratings = pd.read_csv(path+'test_ratings.csv')\n",
    "\n",
    "print('users shape: ', users.shape)\n",
    "print('books shape: ', books.shape)\n",
    "print('ratings shape: ', ratings.shape)"
   ]
  },
  {
   "cell_type": "code",
   "execution_count": 14,
   "metadata": {},
   "outputs": [],
   "source": [
    "df = users['location'].value_counts()"
   ]
  },
  {
   "cell_type": "code",
   "execution_count": 17,
   "metadata": {},
   "outputs": [],
   "source": [
    "users['location_city'] = users['location'].apply(lambda x: x.split(',')[0].strip())\n",
    "users['location_state'] = users['location'].apply(lambda x: x.split(',')[1].strip())\n",
    "users['location_country'] = users['location'].apply(lambda x: x.split(',')[2].strip())"
   ]
  },
  {
   "cell_type": "code",
   "execution_count": 19,
   "metadata": {},
   "outputs": [],
   "source": [
    "users = users.replace('na', np.nan)\n",
    "users = users.replace('', np.nan)\n",
    "users = users.replace('unknown', np.nan)"
   ]
  },
  {
   "cell_type": "code",
   "execution_count": 21,
   "metadata": {},
   "outputs": [
    {
     "name": "stderr",
     "output_type": "stream",
     "text": [
      "/tmp/ipykernel_91047/2407747211.py:6: UserWarning: This pattern is interpreted as a regular expression, and has match groups. To actually get the groups, use str.extract.\n",
      "  right_location = users[(users['location'].str.contains(location))&(users['location_country'].notnull())]['location'].value_counts().index[0]\n",
      "/tmp/ipykernel_91047/2407747211.py:6: UserWarning: This pattern is interpreted as a regular expression, and has match groups. To actually get the groups, use str.extract.\n",
      "  right_location = users[(users['location'].str.contains(location))&(users['location_country'].notnull())]['location'].value_counts().index[0]\n"
     ]
    }
   ],
   "source": [
    "# location_state, location_country 결측 대치\n",
    "modify_location = users[(users['location_country'].isna())&(users['location_city'].notnull())]['location_city'].values\n",
    "location_list = []\n",
    "for location in modify_location:\n",
    "    try:\n",
    "        right_location = users[(users['location'].str.contains(location))&(users['location_country'].notnull())]['location'].value_counts().index[0]\n",
    "        location_list.append(right_location)\n",
    "    except:\n",
    "        pass"
   ]
  },
  {
   "cell_type": "code",
   "execution_count": 23,
   "metadata": {},
   "outputs": [
    {
     "name": "stdout",
     "output_type": "stream",
     "text": [
      "1958\n"
     ]
    }
   ],
   "source": [
    "print(len(location_list))"
   ]
  },
  {
   "cell_type": "code",
   "execution_count": 52,
   "metadata": {},
   "outputs": [],
   "source": [
    "df = users['location'].apply(lambda x: x.split(',')).apply(lambda x: len(x))\n",
    "idx_len_up_to_4 = df[df >= 4].index"
   ]
  },
  {
   "cell_type": "code",
   "execution_count": 53,
   "metadata": {},
   "outputs": [
    {
     "data": {
      "text/html": [
       "<div>\n",
       "<style scoped>\n",
       "    .dataframe tbody tr th:only-of-type {\n",
       "        vertical-align: middle;\n",
       "    }\n",
       "\n",
       "    .dataframe tbody tr th {\n",
       "        vertical-align: top;\n",
       "    }\n",
       "\n",
       "    .dataframe thead th {\n",
       "        text-align: right;\n",
       "    }\n",
       "</style>\n",
       "<table border=\"1\" class=\"dataframe\">\n",
       "  <thead>\n",
       "    <tr style=\"text-align: right;\">\n",
       "      <th></th>\n",
       "      <th>user_id</th>\n",
       "      <th>location</th>\n",
       "      <th>age</th>\n",
       "      <th>location_city</th>\n",
       "      <th>location_state</th>\n",
       "      <th>location_country</th>\n",
       "    </tr>\n",
       "  </thead>\n",
       "  <tbody>\n",
       "    <tr>\n",
       "      <th>435</th>\n",
       "      <td>259223</td>\n",
       "      <td>twin falls, idaho, idaho, usa</td>\n",
       "      <td>82.0</td>\n",
       "      <td>twin falls</td>\n",
       "      <td>idaho</td>\n",
       "      <td>idaho</td>\n",
       "    </tr>\n",
       "    <tr>\n",
       "      <th>762</th>\n",
       "      <td>14387</td>\n",
       "      <td>coalville, leicestershire, england, united kin...</td>\n",
       "      <td>35.0</td>\n",
       "      <td>coalville</td>\n",
       "      <td>leicestershire</td>\n",
       "      <td>england</td>\n",
       "    </tr>\n",
       "    <tr>\n",
       "      <th>940</th>\n",
       "      <td>38464</td>\n",
       "      <td>tharston, norwich, england, united kingdom</td>\n",
       "      <td>33.0</td>\n",
       "      <td>tharston</td>\n",
       "      <td>norwich</td>\n",
       "      <td>england</td>\n",
       "    </tr>\n",
       "    <tr>\n",
       "      <th>1026</th>\n",
       "      <td>51856</td>\n",
       "      <td>wichita,, kansas, usa</td>\n",
       "      <td>59.0</td>\n",
       "      <td>wichita</td>\n",
       "      <td>NaN</td>\n",
       "      <td>kansas</td>\n",
       "    </tr>\n",
       "    <tr>\n",
       "      <th>1044</th>\n",
       "      <td>53688</td>\n",
       "      <td>paris, france, ile de france, france</td>\n",
       "      <td>28.0</td>\n",
       "      <td>paris</td>\n",
       "      <td>france</td>\n",
       "      <td>ile de france</td>\n",
       "    </tr>\n",
       "    <tr>\n",
       "      <th>...</th>\n",
       "      <td>...</td>\n",
       "      <td>...</td>\n",
       "      <td>...</td>\n",
       "      <td>...</td>\n",
       "      <td>...</td>\n",
       "      <td>...</td>\n",
       "    </tr>\n",
       "    <tr>\n",
       "      <th>66770</th>\n",
       "      <td>202347</td>\n",
       "      <td>seba beach, ab., alberta, canada</td>\n",
       "      <td>NaN</td>\n",
       "      <td>seba beach</td>\n",
       "      <td>ab.</td>\n",
       "      <td>alberta</td>\n",
       "    </tr>\n",
       "    <tr>\n",
       "      <th>67090</th>\n",
       "      <td>217416</td>\n",
       "      <td>crivitz,, wisconsin, usa</td>\n",
       "      <td>NaN</td>\n",
       "      <td>crivitz</td>\n",
       "      <td>NaN</td>\n",
       "      <td>wisconsin</td>\n",
       "    </tr>\n",
       "    <tr>\n",
       "      <th>67314</th>\n",
       "      <td>229756</td>\n",
       "      <td>prineville,, oregon, usa</td>\n",
       "      <td>66.0</td>\n",
       "      <td>prineville</td>\n",
       "      <td>NaN</td>\n",
       "      <td>oregon</td>\n",
       "    </tr>\n",
       "    <tr>\n",
       "      <th>67584</th>\n",
       "      <td>278215</td>\n",
       "      <td>nelson, motueka, nz, new zealand</td>\n",
       "      <td>28.0</td>\n",
       "      <td>nelson</td>\n",
       "      <td>motueka</td>\n",
       "      <td>nz</td>\n",
       "    </tr>\n",
       "    <tr>\n",
       "      <th>67586</th>\n",
       "      <td>245812</td>\n",
       "      <td>canberra, act, australian capital territory, a...</td>\n",
       "      <td>NaN</td>\n",
       "      <td>canberra</td>\n",
       "      <td>act</td>\n",
       "      <td>australian capital territory</td>\n",
       "    </tr>\n",
       "  </tbody>\n",
       "</table>\n",
       "<p>295 rows × 6 columns</p>\n",
       "</div>"
      ],
      "text/plain": [
       "       user_id                                           location   age  \\\n",
       "435     259223                      twin falls, idaho, idaho, usa  82.0   \n",
       "762      14387  coalville, leicestershire, england, united kin...  35.0   \n",
       "940      38464         tharston, norwich, england, united kingdom  33.0   \n",
       "1026     51856                              wichita,, kansas, usa  59.0   \n",
       "1044     53688               paris, france, ile de france, france  28.0   \n",
       "...        ...                                                ...   ...   \n",
       "66770   202347                   seba beach, ab., alberta, canada   NaN   \n",
       "67090   217416                           crivitz,, wisconsin, usa   NaN   \n",
       "67314   229756                           prineville,, oregon, usa  66.0   \n",
       "67584   278215                   nelson, motueka, nz, new zealand  28.0   \n",
       "67586   245812  canberra, act, australian capital territory, a...   NaN   \n",
       "\n",
       "      location_city  location_state              location_country  \n",
       "435      twin falls           idaho                         idaho  \n",
       "762       coalville  leicestershire                       england  \n",
       "940        tharston         norwich                       england  \n",
       "1026        wichita             NaN                        kansas  \n",
       "1044          paris          france                 ile de france  \n",
       "...             ...             ...                           ...  \n",
       "66770    seba beach             ab.                       alberta  \n",
       "67090       crivitz             NaN                     wisconsin  \n",
       "67314    prineville             NaN                        oregon  \n",
       "67584        nelson         motueka                            nz  \n",
       "67586      canberra             act  australian capital territory  \n",
       "\n",
       "[295 rows x 6 columns]"
      ]
     },
     "execution_count": 53,
     "metadata": {},
     "output_type": "execute_result"
    }
   ],
   "source": [
    "users.iloc[idx_len_up_to_4]"
   ]
  },
  {
   "cell_type": "code",
   "execution_count": 32,
   "metadata": {},
   "outputs": [
    {
     "ename": "AttributeError",
     "evalue": "'numpy.ndarray' object has no attribute 'split'",
     "output_type": "error",
     "traceback": [
      "\u001b[0;31m---------------------------------------------------------------------------\u001b[0m",
      "\u001b[0;31mAttributeError\u001b[0m                            Traceback (most recent call last)",
      "Cell \u001b[0;32mIn [32], line 1\u001b[0m\n\u001b[0;32m----> 1\u001b[0m idx \u001b[39m=\u001b[39m users[users[\u001b[39m'\u001b[39;49m\u001b[39mlocation\u001b[39;49m\u001b[39m'\u001b[39;49m]\u001b[39m.\u001b[39;49mto_numpy()\u001b[39m.\u001b[39;49msplit(\u001b[39m'\u001b[39m\u001b[39m,\u001b[39m\u001b[39m'\u001b[39m) \u001b[39m>\u001b[39m\u001b[39m=\u001b[39m \u001b[39m4\u001b[39m]\u001b[39m.\u001b[39mindex\n",
      "\u001b[0;31mAttributeError\u001b[0m: 'numpy.ndarray' object has no attribute 'split'"
     ]
    }
   ],
   "source": [
    "idx = users[users['location'].to_numpy().split(',') >= 4].index"
   ]
  },
  {
   "cell_type": "code",
   "execution_count": null,
   "metadata": {},
   "outputs": [],
   "source": [
    "wrong_data = []\n",
    "for i, d in enumerate(df):\n",
    "    if len(d.split(',')) >=4:\n",
    "        wrong_data"
   ]
  },
  {
   "cell_type": "code",
   "execution_count": 1,
   "metadata": {},
   "outputs": [
    {
     "name": "stdout",
     "output_type": "stream",
     "text": [
      "149570\n"
     ]
    }
   ],
   "source": [
    "import os\n",
    "\n",
    "def get_files_count(folder_path):\n",
    "\tdirListing = os.listdir(folder_path)\n",
    "\treturn len(dirListing)\n",
    "\t\n",
    "if __name__ == \"__main__\":\n",
    "\tprint(get_files_count(\"./data/images/\"))"
   ]
  },
  {
   "cell_type": "code",
   "execution_count": null,
   "metadata": {},
   "outputs": [],
   "source": []
  }
 ],
 "metadata": {
  "kernelspec": {
   "display_name": "Python 3.8.5 ('base')",
   "language": "python",
   "name": "python3"
  },
  "language_info": {
   "codemirror_mode": {
    "name": "ipython",
    "version": 3
   },
   "file_extension": ".py",
   "mimetype": "text/x-python",
   "name": "python",
   "nbconvert_exporter": "python",
   "pygments_lexer": "ipython3",
   "version": "3.8.5"
  },
  "orig_nbformat": 4,
  "vscode": {
   "interpreter": {
    "hash": "d4d1e4263499bec80672ea0156c357c1ee493ec2b1c70f0acce89fc37c4a6abe"
   }
  }
 },
 "nbformat": 4,
 "nbformat_minor": 2
}
