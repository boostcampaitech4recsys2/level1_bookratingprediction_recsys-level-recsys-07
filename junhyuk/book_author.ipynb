{
 "cells": [
  {
   "cell_type": "code",
   "execution_count": 1,
   "metadata": {},
   "outputs": [],
   "source": [
    "import pandas as pd\n",
    "import numpy as np\n",
    "import seaborn as sns\n",
    "import matplotlib.pyplot as plt"
   ]
  },
  {
   "cell_type": "code",
   "execution_count": 2,
   "metadata": {},
   "outputs": [],
   "source": [
    "path ='./data/'\n",
    "\n",
    "books = pd.read_csv(path + 'books.csv')"
   ]
  },
  {
   "cell_type": "code",
   "execution_count": 3,
   "metadata": {},
   "outputs": [],
   "source": [
    "def basic_preporcess_category(s:str):\n",
    "    if isinstance(s, str):\n",
    "        return s.lower().strip('[] !@#$%^&*()\\\"\\';:.,/?\\\\|~`')\n",
    "    elif isinstance(s, float):\n",
    "        return np.nan\n",
    "    else:\n",
    "        raise Exception(\"WTF\")"
   ]
  },
  {
   "cell_type": "code",
   "execution_count": 4,
   "metadata": {},
   "outputs": [
    {
     "data": {
      "text/html": [
       "<div>\n",
       "<style scoped>\n",
       "    .dataframe tbody tr th:only-of-type {\n",
       "        vertical-align: middle;\n",
       "    }\n",
       "\n",
       "    .dataframe tbody tr th {\n",
       "        vertical-align: top;\n",
       "    }\n",
       "\n",
       "    .dataframe thead th {\n",
       "        text-align: right;\n",
       "    }\n",
       "</style>\n",
       "<table border=\"1\" class=\"dataframe\">\n",
       "  <thead>\n",
       "    <tr style=\"text-align: right;\">\n",
       "      <th></th>\n",
       "      <th>isbn</th>\n",
       "      <th>book_title</th>\n",
       "      <th>book_author</th>\n",
       "      <th>year_of_publication</th>\n",
       "      <th>publisher</th>\n",
       "      <th>img_url</th>\n",
       "      <th>language</th>\n",
       "      <th>category</th>\n",
       "      <th>summary</th>\n",
       "      <th>img_path</th>\n",
       "    </tr>\n",
       "  </thead>\n",
       "  <tbody>\n",
       "    <tr>\n",
       "      <th>40141</th>\n",
       "      <td>0060515848</td>\n",
       "      <td>Let's All Kill Constance : A Novel</td>\n",
       "      <td>Ray Bradbury</td>\n",
       "      <td>2002.0</td>\n",
       "      <td>William Morrow</td>\n",
       "      <td>http://images.amazon.com/images/P/0060515848.0...</td>\n",
       "      <td>NaN</td>\n",
       "      <td>NaN</td>\n",
       "      <td>NaN</td>\n",
       "      <td>images/0060515848.01.THUMBZZZ.jpg</td>\n",
       "    </tr>\n",
       "  </tbody>\n",
       "</table>\n",
       "</div>"
      ],
      "text/plain": [
       "             isbn                          book_title   book_author  \\\n",
       "40141  0060515848  Let's All Kill Constance : A Novel  Ray Bradbury   \n",
       "\n",
       "       year_of_publication       publisher  \\\n",
       "40141               2002.0  William Morrow   \n",
       "\n",
       "                                                 img_url language category  \\\n",
       "40141  http://images.amazon.com/images/P/0060515848.0...      NaN      NaN   \n",
       "\n",
       "      summary                           img_path  \n",
       "40141     NaN  images/0060515848.01.THUMBZZZ.jpg  "
      ]
     },
     "execution_count": 4,
     "metadata": {},
     "output_type": "execute_result"
    }
   ],
   "source": [
    "books.sample(1)"
   ]
  },
  {
   "cell_type": "code",
   "execution_count": 5,
   "metadata": {},
   "outputs": [],
   "source": [
    "publisher_dict=(books['publisher'].value_counts()).to_dict()\n",
    "publisher_count_df= pd.DataFrame(list(publisher_dict.items()),columns = ['publisher','count'])\n",
    "\n",
    "publisher_count_df = publisher_count_df.sort_values(by=['count'], ascending = False)"
   ]
  },
  {
   "cell_type": "code",
   "execution_count": 6,
   "metadata": {},
   "outputs": [
    {
     "data": {
      "text/html": [
       "<div>\n",
       "<style scoped>\n",
       "    .dataframe tbody tr th:only-of-type {\n",
       "        vertical-align: middle;\n",
       "    }\n",
       "\n",
       "    .dataframe tbody tr th {\n",
       "        vertical-align: top;\n",
       "    }\n",
       "\n",
       "    .dataframe thead th {\n",
       "        text-align: right;\n",
       "    }\n",
       "</style>\n",
       "<table border=\"1\" class=\"dataframe\">\n",
       "  <thead>\n",
       "    <tr style=\"text-align: right;\">\n",
       "      <th></th>\n",
       "      <th>publisher</th>\n",
       "      <th>count</th>\n",
       "    </tr>\n",
       "  </thead>\n",
       "  <tbody>\n",
       "    <tr>\n",
       "      <th>0</th>\n",
       "      <td>Harlequin</td>\n",
       "      <td>3005</td>\n",
       "    </tr>\n",
       "    <tr>\n",
       "      <th>1</th>\n",
       "      <td>Ballantine Books</td>\n",
       "      <td>2322</td>\n",
       "    </tr>\n",
       "    <tr>\n",
       "      <th>2</th>\n",
       "      <td>Pocket</td>\n",
       "      <td>2274</td>\n",
       "    </tr>\n",
       "    <tr>\n",
       "      <th>3</th>\n",
       "      <td>Penguin Books</td>\n",
       "      <td>1943</td>\n",
       "    </tr>\n",
       "    <tr>\n",
       "      <th>4</th>\n",
       "      <td>Bantam Books</td>\n",
       "      <td>1938</td>\n",
       "    </tr>\n",
       "  </tbody>\n",
       "</table>\n",
       "</div>"
      ],
      "text/plain": [
       "          publisher  count\n",
       "0         Harlequin   3005\n",
       "1  Ballantine Books   2322\n",
       "2            Pocket   2274\n",
       "3     Penguin Books   1943\n",
       "4      Bantam Books   1938"
      ]
     },
     "execution_count": 6,
     "metadata": {},
     "output_type": "execute_result"
    }
   ],
   "source": [
    "publisher_count_df.head()"
   ]
  },
  {
   "cell_type": "code",
   "execution_count": 7,
   "metadata": {},
   "outputs": [
    {
     "data": {
      "text/plain": [
       "11571"
      ]
     },
     "execution_count": 7,
     "metadata": {},
     "output_type": "execute_result"
    }
   ],
   "source": [
    "books['publisher'].nunique() # 수정전 항목 수를 확인합니다."
   ]
  },
  {
   "cell_type": "code",
   "execution_count": 8,
   "metadata": {},
   "outputs": [
    {
     "data": {
      "text/plain": [
       "array(['Penguin Books', 'Penguin Books Ltd', 'Puffin Books',\n",
       "       'Penguin USA (Paper)', 'Penguin USA', 'Puffin',\n",
       "       'Penguin Putnam~trade', 'Penguin Putnam~mass',\n",
       "       'Penguin/Puffin Mass Market (Mm)', 'Viking Books',\n",
       "       'Penguin Books Australia Ltd', 'Penguin Uk',\n",
       "       'Scott Foresman (Pearson K-12)',\n",
       "       'Penguin Putnam Books for Young Readers',\n",
       "       'French & European Pubns', 'Viking Penguin', 'Arkana',\n",
       "       'Penguin Highbridge Audio', 'Penguin (Non-Classics)',\n",
       "       'Penguin Books, Limited (UK)', 'Viking Press', 'Penguin U S A',\n",
       "       'Penguin/Puffin Mass Market', 'Select Penguin (Mm)',\n",
       "       'Penguin Putnam', 'Penguin Books India', 'Select Penguin',\n",
       "       'Penguin Books Australia Ltd.', 'Viking Penguin Inc',\n",
       "       'Penguin Audiobooks', 'Studio Books', 'Penguin',\n",
       "       'Hyperion Books for Children', 'Putnam Pub Group', 'Penguin India',\n",
       "       'Compass Books', 'Penguin Putnam~childrens Hc',\n",
       "       'Penguin in association with Secker and Warburg', 'Time Out',\n",
       "       'Perennial', 'Viking Juvenile', 'Virago Press', 'South Asia Books',\n",
       "       'RoC', 'Penguin Books Canada Ltd', 'Penguin Books (NZ) Ltd',\n",
       "       'Ballantine Books', 'Outlet', 'Penguin USA (J)', 'Books Britain',\n",
       "       'Speak', 'Penguin USA (P)', 'Penguin Books / Granta',\n",
       "       'Granta Books', 'Trafalgar Square Publishing', 'Vintage Books',\n",
       "       'Penguin Highbridge', 'Intl Center for Creative Thinking',\n",
       "       'Penguin Group USA', 'Time Out Publishing', 'Penguin Books (NZ)',\n",
       "       'Pelican Publishing Company', 'Pearson Schools', 'Dutton Books',\n",
       "       'Viking Studio', 'Penguin Books Canada',\n",
       "       'Granta Books in association with Penguin Books', 'Terra Nova Pr'],\n",
       "      dtype=object)"
      ]
     },
     "execution_count": 8,
     "metadata": {},
     "output_type": "execute_result"
    }
   ],
   "source": [
    "books[books['isbn'].apply(lambda x: x[:4])=='0140']['publisher'].unique()"
   ]
  },
  {
   "cell_type": "code",
   "execution_count": 9,
   "metadata": {},
   "outputs": [],
   "source": [
    "modify_list = publisher_count_df[publisher_count_df['count']>1].publisher.values"
   ]
  },
  {
   "cell_type": "code",
   "execution_count": 10,
   "metadata": {},
   "outputs": [],
   "source": [
    "for publisher in modify_list:\n",
    "    try:\n",
    "        number = books[books['publisher']==publisher]['isbn'].apply(lambda x: x[:4]).value_counts().index[0]\n",
    "        right_publisher = books[books['isbn'].apply(lambda x: x[:4])==number]['publisher'].value_counts().index[0]\n",
    "        books.loc[books[books['isbn'].apply(lambda x: x[:4])==number].index,'publisher'] = right_publisher\n",
    "    except: \n",
    "        pass"
   ]
  },
  {
   "cell_type": "code",
   "execution_count": 14,
   "metadata": {},
   "outputs": [
    {
     "data": {
      "text/plain": [
       "1523"
      ]
     },
     "execution_count": 14,
     "metadata": {},
     "output_type": "execute_result"
    }
   ],
   "source": [
    "books['publisher'].nunique() #수정 후 출판사 갯수입니다"
   ]
  },
  {
   "cell_type": "code",
   "execution_count": 12,
   "metadata": {},
   "outputs": [],
   "source": [
    "# book title, publisher 를 공통으로 갖는 book author 생성\n",
    "set_booktitle_publisher = set()\n",
    "for b_t, pub in zip(books['book_title'].values, books['publisher'].values):\n",
    "    set_booktitle_publisher.add((b_t, pub))"
   ]
  },
  {
   "cell_type": "code",
   "execution_count": 13,
   "metadata": {},
   "outputs": [
    {
     "data": {
      "text/plain": [
       "144256"
      ]
     },
     "execution_count": 13,
     "metadata": {},
     "output_type": "execute_result"
    }
   ],
   "source": [
    "len(set_booktitle_publisher)"
   ]
  },
  {
   "cell_type": "code",
   "execution_count": null,
   "metadata": {},
   "outputs": [],
   "source": []
  }
 ],
 "metadata": {
  "kernelspec": {
   "display_name": "Python 3.8.5 ('base')",
   "language": "python",
   "name": "python3"
  },
  "language_info": {
   "codemirror_mode": {
    "name": "ipython",
    "version": 3
   },
   "file_extension": ".py",
   "mimetype": "text/x-python",
   "name": "python",
   "nbconvert_exporter": "python",
   "pygments_lexer": "ipython3",
   "version": "3.8.5"
  },
  "orig_nbformat": 4,
  "vscode": {
   "interpreter": {
    "hash": "d4d1e4263499bec80672ea0156c357c1ee493ec2b1c70f0acce89fc37c4a6abe"
   }
  }
 },
 "nbformat": 4,
 "nbformat_minor": 2
}
