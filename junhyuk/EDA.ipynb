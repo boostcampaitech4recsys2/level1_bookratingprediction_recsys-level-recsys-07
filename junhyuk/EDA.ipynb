{
 "cells": [
  {
   "cell_type": "markdown",
   "metadata": {},
   "source": [
    "#### 현재 feature들:\n",
    "- user_id\n",
    "    - 특정 유저들 그룹핑 방법\n",
    "- isbn\n",
    "    - 베스트셀러 찾기?\n",
    "- book_title\n",
    "    - embedding? how?\n",
    "- book_author\n",
    "    - 특정 작가를 좋아하는 사람들이 있나?\n",
    "- year_of_publication\n",
    "    - 고전적인 책을 좋아하는 사람이 있나?\n",
    "- publisher\n",
    "    - 이거는 나중에 보자 의미있는지 모르겟음\n",
    "- language\n",
    "    - 언어별?\n",
    "- category \n",
    "    - high category: 카테고리별로 다른지\n",
    "        - fiction / non_fiction feature가 유의미할지\n",
    "        - fiction / non_fiction으로 하는게 모든 카테고리를 고려하는 것보다 경향성이 더 좋다면, https://huggingface.co/BritishLibraryLabs/bl-books-genre?text=Poems+on+various+subjects.+Whereto+is+prefixed+a+short+essay+on+the+structure+of+English+verse 이거 사용해보는 것도 좋을 듯\n",
    "- age\n",
    "    - 연령대별 ~~?\n",
    "- summary\n",
    "    - 요약을 가지고 카테고리 결측치를 채울 수 있을까?\n",
    "- location_city\n",
    "    - 지역별로 rating?\n",
    "- location_state\n",
    "    - 내 생각에는 city만 알면 될 것 같음\n",
    "- location_country\n",
    "    - 내 생각에는 city만 알면 될 것 같음\n",
    "    \n",
    "#### target:\n",
    "- ratings"
   ]
  },
  {
   "cell_type": "code",
   "execution_count": null,
   "metadata": {},
   "outputs": [],
   "source": []
  },
  {
   "cell_type": "code",
   "execution_count": 3,
   "metadata": {},
   "outputs": [],
   "source": [
    "import pandas as pd\n",
    "import numpy as np\n",
    "import seaborn as sns\n",
    "import matplotlib.pyplot as plt"
   ]
  },
  {
   "cell_type": "code",
   "execution_count": 8,
   "metadata": {},
   "outputs": [
    {
     "name": "stdout",
     "output_type": "stream",
     "text": [
      "users shape:  (68092, 3)\n",
      "books shape:  (149570, 10)\n",
      "ratings shape:  (306795, 3)\n"
     ]
    }
   ],
   "source": [
    "path='./data/'\n",
    "\n",
    "users = pd.read_csv(path+'users.csv')\n",
    "books = pd.read_csv(path+'books.csv')\n",
    "ratings = pd.read_csv(path+'train_ratings.csv')\n",
    "test_ratings = pd.read_csv(path+'test_ratings.csv')\n",
    "\n",
    "print('users shape: ', users.shape)\n",
    "print('books shape: ', books.shape)\n",
    "print('ratings shape: ', ratings.shape)"
   ]
  },
  {
   "cell_type": "code",
   "execution_count": null,
   "metadata": {},
   "outputs": [],
   "source": []
  }
 ],
 "metadata": {
  "kernelspec": {
   "display_name": "Python 3.8.5 ('base')",
   "language": "python",
   "name": "python3"
  },
  "language_info": {
   "codemirror_mode": {
    "name": "ipython",
    "version": 3
   },
   "file_extension": ".py",
   "mimetype": "text/x-python",
   "name": "python",
   "nbconvert_exporter": "python",
   "pygments_lexer": "ipython3",
   "version": "3.8.5"
  },
  "orig_nbformat": 4,
  "vscode": {
   "interpreter": {
    "hash": "d4d1e4263499bec80672ea0156c357c1ee493ec2b1c70f0acce89fc37c4a6abe"
   }
  }
 },
 "nbformat": 4,
 "nbformat_minor": 2
}
