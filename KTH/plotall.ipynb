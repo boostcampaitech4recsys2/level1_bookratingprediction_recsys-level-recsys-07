{
 "cells": [
  {
   "cell_type": "code",
   "execution_count": 9,
   "metadata": {},
   "outputs": [],
   "source": [
    "import os\n",
    "import matplotlib.pyplot as plt\n",
    "import pandas as pd\n",
    "from collections import Counter\n",
    "from math import ceil\n",
    "MODELNUM = 7"
   ]
  },
  {
   "cell_type": "code",
   "execution_count": 10,
   "metadata": {},
   "outputs": [],
   "source": [
    "file_dir = \"/opt/ml/input/code/submit/\"\n",
    "files = os.listdir(file_dir)"
   ]
  },
  {
   "cell_type": "code",
   "execution_count": 11,
   "metadata": {},
   "outputs": [],
   "source": [
    "def getfile(file_name):\n",
    "    data = pd.DataFrame(pd.read_csv(file_dir+file_name))\n",
    "    data = list(map(lambda x: int(float(x)+0.5),data[\"rating\"]))\n",
    "    return data"
   ]
  },
  {
   "cell_type": "code",
   "execution_count": 12,
   "metadata": {},
   "outputs": [],
   "source": [
    "def process(text):\n",
    "    temp = \"\".join(list(filter(lambda x: not (x.islower() or x.isdigit() or x==\".\"), text.replace(\"-\",\"\")))).strip(\"_\")\n",
    "    return temp"
   ]
  },
  {
   "cell_type": "code",
   "execution_count": 13,
   "metadata": {},
   "outputs": [],
   "source": [
    "def divide(file_list):\n",
    "    file_dict = {i:[] for i in range(1, MODELNUM+1)}\n",
    "    for f in file_list:\n",
    "        tok = process(f)\n",
    "        file_dict[len(tok.split(\"__\"))].append(f)\n",
    "    return file_dict\n",
    "files_dict = divide(files)"
   ]
  },
  {
   "cell_type": "code",
   "execution_count": 14,
   "metadata": {},
   "outputs": [],
   "source": [
    "def plot_group(file_list, m = 2):\n",
    "    size = len(file_list)\n",
    "    n = ceil(size/m)\n",
    "    plt.figure(figsize=(12,6))\n",
    "    for idx, f in enumerate(file_list):\n",
    "        plt.subplot(n, m, 1+idx)\n",
    "        plt.title(process(f))\n",
    "        plt.xlabel(\"rating\")\n",
    "        plt.ylabel(\"count\")\n",
    "        plt.xlim(-0.5,20)\n",
    "        data = getfile(f)\n",
    "        data = Counter(data)\n",
    "        plt.bar(data.keys(), data.values())"
   ]
  },
  {
   "cell_type": "code",
   "execution_count": 15,
   "metadata": {},
   "outputs": [
    {
     "data": {
      "image/png": "[encoded data removed]",
      "text/plain": [
       "<Figure size 1200x600 with 1 Axes>"
      ]
     },
     "metadata": {},
     "output_type": "display_data"
    },
    {
     "data": {
      "text/plain": [
       "<Figure size 1200x600 with 0 Axes>"
      ]
     },
     "metadata": {},
     "output_type": "display_data"
    },
    {
     "data": {
      "text/plain": [
       "<Figure size 1200x600 with 0 Axes>"
      ]
     },
     "metadata": {},
     "output_type": "display_data"
    },
    {
     "data": {
      "text/plain": [
       "<Figure size 1200x600 with 0 Axes>"
      ]
     },
     "metadata": {},
     "output_type": "display_data"
    },
    {
     "data": {
      "text/plain": [
       "<Figure size 1200x600 with 0 Axes>"
      ]
     },
     "metadata": {},
     "output_type": "display_data"
    },
    {
     "data": {
      "text/plain": [
       "<Figure size 1200x600 with 0 Axes>"
      ]
     },
     "metadata": {},
     "output_type": "display_data"
    },
    {
     "data": {
      "text/plain": [
       "<Figure size 1200x600 with 0 Axes>"
      ]
     },
     "metadata": {},
     "output_type": "display_data"
    }
   ],
   "source": [
    "for i in range(1, 8):\n",
    "    plot_group(files_dict[i])"
   ]
  }
 ],
 "metadata": {
  "kernelspec": {
   "display_name": "Python 3.8.5 ('base')",
   "language": "python",
   "name": "python3"
  },
  "language_info": {
   "codemirror_mode": {
    "name": "ipython",
    "version": 3
   },
   "file_extension": ".py",
   "mimetype": "text/x-python",
   "name": "python",
   "nbconvert_exporter": "python",
   "pygments_lexer": "ipython3",
   "version": "3.8.5"
  },
  "orig_nbformat": 4,
  "vscode": {
   "interpreter": {
    "hash": "d4d1e4263499bec80672ea0156c357c1ee493ec2b1c70f0acce89fc37c4a6abe"
   }
  }
 },
 "nbformat": 4,
 "nbformat_minor": 2
}
