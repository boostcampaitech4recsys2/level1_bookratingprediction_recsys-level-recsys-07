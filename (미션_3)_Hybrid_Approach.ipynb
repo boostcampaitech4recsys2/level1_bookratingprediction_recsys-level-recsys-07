{
  "cells": [
    {
      "cell_type": "markdown",
      "metadata": {
        "id": "yvVzQrSAafrC"
      },
      "source": [
        "# [0] 미션 설명\n",
        "\n",
        "다양한 Hybrid Approach에 대해 알고, 이를 직접 코드로 작성해 본다.\n",
        "\n",
        "> **학습 목표**\n",
        "> - 추천에서의 앙상블 방법인\u001d Hybrid Approach에 대해 확인한다.\n",
        "> - 여러 모델들을 구현하고 이를 앙상블하는 흐름을 배운다.\n",
        "> - 하이브리드 접근법 중, 일부를 코드로 작성하여 본다."
      ]
    },
    {
      "cell_type": "markdown",
      "metadata": {
        "id": "kbv42aLNQx6L"
      },
      "source": [
        "RecSys 기초 대회 강의에서는 Book Crossing 데이터를 사용하여 모든 실습 및 미션, 대회를 진행합니다. [Kaggle Book-Crossing](https://www.kaggle.com/datasets/ruchi798/bookcrossing-dataset) 을 출처로 하며, 데이터는 재구성되어 제공되었습니다. 해당 데이터는 CC0: Public Domain 라이센스임을 밝힙니다.\n",
        "\n",
        "그럼 본격적으로 **(미션-3) Hybrid Approach** 를 진행하여 보겠습니다.\n"
      ]
    },
    {
      "cell_type": "code",
      "execution_count": 102,
      "metadata": {
        "id": "kcu9BVtKuUYM"
      },
      "outputs": [],
      "source": [
        "# install packages\n",
        "!pip install catboost -q\n",
        "!pip install scikit-surprise -q"
      ]
    },
    {
      "cell_type": "code",
      "execution_count": 103,
      "metadata": {
        "id": "IU9dLBqAaWMf"
      },
      "outputs": [],
      "source": [
        "# import packages\n",
        "import pandas as pd\n",
        "import numpy as np\n",
        "import warnings\n",
        "\n",
        "import re\n",
        "from pandas.api.types import CategoricalDtype\n",
        "from scipy import sparse\n",
        "from sklearn.preprocessing import LabelEncoder\n",
        "\n",
        "from sklearn.model_selection import train_test_split\n",
        "\n",
        "from xgboost import XGBRegressor, XGBClassifier\n",
        "from lightgbm import LGBMRegressor, LGBMClassifier, LGBMRanker\n",
        "from catboost import CatBoostRegressor, CatBoostClassifier, Pool\n",
        "\n",
        "from surprise import Dataset, Reader, accuracy, SVD, KNNBasic, CoClustering\n",
        "from surprise.dataset import DatasetAutoFolds\n",
        "\n",
        "import seaborn as sns\n",
        "import matplotlib.pyplot as plt\n",
        "warnings.filterwarnings(action='ignore')"
      ]
    },
    {
      "cell_type": "markdown",
      "metadata": {
        "id": "A_wprYrR8J52"
      },
      "source": [
        "# [1] Hybrid Approach 이란?\n",
        "\n",
        "추천 시스템은 사용자의 취향을 예측하여 가장 적절한 결과를 추천하기 위한 목적이 있습니다.\n",
        "그러나 이 때, 단일 모델만으로 가장 적합한 결과를 만들어 내기 어렵습니다. 각 모델이 활용하는 feature, 잘 작동하는 상황 등이 모두 다르기 때문입니다.\n",
        "\n",
        "하이브리드 접근법이란 이를 보완하기 위해 여러 모델을 결합하여, 결과를 도출하는 것을 의미합니다. 이를 통해 각 모델의 장점을 사용하여 다른 모델의 단점을 상쇄, 즉 상호 보완하여 성능을 끌어 올릴 수 있습니다.\n",
        "\n",
        "대부분의 추천 시스템은 단일 모델만으로 추천을 진행한다기 보단, 하이브리드 접근법을 사용합니다.\n",
        "하이브리드 접근법은 4강, 5강에서 언급한 바와 같이, Collaborative Filtering, Content Based recommend 등 여러 모델을 결합하는 것을 의미합니다.\n",
        "\n"
      ]
    },
    {
      "cell_type": "markdown",
      "metadata": {
        "id": "PeN200Tr1FwV"
      },
      "source": [
        "하이브리드 접근법은 크게 3가지 대분류와 7가지 종류로 확인할 수 있습니다.\n",
        "\n",
        "1. Monolithic hybrid designs\n",
        "> 다양한 feature를 활용하는 단일 모델\n",
        "  - Feature combination\n",
        "  - Feature Augmentation\n",
        "2. Parallelized hybrid design\n",
        "> 여러 추천 시스템 간의 병렬적인 사용\n",
        "  - Weighted\n",
        "  - Switching\n",
        "  - Mixed\n",
        "3. Pipelined hybrid designs\n",
        "> 후속 입력을 위해 일부 입력을 사전 처리하는 방식\n",
        "  - Cascade\n",
        "  - Meta‐level\n"
      ]
    },
    {
      "cell_type": "markdown",
      "metadata": {
        "id": "O2M0s6ZW7pQx"
      },
      "source": [
        "# [2] 하이브리드 접근법의 종류\n",
        "다양한 방식으로 여러 추천 시스템 기법을 결합하여 사용자의 취향을 효과적으로 예측할 수 있습니다."
      ]
    },
    {
      "cell_type": "markdown",
      "metadata": {
        "id": "_lYIwphBZdlL"
      },
      "source": [
        "## (1) Monolithic hybrid designs"
      ]
    },
    {
      "cell_type": "markdown",
      "metadata": {
        "id": "wPqhWF1s2PMm"
      },
      "source": [
        "### Feature combine\n",
        "\n",
        "> 협업 필터링 추천 시스템의 결과를 콘텐츠 기반 추천 시스템 속성의 일부로 사용하는 방식\n",
        "<div>\n",
        "<img src=\"https://miro.medium.com/max/1400/1*K4ZRADAka8DUM3xh8H76DQ.jpeg\"\n",
        "width=\"700\"/>\n",
        "</div>\n",
        "\n",
        "[출처](https://medium.com/analytics-vidhya/7-types-of-hybrid-recommendation-system-3e4f78266ad8)\n",
        "\n",
        "\n",
        "- 예를 들어, 서로 다른  소스에서 파생된 feature가 함께 결합되어 단일 추천 알고리즘에 제공됩니다.\n",
        "- 사용한 콘텐츠 기반 추천 시스템에 적용하기 전에, 다양한 sources들을 단일된 표현으로 통합합니다.\n",
        "- 아이템의 내재적인 정보를 이용함으로서 협업 필터링이 가진 단점을 상쇄합니다.\n",
        "\n",
        "\n",
        "\n",
        "\n",
        "\n"
      ]
    },
    {
      "cell_type": "markdown",
      "metadata": {
        "id": "TgI9JV4w2UY6"
      },
      "source": [
        "### \bFeature argument\n",
        "> 한 추천시스템의 결과를 다음 추천시스템의 입력값으로 사용하는 방식\n",
        "<div>\n",
        "<img src=\"https://miro.medium.com/max/1400/1*1O_Ve4JyETRCybwT6-1ErA.jpeg\"\n",
        "width=\"700\"/>\n",
        "</div>\n",
        "\n",
        "[출처](https://medium.com/analytics-vidhya/7-types-of-hybrid-recommendation-system-3e4f78266ad8)\n",
        "\n",
        "- staking 방식과 비슷한 방식으로 이루어 집니다.\n",
        "- 1단계의 추천시스템이 features\u001d를 만들어서 2단계(Main)의 추천시스템의 입력 값으로 사용합니다.\n",
        "\n",
        "- 예시\n",
        "  - CB → CF\n",
        "  1. ratings matrix에서 결측치를 콘텐츠 기반 추천 시스템으로 채웁니다.\n",
        "  2. 새롭게 채워진 ratings들을 pseudo-ratings라고 하며, 이렇게 채워진 dense ratings 행렬을 사용해 ratings을 예측합니다.\n"
      ]
    },
    {
      "cell_type": "markdown",
      "metadata": {
        "id": "l5cCeEFQZh7L"
      },
      "source": [
        "## (2) Parallelized hybrid design"
      ]
    },
    {
      "cell_type": "markdown",
      "metadata": {
        "id": "1NnPT28WfIJi"
      },
      "source": [
        "### Weighted\n",
        "> Soft Ensemble 또는 Hard Vote와 같은 방법으로 여러 모델의 추천 결과를 하나로 합쳐 최종 추천 아이템을 정하는 방식\n",
        "\n",
        "<div>\n",
        "<img src=\"https://miro.medium.com/max/1400/1*N9TO6n2tlo1sN8GhsB-tqw.jpeg\"\n",
        "width=\"700\"/>\n",
        "</div>\n",
        "\n",
        "[출처](https://medium.com/analytics-vidhya/7-types-of-hybrid-recommendation-system-3e4f78266ad8)\n",
        "\n",
        "- 가장 보편적인 앙상블 방식\n",
        "- 각 모델의 추천 결과를 구하고, 가중치, 투표 등의 방법을 통해 최종 결과 산출\n"
      ]
    },
    {
      "cell_type": "markdown",
      "metadata": {
        "id": "eS8FXN7U2zG2"
      },
      "source": [
        "### Switching\n",
        "> 플랫폼 내 사용자 또는 서비스 상태 등 특정 상황을 고려하여 여러 추천 알고리즘의 추천 결과를 선택적으로 보여주는 방식\n",
        "<div>\n",
        "<img src=\"https://miro.medium.com/max/1400/1*oyZqArrmwxb5n-sshMzq-w.jpeg\" width=\"700\"/>\n",
        "</div>\n",
        "\n",
        "[출처](https://medium.com/analytics-vidhya/7-types-of-hybrid-recommendation-system-3e4f78266ad8)\n",
        "\n",
        "\n",
        "- 사용하는 추천시스템 모델을 n개 만들고 랜덤 혹은 일정 기준에 맞춰 모델을 변경하여 추천\n"
      ]
    },
    {
      "cell_type": "markdown",
      "metadata": {
        "id": "dptjXNr723M8"
      },
      "source": [
        "### Mixed\n",
        "> 서로 다른 추천에서 나오는 결과물을 섞어서 제공하는 방식\n",
        "\n",
        "<div>\n",
        "<img src=\"https://miro.medium.com/max/1400/1*jcpCf-mfB4AI7JL7x6WmqA.jpeg\"\n",
        "width=\"700\"/>\n",
        "</div>\n",
        "\n",
        "[출처](https://medium.com/analytics-vidhya/7-types-of-hybrid-recommendation-system-3e4f78266ad8)\n",
        "\n",
        "- 사용자 수준에서 다양한 추천 시스템의 결과를 결합합니다.\n",
        "- 여러 추천 시스템의 결과를 활용하고, 이 때 알고리즘의 추천 결과를 모두 보여주는 방식\n",
        "\n"
      ]
    },
    {
      "cell_type": "markdown",
      "metadata": {
        "id": "utudsxclZuhz"
      },
      "source": [
        "## (3) Pipelined hybrid designs\n"
      ]
    },
    {
      "cell_type": "markdown",
      "metadata": {
        "id": "o8XwmNT40JxI"
      },
      "source": [
        "### Cascade\n",
        "> 추천시스템이 다른 추천시스템에 의해 정제된 아이템을 추천하는 방식\n",
        "<div>\n",
        "<img src=\"https://miro.medium.com/max/1400/1*e2oXjzfycXx8WuUMiFmUHA.jpeg\"\n",
        "width=\"700\"/>\n",
        "</div>\n",
        "\n",
        "[출처](https://medium.com/analytics-vidhya/7-types-of-hybrid-recommendation-system-3e4f78266ad8)\n",
        "\n",
        "\n",
        "- cascade 방식은 boosting에 가까운 형식입니다.\n",
        "- 2차 모델의 추천은 1차 모델에 의해 제한됩니다.\n",
        "- 예를 들어, 1차 모델(KB)를 통해 항목을 제거합니다.\n",
        "- (rescore) 2차 모델이 점수를 부여합니다."
      ]
    },
    {
      "cell_type": "markdown",
      "metadata": {
        "id": "7aqP0rmgDy5E"
      },
      "source": [
        "### Meta-level\n",
        "> 하나의 추천 기법이 적용되어 일종의 모델을 생성하고, 이는 다음 기법에서 사용되는 입력입니다."
      ]
    },
    {
      "cell_type": "markdown",
      "metadata": {
        "id": "FkFpE_sg45lw"
      },
      "source": [
        "이 중, \n",
        "Paralled Hybrid Approach 인 Mixed, Weighted 방법론과 Monolitic Hybrid Approach의 한 종류인 Feature combine에 대해 알아보겠습니다."
      ]
    },
    {
      "cell_type": "markdown",
      "metadata": {
        "id": "NjZmDLLbcteD"
      },
      "source": [
        "# [3] 데이터 불러오기"
      ]
    },
    {
      "cell_type": "markdown",
      "metadata": {
        "id": "_1M88g9IaTyi"
      },
      "source": [
        "먼저, 미션용 데이터를 불러 옵니다.\n",
        "wget 형식으로 불러 오며, 다음과 같은 id를 가졌습니다."
      ]
    },
    {
      "cell_type": "markdown",
      "metadata": {
        "id": "II0UVyZTOpKN"
      },
      "source": [
        "- book : 13SoqiN_xLWvQPDXnNdzvzwm1KSRJpfrL\n",
        "- rating : 1YwubS7oWbAS2-wG8-qEDD4RqI_KwX8Fy\n",
        "- user : 17Zbpx_Yn0ggLFVeijUalcnOUt5mCHeEH"
      ]
    },
    {
      "cell_type": "code",
      "execution_count": 104,
      "metadata": {
        "colab": {
          "base_uri": "https://localhost:8080/"
        },
        "id": "-bpvCTZRcftW",
        "outputId": "db304e26-d72c-4c46-f8bb-970eae04eaee"
      },
      "outputs": [],
      "source": [
        "# !wget --load-cookies ~/cookies.txt \"https://docs.google.com/uc?export=download&confirm=$(wget --quiet --save-cookies ~/cookies.txt --keep-session-cookies --no-check-certificate 'https://docs.google.com/uc?export=download&id=17Zbpx_Yn0ggLFVeijUalcnOUt5mCHeEH' -O- | sed -rn 's/.*confirm=([0-9A-Za-z_]+).*/\\1\\n/p')&id=17Zbpx_Yn0ggLFVeijUalcnOUt5mCHeEH\" -O users.csv && rm -rf ~/cookies.txt\n",
        "# !wget --load-cookies ~/cookies.txt \"https://docs.google.com/uc?export=download&confirm=$(wget --quiet --save-cookies ~/cookies.txt --keep-session-cookies --no-check-certificate 'https://docs.google.com/uc?export=download&id=1JIxWPgC8JJkuZaWjk5FJBBKuqSX87HGE' -O- | sed -rn 's/.*confirm=([0-9A-Za-z_]+).*/\\1\\n/p')&id=1JIxWPgC8JJkuZaWjk5FJBBKuqSX87HGE\" -O books.csv && rm -rf ~/cookies.txt\n",
        "# !wget --load-cookies ~/cookies.txt \"https://docs.google.com/uc?export=download&confirm=$(wget --quiet --save-cookies ~/cookies.txt --keep-session-cookies --no-check-certificate 'https://docs.google.com/uc?export=download&id=1B-8lw3a1KPJdhFAMXP58a7taJjpDvfw6' -O- | sed -rn 's/.*confirm=([0-9A-Za-z_]+).*/\\1\\n/p')&id=1B-8lw3a1KPJdhFAMXP58a7taJjpDvfw6\" -O ratings.csv && rm -rf ~/cookies.txt"
      ]
    },
    {
      "cell_type": "code",
      "execution_count": 105,
      "metadata": {
        "id": "S23mKmMpcvzh"
      },
      "outputs": [],
      "source": [
        "books = pd.read_csv('./data/books.csv').rename(columns=lambda x:re.sub('[^A-Za-z0-9_]+', '', x))\n",
        "users = pd.read_csv('./data/users.csv').rename(columns=lambda x:re.sub('[^A-Za-z0-9_]+', '', x))\n",
        "ratings = pd.read_csv('./data/train_ratings.csv').rename(columns=lambda x:re.sub('[^A-Za-z0-9_]+', '', x))"
      ]
    },
    {
      "cell_type": "code",
      "execution_count": 106,
      "metadata": {
        "colab": {
          "base_uri": "https://localhost:8080/"
        },
        "id": "1NAEs4mMPnUI",
        "outputId": "2c82aa66-63d6-4b34-a291-0566079bf72a"
      },
      "outputs": [
        {
          "data": {
            "text/plain": [
              "((149570, 17), (68092, 3), (306795, 3))"
            ]
          },
          "execution_count": 106,
          "metadata": {},
          "output_type": "execute_result"
        }
      ],
      "source": [
        "books.shape, users.shape, ratings.shape"
      ]
    },
    {
      "cell_type": "markdown",
      "metadata": {
        "id": "uh_8IXJHbIhW"
      },
      "source": [
        "book에 대한 전처리를 진행합니다.\n",
        "먼저, 아이디에 대해 처리를 해줍니다."
      ]
    },
    {
      "cell_type": "code",
      "execution_count": 107,
      "metadata": {
        "id": "E93W4aq3MOX1"
      },
      "outputs": [],
      "source": [
        "books['isbn'] = books['img_url'].apply(lambda x: x.split('P/')[1][:10])"
      ]
    },
    {
      "cell_type": "markdown",
      "metadata": {
        "id": "uMrj1zKcbQ6t"
      },
      "source": [
        "각각의 데이터 프레임을 확인합니다."
      ]
    },
    {
      "cell_type": "code",
      "execution_count": 108,
      "metadata": {
        "colab": {
          "base_uri": "https://localhost:8080/",
          "height": 322
        },
        "id": "Rx9IsoeSuwZv",
        "outputId": "78e5730b-2d36-421e-e782-3da5798e1a73"
      },
      "outputs": [
        {
          "name": "stdout",
          "output_type": "stream",
          "text": [
            "<<< Dataframe users Example >>>\n",
            "users shape:\n",
            " (68092, 3)\n",
            "\n",
            "col nunique:\n",
            " user_id     68092\n",
            "location    18368\n",
            "age            91\n",
            "dtype: int64\n",
            "\n"
          ]
        },
        {
          "data": {
            "text/html": [
              "<div>\n",
              "<style scoped>\n",
              "    .dataframe tbody tr th:only-of-type {\n",
              "        vertical-align: middle;\n",
              "    }\n",
              "\n",
              "    .dataframe tbody tr th {\n",
              "        vertical-align: top;\n",
              "    }\n",
              "\n",
              "    .dataframe thead th {\n",
              "        text-align: right;\n",
              "    }\n",
              "</style>\n",
              "<table border=\"1\" class=\"dataframe\">\n",
              "  <thead>\n",
              "    <tr style=\"text-align: right;\">\n",
              "      <th></th>\n",
              "      <th>user_id</th>\n",
              "      <th>location</th>\n",
              "      <th>age</th>\n",
              "    </tr>\n",
              "  </thead>\n",
              "  <tbody>\n",
              "    <tr>\n",
              "      <th>0</th>\n",
              "      <td>8</td>\n",
              "      <td>timmins, ontario, canada</td>\n",
              "      <td>NaN</td>\n",
              "    </tr>\n",
              "    <tr>\n",
              "      <th>1</th>\n",
              "      <td>11400</td>\n",
              "      <td>ottawa, ontario, canada</td>\n",
              "      <td>49.0</td>\n",
              "    </tr>\n",
              "    <tr>\n",
              "      <th>2</th>\n",
              "      <td>11676</td>\n",
              "      <td>n/a, n/a, n/a</td>\n",
              "      <td>NaN</td>\n",
              "    </tr>\n",
              "  </tbody>\n",
              "</table>\n",
              "</div>"
            ],
            "text/plain": [
              "   user_id                  location   age\n",
              "0        8  timmins, ontario, canada   NaN\n",
              "1    11400   ottawa, ontario, canada  49.0\n",
              "2    11676             n/a, n/a, n/a   NaN"
            ]
          },
          "metadata": {},
          "output_type": "display_data"
        }
      ],
      "source": [
        "print(\"<<< Dataframe users Example >>>\")\n",
        "print('users shape:\\n', users.shape)\n",
        "print('\\ncol nunique:\\n', users.nunique(),end='\\n\\n')\n",
        "display(users.head(3))"
      ]
    },
    {
      "cell_type": "code",
      "execution_count": 109,
      "metadata": {
        "colab": {
          "base_uri": "https://localhost:8080/",
          "height": 788
        },
        "id": "cnIPhghPWy3J",
        "outputId": "62a9e84b-0f42-4776-cd03-36bff72735d8"
      },
      "outputs": [
        {
          "name": "stdout",
          "output_type": "stream",
          "text": [
            "<<< Dataframe books Example >>>\n",
            "books shape:\n",
            " (149570, 17)\n",
            "\n",
            "col nunique:\n",
            " Unnamed0               149570\n",
            "isbn                   149570\n",
            "book_title             135436\n",
            "year_of_publication        95\n",
            "publisher               11571\n",
            "img_url                149570\n",
            "language                   26\n",
            "summary                 79872\n",
            "img_path               149570\n",
            "category_high             749\n",
            "book_author             61828\n",
            "book_author_over10       2105\n",
            "category                 4231\n",
            "new_language               41\n",
            "remove_country_code    148470\n",
            "isfiction                   2\n",
            "isenglish                   2\n",
            "dtype: int64\n",
            "\n"
          ]
        },
        {
          "data": {
            "text/html": [
              "<div>\n",
              "<style scoped>\n",
              "    .dataframe tbody tr th:only-of-type {\n",
              "        vertical-align: middle;\n",
              "    }\n",
              "\n",
              "    .dataframe tbody tr th {\n",
              "        vertical-align: top;\n",
              "    }\n",
              "\n",
              "    .dataframe thead th {\n",
              "        text-align: right;\n",
              "    }\n",
              "</style>\n",
              "<table border=\"1\" class=\"dataframe\">\n",
              "  <thead>\n",
              "    <tr style=\"text-align: right;\">\n",
              "      <th></th>\n",
              "      <th>Unnamed0</th>\n",
              "      <th>isbn</th>\n",
              "      <th>book_title</th>\n",
              "      <th>year_of_publication</th>\n",
              "      <th>publisher</th>\n",
              "      <th>img_url</th>\n",
              "      <th>language</th>\n",
              "      <th>summary</th>\n",
              "      <th>img_path</th>\n",
              "      <th>category_high</th>\n",
              "      <th>book_author</th>\n",
              "      <th>book_author_over10</th>\n",
              "      <th>category</th>\n",
              "      <th>new_language</th>\n",
              "      <th>remove_country_code</th>\n",
              "      <th>isfiction</th>\n",
              "      <th>isenglish</th>\n",
              "    </tr>\n",
              "  </thead>\n",
              "  <tbody>\n",
              "    <tr>\n",
              "      <th>0</th>\n",
              "      <td>0</td>\n",
              "      <td>0002005018</td>\n",
              "      <td>Clara Callan</td>\n",
              "      <td>2001.0</td>\n",
              "      <td>HarperFlamingo Canada</td>\n",
              "      <td>http://images.amazon.com/images/P/0002005018.0...</td>\n",
              "      <td>en</td>\n",
              "      <td>In a small town in Canada, Clara Callan reluct...</td>\n",
              "      <td>images/0002005018.01.THUMBZZZ.jpg</td>\n",
              "      <td>actresses</td>\n",
              "      <td>Richard Bruce Wright</td>\n",
              "      <td>others</td>\n",
              "      <td>['actresses']</td>\n",
              "      <td>en</td>\n",
              "      <td>002005018</td>\n",
              "      <td>0</td>\n",
              "      <td>1</td>\n",
              "    </tr>\n",
              "    <tr>\n",
              "      <th>1</th>\n",
              "      <td>1</td>\n",
              "      <td>0060973129</td>\n",
              "      <td>Decision in Normandy</td>\n",
              "      <td>1991.0</td>\n",
              "      <td>HarperPerennial</td>\n",
              "      <td>http://images.amazon.com/images/P/0060973129.0...</td>\n",
              "      <td>en</td>\n",
              "      <td>Here, for the first time in paperback, is an o...</td>\n",
              "      <td>images/0060973129.01.THUMBZZZ.jpg</td>\n",
              "      <td>others</td>\n",
              "      <td>Carlo D'Este</td>\n",
              "      <td>others</td>\n",
              "      <td>['1940-1949']</td>\n",
              "      <td>en</td>\n",
              "      <td>060973129</td>\n",
              "      <td>0</td>\n",
              "      <td>1</td>\n",
              "    </tr>\n",
              "    <tr>\n",
              "      <th>2</th>\n",
              "      <td>2</td>\n",
              "      <td>0374157065</td>\n",
              "      <td>Flu: The Story of the Great Influenza Pandemic...</td>\n",
              "      <td>1999.0</td>\n",
              "      <td>Farrar Straus Giroux</td>\n",
              "      <td>http://images.amazon.com/images/P/0374157065.0...</td>\n",
              "      <td>en</td>\n",
              "      <td>Describes the great flu epidemic of 1918, an o...</td>\n",
              "      <td>images/0374157065.01.THUMBZZZ.jpg</td>\n",
              "      <td>medical</td>\n",
              "      <td>Gina Bari Kolata</td>\n",
              "      <td>others</td>\n",
              "      <td>['medical']</td>\n",
              "      <td>en</td>\n",
              "      <td>374157065</td>\n",
              "      <td>0</td>\n",
              "      <td>1</td>\n",
              "    </tr>\n",
              "  </tbody>\n",
              "</table>\n",
              "</div>"
            ],
            "text/plain": [
              "   Unnamed0        isbn                                         book_title  \\\n",
              "0         0  0002005018                                       Clara Callan   \n",
              "1         1  0060973129                               Decision in Normandy   \n",
              "2         2  0374157065  Flu: The Story of the Great Influenza Pandemic...   \n",
              "\n",
              "   year_of_publication              publisher  \\\n",
              "0               2001.0  HarperFlamingo Canada   \n",
              "1               1991.0        HarperPerennial   \n",
              "2               1999.0   Farrar Straus Giroux   \n",
              "\n",
              "                                             img_url language  \\\n",
              "0  http://images.amazon.com/images/P/0002005018.0...       en   \n",
              "1  http://images.amazon.com/images/P/0060973129.0...       en   \n",
              "2  http://images.amazon.com/images/P/0374157065.0...       en   \n",
              "\n",
              "                                             summary  \\\n",
              "0  In a small town in Canada, Clara Callan reluct...   \n",
              "1  Here, for the first time in paperback, is an o...   \n",
              "2  Describes the great flu epidemic of 1918, an o...   \n",
              "\n",
              "                            img_path category_high           book_author  \\\n",
              "0  images/0002005018.01.THUMBZZZ.jpg     actresses  Richard Bruce Wright   \n",
              "1  images/0060973129.01.THUMBZZZ.jpg        others          Carlo D'Este   \n",
              "2  images/0374157065.01.THUMBZZZ.jpg       medical      Gina Bari Kolata   \n",
              "\n",
              "  book_author_over10       category new_language remove_country_code  \\\n",
              "0             others  ['actresses']           en           002005018   \n",
              "1             others  ['1940-1949']           en           060973129   \n",
              "2             others    ['medical']           en           374157065   \n",
              "\n",
              "   isfiction  isenglish  \n",
              "0          0          1  \n",
              "1          0          1  \n",
              "2          0          1  "
            ]
          },
          "metadata": {},
          "output_type": "display_data"
        }
      ],
      "source": [
        "print(\"<<< Dataframe books Example >>>\")\n",
        "print('books shape:\\n', books.shape)\n",
        "print('\\ncol nunique:\\n', books.nunique(),end='\\n\\n')\n",
        "display(books.head(3))"
      ]
    },
    {
      "cell_type": "code",
      "execution_count": 110,
      "metadata": {
        "colab": {
          "base_uri": "https://localhost:8080/",
          "height": 322
        },
        "id": "O38aTtM0bXgH",
        "outputId": "27004364-c670-442a-a0a9-1199325113df"
      },
      "outputs": [
        {
          "name": "stdout",
          "output_type": "stream",
          "text": [
            "<<< Dataframe ratings >>>\n",
            "ratings shape:\n",
            " (306795, 3)\n",
            "\n",
            "col nunique:\n",
            " user_id     59803\n",
            "isbn       129777\n",
            "rating         10\n",
            "dtype: int64\n",
            "\n"
          ]
        },
        {
          "data": {
            "text/html": [
              "<div>\n",
              "<style scoped>\n",
              "    .dataframe tbody tr th:only-of-type {\n",
              "        vertical-align: middle;\n",
              "    }\n",
              "\n",
              "    .dataframe tbody tr th {\n",
              "        vertical-align: top;\n",
              "    }\n",
              "\n",
              "    .dataframe thead th {\n",
              "        text-align: right;\n",
              "    }\n",
              "</style>\n",
              "<table border=\"1\" class=\"dataframe\">\n",
              "  <thead>\n",
              "    <tr style=\"text-align: right;\">\n",
              "      <th></th>\n",
              "      <th>user_id</th>\n",
              "      <th>isbn</th>\n",
              "      <th>rating</th>\n",
              "    </tr>\n",
              "  </thead>\n",
              "  <tbody>\n",
              "    <tr>\n",
              "      <th>0</th>\n",
              "      <td>8</td>\n",
              "      <td>0002005018</td>\n",
              "      <td>4</td>\n",
              "    </tr>\n",
              "    <tr>\n",
              "      <th>1</th>\n",
              "      <td>67544</td>\n",
              "      <td>0002005018</td>\n",
              "      <td>7</td>\n",
              "    </tr>\n",
              "    <tr>\n",
              "      <th>2</th>\n",
              "      <td>123629</td>\n",
              "      <td>0002005018</td>\n",
              "      <td>8</td>\n",
              "    </tr>\n",
              "  </tbody>\n",
              "</table>\n",
              "</div>"
            ],
            "text/plain": [
              "   user_id        isbn  rating\n",
              "0        8  0002005018       4\n",
              "1    67544  0002005018       7\n",
              "2   123629  0002005018       8"
            ]
          },
          "metadata": {},
          "output_type": "display_data"
        }
      ],
      "source": [
        "print(\"<<< Dataframe ratings >>>\")\n",
        "print('ratings shape:\\n', ratings.shape)\n",
        "print('\\ncol nunique:\\n', ratings.nunique(),end='\\n\\n')\n",
        "display(ratings.head(3))"
      ]
    },
    {
      "cell_type": "markdown",
      "metadata": {
        "id": "-7Mk3CS0eXnm"
      },
      "source": [
        "# [4] 데이터 가공하기"
      ]
    },
    {
      "cell_type": "markdown",
      "metadata": {
        "id": "88NCjjGccXAT"
      },
      "source": [
        "## Preprocessing"
      ]
    },
    {
      "cell_type": "markdown",
      "metadata": {
        "id": "6Ppor0V-eeEm"
      },
      "source": [
        "- 고유 번호인 user_id와 isbn 대신 사용하기 편하게 인덱싱 처리를 해줍니다.\n"
      ]
    },
    {
      "cell_type": "code",
      "execution_count": 111,
      "metadata": {
        "id": "0TbFrMJSczpG"
      },
      "outputs": [],
      "source": [
        "user2idx = {v:k for k,v in enumerate(ratings['user_id'].unique())}\n",
        "book2idx = {v:k for k,v in enumerate(ratings['isbn'].unique())}\n",
        "\n",
        "ratings['iid'] = ratings['isbn'].map(book2idx)\n",
        "ratings['uid'] = ratings['user_id'].map(user2idx)"
      ]
    },
    {
      "cell_type": "code",
      "execution_count": 112,
      "metadata": {
        "colab": {
          "base_uri": "https://localhost:8080/",
          "height": 143
        },
        "id": "0dUt3ZS3SAE7",
        "outputId": "b3bc89d6-133c-42bc-b64c-86c13849c669"
      },
      "outputs": [
        {
          "data": {
            "text/html": [
              "<div>\n",
              "<style scoped>\n",
              "    .dataframe tbody tr th:only-of-type {\n",
              "        vertical-align: middle;\n",
              "    }\n",
              "\n",
              "    .dataframe tbody tr th {\n",
              "        vertical-align: top;\n",
              "    }\n",
              "\n",
              "    .dataframe thead th {\n",
              "        text-align: right;\n",
              "    }\n",
              "</style>\n",
              "<table border=\"1\" class=\"dataframe\">\n",
              "  <thead>\n",
              "    <tr style=\"text-align: right;\">\n",
              "      <th></th>\n",
              "      <th>user_id</th>\n",
              "      <th>isbn</th>\n",
              "      <th>rating</th>\n",
              "      <th>iid</th>\n",
              "      <th>uid</th>\n",
              "    </tr>\n",
              "  </thead>\n",
              "  <tbody>\n",
              "    <tr>\n",
              "      <th>0</th>\n",
              "      <td>8</td>\n",
              "      <td>0002005018</td>\n",
              "      <td>4</td>\n",
              "      <td>0</td>\n",
              "      <td>0</td>\n",
              "    </tr>\n",
              "    <tr>\n",
              "      <th>1</th>\n",
              "      <td>67544</td>\n",
              "      <td>0002005018</td>\n",
              "      <td>7</td>\n",
              "      <td>0</td>\n",
              "      <td>1</td>\n",
              "    </tr>\n",
              "    <tr>\n",
              "      <th>2</th>\n",
              "      <td>123629</td>\n",
              "      <td>0002005018</td>\n",
              "      <td>8</td>\n",
              "      <td>0</td>\n",
              "      <td>2</td>\n",
              "    </tr>\n",
              "  </tbody>\n",
              "</table>\n",
              "</div>"
            ],
            "text/plain": [
              "   user_id        isbn  rating  iid  uid\n",
              "0        8  0002005018       4    0    0\n",
              "1    67544  0002005018       7    0    1\n",
              "2   123629  0002005018       8    0    2"
            ]
          },
          "execution_count": 112,
          "metadata": {},
          "output_type": "execute_result"
        }
      ],
      "source": [
        "ratings.head(3)"
      ]
    },
    {
      "cell_type": "markdown",
      "metadata": {
        "id": "hHq2aia_sxVm"
      },
      "source": [
        "이 때, 각 데이터 프레임에 존재하는 결측치를 -1로 채워 줍니다."
      ]
    },
    {
      "cell_type": "code",
      "execution_count": 113,
      "metadata": {
        "colab": {
          "base_uri": "https://localhost:8080/"
        },
        "id": "I74EjskqtDAO",
        "outputId": "ed1376c1-65f1-4ed4-c6c4-670b8b7f58a0"
      },
      "outputs": [
        {
          "name": "stdout",
          "output_type": "stream",
          "text": [
            "books 데이터 프레임의 결측치\n"
          ]
        },
        {
          "data": {
            "text/plain": [
              "Unnamed0                   0\n",
              "isbn                       0\n",
              "book_title                 0\n",
              "year_of_publication        0\n",
              "publisher                  0\n",
              "img_url                    0\n",
              "language               67227\n",
              "summary                67227\n",
              "img_path                   0\n",
              "category_high          62565\n",
              "book_author                0\n",
              "book_author_over10         0\n",
              "category               69461\n",
              "new_language            1100\n",
              "remove_country_code     1100\n",
              "isfiction                  0\n",
              "isenglish                  0\n",
              "dtype: int64"
            ]
          },
          "execution_count": 113,
          "metadata": {},
          "output_type": "execute_result"
        }
      ],
      "source": [
        "print('books 데이터 프레임의 결측치')\n",
        "books.isnull().sum()"
      ]
    },
    {
      "cell_type": "code",
      "execution_count": 114,
      "metadata": {
        "colab": {
          "base_uri": "https://localhost:8080/"
        },
        "id": "0YcWWdNOs8h5",
        "outputId": "8da27a02-d114-4163-f161-22df701604e2"
      },
      "outputs": [
        {
          "name": "stdout",
          "output_type": "stream",
          "text": [
            "users 데이터 프레임의 결측치\n"
          ]
        },
        {
          "data": {
            "text/plain": [
              "user_id         0\n",
              "location        0\n",
              "age         27833\n",
              "dtype: int64"
            ]
          },
          "execution_count": 114,
          "metadata": {},
          "output_type": "execute_result"
        }
      ],
      "source": [
        "print('users 데이터 프레임의 결측치')\n",
        "users.isnull().sum()"
      ]
    },
    {
      "cell_type": "code",
      "execution_count": 115,
      "metadata": {
        "colab": {
          "base_uri": "https://localhost:8080/"
        },
        "id": "fE7x_W-8tFuV",
        "outputId": "0119216f-a620-474d-a9c8-0f272ba378d4"
      },
      "outputs": [
        {
          "name": "stdout",
          "output_type": "stream",
          "text": [
            "ratings 데이터 프레임의 결측치\n"
          ]
        },
        {
          "data": {
            "text/plain": [
              "user_id    0\n",
              "isbn       0\n",
              "rating     0\n",
              "iid        0\n",
              "uid        0\n",
              "dtype: int64"
            ]
          },
          "execution_count": 115,
          "metadata": {},
          "output_type": "execute_result"
        }
      ],
      "source": [
        "print('ratings 데이터 프레임의 결측치')\n",
        "ratings.isnull().sum()"
      ]
    },
    {
      "cell_type": "code",
      "execution_count": 116,
      "metadata": {
        "id": "qzG2I6vntO2w"
      },
      "outputs": [],
      "source": [
        "books.fillna(-1,inplace=True)\n",
        "users.fillna(-1,inplace=True)\n",
        "ratings.fillna(-1,inplace=True)"
      ]
    },
    {
      "cell_type": "markdown",
      "metadata": {
        "id": "YFG3_sGcaViE"
      },
      "source": [
        "user-item에 대한 interaction matrix를 만들어 줍니다.\n",
        "메모리 관리를 위해 pivot 대신 coo matrix로 만듭니다."
      ]
    },
    {
      "cell_type": "code",
      "execution_count": 117,
      "metadata": {
        "id": "JOaSHCFHQkG7"
      },
      "outputs": [],
      "source": [
        "from pandas.api.types import CategoricalDtype\n",
        "from scipy import sparse\n",
        "\n",
        "size_uid = ratings[\"uid\"].unique()\n",
        "size_iid = ratings[\"iid\"].unique()\n",
        "\n",
        "ui_shape = (len(size_uid), len(size_iid))\n",
        "\n",
        "user_cat = CategoricalDtype(categories=sorted(size_uid), ordered=True)\n",
        "book_cat = CategoricalDtype(categories=sorted(size_iid), ordered=True)\n",
        "\n",
        "user_index = ratings[\"uid\"].astype(user_cat).cat.codes\n",
        "book_index = ratings[\"iid\"].astype(book_cat).cat.codes\n",
        "\n",
        "interactions = sparse.coo_matrix((ratings[\"rating\"], (user_index,book_index)), shape=ui_shape)"
      ]
    },
    {
      "cell_type": "code",
      "execution_count": 118,
      "metadata": {
        "colab": {
          "base_uri": "https://localhost:8080/"
        },
        "id": "jcfYlyQwURJD",
        "outputId": "46b09ca5-7e4f-49c6-8055-a2be01e2d522"
      },
      "outputs": [
        {
          "data": {
            "text/plain": [
              "<59803x129777 sparse matrix of type '<class 'numpy.int64'>'\n",
              "\twith 306795 stored elements in COOrdinate format>"
            ]
          },
          "execution_count": 118,
          "metadata": {},
          "output_type": "execute_result"
        }
      ],
      "source": [
        "interactions"
      ]
    },
    {
      "cell_type": "markdown",
      "metadata": {
        "id": "dFaem4WGbFfb"
      },
      "source": [
        "spare한 정도를 확인하여 봅시다."
      ]
    },
    {
      "cell_type": "code",
      "execution_count": 119,
      "metadata": {
        "id": "tD6j2Qa56mW8"
      },
      "outputs": [],
      "source": [
        "def check_sparsity(interactions:sparse.coo_matrix)->int:\n",
        "  matrix_size = interactions.shape[0]*interactions.shape[1] # Number of possible interactions in the matrix\n",
        "  num_purchases = len(interactions.nonzero()[0]) # Number of items interacted with\n",
        "  sparsity = 100*(1 - (num_purchases/matrix_size))\n",
        "  return round(sparsity,4)"
      ]
    },
    {
      "cell_type": "code",
      "execution_count": 120,
      "metadata": {
        "colab": {
          "base_uri": "https://localhost:8080/"
        },
        "id": "r9l1JEauo5iY",
        "outputId": "a6210b8d-780f-4d0c-f3f4-f243be22afe3"
      },
      "outputs": [
        {
          "name": "stdout",
          "output_type": "stream",
          "text": [
            "matrix sparsity : 99.996%\n"
          ]
        }
      ],
      "source": [
        "print(f\"matrix sparsity : {check_sparsity(interactions)}%\")"
      ]
    },
    {
      "cell_type": "markdown",
      "metadata": {
        "id": "ulxXhCFRUxUu"
      },
      "source": [
        "### Train/Test Split (Interaction)"
      ]
    },
    {
      "cell_type": "markdown",
      "metadata": {
        "id": "y9wyZwN6ffjF"
      },
      "source": [
        "Train, Test를 분할합니다.\n",
        "\n",
        "- 행렬에서 0이 아닌 즉, 평가 기록이 있는 데이터\u001d를 랜덤하게 Train, Test 로 나눠 줍니다.\n",
        "- data를 shuffle한 후, 유저를 기준으로 나눕니다."
      ]
    },
    {
      "cell_type": "code",
      "execution_count": 121,
      "metadata": {
        "id": "S06clqQQqrYf"
      },
      "outputs": [],
      "source": [
        "def shuffle_data(interactions:sparse.coo_matrix, random_state:int=42)->tuple:\n",
        "    random_state = np.random.RandomState(seed=random_state)\n",
        "\n",
        "    interactions = interactions.tocoo()\n",
        "\n",
        "    uids, iids, data = (interactions.row, interactions.col, interactions.data)\n",
        "\n",
        "    shuffle_indices = np.arange(len(uids))\n",
        "    random_state.shuffle(shuffle_indices)\n",
        "\n",
        "    uids = uids[shuffle_indices]\n",
        "    iids = iids[shuffle_indices]\n",
        "    data = data[shuffle_indices]\n",
        "\n",
        "    return uids, iids, data"
      ]
    },
    {
      "cell_type": "code",
      "execution_count": 122,
      "metadata": {
        "id": "FDJ2a4_Zd88w"
      },
      "outputs": [],
      "source": [
        "def cutoff_by_user(uids:list, test_percentage:float=0.2):\n",
        "    cutoff = int((1.0 - test_percentage) * len(uids))\n",
        "    train_idx = slice(None, cutoff)\n",
        "    test_idx = slice(cutoff, None)\n",
        "    return train_idx, test_idx"
      ]
    },
    {
      "cell_type": "markdown",
      "metadata": {
        "id": "0e1JbuWwXqq1"
      },
      "source": [
        "추가로 위치에 맞게 평가 기록을 추가하는 코드를 작성합니다."
      ]
    },
    {
      "cell_type": "code",
      "execution_count": 123,
      "metadata": {
        "id": "qsaIw1sooZOj"
      },
      "outputs": [],
      "source": [
        "def random_train_test_split(interactions, test_percentage=0.2, valid=None, random_state=42):\n",
        "    uids, iids, data = shuffle_data(interactions, random_state)\n",
        "    train_idx, test_idx = cutoff_by_user(uids, test_percentage)\n",
        "    shape = interactions.shape\n",
        "\n",
        "    train = sparse.coo_matrix(\n",
        "        (data[train_idx], (uids[train_idx], iids[train_idx])),\n",
        "        shape=shape,\n",
        "        dtype=interactions.dtype,\n",
        "    )\n",
        "    test = sparse.coo_matrix(\n",
        "        (data[test_idx], (uids[test_idx], iids[test_idx])),\n",
        "        shape=shape,\n",
        "        dtype=interactions.dtype,\n",
        "    )\n",
        "    return train, test"
      ]
    },
    {
      "cell_type": "code",
      "execution_count": 124,
      "metadata": {
        "id": "_i0qxUmvbUKf"
      },
      "outputs": [],
      "source": [
        "train, test = random_train_test_split(interactions,test_percentage=0.2,random_state=42)"
      ]
    },
    {
      "cell_type": "markdown",
      "metadata": {
        "id": "fwFVR4BObbdR"
      },
      "source": [
        "라이브러리에서 원활한 사용을 위해 csr_matrix로 변환하여 줍니다."
      ]
    },
    {
      "cell_type": "code",
      "execution_count": 125,
      "metadata": {
        "id": "2Fct91_hZDAa"
      },
      "outputs": [],
      "source": [
        "train = train.tocsr()\n",
        "test = test.tocsr()"
      ]
    },
    {
      "cell_type": "code",
      "execution_count": 126,
      "metadata": {
        "colab": {
          "base_uri": "https://localhost:8080/"
        },
        "id": "hSjiPOcBZgmg",
        "outputId": "e0f119ed-6c91-418c-8f9b-ba5650a10cc3"
      },
      "outputs": [
        {
          "data": {
            "text/plain": [
              "(<59803x129777 sparse matrix of type '<class 'numpy.int64'>'\n",
              " \twith 245436 stored elements in Compressed Sparse Row format>,\n",
              " <59803x129777 sparse matrix of type '<class 'numpy.int64'>'\n",
              " \twith 61359 stored elements in Compressed Sparse Row format>)"
            ]
          },
          "execution_count": 126,
          "metadata": {},
          "output_type": "execute_result"
        }
      ],
      "source": [
        "train, test"
      ]
    },
    {
      "cell_type": "markdown",
      "metadata": {
        "id": "4jKmOw7aU2lZ"
      },
      "source": [
        "### Train/Test Split (DataFrame)"
      ]
    },
    {
      "cell_type": "markdown",
      "metadata": {
        "id": "Bf8R4gwECKbc"
      },
      "source": [
        "GBDT 모델도 사용하기 위해 데이터프레임도 만들겠습니다.\n",
        "random_train_test_split에서 사용하였던 데이터와 동일하게 사용합니다."
      ]
    },
    {
      "cell_type": "code",
      "execution_count": 127,
      "metadata": {
        "id": "FelYQk47tlPm"
      },
      "outputs": [],
      "source": [
        "uids, iids, data = shuffle_data(interactions)\n",
        "train_idx, test_idx = cutoff_by_user(uids)\n",
        "\n",
        "train_df = pd.DataFrame({'uid':uids[train_idx], 'iid':iids[train_idx], 'ratings':data[train_idx]})\n",
        "test_df = pd.DataFrame({'uid':uids[test_idx], 'iid':iids[test_idx], 'ratings':data[test_idx]})"
      ]
    },
    {
      "cell_type": "markdown",
      "metadata": {
        "id": "IHeFA2KMbnar"
      },
      "source": [
        "앞서 제작한 매트릭스의 stored elements 갯수와 shape[0]\u001d 같음을 확인할 수 있습니다."
      ]
    },
    {
      "cell_type": "code",
      "execution_count": 128,
      "metadata": {
        "colab": {
          "base_uri": "https://localhost:8080/"
        },
        "id": "bX0YMDODmsHs",
        "outputId": "3bb9d385-0453-41f8-8dbe-598c62826e23"
      },
      "outputs": [
        {
          "data": {
            "text/plain": [
              "((245436, 3), (61359, 3))"
            ]
          },
          "execution_count": 128,
          "metadata": {},
          "output_type": "execute_result"
        }
      ],
      "source": [
        "train_df.shape, test_df.shape"
      ]
    },
    {
      "cell_type": "code",
      "execution_count": 129,
      "metadata": {
        "colab": {
          "base_uri": "https://localhost:8080/",
          "height": 206
        },
        "id": "4jlG-7TW09Nc",
        "outputId": "1f93161e-9324-43fd-aa73-b799b62e7667"
      },
      "outputs": [
        {
          "data": {
            "text/html": [
              "<div>\n",
              "<style scoped>\n",
              "    .dataframe tbody tr th:only-of-type {\n",
              "        vertical-align: middle;\n",
              "    }\n",
              "\n",
              "    .dataframe tbody tr th {\n",
              "        vertical-align: top;\n",
              "    }\n",
              "\n",
              "    .dataframe thead th {\n",
              "        text-align: right;\n",
              "    }\n",
              "</style>\n",
              "<table border=\"1\" class=\"dataframe\">\n",
              "  <thead>\n",
              "    <tr style=\"text-align: right;\">\n",
              "      <th></th>\n",
              "      <th>uid</th>\n",
              "      <th>iid</th>\n",
              "      <th>ratings</th>\n",
              "    </tr>\n",
              "  </thead>\n",
              "  <tbody>\n",
              "    <tr>\n",
              "      <th>0</th>\n",
              "      <td>15485</td>\n",
              "      <td>1638</td>\n",
              "      <td>7</td>\n",
              "    </tr>\n",
              "    <tr>\n",
              "      <th>1</th>\n",
              "      <td>10191</td>\n",
              "      <td>13639</td>\n",
              "      <td>6</td>\n",
              "    </tr>\n",
              "    <tr>\n",
              "      <th>2</th>\n",
              "      <td>16627</td>\n",
              "      <td>125648</td>\n",
              "      <td>8</td>\n",
              "    </tr>\n",
              "    <tr>\n",
              "      <th>3</th>\n",
              "      <td>3459</td>\n",
              "      <td>103855</td>\n",
              "      <td>7</td>\n",
              "    </tr>\n",
              "    <tr>\n",
              "      <th>4</th>\n",
              "      <td>2266</td>\n",
              "      <td>795</td>\n",
              "      <td>9</td>\n",
              "    </tr>\n",
              "  </tbody>\n",
              "</table>\n",
              "</div>"
            ],
            "text/plain": [
              "     uid     iid  ratings\n",
              "0  15485    1638        7\n",
              "1  10191   13639        6\n",
              "2  16627  125648        8\n",
              "3   3459  103855        7\n",
              "4   2266     795        9"
            ]
          },
          "execution_count": 129,
          "metadata": {},
          "output_type": "execute_result"
        }
      ],
      "source": [
        "train_df.head()"
      ]
    },
    {
      "cell_type": "markdown",
      "metadata": {
        "id": "wKEtnx1NcM_e"
      },
      "source": [
        "## Feature Engineering"
      ]
    },
    {
      "cell_type": "markdown",
      "metadata": {
        "id": "zaahHlcawdSS"
      },
      "source": [
        "contents based recommender 모델을 위한 여러 feature를 생성합니다."
      ]
    },
    {
      "cell_type": "markdown",
      "metadata": {
        "id": "UbjWe8mSVSRR"
      },
      "source": [
        "### User\n",
        "user에서부터 파생된 feature로 location, age를 사용하여, 모델 생성 예정으로 이를 처리합니다."
      ]
    },
    {
      "cell_type": "code",
      "execution_count": 130,
      "metadata": {
        "id": "Va0a_Sukmgfq"
      },
      "outputs": [],
      "source": [
        "users_location = pd.concat(\n",
        "    [users.drop('location', axis=1), \n",
        "     (users['location'].str.split(',', expand=True)\n",
        "     .assign(location_country = lambda x : np.where(x[2]=='', x[3], x[2]),\n",
        "            location_state = lambda x : x[1],\n",
        "            location_city = lambda x : x[0],\n",
        "            ) \n",
        "      )[['location_country', 'location_state', 'location_city']]\n",
        "     ], axis=1)\n",
        "\n",
        "city_tab = pd.DataFrame([['iowa city','iowa','usa'],\n",
        "['somerset', 'somerset','england'],\n",
        "['milford','massachusetts','usa'],\n",
        "['rockvale','tennessee','usa'],\n",
        "['bronx','newyork','usa'],\n",
        "['tustin','california','usa'],\n",
        "['choctaw','choctaw','usa'],\n",
        "['richmond hill','richmond hill','canada'],\n",
        "['kuala lumpur','kuala lumpur','malaysia']])\n",
        "city_tab.columns = ['city','state','country']\n",
        "\n",
        "for _,row in city_tab.iterrows():\n",
        "    location_idx = users_location['location_city'] == row.city\n",
        "    users_location.loc[location_idx,'location_city'] = row.city\n",
        "    users_location.loc[location_idx,'location_state'] = row.state\n",
        "    users_location.loc[location_idx,'location_country'] = row.country\n",
        "\n",
        "users_location.fillna('unknown',inplace=True)\n",
        "users_location['location_country'] = users_location['location_country'].str.replace('n/a','unknown')\n",
        "users_location['location_city'] = users_location['location_city'].str.replace('n/a','unknown')\n",
        "users_location['location_state'] = users_location['location_state'].str.replace('n/a','unknown')"
      ]
    },
    {
      "cell_type": "markdown",
      "metadata": {
        "id": "WCTHhxaOb5_d"
      },
      "source": [
        "sklearn의 LabelEncoder을 통해 라벨 인코딩하여 사용하였습니다."
      ]
    },
    {
      "cell_type": "code",
      "execution_count": 131,
      "metadata": {
        "id": "B_r16_g3NMd3"
      },
      "outputs": [],
      "source": [
        "users_df = users_location.copy()\n",
        "users_df['uid'] = users_df['user_id'].map(user2idx)"
      ]
    },
    {
      "cell_type": "markdown",
      "metadata": {
        "id": "eU-B3FwY6X4H"
      },
      "source": [
        "아래와 같이 신규 user가 존재함을 확인할 수도 있습니다."
      ]
    },
    {
      "cell_type": "code",
      "execution_count": 132,
      "metadata": {
        "colab": {
          "base_uri": "https://localhost:8080/"
        },
        "id": "yhwMeKb5v8Ex",
        "outputId": "6f930d27-4835-4124-bb24-ae912f7d30c3"
      },
      "outputs": [
        {
          "data": {
            "text/plain": [
              "user_id                0\n",
              "age                    0\n",
              "location_country       0\n",
              "location_state         0\n",
              "location_city          0\n",
              "uid                 8289\n",
              "dtype: int64"
            ]
          },
          "execution_count": 132,
          "metadata": {},
          "output_type": "execute_result"
        }
      ],
      "source": [
        "users_df.isnull().sum()"
      ]
    },
    {
      "cell_type": "code",
      "execution_count": 133,
      "metadata": {
        "id": "06lOzXZbA-yM"
      },
      "outputs": [],
      "source": [
        "u_label = ['location_country', 'location_state', 'location_city']\n",
        "u_encoder = dict()\n",
        "for l in u_label:\n",
        "    u_encoder[l] = LabelEncoder()\n",
        "    u_encoder[l].fit(users_df[l])\n",
        "    users_df[l] = u_encoder[l].transform(users_df[l])"
      ]
    },
    {
      "cell_type": "markdown",
      "metadata": {
        "id": "ZPGuXdPXVqK6"
      },
      "source": [
        "연속형 변수인 age에 대해 연령대별 카테고리화해 줍니다."
      ]
    },
    {
      "cell_type": "code",
      "execution_count": 134,
      "metadata": {
        "id": "HQgWT_MoyDPR"
      },
      "outputs": [],
      "source": [
        "users_df['age'] = users_df['age'].map(lambda x:x//10 if type(x)!=str else -1)"
      ]
    },
    {
      "cell_type": "code",
      "execution_count": 135,
      "metadata": {
        "colab": {
          "base_uri": "https://localhost:8080/",
          "height": 206
        },
        "id": "TEfaHrUp1CBA",
        "outputId": "3ea50be6-1195-40df-99ec-8026e6462e09"
      },
      "outputs": [
        {
          "data": {
            "text/html": [
              "<div>\n",
              "<style scoped>\n",
              "    .dataframe tbody tr th:only-of-type {\n",
              "        vertical-align: middle;\n",
              "    }\n",
              "\n",
              "    .dataframe tbody tr th {\n",
              "        vertical-align: top;\n",
              "    }\n",
              "\n",
              "    .dataframe thead th {\n",
              "        text-align: right;\n",
              "    }\n",
              "</style>\n",
              "<table border=\"1\" class=\"dataframe\">\n",
              "  <thead>\n",
              "    <tr style=\"text-align: right;\">\n",
              "      <th></th>\n",
              "      <th>user_id</th>\n",
              "      <th>age</th>\n",
              "      <th>location_country</th>\n",
              "      <th>location_state</th>\n",
              "      <th>location_city</th>\n",
              "      <th>uid</th>\n",
              "    </tr>\n",
              "  </thead>\n",
              "  <tbody>\n",
              "    <tr>\n",
              "      <th>0</th>\n",
              "      <td>8</td>\n",
              "      <td>-1.0</td>\n",
              "      <td>55</td>\n",
              "      <td>1050</td>\n",
              "      <td>10871</td>\n",
              "      <td>0.0</td>\n",
              "    </tr>\n",
              "    <tr>\n",
              "      <th>1</th>\n",
              "      <td>11400</td>\n",
              "      <td>4.0</td>\n",
              "      <td>55</td>\n",
              "      <td>1050</td>\n",
              "      <td>8071</td>\n",
              "      <td>2334.0</td>\n",
              "    </tr>\n",
              "    <tr>\n",
              "      <th>2</th>\n",
              "      <td>11676</td>\n",
              "      <td>-1.0</td>\n",
              "      <td>315</td>\n",
              "      <td>1428</td>\n",
              "      <td>11127</td>\n",
              "      <td>13.0</td>\n",
              "    </tr>\n",
              "    <tr>\n",
              "      <th>3</th>\n",
              "      <td>67544</td>\n",
              "      <td>3.0</td>\n",
              "      <td>55</td>\n",
              "      <td>1050</td>\n",
              "      <td>10928</td>\n",
              "      <td>1.0</td>\n",
              "    </tr>\n",
              "    <tr>\n",
              "      <th>4</th>\n",
              "      <td>85526</td>\n",
              "      <td>3.0</td>\n",
              "      <td>55</td>\n",
              "      <td>225</td>\n",
              "      <td>11310</td>\n",
              "      <td>4789.0</td>\n",
              "    </tr>\n",
              "  </tbody>\n",
              "</table>\n",
              "</div>"
            ],
            "text/plain": [
              "   user_id  age  location_country  location_state  location_city     uid\n",
              "0        8 -1.0                55            1050          10871     0.0\n",
              "1    11400  4.0                55            1050           8071  2334.0\n",
              "2    11676 -1.0               315            1428          11127    13.0\n",
              "3    67544  3.0                55            1050          10928     1.0\n",
              "4    85526  3.0                55             225          11310  4789.0"
            ]
          },
          "execution_count": 135,
          "metadata": {},
          "output_type": "execute_result"
        }
      ],
      "source": [
        "users_df.head()"
      ]
    },
    {
      "cell_type": "markdown",
      "metadata": {
        "id": "MM612pGFVWJi"
      },
      "source": [
        "### Item\n",
        "마찬가지로 item Feature 도 라벨인코딩해 줍니다."
      ]
    },
    {
      "cell_type": "markdown",
      "metadata": {
        "id": "3novC876pkAs"
      },
      "source": [
        "먼저, isbn을 iid로 바꾸어 줍니다."
      ]
    },
    {
      "cell_type": "code",
      "execution_count": 136,
      "metadata": {
        "id": "D28zEVpSZSuQ"
      },
      "outputs": [],
      "source": [
        "books_df = books.copy()\n",
        "books_df['iid'] = books_df['isbn'].map(book2idx)"
      ]
    },
    {
      "cell_type": "markdown",
      "metadata": {
        "id": "MPXKiGvepqaV"
      },
      "source": [
        "이어, 정규 표현식을 통해 카테고리를 보다 정제하여 주겠습니다."
      ]
    },
    {
      "cell_type": "code",
      "execution_count": 137,
      "metadata": {
        "id": "DE_cQAtRxUjC"
      },
      "outputs": [],
      "source": [
        "books_df['category'] = books_df['category'].apply(lambda x: re.sub('[\\W_]+',' ',str(x)).strip())"
      ]
    },
    {
      "cell_type": "markdown",
      "metadata": {
        "id": "S_lDro74ur0D"
      },
      "source": [
        "결측치 처리 시, -1로 대체하였기 때문에 label encoding의 작동을 원활히 하기 위해 데이터의 type을 일치시켜 "
      ]
    },
    {
      "cell_type": "code",
      "execution_count": 138,
      "metadata": {
        "id": "nLKBwicAugW3"
      },
      "outputs": [],
      "source": [
        "books_df['category'] = books_df['category'].astype(str)\n",
        "books_df['language'] = books_df['language'].astype(str)"
      ]
    },
    {
      "cell_type": "markdown",
      "metadata": {
        "id": "J-0PjuoIpa6w"
      },
      "source": [
        "item에 대한 정보는 제목, 작가명, 출판사 등 다양한 정보가 있지만 간결성을 위해 year_of_publication\t, language, category를 제외하고 drop합니다."
      ]
    },
    {
      "cell_type": "code",
      "execution_count": 139,
      "metadata": {
        "id": "obxVFPjFN1H6"
      },
      "outputs": [],
      "source": [
        "i_label = ['category', 'language']\n",
        "i_encoder = dict()\n",
        "for l in i_label:\n",
        "    i_encoder[l] = LabelEncoder()\n",
        "    i_encoder[l].fit(books_df[l])\n",
        "    books_df[l] = i_encoder[l].transform(books_df[l])"
      ]
    },
    {
      "cell_type": "markdown",
      "metadata": {
        "id": "_LpmmWwm8hfh"
      },
      "source": [
        "context aware recommendation을 위해, 각각의 데이터 프레임을 iid, uid를 기준으로 merge해 줍니다."
      ]
    },
    {
      "cell_type": "code",
      "execution_count": 140,
      "metadata": {
        "id": "pYvr9CLTCXt2"
      },
      "outputs": [],
      "source": [
        "train_context = train_df.merge(users_df, on='uid', how='left').merge(books_df, on='iid', how='left')\n",
        "test_context = test_df.merge(users_df, on='uid', how='left').merge(books_df, on='iid', how='left')"
      ]
    },
    {
      "cell_type": "code",
      "execution_count": 141,
      "metadata": {
        "colab": {
          "base_uri": "https://localhost:8080/"
        },
        "id": "T-hajGQYMbQG",
        "outputId": "18b6c3c5-6482-49d5-b4e2-4e51799671d4"
      },
      "outputs": [
        {
          "data": {
            "text/plain": [
              "uid                    0\n",
              "iid                    0\n",
              "ratings                0\n",
              "user_id                0\n",
              "age                    0\n",
              "location_country       0\n",
              "location_state         0\n",
              "location_city          0\n",
              "Unnamed0               0\n",
              "isbn                   0\n",
              "book_title             0\n",
              "year_of_publication    0\n",
              "publisher              0\n",
              "img_url                0\n",
              "language               0\n",
              "summary                0\n",
              "img_path               0\n",
              "category_high          0\n",
              "book_author            0\n",
              "book_author_over10     0\n",
              "category               0\n",
              "new_language           0\n",
              "remove_country_code    0\n",
              "isfiction              0\n",
              "isenglish              0\n",
              "dtype: int64"
            ]
          },
          "execution_count": 141,
          "metadata": {},
          "output_type": "execute_result"
        }
      ],
      "source": [
        "train_context.isna().sum()"
      ]
    },
    {
      "cell_type": "markdown",
      "metadata": {
        "id": "QkwE0wJ02A9p"
      },
      "source": [
        "train/test set을 분할합니다.\n",
        "추가적으로 다른 모델과 결과 공유할 때 같은 uid, iid 임을 확인하기 위해 rating_train/test 를 저장합니다."
      ]
    },
    {
      "cell_type": "code",
      "execution_count": 142,
      "metadata": {
        "id": "XtJUP6p4vmmv"
      },
      "outputs": [],
      "source": [
        "X_train = train_context.drop(['user_id', 'isbn', 'iid','uid', 'ratings'], axis=1)\n",
        "y_train = train_context['ratings']\n",
        "rating_train = train_context[['uid','iid','ratings']] \n",
        "\n",
        "X_test = test_context.drop(['user_id', 'isbn', 'iid','uid', 'ratings'], axis=1)\n",
        "y_test = test_context['ratings']\n",
        "rating_test = test_context[['uid','iid','ratings']] "
      ]
    },
    {
      "cell_type": "markdown",
      "metadata": {
        "id": "prlVhBEdzj3G"
      },
      "source": [
        "불필요한 feature를 제거하여 줍니다."
      ]
    },
    {
      "cell_type": "code",
      "execution_count": 143,
      "metadata": {
        "id": "9rUjbq1AzjQv"
      },
      "outputs": [],
      "source": [
        "drop_lst = ['book_title','book_author','publisher','img_url','img_path','summary']\n",
        "\n",
        "X_train.drop(drop_lst,axis=1,inplace=True)\n",
        "X_test.drop(drop_lst,axis=1,inplace=True)"
      ]
    },
    {
      "cell_type": "code",
      "execution_count": 144,
      "metadata": {
        "id": "LYels7dC51lW"
      },
      "outputs": [],
      "source": [
        "# RAM 관리를 위해 사용하지 않는 데이터 프레임을 삭제해 줍니다.\n",
        "# magic command 를 사용하여 현행 정의해놓은 변수 목록을 확인한 후, 삭제합니다.\n",
        "#  %whos"
      ]
    },
    {
      "cell_type": "code",
      "execution_count": 145,
      "metadata": {
        "id": "mb1bs6Mm2GGw"
      },
      "outputs": [],
      "source": [
        "# del ratings, users, books, books_df, users_df, users_location, city_tab"
      ]
    },
    {
      "cell_type": "markdown",
      "metadata": {
        "id": "9NSOFE4HvUYH"
      },
      "source": [
        "우리는 대회에서 사용하는 평가 지표 RMSE를 동일하게 사용하여, 모델을 평가합니다. 이를 위해 rmse를 측정하는 함수를 제작합니다."
      ]
    },
    {
      "cell_type": "code",
      "execution_count": 146,
      "metadata": {
        "id": "tzh9UDa2_uta"
      },
      "outputs": [],
      "source": [
        "def modify_range(rating):\n",
        "  if rating < 0:\n",
        "    return 0\n",
        "  elif rating > 10:\n",
        "    return 10\n",
        "  else:\n",
        "    return rating"
      ]
    },
    {
      "cell_type": "code",
      "execution_count": 147,
      "metadata": {
        "id": "OVg1hTq6fj67"
      },
      "outputs": [],
      "source": [
        "def rmse(real, predict):\n",
        "  pred = list(map(modify_range, predict))  \n",
        "  pred = np.array(pred)\n",
        "  return np.sqrt(np.mean((real-pred) ** 2))"
      ]
    },
    {
      "cell_type": "code",
      "execution_count": 148,
      "metadata": {
        "id": "7-ZpGUUvfl-T"
      },
      "outputs": [],
      "source": [
        "def matrix_rmse(real_mat, predict_mat, test_ind=test_idx):\n",
        "  cost = 0\n",
        "\n",
        "  for i, ind in enumerate(test_ind):\n",
        "    pred = predict_mat[ind]\n",
        "    real = real_mat[ind]\n",
        "    cost += pow(real - modify_range(pred), 2)\n",
        "  return np.sqrt(cost/ len(test_ind)) "
      ]
    },
    {
      "cell_type": "markdown",
      "metadata": {
        "id": "Q6sHOntjf1gt"
      },
      "source": [
        "# [5] 단일 모델 확보"
      ]
    },
    {
      "cell_type": "markdown",
      "metadata": {
        "id": "UsKlAUmNf6ym"
      },
      "source": [
        "하이브리드 접근법 파트에서 바로 사용할 수 있도록 모델을 미리 만들어 놓겠습니다.\n",
        "\n",
        "지금까지 3,4, 5강에서 배웠던 방법론들을 이용하여 보겠습니다."
      ]
    },
    {
      "cell_type": "markdown",
      "metadata": {
        "id": "SUrI5JmGkb2N"
      },
      "source": [
        "## SVD\n",
        "5강에서 배웠던 surprise 라이브러리를 사용하여 모델을 만들어 줍니다."
      ]
    },
    {
      "cell_type": "code",
      "execution_count": 149,
      "metadata": {
        "id": "OlFyXG-cN3u_"
      },
      "outputs": [],
      "source": [
        "reader = Reader(rating_scale=(1, 10))\n",
        "train_data = Dataset.load_from_df(train_df[['uid', 'iid', 'ratings']], reader)\n",
        "test_data = Dataset.load_from_df(test_df[['uid', 'iid', 'ratings']], reader)"
      ]
    },
    {
      "cell_type": "code",
      "execution_count": 150,
      "metadata": {
        "id": "6x6ClBi-pI0n"
      },
      "outputs": [],
      "source": [
        "fold = DatasetAutoFolds(df = train_df[['uid', 'iid', 'ratings']], reader = reader)\n",
        "trainset = fold.build_full_trainset()"
      ]
    },
    {
      "cell_type": "markdown",
      "metadata": {
        "id": "Z2bIn9eTKtGL"
      },
      "source": [
        "모든 미지수를 추정하기 위해 다음과 같은 정규화 제곱 오차를 최소화합니다.\n",
        "\n",
        "$$\n",
        "\\hat{r}_{ui} = \\mu + b_u + b_i + q_i^Tp_u\n",
        "$$\n",
        "\n",
        "최소화는 매우 간단한 확률적 경사 하강법으로 수행됩니다.\n",
        "$$e_{ui} = r_{ui} - \\hat{r}_{ui}$$ \n",
        "일 때,\n",
        "$$\n",
        "\\begin{split}b_u &\\leftarrow b_u &+ \\gamma (e_{ui} - \\lambda b_u)\\\\\n",
        "b_i &\\leftarrow b_i &+ \\gamma (e_{ui} - \\lambda b_i)\\\\\n",
        "p_u &\\leftarrow p_u &+ \\gamma (e_{ui} \\cdot q_i - \\lambda p_u)\\\\\n",
        "q_i &\\leftarrow q_i &+ \\gamma (e_{ui} \\cdot p_u - \\lambda q_i)\\end{split}\n",
        "$$\n",
        "이 단계는 trainset의 모든 rating에 대해 n_epochs만큼 반복 수행됩니다.\n"
      ]
    },
    {
      "cell_type": "code",
      "execution_count": 151,
      "metadata": {
        "colab": {
          "base_uri": "https://localhost:8080/"
        },
        "id": "XtQc4B0Rkh3A",
        "outputId": "8937c26f-2597-4128-97ff-c7c6e31ba09b"
      },
      "outputs": [
        {
          "data": {
            "text/plain": [
              "<surprise.prediction_algorithms.matrix_factorization.SVD at 0x7f596c31bb20>"
            ]
          },
          "execution_count": 151,
          "metadata": {},
          "output_type": "execute_result"
        }
      ],
      "source": [
        "params = {'n_factors':100,\n",
        "          'n_epochs':20,\n",
        "          'lr_all':0.005,\n",
        "          'reg_all':0.02}\n",
        "\n",
        "svd = SVD(**params,random_state=42)\n",
        "svd.fit(trainset)"
      ]
    },
    {
      "cell_type": "markdown",
      "metadata": {
        "id": "g8nNcqtbtZcv"
      },
      "source": [
        "예측을 위해 test 메소드에서 사용할 (u,i,r) 형식의 리스트를 생성합니다."
      ]
    },
    {
      "cell_type": "code",
      "execution_count": 152,
      "metadata": {
        "id": "VKLYquNPq9Rn"
      },
      "outputs": [],
      "source": [
        "uir_tuple = list(zip(test_df['uid'], test_df['iid'],test_df['ratings']))"
      ]
    },
    {
      "cell_type": "code",
      "execution_count": 153,
      "metadata": {
        "id": "J4BOa5PBq8Gi"
      },
      "outputs": [],
      "source": [
        "svd_test = svd.test(uir_tuple)"
      ]
    },
    {
      "cell_type": "code",
      "execution_count": 154,
      "metadata": {
        "colab": {
          "base_uri": "https://localhost:8080/"
        },
        "id": "4bMqsB0cPWi2",
        "outputId": "3b52421f-0a06-4d3c-c312-69c85af781c5"
      },
      "outputs": [
        {
          "data": {
            "text/plain": [
              "7     29617\n",
              "8     15569\n",
              "6      7905\n",
              "9      4502\n",
              "5      1973\n",
              "4       716\n",
              "3       639\n",
              "10      398\n",
              "2        37\n",
              "1         3\n",
              "dtype: int64"
            ]
          },
          "execution_count": 154,
          "metadata": {},
          "output_type": "execute_result"
        }
      ],
      "source": [
        "svd_pred = list(map(lambda x:round(x.est), svd_test))\n",
        "pd.Series(svd_pred).value_counts()"
      ]
    },
    {
      "cell_type": "markdown",
      "metadata": {
        "id": "9EILXdGqjbVi"
      },
      "source": [
        "모델의 성능을 파악하기 위한 score dictionary를 생성하고, SVD 모델의 RMSE를 기록합니다.\n",
        "파라미터 또한 기록하여 줍니다."
      ]
    },
    {
      "cell_type": "code",
      "execution_count": 155,
      "metadata": {
        "id": "TWdXdEpvmyXy"
      },
      "outputs": [],
      "source": [
        "param = {}\n",
        "param['svd'] = params"
      ]
    },
    {
      "cell_type": "code",
      "execution_count": 156,
      "metadata": {
        "id": "qGBCJvVSonpf"
      },
      "outputs": [],
      "source": [
        "score = {}\n",
        "score['svd'] = rmse(y_test, svd_pred)"
      ]
    },
    {
      "cell_type": "code",
      "execution_count": 157,
      "metadata": {
        "id": "fRQOFB2iUPiR"
      },
      "outputs": [],
      "source": [
        "pred = {}\n",
        "pred['svd'] = svd_pred"
      ]
    },
    {
      "cell_type": "code",
      "execution_count": 158,
      "metadata": {
        "colab": {
          "base_uri": "https://localhost:8080/"
        },
        "id": "oP3LwXNKjj9N",
        "outputId": "39c2296f-4c59-4e7d-e4a2-4d0f54d04fa1"
      },
      "outputs": [
        {
          "name": "stdout",
          "output_type": "stream",
          "text": [
            "RMSE of svd : 2.2152\n"
          ]
        }
      ],
      "source": [
        "rmse_v = score['svd']\n",
        "print(f\"RMSE of svd : {round(rmse_v,4)}\")"
      ]
    },
    {
      "cell_type": "markdown",
      "metadata": {
        "id": "1nxiDSs-XHrM"
      },
      "source": [
        "## Co-clustering\n",
        "사용자와 아이템에 각각 $C_\u001du$,$C_i$,$C_ui$ 클러스터가 부여되고, 이에 대한 평균 평점에서부터 평점을 계산합니다.\n",
        "\n",
        "\n",
        "$$\n",
        "\\hat{r}_{ui} = \\overline{C_{ui}} + (\\mu_u - \\overline{C_u}) + (\\mu_i- \\overline{C_i})\n",
        "$$"
      ]
    },
    {
      "cell_type": "code",
      "execution_count": 159,
      "metadata": {
        "id": "5uIHkF5EaFF4"
      },
      "outputs": [],
      "source": [
        "params = {'n_cltr_u':10, 'n_cltr_i':10, 'n_epochs':20}\n",
        "param['coclu'] = params"
      ]
    },
    {
      "cell_type": "code",
      "execution_count": 160,
      "metadata": {
        "colab": {
          "base_uri": "https://localhost:8080/"
        },
        "id": "7llGKgoqYj3T",
        "outputId": "3b5e8fcd-9f2f-402d-9722-267f6f46aa1c"
      },
      "outputs": [
        {
          "name": "stdout",
          "output_type": "stream",
          "text": [
            "Processing epoch 0\n",
            "Processing epoch 1\n",
            "Processing epoch 2\n",
            "Processing epoch 3\n",
            "Processing epoch 4\n",
            "Processing epoch 5\n",
            "Processing epoch 6\n",
            "Processing epoch 7\n",
            "Processing epoch 8\n",
            "Processing epoch 9\n",
            "Processing epoch 10\n",
            "Processing epoch 11\n",
            "Processing epoch 12\n",
            "Processing epoch 13\n",
            "Processing epoch 14\n",
            "Processing epoch 15\n",
            "Processing epoch 16\n",
            "Processing epoch 17\n",
            "Processing epoch 18\n",
            "Processing epoch 19\n"
          ]
        },
        {
          "data": {
            "text/plain": [
              "<surprise.prediction_algorithms.co_clustering.CoClustering at 0x7f596c31ba60>"
            ]
          },
          "execution_count": 160,
          "metadata": {},
          "output_type": "execute_result"
        }
      ],
      "source": [
        "coclu = CoClustering(**params, random_state=42, verbose=True)\n",
        "coclu.fit(trainset)"
      ]
    },
    {
      "cell_type": "code",
      "execution_count": 161,
      "metadata": {
        "id": "P5kkt5P_CXeg"
      },
      "outputs": [],
      "source": [
        "coclu_test = coclu.test(uir_tuple)"
      ]
    },
    {
      "cell_type": "code",
      "execution_count": 162,
      "metadata": {
        "colab": {
          "base_uri": "https://localhost:8080/"
        },
        "id": "e5tBkLOkCXeh",
        "outputId": "dd1dc179-c3b6-4929-d6dd-6da2377925a4"
      },
      "outputs": [
        {
          "data": {
            "text/plain": [
              "7     32177\n",
              "8      8233\n",
              "9      5971\n",
              "6      4491\n",
              "10     4174\n",
              "5      2650\n",
              "4      1460\n",
              "3       996\n",
              "1       607\n",
              "2       600\n",
              "dtype: int64"
            ]
          },
          "execution_count": 162,
          "metadata": {},
          "output_type": "execute_result"
        }
      ],
      "source": [
        "coclu_pred = list(map(lambda x:round(x.est), coclu_test))\n",
        "pd.Series(coclu_pred).value_counts()"
      ]
    },
    {
      "cell_type": "code",
      "execution_count": 163,
      "metadata": {
        "id": "JII2zz7FUVbW"
      },
      "outputs": [],
      "source": [
        "pred['coclu'] = coclu_pred"
      ]
    },
    {
      "cell_type": "code",
      "execution_count": 164,
      "metadata": {
        "id": "DOIDvtVWowcF"
      },
      "outputs": [],
      "source": [
        "score['coclu'] = rmse(y_test, coclu_pred)"
      ]
    },
    {
      "cell_type": "code",
      "execution_count": 165,
      "metadata": {
        "colab": {
          "base_uri": "https://localhost:8080/"
        },
        "id": "M6dVDyVmk57S",
        "outputId": "0c86ccf3-b999-4845-971e-72c3a97d8f24"
      },
      "outputs": [
        {
          "name": "stdout",
          "output_type": "stream",
          "text": [
            "RMSE of coclustering : 2.5071\n"
          ]
        }
      ],
      "source": [
        "rmse_v = score['coclu']\n",
        "print(f\"RMSE of coclustering : {round(rmse_v,4)}\")"
      ]
    },
    {
      "cell_type": "markdown",
      "metadata": {
        "id": "aAozxDgP_pAY"
      },
      "source": [
        "## LGBM"
      ]
    },
    {
      "cell_type": "markdown",
      "metadata": {
        "id": "_298zpUUGKWt"
      },
      "source": [
        "#### \bLGBM Classifier"
      ]
    },
    {
      "cell_type": "code",
      "execution_count": 166,
      "metadata": {
        "id": "XSyX2rZaAaZZ"
      },
      "outputs": [],
      "source": [
        "params = {'objective':'rmse',\n",
        "  'boosting_type':'gbdt',\n",
        "  'lambda': 0.1,\n",
        " 'learning_rate': 0.03,\n",
        " 'max_depth': 34,\n",
        " 'num_leaves': 34,\n",
        " 'n_epochs': 18}"
      ]
    },
    {
      "cell_type": "code",
      "execution_count": 167,
      "metadata": {
        "colab": {
          "base_uri": "https://localhost:8080/"
        },
        "id": "sIxapl9NMtjD",
        "outputId": "1f4b4263-b6de-4a6f-d0f8-e26dd8c81432"
      },
      "outputs": [
        {
          "data": {
            "text/plain": [
              "2.5746692200347607"
            ]
          },
          "execution_count": 167,
          "metadata": {},
          "output_type": "execute_result"
        }
      ],
      "source": [
        "lgbm_cl = LGBMClassifier(**params ,random_state=42)\n",
        "lgbm_cl.fit(X_train.select_dtypes(exclude='object'), y_train)\n",
        "lgbm_pred_cl = lgbm_cl.predict(X_test.select_dtypes(exclude='object'))\n",
        "rmse(y_test,lgbm_pred_cl)"
      ]
    },
    {
      "cell_type": "code",
      "execution_count": 168,
      "metadata": {
        "colab": {
          "base_uri": "https://localhost:8080/"
        },
        "id": "g5cD93EyYH8y",
        "outputId": "4a472bcf-ac91-4307-df33-cbeb20dc25e2"
      },
      "outputs": [
        {
          "data": {
            "text/plain": [
              "8     56098\n",
              "10     2835\n",
              "9      1011\n",
              "7       565\n",
              "4       357\n",
              "2       267\n",
              "3       120\n",
              "1       106\n",
              "dtype: int64"
            ]
          },
          "execution_count": 168,
          "metadata": {},
          "output_type": "execute_result"
        }
      ],
      "source": [
        "pd.Series(lgbm_pred_cl).value_counts()"
      ]
    },
    {
      "cell_type": "code",
      "execution_count": 169,
      "metadata": {
        "id": "JbZPf9jDJWwv"
      },
      "outputs": [],
      "source": [
        "param['lgbm'] = params"
      ]
    },
    {
      "cell_type": "code",
      "execution_count": 170,
      "metadata": {
        "id": "aF7TuIZapg4p"
      },
      "outputs": [],
      "source": [
        "score['lgbm_cl'] = rmse(y_test,lgbm_pred_cl)"
      ]
    },
    {
      "cell_type": "code",
      "execution_count": 171,
      "metadata": {
        "id": "43xd1SvxUiVI"
      },
      "outputs": [],
      "source": [
        "pred['lgbm_cl'] = lgbm_pred_cl"
      ]
    },
    {
      "cell_type": "code",
      "execution_count": 172,
      "metadata": {
        "colab": {
          "base_uri": "https://localhost:8080/"
        },
        "id": "o36iFdLBg6dD",
        "outputId": "da608ccb-7646-4682-99d7-2d2bda087d4b"
      },
      "outputs": [
        {
          "name": "stdout",
          "output_type": "stream",
          "text": [
            "RMSE of lgbm_classifier : 2.5747\n"
          ]
        }
      ],
      "source": [
        "rmse_v = score['lgbm_cl']\n",
        "print(f\"RMSE of lgbm_classifier : {round(rmse_v,4)}\")"
      ]
    },
    {
      "cell_type": "markdown",
      "metadata": {
        "id": "10ZDIOlqZNRk"
      },
      "source": [
        "#### LGBM Regressor"
      ]
    },
    {
      "cell_type": "code",
      "execution_count": 173,
      "metadata": {
        "id": "T8ywvCibTMzN"
      },
      "outputs": [
        {
          "name": "stdout",
          "output_type": "stream",
          "text": [
            "[LightGBM] [Warning] Unknown parameter: n_epochs\n",
            "[LightGBM] [Warning] lambda_l2 is set with lambda=0.1, reg_lambda=0.0 will be ignored. Current value: lambda_l2=0.1\n"
          ]
        }
      ],
      "source": [
        "lgbm_r = LGBMRegressor(**params ,random_state=42)\n",
        "lgbm_r.fit(X_train.select_dtypes(exclude='object'), y_train)\n",
        "lgbm_pred_r = lgbm_r.predict(X_test.select_dtypes(exclude='object'))"
      ]
    },
    {
      "cell_type": "code",
      "execution_count": 174,
      "metadata": {
        "id": "cTTWUiRDo6CP"
      },
      "outputs": [],
      "source": [
        "score['lgbm_r'] = rmse(y_test,lgbm_pred_r)"
      ]
    },
    {
      "cell_type": "code",
      "execution_count": 175,
      "metadata": {
        "id": "RPTQtagaUp1n"
      },
      "outputs": [],
      "source": [
        "pred['lgbm_r'] = lgbm_pred_r"
      ]
    },
    {
      "cell_type": "code",
      "execution_count": 176,
      "metadata": {
        "colab": {
          "base_uri": "https://localhost:8080/",
          "height": 283
        },
        "id": "EQ6fIRo0KhPJ",
        "outputId": "2c3d4271-a4c8-4cee-cedc-8b8a3a2f35f9"
      },
      "outputs": [
        {
          "data": {
            "text/plain": [
              "<AxesSubplot: ylabel='Density'>"
            ]
          },
          "execution_count": 176,
          "metadata": {},
          "output_type": "execute_result"
        },
        {
          "data": {
            "image/png": "[encoded data removed]",
            "text/plain": [
              "<Figure size 640x480 with 1 Axes>"
            ]
          },
          "metadata": {},
          "output_type": "display_data"
        }
      ],
      "source": [
        "sns.distplot(pd.Series(lgbm_pred_r))"
      ]
    },
    {
      "cell_type": "code",
      "execution_count": 177,
      "metadata": {
        "colab": {
          "base_uri": "https://localhost:8080/"
        },
        "id": "AJZn85wiKm6g",
        "outputId": "e869f8ae-3cbf-4dca-c7b2-4fca994d37b5"
      },
      "outputs": [
        {
          "data": {
            "text/plain": [
              "7    54349\n",
              "8     4202\n",
              "6     1932\n",
              "4      431\n",
              "9      301\n",
              "5      133\n",
              "3       11\n",
              "dtype: int64"
            ]
          },
          "execution_count": 177,
          "metadata": {},
          "output_type": "execute_result"
        }
      ],
      "source": [
        "pd.Series(lgbm_pred_r).map(round).value_counts()"
      ]
    },
    {
      "cell_type": "code",
      "execution_count": 178,
      "metadata": {
        "colab": {
          "base_uri": "https://localhost:8080/"
        },
        "id": "tQD-mksLhKGk",
        "outputId": "ae73348e-40d3-43fe-db10-e3f3abee661d"
      },
      "outputs": [
        {
          "name": "stdout",
          "output_type": "stream",
          "text": [
            "RMSE of lgbm_Regressor : 2.3567\n"
          ]
        }
      ],
      "source": [
        "rmse_v = score['lgbm_r']\n",
        "print(f\"RMSE of lgbm_Regressor : {round(rmse_v,4)}\")"
      ]
    },
    {
      "cell_type": "markdown",
      "metadata": {
        "id": "2DvLqvwP2mGq"
      },
      "source": [
        "## Catboost"
      ]
    },
    {
      "cell_type": "markdown",
      "metadata": {
        "id": "rVE10lnsDI_G"
      },
      "source": [
        "#### Catboost Classifier"
      ]
    },
    {
      "cell_type": "code",
      "execution_count": 179,
      "metadata": {
        "id": "RVOQWmT5KheC"
      },
      "outputs": [],
      "source": [
        "params = {}\n",
        "params['iterations'] = 100\n",
        "params['learning_rate']=0.1\n",
        "params['depth']=8"
      ]
    },
    {
      "cell_type": "code",
      "execution_count": 180,
      "metadata": {
        "id": "pAIVN3JXZzNr"
      },
      "outputs": [],
      "source": [
        "param['catboost'] = params"
      ]
    },
    {
      "cell_type": "code",
      "execution_count": 181,
      "metadata": {
        "colab": {
          "base_uri": "https://localhost:8080/"
        },
        "id": "xoxNPHrLkuYJ",
        "outputId": "375b0ddc-9344-4f1a-c641-6525224e5bb7"
      },
      "outputs": [
        {
          "name": "stdout",
          "output_type": "stream",
          "text": [
            "0:\tlearn: 2.2549030\ttotal: 262ms\tremaining: 26s\n",
            "1:\tlearn: 2.2184344\ttotal: 526ms\tremaining: 25.8s\n",
            "2:\tlearn: 2.1896707\ttotal: 746ms\tremaining: 24.1s\n",
            "3:\tlearn: 2.1658930\ttotal: 1.09s\tremaining: 26.2s\n",
            "4:\tlearn: 2.1467779\ttotal: 1.36s\tremaining: 25.9s\n",
            "5:\tlearn: 2.1305810\ttotal: 1.72s\tremaining: 26.9s\n",
            "6:\tlearn: 2.1174950\ttotal: 2.04s\tremaining: 27.1s\n",
            "7:\tlearn: 2.1049484\ttotal: 2.35s\tremaining: 27s\n",
            "8:\tlearn: 2.0954610\ttotal: 2.7s\tremaining: 27.3s\n",
            "9:\tlearn: 2.0875042\ttotal: 3.05s\tremaining: 27.5s\n",
            "10:\tlearn: 2.0816459\ttotal: 3.4s\tremaining: 27.5s\n",
            "11:\tlearn: 2.0755167\ttotal: 3.73s\tremaining: 27.4s\n",
            "12:\tlearn: 2.0709916\ttotal: 4.08s\tremaining: 27.3s\n",
            "13:\tlearn: 2.0671068\ttotal: 4.38s\tremaining: 26.9s\n",
            "14:\tlearn: 2.0629118\ttotal: 4.66s\tremaining: 26.4s\n",
            "15:\tlearn: 2.0591875\ttotal: 4.93s\tremaining: 25.9s\n",
            "16:\tlearn: 2.0559524\ttotal: 5.25s\tremaining: 25.6s\n",
            "17:\tlearn: 2.0538551\ttotal: 5.51s\tremaining: 25.1s\n",
            "18:\tlearn: 2.0513250\ttotal: 5.74s\tremaining: 24.5s\n",
            "19:\tlearn: 2.0494375\ttotal: 6.01s\tremaining: 24s\n",
            "20:\tlearn: 2.0480091\ttotal: 6.28s\tremaining: 23.6s\n",
            "21:\tlearn: 2.0465648\ttotal: 6.58s\tremaining: 23.3s\n",
            "22:\tlearn: 2.0451422\ttotal: 6.85s\tremaining: 22.9s\n",
            "23:\tlearn: 2.0439117\ttotal: 7.12s\tremaining: 22.5s\n",
            "24:\tlearn: 2.0418722\ttotal: 7.34s\tremaining: 22s\n",
            "25:\tlearn: 2.0408547\ttotal: 7.55s\tremaining: 21.5s\n",
            "26:\tlearn: 2.0400986\ttotal: 7.8s\tremaining: 21.1s\n",
            "27:\tlearn: 2.0388424\ttotal: 8.05s\tremaining: 20.7s\n",
            "28:\tlearn: 2.0376647\ttotal: 8.31s\tremaining: 20.3s\n",
            "29:\tlearn: 2.0361256\ttotal: 8.55s\tremaining: 20s\n",
            "30:\tlearn: 2.0353100\ttotal: 8.78s\tremaining: 19.5s\n",
            "31:\tlearn: 2.0339773\ttotal: 9.01s\tremaining: 19.1s\n",
            "32:\tlearn: 2.0332599\ttotal: 9.27s\tremaining: 18.8s\n",
            "33:\tlearn: 2.0325613\ttotal: 9.47s\tremaining: 18.4s\n",
            "34:\tlearn: 2.0314685\ttotal: 9.84s\tremaining: 18.3s\n",
            "35:\tlearn: 2.0308382\ttotal: 10.2s\tremaining: 18.1s\n",
            "36:\tlearn: 2.0302062\ttotal: 10.4s\tremaining: 17.7s\n",
            "37:\tlearn: 2.0290572\ttotal: 10.6s\tremaining: 17.3s\n",
            "38:\tlearn: 2.0286622\ttotal: 10.8s\tremaining: 16.8s\n",
            "39:\tlearn: 2.0282449\ttotal: 11s\tremaining: 16.5s\n",
            "40:\tlearn: 2.0273024\ttotal: 11.2s\tremaining: 16.1s\n",
            "41:\tlearn: 2.0268901\ttotal: 11.4s\tremaining: 15.7s\n",
            "42:\tlearn: 2.0260539\ttotal: 11.6s\tremaining: 15.4s\n",
            "43:\tlearn: 2.0255435\ttotal: 11.8s\tremaining: 15s\n",
            "44:\tlearn: 2.0250143\ttotal: 12s\tremaining: 14.7s\n",
            "45:\tlearn: 2.0245505\ttotal: 12.2s\tremaining: 14.3s\n",
            "46:\tlearn: 2.0240197\ttotal: 12.4s\tremaining: 13.9s\n",
            "47:\tlearn: 2.0235616\ttotal: 12.6s\tremaining: 13.6s\n",
            "48:\tlearn: 2.0232218\ttotal: 12.7s\tremaining: 13.3s\n",
            "49:\tlearn: 2.0228464\ttotal: 13s\tremaining: 13s\n",
            "50:\tlearn: 2.0225198\ttotal: 13.2s\tremaining: 12.7s\n",
            "51:\tlearn: 2.0221535\ttotal: 13.4s\tremaining: 12.4s\n",
            "52:\tlearn: 2.0216213\ttotal: 13.6s\tremaining: 12s\n",
            "53:\tlearn: 2.0212788\ttotal: 13.8s\tremaining: 11.7s\n",
            "54:\tlearn: 2.0206470\ttotal: 14s\tremaining: 11.4s\n",
            "55:\tlearn: 2.0202905\ttotal: 14.2s\tremaining: 11.1s\n",
            "56:\tlearn: 2.0197330\ttotal: 14.4s\tremaining: 10.8s\n",
            "57:\tlearn: 2.0191267\ttotal: 14.6s\tremaining: 10.6s\n",
            "58:\tlearn: 2.0188119\ttotal: 14.8s\tremaining: 10.3s\n",
            "59:\tlearn: 2.0185597\ttotal: 15s\tremaining: 9.99s\n",
            "60:\tlearn: 2.0180370\ttotal: 15.2s\tremaining: 9.7s\n",
            "61:\tlearn: 2.0172694\ttotal: 15.4s\tremaining: 9.42s\n",
            "62:\tlearn: 2.0168227\ttotal: 15.6s\tremaining: 9.13s\n",
            "63:\tlearn: 2.0164581\ttotal: 15.7s\tremaining: 8.85s\n",
            "64:\tlearn: 2.0162220\ttotal: 16s\tremaining: 8.61s\n",
            "65:\tlearn: 2.0158439\ttotal: 16.2s\tremaining: 8.34s\n",
            "66:\tlearn: 2.0155762\ttotal: 16.5s\tremaining: 8.12s\n",
            "67:\tlearn: 2.0153924\ttotal: 16.7s\tremaining: 7.84s\n",
            "68:\tlearn: 2.0147040\ttotal: 16.9s\tremaining: 7.6s\n",
            "69:\tlearn: 2.0139312\ttotal: 17.1s\tremaining: 7.35s\n",
            "70:\tlearn: 2.0131840\ttotal: 17.4s\tremaining: 7.09s\n",
            "71:\tlearn: 2.0128092\ttotal: 17.6s\tremaining: 6.83s\n",
            "72:\tlearn: 2.0122927\ttotal: 17.7s\tremaining: 6.56s\n",
            "73:\tlearn: 2.0117387\ttotal: 17.9s\tremaining: 6.3s\n",
            "74:\tlearn: 2.0112375\ttotal: 18.1s\tremaining: 6.04s\n",
            "75:\tlearn: 2.0109066\ttotal: 18.3s\tremaining: 5.79s\n",
            "76:\tlearn: 2.0105146\ttotal: 18.5s\tremaining: 5.54s\n",
            "77:\tlearn: 2.0100827\ttotal: 18.8s\tremaining: 5.29s\n",
            "78:\tlearn: 2.0095925\ttotal: 19s\tremaining: 5.04s\n",
            "79:\tlearn: 2.0086428\ttotal: 19.2s\tremaining: 4.8s\n",
            "80:\tlearn: 2.0081670\ttotal: 19.4s\tremaining: 4.55s\n",
            "81:\tlearn: 2.0078621\ttotal: 19.6s\tremaining: 4.3s\n",
            "82:\tlearn: 2.0073558\ttotal: 19.8s\tremaining: 4.05s\n",
            "83:\tlearn: 2.0070252\ttotal: 20s\tremaining: 3.81s\n",
            "84:\tlearn: 2.0066044\ttotal: 20.2s\tremaining: 3.56s\n",
            "85:\tlearn: 2.0062387\ttotal: 20.4s\tremaining: 3.32s\n",
            "86:\tlearn: 2.0059146\ttotal: 20.6s\tremaining: 3.08s\n",
            "87:\tlearn: 2.0052840\ttotal: 20.8s\tremaining: 2.84s\n",
            "88:\tlearn: 2.0048372\ttotal: 21s\tremaining: 2.6s\n",
            "89:\tlearn: 2.0045520\ttotal: 21.2s\tremaining: 2.35s\n",
            "90:\tlearn: 2.0037773\ttotal: 21.4s\tremaining: 2.12s\n",
            "91:\tlearn: 2.0035073\ttotal: 21.6s\tremaining: 1.88s\n",
            "92:\tlearn: 2.0031976\ttotal: 21.8s\tremaining: 1.64s\n",
            "93:\tlearn: 2.0028351\ttotal: 22s\tremaining: 1.4s\n",
            "94:\tlearn: 2.0022295\ttotal: 22.2s\tremaining: 1.17s\n",
            "95:\tlearn: 2.0019498\ttotal: 22.4s\tremaining: 934ms\n",
            "96:\tlearn: 2.0017204\ttotal: 22.6s\tremaining: 699ms\n",
            "97:\tlearn: 2.0014691\ttotal: 22.8s\tremaining: 465ms\n",
            "98:\tlearn: 2.0008798\ttotal: 23s\tremaining: 232ms\n",
            "99:\tlearn: 2.0004128\ttotal: 23.2s\tremaining: 0us\n"
          ]
        }
      ],
      "source": [
        "catboost_cl = CatBoostClassifier(**params, verbose=True, random_state=42)\n",
        "catboost_cl.fit(X_train.select_dtypes(exclude='object'), y_train, early_stopping_rounds=100)\n",
        "catboost_pred_cl = catboost_cl.predict(X_test.select_dtypes(exclude='object'))"
      ]
    },
    {
      "cell_type": "code",
      "execution_count": 182,
      "metadata": {
        "id": "dXIKcpeOpzVl"
      },
      "outputs": [],
      "source": [
        "score['catboost_cl'] = rmse(y_test,catboost_pred_cl.squeeze(1))"
      ]
    },
    {
      "cell_type": "code",
      "execution_count": 183,
      "metadata": {
        "id": "y9SBCdVvUtp7"
      },
      "outputs": [],
      "source": [
        "pred['catboost_cl'] = catboost_pred_cl.squeeze(1)"
      ]
    },
    {
      "cell_type": "code",
      "execution_count": 184,
      "metadata": {
        "colab": {
          "base_uri": "https://localhost:8080/"
        },
        "id": "Jl1YZb1Jh9Hv",
        "outputId": "f9469edd-b578-4ad6-8915-ec1f54c55fb9"
      },
      "outputs": [
        {
          "name": "stdout",
          "output_type": "stream",
          "text": [
            "RMSE of Catboost Classifier : 2.6069\n"
          ]
        }
      ],
      "source": [
        "rmse_v = score['catboost_cl']\n",
        "print(f\"RMSE of Catboost Classifier : {round(rmse_v,4)}\")"
      ]
    },
    {
      "cell_type": "markdown",
      "metadata": {
        "id": "TJRs9nmAp0PG"
      },
      "source": [
        "#### Catboost Regressor"
      ]
    },
    {
      "cell_type": "code",
      "execution_count": 185,
      "metadata": {
        "colab": {
          "base_uri": "https://localhost:8080/"
        },
        "id": "4A1ubA0deAiz",
        "outputId": "f49ffc18-ed68-4ce4-d37c-e7a075fdb08e"
      },
      "outputs": [
        {
          "name": "stdout",
          "output_type": "stream",
          "text": [
            "0:\tlearn: 2.4270181\ttotal: 18.1ms\tremaining: 1.79s\n",
            "1:\tlearn: 2.4212968\ttotal: 33.7ms\tremaining: 1.65s\n",
            "2:\tlearn: 2.4163044\ttotal: 49ms\tremaining: 1.58s\n",
            "3:\tlearn: 2.4125796\ttotal: 65ms\tremaining: 1.56s\n",
            "4:\tlearn: 2.4094756\ttotal: 78.8ms\tremaining: 1.5s\n",
            "5:\tlearn: 2.4062509\ttotal: 93.3ms\tremaining: 1.46s\n",
            "6:\tlearn: 2.4034655\ttotal: 107ms\tremaining: 1.43s\n",
            "7:\tlearn: 2.4012903\ttotal: 121ms\tremaining: 1.39s\n",
            "8:\tlearn: 2.3995111\ttotal: 135ms\tremaining: 1.37s\n",
            "9:\tlearn: 2.3979077\ttotal: 150ms\tremaining: 1.35s\n",
            "10:\tlearn: 2.3957896\ttotal: 165ms\tremaining: 1.33s\n",
            "11:\tlearn: 2.3941560\ttotal: 179ms\tremaining: 1.31s\n",
            "12:\tlearn: 2.3920128\ttotal: 193ms\tremaining: 1.29s\n",
            "13:\tlearn: 2.3909687\ttotal: 207ms\tremaining: 1.27s\n",
            "14:\tlearn: 2.3899611\ttotal: 224ms\tremaining: 1.27s\n",
            "15:\tlearn: 2.3888538\ttotal: 243ms\tremaining: 1.27s\n",
            "16:\tlearn: 2.3872612\ttotal: 266ms\tremaining: 1.3s\n",
            "17:\tlearn: 2.3859139\ttotal: 287ms\tremaining: 1.31s\n",
            "18:\tlearn: 2.3846555\ttotal: 308ms\tremaining: 1.31s\n",
            "19:\tlearn: 2.3833581\ttotal: 328ms\tremaining: 1.31s\n",
            "20:\tlearn: 2.3823013\ttotal: 349ms\tremaining: 1.31s\n",
            "21:\tlearn: 2.3816261\ttotal: 370ms\tremaining: 1.31s\n",
            "22:\tlearn: 2.3806145\ttotal: 389ms\tremaining: 1.3s\n",
            "23:\tlearn: 2.3798584\ttotal: 407ms\tremaining: 1.29s\n",
            "24:\tlearn: 2.3784950\ttotal: 427ms\tremaining: 1.28s\n",
            "25:\tlearn: 2.3772870\ttotal: 450ms\tremaining: 1.28s\n",
            "26:\tlearn: 2.3765810\ttotal: 469ms\tremaining: 1.27s\n",
            "27:\tlearn: 2.3760498\ttotal: 490ms\tremaining: 1.26s\n",
            "28:\tlearn: 2.3755461\ttotal: 511ms\tremaining: 1.25s\n",
            "29:\tlearn: 2.3745616\ttotal: 531ms\tremaining: 1.24s\n",
            "30:\tlearn: 2.3737481\ttotal: 552ms\tremaining: 1.23s\n",
            "31:\tlearn: 2.3732388\ttotal: 574ms\tremaining: 1.22s\n",
            "32:\tlearn: 2.3722661\ttotal: 591ms\tremaining: 1.2s\n",
            "33:\tlearn: 2.3713220\ttotal: 614ms\tremaining: 1.19s\n",
            "34:\tlearn: 2.3706430\ttotal: 635ms\tremaining: 1.18s\n",
            "35:\tlearn: 2.3697763\ttotal: 652ms\tremaining: 1.16s\n",
            "36:\tlearn: 2.3693445\ttotal: 666ms\tremaining: 1.13s\n",
            "37:\tlearn: 2.3686394\ttotal: 681ms\tremaining: 1.11s\n",
            "38:\tlearn: 2.3681583\ttotal: 699ms\tremaining: 1.09s\n",
            "39:\tlearn: 2.3675949\ttotal: 721ms\tremaining: 1.08s\n",
            "40:\tlearn: 2.3670441\ttotal: 743ms\tremaining: 1.07s\n",
            "41:\tlearn: 2.3666972\ttotal: 766ms\tremaining: 1.06s\n",
            "42:\tlearn: 2.3663424\ttotal: 787ms\tremaining: 1.04s\n",
            "43:\tlearn: 2.3661319\ttotal: 808ms\tremaining: 1.03s\n",
            "44:\tlearn: 2.3650293\ttotal: 829ms\tremaining: 1.01s\n",
            "45:\tlearn: 2.3639655\ttotal: 853ms\tremaining: 1s\n",
            "46:\tlearn: 2.3632718\ttotal: 875ms\tremaining: 986ms\n",
            "47:\tlearn: 2.3628347\ttotal: 898ms\tremaining: 973ms\n",
            "48:\tlearn: 2.3619690\ttotal: 921ms\tremaining: 958ms\n",
            "49:\tlearn: 2.3615628\ttotal: 940ms\tremaining: 940ms\n",
            "50:\tlearn: 2.3611960\ttotal: 960ms\tremaining: 922ms\n",
            "51:\tlearn: 2.3605375\ttotal: 981ms\tremaining: 905ms\n",
            "52:\tlearn: 2.3602584\ttotal: 1000ms\tremaining: 887ms\n",
            "53:\tlearn: 2.3598961\ttotal: 1.02s\tremaining: 871ms\n",
            "54:\tlearn: 2.3596846\ttotal: 1.04s\tremaining: 853ms\n",
            "55:\tlearn: 2.3593799\ttotal: 1.07s\tremaining: 839ms\n",
            "56:\tlearn: 2.3590894\ttotal: 1.09s\tremaining: 823ms\n",
            "57:\tlearn: 2.3588985\ttotal: 1.11s\tremaining: 801ms\n",
            "58:\tlearn: 2.3585718\ttotal: 1.12s\tremaining: 781ms\n",
            "59:\tlearn: 2.3582234\ttotal: 1.14s\tremaining: 759ms\n",
            "60:\tlearn: 2.3579362\ttotal: 1.16s\tremaining: 743ms\n",
            "61:\tlearn: 2.3575625\ttotal: 1.18s\tremaining: 724ms\n",
            "62:\tlearn: 2.3573947\ttotal: 1.2s\tremaining: 706ms\n",
            "63:\tlearn: 2.3563835\ttotal: 1.23s\tremaining: 689ms\n",
            "64:\tlearn: 2.3560980\ttotal: 1.25s\tremaining: 672ms\n",
            "65:\tlearn: 2.3555946\ttotal: 1.27s\tremaining: 653ms\n",
            "66:\tlearn: 2.3548911\ttotal: 1.29s\tremaining: 636ms\n",
            "67:\tlearn: 2.3543285\ttotal: 1.31s\tremaining: 619ms\n",
            "68:\tlearn: 2.3539182\ttotal: 1.34s\tremaining: 603ms\n",
            "69:\tlearn: 2.3534329\ttotal: 1.36s\tremaining: 583ms\n",
            "70:\tlearn: 2.3529671\ttotal: 1.38s\tremaining: 562ms\n",
            "71:\tlearn: 2.3523356\ttotal: 1.39s\tremaining: 540ms\n",
            "72:\tlearn: 2.3521192\ttotal: 1.4s\tremaining: 519ms\n",
            "73:\tlearn: 2.3516543\ttotal: 1.42s\tremaining: 497ms\n",
            "74:\tlearn: 2.3514965\ttotal: 1.43s\tremaining: 476ms\n",
            "75:\tlearn: 2.3512481\ttotal: 1.44s\tremaining: 455ms\n",
            "76:\tlearn: 2.3508904\ttotal: 1.46s\tremaining: 435ms\n",
            "77:\tlearn: 2.3504360\ttotal: 1.47s\tremaining: 415ms\n",
            "78:\tlearn: 2.3502325\ttotal: 1.48s\tremaining: 395ms\n",
            "79:\tlearn: 2.3500583\ttotal: 1.5s\tremaining: 376ms\n",
            "80:\tlearn: 2.3493627\ttotal: 1.52s\tremaining: 356ms\n",
            "81:\tlearn: 2.3488536\ttotal: 1.53s\tremaining: 337ms\n",
            "82:\tlearn: 2.3482853\ttotal: 1.55s\tremaining: 318ms\n",
            "83:\tlearn: 2.3477787\ttotal: 1.58s\tremaining: 300ms\n",
            "84:\tlearn: 2.3475828\ttotal: 1.59s\tremaining: 281ms\n",
            "85:\tlearn: 2.3473430\ttotal: 1.61s\tremaining: 262ms\n",
            "86:\tlearn: 2.3467091\ttotal: 1.62s\tremaining: 242ms\n",
            "87:\tlearn: 2.3459084\ttotal: 1.63s\tremaining: 223ms\n",
            "88:\tlearn: 2.3457714\ttotal: 1.65s\tremaining: 204ms\n",
            "89:\tlearn: 2.3451526\ttotal: 1.67s\tremaining: 185ms\n",
            "90:\tlearn: 2.3448179\ttotal: 1.68s\tremaining: 167ms\n",
            "91:\tlearn: 2.3444616\ttotal: 1.7s\tremaining: 148ms\n",
            "92:\tlearn: 2.3439848\ttotal: 1.71s\tremaining: 129ms\n",
            "93:\tlearn: 2.3435144\ttotal: 1.73s\tremaining: 110ms\n",
            "94:\tlearn: 2.3432498\ttotal: 1.74s\tremaining: 91.8ms\n",
            "95:\tlearn: 2.3428319\ttotal: 1.76s\tremaining: 73.3ms\n",
            "96:\tlearn: 2.3426793\ttotal: 1.77s\tremaining: 54.8ms\n",
            "97:\tlearn: 2.3424486\ttotal: 1.78s\tremaining: 36.4ms\n",
            "98:\tlearn: 2.3419817\ttotal: 1.8s\tremaining: 18.2ms\n",
            "99:\tlearn: 2.3415849\ttotal: 1.81s\tremaining: 0us\n"
          ]
        }
      ],
      "source": [
        "catboost_r = CatBoostRegressor(**params, verbose=True, random_state=42)\n",
        "catboost_r.fit(X_train.select_dtypes(exclude='object'), y_train, early_stopping_rounds=100)\n",
        "catboost_pred_r = catboost_r.predict(X_test.select_dtypes(exclude='object'))"
      ]
    },
    {
      "cell_type": "code",
      "execution_count": 186,
      "metadata": {
        "id": "bSllYW1rvC2p"
      },
      "outputs": [],
      "source": [
        "score['catboost_r'] = rmse(y_test,catboost_pred_r)"
      ]
    },
    {
      "cell_type": "code",
      "execution_count": 187,
      "metadata": {
        "id": "T3czfDnwUxcW"
      },
      "outputs": [],
      "source": [
        "pred['catboost_r'] = catboost_pred_r"
      ]
    },
    {
      "cell_type": "code",
      "execution_count": 188,
      "metadata": {
        "colab": {
          "base_uri": "https://localhost:8080/"
        },
        "id": "pU2V81ANibjh",
        "outputId": "ef8838a4-82af-4689-db8b-f00611a6bd07"
      },
      "outputs": [
        {
          "name": "stdout",
          "output_type": "stream",
          "text": [
            "RMSE of Catboost Regressor : 2.3511\n"
          ]
        }
      ],
      "source": [
        "rmse_v = score['catboost_r']\n",
        "print(f\"RMSE of Catboost Regressor : {round(rmse_v,4)}\")"
      ]
    },
    {
      "cell_type": "markdown",
      "metadata": {
        "id": "KLlChb0fCso7"
      },
      "source": [
        "# [6] 하이브리드 접근법을 이용한 성능 개선"
      ]
    },
    {
      "cell_type": "markdown",
      "metadata": {
        "id": "3bC1sxa1iu80"
      },
      "source": [
        "현재까지 하이브리드 기법을 이용하지 않은 성능은 다음과 같습니다."
      ]
    },
    {
      "cell_type": "code",
      "execution_count": 189,
      "metadata": {
        "colab": {
          "base_uri": "https://localhost:8080/"
        },
        "id": "JGDDK2TiiuzH",
        "outputId": "4cdcf362-94b8-488f-87b5-7f0181bac0fc"
      },
      "outputs": [
        {
          "data": {
            "text/plain": [
              "{'svd': 2.2151653244307097,\n",
              " 'coclu': 2.5070737129167298,\n",
              " 'lgbm_cl': 2.5746692200347607,\n",
              " 'lgbm_r': 2.356689673676339,\n",
              " 'catboost_cl': 2.606911496136542,\n",
              " 'catboost_r': 2.35107900347085}"
            ]
          },
          "execution_count": 189,
          "metadata": {},
          "output_type": "execute_result"
        }
      ],
      "source": [
        "score"
      ]
    },
    {
      "cell_type": "markdown",
      "metadata": {
        "id": "hflJn21WFTiq"
      },
      "source": [
        "## Weighted\n",
        "\n",
        "먼저 각 결과값에 가중치를 주어, 결과를 앙상블하는 기법인 weighted Approach에 대해 알아봅시다."
      ]
    },
    {
      "cell_type": "markdown",
      "metadata": {
        "id": "iYk3bm4KcXZZ"
      },
      "source": [
        "### Simple Weight : 직접 지정\n",
        "\n",
        "먼저, 직접 지정하는 방법입니다."
      ]
    },
    {
      "cell_type": "code",
      "execution_count": 190,
      "metadata": {
        "id": "gtD0kdAdkuQU"
      },
      "outputs": [],
      "source": [
        "# 기본 Weight\n",
        "def simple_weighted(output_list: list, weight: list):\n",
        "    pred = []\n",
        "    for arr in output_list:\n",
        "        pred.append(arr)\n",
        "\n",
        "    pred_arr = np.append([pred[0]], [pred[1]], axis=0)\n",
        "    for i in range(2, len(pred)):\n",
        "        pred_arr = np.append(pred_arr, [pred[i]], axis=0)\n",
        "    \n",
        "    result = np.dot(pred_arr.T, np.array(weight))\n",
        "    return result"
      ]
    },
    {
      "cell_type": "code",
      "execution_count": 191,
      "metadata": {
        "id": "-Kq3IsUYg2-Y"
      },
      "outputs": [],
      "source": [
        "weighted_pred = simple_weighted([svd_pred,lgbm_pred_r,catboost_pred_r], weight=[0.5, 0.2, 0.3])"
      ]
    },
    {
      "cell_type": "markdown",
      "metadata": {
        "id": "T0dediLqOFCQ"
      },
      "source": [
        "기존 모델에 비해 성능이 조금 향상됨을 확인할 수 있습니다."
      ]
    },
    {
      "cell_type": "code",
      "execution_count": 192,
      "metadata": {
        "colab": {
          "base_uri": "https://localhost:8080/"
        },
        "id": "lajbbI9i2BZm",
        "outputId": "94100daf-f97b-4906-dd90-f581ce06792e"
      },
      "outputs": [
        {
          "name": "stdout",
          "output_type": "stream",
          "text": [
            "RMSE of Simple Weighted : 2.2378\n"
          ]
        }
      ],
      "source": [
        "rmse_v = rmse(y_test, weighted_pred)\n",
        "print(f\"RMSE of Simple Weighted : {round(rmse_v,4)}\")"
      ]
    },
    {
      "cell_type": "markdown",
      "metadata": {
        "id": "OP4Oma9AcbIK"
      },
      "source": [
        "### Optimal Weight : 가중치 탐색"
      ]
    },
    {
      "cell_type": "markdown",
      "metadata": {
        "id": "0tRgVDzpOybN"
      },
      "source": [
        "아래 코드를 통해 최적의 weight를 찾을 수도 있습니다.\n",
        "먼저 Weight를 줄 모델을 선정하여 봅니다.\n"
      ]
    },
    {
      "cell_type": "code",
      "execution_count": 193,
      "metadata": {
        "id": "laBp-_qvRjHX"
      },
      "outputs": [],
      "source": [
        "def find_suitable_model(score:dict,threshold:float)->list:\n",
        "    suitable_models = [k for k,v in score.items() if v<threshold]\n",
        "    return suitable_models"
      ]
    },
    {
      "cell_type": "code",
      "execution_count": 194,
      "metadata": {
        "colab": {
          "base_uri": "https://localhost:8080/"
        },
        "id": "MgzS-N7UTJNj",
        "outputId": "e4186f26-7de8-4523-f853-bfdee8f2eb3e"
      },
      "outputs": [
        {
          "name": "stdout",
          "output_type": "stream",
          "text": [
            "RMSE 3.4 이하 모델 활용 : ['svd', 'coclu', 'lgbm_cl', 'lgbm_r', 'catboost_cl', 'catboost_r']\n"
          ]
        }
      ],
      "source": [
        "threshold = 3.4\n",
        "suitable_models = find_suitable_model(score,threshold)\n",
        "print(f\"RMSE {threshold} 이하 모델 활용 : {suitable_models}\")"
      ]
    },
    {
      "cell_type": "code",
      "execution_count": 195,
      "metadata": {
        "id": "OPiFHoT7ZtLz"
      },
      "outputs": [],
      "source": [
        "output_list = [pred[m] for m in suitable_models]"
      ]
    },
    {
      "cell_type": "code",
      "execution_count": 196,
      "metadata": {
        "id": "Xshx-CLpOxoJ"
      },
      "outputs": [],
      "source": [
        "def optimal_weighted(output_list: list, n:int)->dict:\n",
        "    record = {'rmse':10,'weight':[]}\n",
        "    \n",
        "    for _ in range(n):\n",
        "        random_weight = np.random.dirichlet(np.ones(len(output_list)),size=1).squeeze()\n",
        "        pred_weight_zip = zip(output_list,random_weight)\n",
        "        pred_weight_list = [pred*np.array(weight) for pred, weight in pred_weight_zip]\n",
        "        pred_result = np.sum(pred_weight_list, axis=0)\n",
        "        rmse_v = rmse(y_test,pred_result)\n",
        "        if rmse_v < record['rmse']:\n",
        "            record['rmse'] = rmse_v\n",
        "            record['weight'] = random_weight\n",
        "    return record"
      ]
    },
    {
      "cell_type": "markdown",
      "metadata": {
        "id": "X2sLfV-4jGCl"
      },
      "source": [
        "조금 더 향상된 결과를 확인할 수 있습니다."
      ]
    },
    {
      "cell_type": "code",
      "execution_count": 197,
      "metadata": {
        "colab": {
          "base_uri": "https://localhost:8080/"
        },
        "id": "vj9ij_czPU1a",
        "outputId": "92e52029-61ed-4a4f-aa45-8a76bf0fb01f"
      },
      "outputs": [
        {
          "data": {
            "text/plain": [
              "{'rmse': 2.2125957172930684,\n",
              " 'weight': array([8.62062643e-01, 1.01309598e-02, 2.89666560e-02, 5.17078433e-04,\n",
              "        1.37522509e-02, 8.45704124e-02])}"
            ]
          },
          "execution_count": 197,
          "metadata": {},
          "output_type": "execute_result"
        }
      ],
      "source": [
        "opt_w = optimal_weighted(output_list=output_list,n=100)\n",
        "opt_w"
      ]
    },
    {
      "cell_type": "markdown",
      "metadata": {
        "id": "fIyu5QNQXIp6"
      },
      "source": [
        "위 코드에서 얻은 optimal한 weight을 가지고, 최적의 pred값을 얻어보겠습니다."
      ]
    },
    {
      "cell_type": "code",
      "execution_count": 198,
      "metadata": {
        "id": "szhx8WSEPhkf"
      },
      "outputs": [],
      "source": [
        "opt_weighted_pred = simple_weighted(output_list,\n",
        "                                    weight=opt_w['weight'])"
      ]
    },
    {
      "cell_type": "code",
      "execution_count": 199,
      "metadata": {
        "id": "fce-wul_Y752"
      },
      "outputs": [],
      "source": [
        "pred['opt_weight'] = opt_weighted_pred"
      ]
    },
    {
      "cell_type": "code",
      "execution_count": 200,
      "metadata": {
        "colab": {
          "base_uri": "https://localhost:8080/"
        },
        "id": "pGry25bwPtO0",
        "outputId": "ff869436-dc13-4a31-b4cb-d7e754709c50"
      },
      "outputs": [
        {
          "name": "stdout",
          "output_type": "stream",
          "text": [
            "RMSE of Optimal Weighted : 2.2126\n"
          ]
        }
      ],
      "source": [
        "rmse_v = rmse(y_test, opt_weighted_pred)\n",
        "score['opt_weight'] = rmse_v\n",
        "print(f\"RMSE of Optimal Weighted : {round(rmse_v,4)}\")"
      ]
    },
    {
      "cell_type": "markdown",
      "metadata": {
        "id": "e8IjcHasGLOQ"
      },
      "source": [
        "## Feature Combine\n",
        "\n",
        "Feature Combine 방법을 이용하여, 타 모델에서 생성된 pred 값을 Input으로 사용합니다.\n",
        "\n",
        "item과 user의 feature를 사용하는 LGBM, Catboost에 추가하여 넘겨주도록 하겠습니다.\n"
      ]
    },
    {
      "cell_type": "code",
      "execution_count": 201,
      "metadata": {
        "colab": {
          "base_uri": "https://localhost:8080/"
        },
        "id": "MOG8ifXOYURS",
        "outputId": "f15f0191-049c-4466-c6c5-737b4b3c06b1"
      },
      "outputs": [
        {
          "data": {
            "text/plain": [
              "{'svd': 2.2151653244307097,\n",
              " 'coclu': 2.5070737129167298,\n",
              " 'lgbm_cl': 2.5746692200347607,\n",
              " 'lgbm_r': 2.356689673676339,\n",
              " 'catboost_cl': 2.606911496136542,\n",
              " 'catboost_r': 2.35107900347085,\n",
              " 'opt_weight': 2.2125957172930684}"
            ]
          },
          "execution_count": 201,
          "metadata": {},
          "output_type": "execute_result"
        }
      ],
      "source": [
        "score"
      ]
    },
    {
      "cell_type": "markdown",
      "metadata": {
        "id": "NXZJkEU4yCjY"
      },
      "source": [
        "성능이 가장 좋지 않았던 lgbm_cl, catboost_cl 등의 classifier model\u001d 성능 향상을 확인해 보겠습니다."
      ]
    },
    {
      "cell_type": "code",
      "execution_count": 202,
      "metadata": {
        "id": "XN5LZZiLon40"
      },
      "outputs": [],
      "source": [
        "train_uir_tuple = list(zip(train_df['uid'], train_df['iid'], train_df['ratings']))"
      ]
    },
    {
      "cell_type": "code",
      "execution_count": 203,
      "metadata": {
        "id": "LUMpZ5JEb7c2"
      },
      "outputs": [],
      "source": [
        "X_train_combine = X_train.copy()\n",
        "X_test_combine = X_test.copy()"
      ]
    },
    {
      "cell_type": "markdown",
      "metadata": {
        "id": "kndt_Q_RH_Iz"
      },
      "source": [
        "### Rating \bFeature 추가"
      ]
    },
    {
      "cell_type": "markdown",
      "metadata": {
        "id": "_6iyFPzgcOwI"
      },
      "source": [
        "여기서는 user-item 사이 interaction 데이터를 이용한 SVD, Co-clustering 알고리즘에서 예측한 pred_rating 에 대한 정보를 넘겨주도록 하겠습니다."
      ]
    },
    {
      "cell_type": "code",
      "execution_count": 204,
      "metadata": {
        "id": "SC1nYqL-jVG9"
      },
      "outputs": [],
      "source": [
        "X_train_combine['svd_rating'] = list(map(lambda x:round(x.est), svd.test(train_uir_tuple)))\n",
        "X_test_combine['svd_rating'] = svd_pred"
      ]
    },
    {
      "cell_type": "code",
      "execution_count": 205,
      "metadata": {
        "id": "3Fqq-XoifMD6"
      },
      "outputs": [],
      "source": [
        "X_train_combine['\bcoclu_rating'] = list(map(lambda x:round(x.est), coclu.test(train_uir_tuple)))\n",
        "X_test_combine['\bcoclu_rating'] = coclu_pred"
      ]
    },
    {
      "cell_type": "code",
      "execution_count": 206,
      "metadata": {
        "id": "5KtAkNh8l0R0"
      },
      "outputs": [
        {
          "name": "stdout",
          "output_type": "stream",
          "text": [
            "[LightGBM] [Warning] Unknown parameter: n_epochs\n",
            "[LightGBM] [Warning] lambda_l2 is set with lambda=0.1, reg_lambda=0.0 will be ignored. Current value: lambda_l2=0.1\n"
          ]
        }
      ],
      "source": [
        "combined_lgbm_cl = LGBMClassifier(**param['lgbm'] , random_state=42)\n",
        "combined_lgbm_cl.fit(X_train_combine.select_dtypes(exclude='object'), y_train)\n",
        "com_lgbm_pred = combined_lgbm_cl.predict(X_test_combine.select_dtypes(exclude='object'))"
      ]
    },
    {
      "cell_type": "markdown",
      "metadata": {
        "id": "OUQ7gfZlITmk"
      },
      "source": [
        "### 성능 향상"
      ]
    },
    {
      "cell_type": "markdown",
      "metadata": {
        "id": "Uc3vM-Ttt-F9"
      },
      "source": [
        "svd 모델에서 파생된 rating pred를 추가한 경우, 같은 파라미터를 사용한 기존 모델보다 성능을 훨씬 향상됨을 확인할 수 있습니다.\n",
        "\n",
        "<!-- only SVD: 3.416 -->"
      ]
    },
    {
      "cell_type": "code",
      "execution_count": 207,
      "metadata": {
        "id": "KWtMzU7EYM_V"
      },
      "outputs": [],
      "source": [
        "pred['combined_lgbm_cl'] = com_lgbm_pred"
      ]
    },
    {
      "cell_type": "code",
      "execution_count": 208,
      "metadata": {
        "colab": {
          "base_uri": "https://localhost:8080/"
        },
        "id": "8MsM32lHuRYo",
        "outputId": "3b8014da-a493-4e03-ec7b-78a134234ac5"
      },
      "outputs": [
        {
          "name": "stdout",
          "output_type": "stream",
          "text": [
            "RMSE of Combined LGBM Classifier : 2.3389\n"
          ]
        }
      ],
      "source": [
        "rmse_v = rmse(y_test, com_lgbm_pred)\n",
        "score['combined_lgbm_cl'] = rmse_v\n",
        "print(f\"RMSE of Combined LGBM Classifier : {round(rmse_v,4)}\")"
      ]
    },
    {
      "cell_type": "code",
      "execution_count": 209,
      "metadata": {
        "colab": {
          "base_uri": "https://localhost:8080/"
        },
        "id": "-jVnDGCX3aPC",
        "outputId": "9b73c838-dc51-4aa8-ca03-73a11d69164d"
      },
      "outputs": [
        {
          "name": "stdout",
          "output_type": "stream",
          "text": [
            "feature combine improved RMSE -0.2357\n"
          ]
        }
      ],
      "source": [
        "improved = rmse_v - score['lgbm_cl']\n",
        "print(f'feature combine improved RMSE {round(improved,4)}')"
      ]
    },
    {
      "cell_type": "markdown",
      "metadata": {
        "id": "Ll2tL7A534yC"
      },
      "source": [
        "catboost의 case도 확인해 봅시다."
      ]
    },
    {
      "cell_type": "code",
      "execution_count": 210,
      "metadata": {
        "colab": {
          "base_uri": "https://localhost:8080/"
        },
        "id": "IzhdEUC-eojG",
        "outputId": "d5cda265-ac52-4f15-a17e-93a2044d2d2e"
      },
      "outputs": [
        {
          "name": "stdout",
          "output_type": "stream",
          "text": [
            "0:\tlearn: 2.0553576\ttotal: 209ms\tremaining: 20.7s\n",
            "1:\tlearn: 1.9006385\ttotal: 419ms\tremaining: 20.5s\n",
            "2:\tlearn: 1.7911933\ttotal: 707ms\tremaining: 22.9s\n",
            "3:\tlearn: 1.7031415\ttotal: 928ms\tremaining: 22.3s\n",
            "4:\tlearn: 1.6338323\ttotal: 1.17s\tremaining: 22.1s\n",
            "5:\tlearn: 1.5772867\ttotal: 1.43s\tremaining: 22.4s\n",
            "6:\tlearn: 1.5286607\ttotal: 1.67s\tremaining: 22.2s\n",
            "7:\tlearn: 1.4881954\ttotal: 1.89s\tremaining: 21.8s\n",
            "8:\tlearn: 1.4530808\ttotal: 2.13s\tremaining: 21.5s\n",
            "9:\tlearn: 1.4222683\ttotal: 2.34s\tremaining: 21.1s\n",
            "10:\tlearn: 1.3954303\ttotal: 2.58s\tremaining: 20.9s\n",
            "11:\tlearn: 1.3724989\ttotal: 2.8s\tremaining: 20.6s\n",
            "12:\tlearn: 1.3518436\ttotal: 3.03s\tremaining: 20.3s\n",
            "13:\tlearn: 1.3331536\ttotal: 3.26s\tremaining: 20s\n",
            "14:\tlearn: 1.3169059\ttotal: 3.49s\tremaining: 19.8s\n",
            "15:\tlearn: 1.3025327\ttotal: 3.71s\tremaining: 19.5s\n",
            "16:\tlearn: 1.2892177\ttotal: 4s\tremaining: 19.6s\n",
            "17:\tlearn: 1.2773915\ttotal: 4.27s\tremaining: 19.5s\n",
            "18:\tlearn: 1.2669402\ttotal: 4.51s\tremaining: 19.2s\n",
            "19:\tlearn: 1.2587388\ttotal: 4.75s\tremaining: 19s\n",
            "20:\tlearn: 1.2500353\ttotal: 4.97s\tremaining: 18.7s\n",
            "21:\tlearn: 1.2425181\ttotal: 5.2s\tremaining: 18.4s\n",
            "22:\tlearn: 1.2357796\ttotal: 5.43s\tremaining: 18.2s\n",
            "23:\tlearn: 1.2296574\ttotal: 5.67s\tremaining: 18s\n",
            "24:\tlearn: 1.2246052\ttotal: 5.91s\tremaining: 17.7s\n",
            "25:\tlearn: 1.2175930\ttotal: 6.14s\tremaining: 17.5s\n",
            "26:\tlearn: 1.2132133\ttotal: 6.4s\tremaining: 17.3s\n",
            "27:\tlearn: 1.2092852\ttotal: 6.63s\tremaining: 17.1s\n",
            "28:\tlearn: 1.2055357\ttotal: 6.85s\tremaining: 16.8s\n",
            "29:\tlearn: 1.2014747\ttotal: 7.08s\tremaining: 16.5s\n",
            "30:\tlearn: 1.1983565\ttotal: 7.3s\tremaining: 16.2s\n",
            "31:\tlearn: 1.1941844\ttotal: 7.59s\tremaining: 16.1s\n",
            "32:\tlearn: 1.1915329\ttotal: 7.85s\tremaining: 15.9s\n",
            "33:\tlearn: 1.1890762\ttotal: 8.08s\tremaining: 15.7s\n",
            "34:\tlearn: 1.1861704\ttotal: 8.31s\tremaining: 15.4s\n",
            "35:\tlearn: 1.1839154\ttotal: 8.53s\tremaining: 15.2s\n",
            "36:\tlearn: 1.1817341\ttotal: 8.75s\tremaining: 14.9s\n",
            "37:\tlearn: 1.1799642\ttotal: 8.97s\tremaining: 14.6s\n",
            "38:\tlearn: 1.1781693\ttotal: 9.22s\tremaining: 14.4s\n",
            "39:\tlearn: 1.1761045\ttotal: 9.47s\tremaining: 14.2s\n",
            "40:\tlearn: 1.1738723\ttotal: 9.69s\tremaining: 13.9s\n",
            "41:\tlearn: 1.1729536\ttotal: 9.9s\tremaining: 13.7s\n",
            "42:\tlearn: 1.1717075\ttotal: 10.2s\tremaining: 13.5s\n",
            "43:\tlearn: 1.1702188\ttotal: 10.4s\tremaining: 13.2s\n",
            "44:\tlearn: 1.1688809\ttotal: 10.6s\tremaining: 13s\n",
            "45:\tlearn: 1.1673673\ttotal: 10.8s\tremaining: 12.7s\n",
            "46:\tlearn: 1.1656910\ttotal: 11.1s\tremaining: 12.5s\n",
            "47:\tlearn: 1.1639430\ttotal: 11.3s\tremaining: 12.2s\n",
            "48:\tlearn: 1.1625341\ttotal: 11.5s\tremaining: 12s\n",
            "49:\tlearn: 1.1614337\ttotal: 11.7s\tremaining: 11.7s\n",
            "50:\tlearn: 1.1605135\ttotal: 12s\tremaining: 11.5s\n",
            "51:\tlearn: 1.1590421\ttotal: 12.2s\tremaining: 11.3s\n",
            "52:\tlearn: 1.1576147\ttotal: 12.4s\tremaining: 11s\n",
            "53:\tlearn: 1.1564457\ttotal: 12.7s\tremaining: 10.8s\n",
            "54:\tlearn: 1.1554954\ttotal: 13s\tremaining: 10.6s\n",
            "55:\tlearn: 1.1547355\ttotal: 13.2s\tremaining: 10.4s\n",
            "56:\tlearn: 1.1539542\ttotal: 13.4s\tremaining: 10.1s\n",
            "57:\tlearn: 1.1531028\ttotal: 13.7s\tremaining: 9.9s\n",
            "58:\tlearn: 1.1519386\ttotal: 13.9s\tremaining: 9.67s\n",
            "59:\tlearn: 1.1510520\ttotal: 14.2s\tremaining: 9.44s\n",
            "60:\tlearn: 1.1502472\ttotal: 14.4s\tremaining: 9.19s\n",
            "61:\tlearn: 1.1489762\ttotal: 14.6s\tremaining: 8.95s\n",
            "62:\tlearn: 1.1483808\ttotal: 14.8s\tremaining: 8.7s\n",
            "63:\tlearn: 1.1474680\ttotal: 15s\tremaining: 8.46s\n",
            "64:\tlearn: 1.1469184\ttotal: 15.3s\tremaining: 8.23s\n",
            "65:\tlearn: 1.1463467\ttotal: 15.5s\tremaining: 7.99s\n",
            "66:\tlearn: 1.1456030\ttotal: 15.8s\tremaining: 7.76s\n",
            "67:\tlearn: 1.1446860\ttotal: 16s\tremaining: 7.52s\n",
            "68:\tlearn: 1.1442282\ttotal: 16.2s\tremaining: 7.27s\n",
            "69:\tlearn: 1.1436838\ttotal: 16.4s\tremaining: 7.04s\n",
            "70:\tlearn: 1.1429759\ttotal: 16.7s\tremaining: 6.82s\n",
            "71:\tlearn: 1.1422396\ttotal: 16.9s\tremaining: 6.57s\n",
            "72:\tlearn: 1.1417768\ttotal: 17.1s\tremaining: 6.33s\n",
            "73:\tlearn: 1.1412651\ttotal: 17.3s\tremaining: 6.09s\n",
            "74:\tlearn: 1.1406759\ttotal: 17.5s\tremaining: 5.84s\n",
            "75:\tlearn: 1.1400830\ttotal: 17.8s\tremaining: 5.61s\n",
            "76:\tlearn: 1.1395437\ttotal: 18s\tremaining: 5.37s\n",
            "77:\tlearn: 1.1388953\ttotal: 18.2s\tremaining: 5.13s\n",
            "78:\tlearn: 1.1383871\ttotal: 18.4s\tremaining: 4.89s\n",
            "79:\tlearn: 1.1379379\ttotal: 18.7s\tremaining: 4.68s\n",
            "80:\tlearn: 1.1375439\ttotal: 18.9s\tremaining: 4.44s\n",
            "81:\tlearn: 1.1369329\ttotal: 19.2s\tremaining: 4.21s\n",
            "82:\tlearn: 1.1363246\ttotal: 19.4s\tremaining: 3.97s\n",
            "83:\tlearn: 1.1355622\ttotal: 19.6s\tremaining: 3.73s\n",
            "84:\tlearn: 1.1350612\ttotal: 19.8s\tremaining: 3.5s\n",
            "85:\tlearn: 1.1345403\ttotal: 20s\tremaining: 3.26s\n",
            "86:\tlearn: 1.1340653\ttotal: 20.3s\tremaining: 3.03s\n",
            "87:\tlearn: 1.1335114\ttotal: 20.5s\tremaining: 2.8s\n",
            "88:\tlearn: 1.1332046\ttotal: 20.7s\tremaining: 2.56s\n",
            "89:\tlearn: 1.1326905\ttotal: 21s\tremaining: 2.33s\n",
            "90:\tlearn: 1.1323181\ttotal: 21.2s\tremaining: 2.1s\n",
            "91:\tlearn: 1.1318128\ttotal: 21.4s\tremaining: 1.86s\n",
            "92:\tlearn: 1.1314731\ttotal: 21.6s\tremaining: 1.63s\n",
            "93:\tlearn: 1.1311367\ttotal: 21.9s\tremaining: 1.4s\n",
            "94:\tlearn: 1.1306434\ttotal: 22.1s\tremaining: 1.16s\n",
            "95:\tlearn: 1.1303405\ttotal: 22.3s\tremaining: 930ms\n",
            "96:\tlearn: 1.1300759\ttotal: 22.6s\tremaining: 698ms\n",
            "97:\tlearn: 1.1296170\ttotal: 22.8s\tremaining: 465ms\n",
            "98:\tlearn: 1.1291519\ttotal: 23s\tremaining: 232ms\n",
            "99:\tlearn: 1.1286294\ttotal: 23.3s\tremaining: 0us\n"
          ]
        }
      ],
      "source": [
        "combined_catboost_cl = CatBoostClassifier(**param['catboost'], verbose=True, random_state=42)\n",
        "combined_catboost_cl.fit(X_train_combine.select_dtypes(exclude='object'), y_train, early_stopping_rounds=100)\n",
        "com_catboost_pred = combined_catboost_cl.predict(X_test_combine.select_dtypes(exclude='object'))"
      ]
    },
    {
      "cell_type": "code",
      "execution_count": 211,
      "metadata": {
        "id": "9QSgsVnnYaNs"
      },
      "outputs": [],
      "source": [
        "pred['combined_catboost_cl'] = com_catboost_pred.squeeze(1)"
      ]
    },
    {
      "cell_type": "code",
      "execution_count": 212,
      "metadata": {
        "colab": {
          "base_uri": "https://localhost:8080/"
        },
        "id": "5sjc84-2wAD5",
        "outputId": "75349d4e-193a-43d9-9038-103072396b1a"
      },
      "outputs": [
        {
          "name": "stdout",
          "output_type": "stream",
          "text": [
            "RMSE of Combined Catboost Classifier : 2.3276\n"
          ]
        }
      ],
      "source": [
        "rmse_v = rmse(y_test,com_catboost_pred.squeeze(1))\n",
        "score['combined_catboost_cl'] = rmse_v\n",
        "print(f\"RMSE of Combined Catboost Classifier : {round(rmse_v,4)}\")"
      ]
    },
    {
      "cell_type": "code",
      "execution_count": 213,
      "metadata": {
        "colab": {
          "base_uri": "https://localhost:8080/"
        },
        "id": "o5CTpZNB62gO",
        "outputId": "e67f4589-573a-44bf-d374-ff4428055f03"
      },
      "outputs": [
        {
          "name": "stdout",
          "output_type": "stream",
          "text": [
            "Feature combine improved RMSE -0.2794\n"
          ]
        }
      ],
      "source": [
        "improved = rmse_v - score['catboost_cl']\n",
        "print(f'Feature combine improved RMSE {round(improved,4)}')"
      ]
    },
    {
      "cell_type": "markdown",
      "metadata": {
        "id": "wW3U8bkWF75b"
      },
      "source": [
        "## Mixed\n",
        "일반적인 Mixed 형식의 하이브리드 접근법은 Ranking 문제에서 주로 사용하는 방식입니다.\n",
        "예를 들어, top k를 추천할 때 n개의 모델에서 나온 item을 각각 섞어 k개를 선정하는 것을 들 수 있습니다.\n",
        "\n",
        "prediction\u001d을 목적으로 진행하는 이번 과제에서는 일반적인 mixed 형식은 어렵습니다.\n",
        "이에 따라, 이번 미션에서는 케이스 별 모델에서 도출한 pred rating을 섞어 최종 결과로 사용하는 방식의 개량된 mixed approach에 대해 알아보겠습니다."
      ]
    },
    {
      "cell_type": "markdown",
      "metadata": {
        "id": "UJbITzuQIiwn"
      },
      "source": [
        "### Case 분화"
      ]
    },
    {
      "cell_type": "markdown",
      "metadata": {
        "id": "0ePt2ah6HFc-"
      },
      "source": [
        "예시를 위해 pulication이 2000년 미만인 경우(20세기)와 이후인 경우(21세기)를 분화하여, 각각 다른 모델을 섞어보도록 하겠습니다."
      ]
    },
    {
      "cell_type": "markdown",
      "metadata": {
        "id": "gU1sFWu4bFCv"
      },
      "source": [
        "- train Set 케이스 분화"
      ]
    },
    {
      "cell_type": "code",
      "execution_count": 214,
      "metadata": {
        "id": "T1---7xRZkYR"
      },
      "outputs": [],
      "source": [
        "X_train_combine_21cent = X_train_combine[~(X_train_combine['year_of_publication'] < 2000)].copy().reset_index(drop=True)\n",
        "X_train_combine_20cent = X_train_combine[X_train_combine['year_of_publication'] < 2000].copy().reset_index(drop=True)"
      ]
    },
    {
      "cell_type": "code",
      "execution_count": 215,
      "metadata": {
        "id": "y4wRg2cyadPh"
      },
      "outputs": [],
      "source": [
        "y_train_21cent = y_train[~(X_train_combine['year_of_publication'] < 2000)].copy().reset_index(drop=True)\n",
        "y_train_20cent = y_train[X_train_combine['year_of_publication'] < 2000].copy().reset_index(drop=True)"
      ]
    },
    {
      "cell_type": "markdown",
      "metadata": {
        "id": "XnalE3WSbIjB"
      },
      "source": [
        "- test set 케이스 분화"
      ]
    },
    {
      "cell_type": "code",
      "execution_count": 216,
      "metadata": {
        "id": "K1wtREyfZVTw"
      },
      "outputs": [],
      "source": [
        "X_test_combine_21cent = X_test_combine[~(X_test_combine['year_of_publication'] < 2000)].copy().reset_index(drop=True)\n",
        "X_test_combine_20cent = X_test_combine[X_test_combine['year_of_publication'] < 2000].copy().reset_index(drop=True)"
      ]
    },
    {
      "cell_type": "code",
      "execution_count": 217,
      "metadata": {
        "id": "-1DgtvECa0-Z"
      },
      "outputs": [],
      "source": [
        "y_test_21cent = y_test[~(X_test_combine['year_of_publication'] < 2000)].copy().reset_index(drop=True)\n",
        "y_test_20cent = y_test[X_test_combine['year_of_publication'] < 2000].copy().reset_index(drop=True)"
      ]
    },
    {
      "cell_type": "markdown",
      "metadata": {
        "id": "Nl96UaOObT27"
      },
      "source": [
        "### Case 별 모델 학습"
      ]
    },
    {
      "cell_type": "code",
      "execution_count": 218,
      "metadata": {
        "id": "SI7zllw-bUDv"
      },
      "outputs": [
        {
          "name": "stdout",
          "output_type": "stream",
          "text": [
            "[LightGBM] [Warning] Unknown parameter: n_epochs\n",
            "[LightGBM] [Warning] lambda_l2 is set with lambda=0.1, reg_lambda=0.0 will be ignored. Current value: lambda_l2=0.1\n"
          ]
        }
      ],
      "source": [
        "# 20세기\n",
        "lgbm_20cent = LGBMClassifier(**param['lgbm'] , random_state=42)\n",
        "lgbm_20cent.fit(X_train_combine_20cent.select_dtypes(exclude='object'), y_train_20cent)\n",
        "lgbm_20cent_pred = lgbm_20cent.predict(X_test_combine_20cent.select_dtypes(exclude='object'))"
      ]
    },
    {
      "cell_type": "code",
      "execution_count": 219,
      "metadata": {
        "colab": {
          "base_uri": "https://localhost:8080/"
        },
        "id": "bghYveebbUB3",
        "outputId": "9ea62493-5e06-44e5-d0e1-d814a170adc2"
      },
      "outputs": [
        {
          "name": "stdout",
          "output_type": "stream",
          "text": [
            "0:\tlearn: 2.0577137\ttotal: 80.4ms\tremaining: 7.96s\n",
            "1:\tlearn: 1.9060862\ttotal: 187ms\tremaining: 9.14s\n",
            "2:\tlearn: 1.7931596\ttotal: 269ms\tremaining: 8.69s\n",
            "3:\tlearn: 1.7057161\ttotal: 372ms\tremaining: 8.94s\n",
            "4:\tlearn: 1.6351656\ttotal: 451ms\tremaining: 8.57s\n",
            "5:\tlearn: 1.5768671\ttotal: 564ms\tremaining: 8.84s\n",
            "6:\tlearn: 1.5295479\ttotal: 650ms\tremaining: 8.64s\n",
            "7:\tlearn: 1.4885597\ttotal: 767ms\tremaining: 8.82s\n",
            "8:\tlearn: 1.4520143\ttotal: 859ms\tremaining: 8.68s\n",
            "9:\tlearn: 1.4202035\ttotal: 966ms\tremaining: 8.69s\n",
            "10:\tlearn: 1.3926241\ttotal: 1.05s\tremaining: 8.5s\n",
            "11:\tlearn: 1.3696158\ttotal: 1.15s\tremaining: 8.43s\n",
            "12:\tlearn: 1.3481870\ttotal: 1.26s\tremaining: 8.43s\n",
            "13:\tlearn: 1.3309754\ttotal: 1.38s\tremaining: 8.5s\n",
            "14:\tlearn: 1.3140739\ttotal: 1.47s\tremaining: 8.32s\n",
            "15:\tlearn: 1.3001179\ttotal: 1.55s\tremaining: 8.14s\n",
            "16:\tlearn: 1.2867878\ttotal: 1.64s\tremaining: 7.98s\n",
            "17:\tlearn: 1.2765377\ttotal: 1.77s\tremaining: 8.05s\n",
            "18:\tlearn: 1.2666666\ttotal: 1.89s\tremaining: 8.04s\n",
            "19:\tlearn: 1.2581719\ttotal: 1.97s\tremaining: 7.88s\n",
            "20:\tlearn: 1.2498746\ttotal: 2.05s\tremaining: 7.72s\n",
            "21:\tlearn: 1.2416707\ttotal: 2.13s\tremaining: 7.56s\n",
            "22:\tlearn: 1.2368844\ttotal: 2.22s\tremaining: 7.45s\n",
            "23:\tlearn: 1.2296421\ttotal: 2.31s\tremaining: 7.32s\n",
            "24:\tlearn: 1.2236977\ttotal: 2.41s\tremaining: 7.24s\n",
            "25:\tlearn: 1.2183822\ttotal: 2.5s\tremaining: 7.1s\n",
            "26:\tlearn: 1.2127819\ttotal: 2.58s\tremaining: 6.99s\n",
            "27:\tlearn: 1.2081045\ttotal: 2.67s\tremaining: 6.87s\n",
            "28:\tlearn: 1.2051913\ttotal: 2.8s\tremaining: 6.86s\n",
            "29:\tlearn: 1.2011033\ttotal: 2.91s\tremaining: 6.79s\n",
            "30:\tlearn: 1.1981577\ttotal: 2.99s\tremaining: 6.66s\n",
            "31:\tlearn: 1.1940130\ttotal: 3.07s\tremaining: 6.53s\n",
            "32:\tlearn: 1.1916761\ttotal: 3.15s\tremaining: 6.41s\n",
            "33:\tlearn: 1.1894493\ttotal: 3.25s\tremaining: 6.32s\n",
            "34:\tlearn: 1.1863631\ttotal: 3.42s\tremaining: 6.35s\n",
            "35:\tlearn: 1.1832833\ttotal: 3.5s\tremaining: 6.23s\n",
            "36:\tlearn: 1.1804420\ttotal: 3.59s\tremaining: 6.11s\n",
            "37:\tlearn: 1.1777609\ttotal: 3.67s\tremaining: 5.99s\n",
            "38:\tlearn: 1.1752389\ttotal: 3.75s\tremaining: 5.87s\n",
            "39:\tlearn: 1.1726945\ttotal: 3.84s\tremaining: 5.76s\n",
            "40:\tlearn: 1.1708602\ttotal: 3.92s\tremaining: 5.64s\n",
            "41:\tlearn: 1.1692635\ttotal: 4s\tremaining: 5.53s\n",
            "42:\tlearn: 1.1677550\ttotal: 4.08s\tremaining: 5.42s\n",
            "43:\tlearn: 1.1663753\ttotal: 4.21s\tremaining: 5.36s\n",
            "44:\tlearn: 1.1648240\ttotal: 4.3s\tremaining: 5.25s\n",
            "45:\tlearn: 1.1632404\ttotal: 4.38s\tremaining: 5.14s\n",
            "46:\tlearn: 1.1616501\ttotal: 4.46s\tremaining: 5.03s\n",
            "47:\tlearn: 1.1597975\ttotal: 4.54s\tremaining: 4.92s\n",
            "48:\tlearn: 1.1583347\ttotal: 4.63s\tremaining: 4.81s\n",
            "49:\tlearn: 1.1567410\ttotal: 4.71s\tremaining: 4.71s\n",
            "50:\tlearn: 1.1557628\ttotal: 4.8s\tremaining: 4.61s\n",
            "51:\tlearn: 1.1546714\ttotal: 4.88s\tremaining: 4.5s\n",
            "52:\tlearn: 1.1532496\ttotal: 4.97s\tremaining: 4.4s\n",
            "53:\tlearn: 1.1519087\ttotal: 5.06s\tremaining: 4.31s\n",
            "54:\tlearn: 1.1507108\ttotal: 5.14s\tremaining: 4.21s\n",
            "55:\tlearn: 1.1500076\ttotal: 5.22s\tremaining: 4.1s\n",
            "56:\tlearn: 1.1491016\ttotal: 5.32s\tremaining: 4.01s\n",
            "57:\tlearn: 1.1482367\ttotal: 5.41s\tremaining: 3.92s\n",
            "58:\tlearn: 1.1471546\ttotal: 5.52s\tremaining: 3.83s\n",
            "59:\tlearn: 1.1458685\ttotal: 5.6s\tremaining: 3.73s\n",
            "60:\tlearn: 1.1446170\ttotal: 5.68s\tremaining: 3.63s\n",
            "61:\tlearn: 1.1438700\ttotal: 5.77s\tremaining: 3.53s\n",
            "62:\tlearn: 1.1427519\ttotal: 5.87s\tremaining: 3.44s\n",
            "63:\tlearn: 1.1419120\ttotal: 5.95s\tremaining: 3.35s\n",
            "64:\tlearn: 1.1411206\ttotal: 6.08s\tremaining: 3.27s\n",
            "65:\tlearn: 1.1401841\ttotal: 6.23s\tremaining: 3.21s\n",
            "66:\tlearn: 1.1392483\ttotal: 6.33s\tremaining: 3.12s\n",
            "67:\tlearn: 1.1380456\ttotal: 6.42s\tremaining: 3.02s\n",
            "68:\tlearn: 1.1373775\ttotal: 6.52s\tremaining: 2.93s\n",
            "69:\tlearn: 1.1368402\ttotal: 6.65s\tremaining: 2.85s\n",
            "70:\tlearn: 1.1357625\ttotal: 6.74s\tremaining: 2.75s\n",
            "71:\tlearn: 1.1345550\ttotal: 6.86s\tremaining: 2.67s\n",
            "72:\tlearn: 1.1340891\ttotal: 6.97s\tremaining: 2.58s\n",
            "73:\tlearn: 1.1332785\ttotal: 7.07s\tremaining: 2.48s\n",
            "74:\tlearn: 1.1327525\ttotal: 7.16s\tremaining: 2.38s\n",
            "75:\tlearn: 1.1319167\ttotal: 7.25s\tremaining: 2.29s\n",
            "76:\tlearn: 1.1309999\ttotal: 7.34s\tremaining: 2.19s\n",
            "77:\tlearn: 1.1304979\ttotal: 7.43s\tremaining: 2.1s\n",
            "78:\tlearn: 1.1295891\ttotal: 7.51s\tremaining: 2s\n",
            "79:\tlearn: 1.1285872\ttotal: 7.59s\tremaining: 1.9s\n",
            "80:\tlearn: 1.1277252\ttotal: 7.68s\tremaining: 1.8s\n",
            "81:\tlearn: 1.1271533\ttotal: 7.76s\tremaining: 1.7s\n",
            "82:\tlearn: 1.1259400\ttotal: 7.84s\tremaining: 1.61s\n",
            "83:\tlearn: 1.1254182\ttotal: 7.95s\tremaining: 1.51s\n",
            "84:\tlearn: 1.1250123\ttotal: 8.07s\tremaining: 1.43s\n",
            "85:\tlearn: 1.1242996\ttotal: 8.16s\tremaining: 1.33s\n",
            "86:\tlearn: 1.1233129\ttotal: 8.25s\tremaining: 1.23s\n",
            "87:\tlearn: 1.1228253\ttotal: 8.35s\tremaining: 1.14s\n",
            "88:\tlearn: 1.1220723\ttotal: 8.43s\tremaining: 1.04s\n",
            "89:\tlearn: 1.1211963\ttotal: 8.52s\tremaining: 946ms\n",
            "90:\tlearn: 1.1206517\ttotal: 8.6s\tremaining: 850ms\n",
            "91:\tlearn: 1.1199016\ttotal: 8.68s\tremaining: 755ms\n",
            "92:\tlearn: 1.1191531\ttotal: 8.76s\tremaining: 660ms\n",
            "93:\tlearn: 1.1185782\ttotal: 8.89s\tremaining: 568ms\n",
            "94:\tlearn: 1.1178189\ttotal: 9.01s\tremaining: 474ms\n",
            "95:\tlearn: 1.1174910\ttotal: 9.1s\tremaining: 379ms\n",
            "96:\tlearn: 1.1168169\ttotal: 9.19s\tremaining: 284ms\n",
            "97:\tlearn: 1.1162475\ttotal: 9.27s\tremaining: 189ms\n",
            "98:\tlearn: 1.1158269\ttotal: 9.37s\tremaining: 94.7ms\n",
            "99:\tlearn: 1.1149309\ttotal: 9.48s\tremaining: 0us\n"
          ]
        }
      ],
      "source": [
        "# 21세기\n",
        "catboost_21cent = CatBoostClassifier(**param['catboost'] , random_state=42)\n",
        "catboost_21cent.fit(X_train_combine_21cent.select_dtypes(exclude='object'), y_train_21cent)\n",
        "catboost_21cent_pred = catboost_21cent.predict(X_test_combine_21cent.select_dtypes(exclude='object'))"
      ]
    },
    {
      "cell_type": "markdown",
      "metadata": {
        "id": "HyOk2ysrdICR"
      },
      "source": [
        "### 성능 평가"
      ]
    },
    {
      "cell_type": "code",
      "execution_count": 220,
      "metadata": {
        "colab": {
          "base_uri": "https://localhost:8080/"
        },
        "id": "Pybx1Ki2cdCz",
        "outputId": "f2afb061-2cfb-4eed-d542-b1fe94185172"
      },
      "outputs": [
        {
          "data": {
            "text/plain": [
              "{'svd': 2.2151653244307097,\n",
              " 'coclu': 2.5070737129167298,\n",
              " 'lgbm_cl': 2.5746692200347607,\n",
              " 'lgbm_r': 2.356689673676339,\n",
              " 'catboost_cl': 2.606911496136542,\n",
              " 'catboost_r': 2.35107900347085,\n",
              " 'opt_weight': 2.2125957172930684,\n",
              " 'combined_lgbm_cl': 2.3389468995611544,\n",
              " 'combined_catboost_cl': 2.327554524328771}"
            ]
          },
          "execution_count": 220,
          "metadata": {},
          "output_type": "execute_result"
        }
      ],
      "source": [
        "score"
      ]
    },
    {
      "cell_type": "markdown",
      "metadata": {
        "id": "kPwt-pm3dcdN"
      },
      "source": [
        "20세기의 경우, combined_lgbm_cl 보다 성능이 향상되지 않아, 다른 방식의 접근이 필요함을 알 수 있습니다."
      ]
    },
    {
      "cell_type": "code",
      "execution_count": 221,
      "metadata": {
        "colab": {
          "base_uri": "https://localhost:8080/"
        },
        "id": "T1HtLjtIe4-5",
        "outputId": "281ef8a1-1019-4c03-a623-547bca16c429"
      },
      "outputs": [
        {
          "name": "stdout",
          "output_type": "stream",
          "text": [
            "RMSE of Combined LGBM Classifier (CASE 20 Century): 2.3433\n"
          ]
        }
      ],
      "source": [
        "rmse_v = rmse(y_test_20cent,lgbm_20cent_pred)\n",
        "print(f\"RMSE of Combined LGBM Classifier (CASE 20 Century): {round(rmse_v,4)}\")"
      ]
    },
    {
      "cell_type": "code",
      "execution_count": 222,
      "metadata": {
        "colab": {
          "base_uri": "https://localhost:8080/"
        },
        "id": "PAie4DZIe4-6",
        "outputId": "6ed9a68e-cde8-4626-c092-de458db950ff"
      },
      "outputs": [
        {
          "name": "stdout",
          "output_type": "stream",
          "text": [
            "Mixed improved RMSE 0.0043\n"
          ]
        }
      ],
      "source": [
        "improved = rmse_v - score['combined_lgbm_cl']\n",
        "print(f'Mixed improved RMSE {round(improved,4)}')"
      ]
    },
    {
      "cell_type": "markdown",
      "metadata": {
        "id": "v_S5GI8edmWy"
      },
      "source": [
        "21세기의 경우, combined_catboost_cl보다 평가 지표가 소폭 향상되었음을 확인할 수 있습니다."
      ]
    },
    {
      "cell_type": "code",
      "execution_count": 223,
      "metadata": {
        "colab": {
          "base_uri": "https://localhost:8080/"
        },
        "id": "xrLDqJK0bUAB",
        "outputId": "75251e0e-168b-46f3-81a9-86a891cefb7f"
      },
      "outputs": [
        {
          "name": "stdout",
          "output_type": "stream",
          "text": [
            "RMSE of Combined catboost Classifier (CASE 21 Century): 2.3178\n"
          ]
        }
      ],
      "source": [
        "rmse_v = rmse(y_test_21cent, catboost_21cent_pred.squeeze())\n",
        "print(f\"RMSE of Combined catboost Classifier (CASE 21 Century): {round(rmse_v,4)}\")"
      ]
    },
    {
      "cell_type": "code",
      "execution_count": 224,
      "metadata": {
        "colab": {
          "base_uri": "https://localhost:8080/"
        },
        "id": "21TYUFQTfL-6",
        "outputId": "ff52e4ad-8c5a-4b7c-db1e-a40c69c377cb"
      },
      "outputs": [
        {
          "name": "stdout",
          "output_type": "stream",
          "text": [
            "Mixed improved RMSE -0.0097\n"
          ]
        }
      ],
      "source": [
        "improved = rmse_v - score['combined_catboost_cl']\n",
        "print(f'Mixed improved RMSE {round(improved,4)}')"
      ]
    },
    {
      "cell_type": "markdown",
      "metadata": {
        "id": "8kJJv7h9O3wa"
      },
      "source": [
        "# [7] 결론"
      ]
    },
    {
      "cell_type": "markdown",
      "metadata": {
        "id": "OTeX4Im7NvVQ"
      },
      "source": [
        "Hybrids 시스템은 전반적으로 강력한 시스템을 만드는 장점을 가지고 있습니다. 여기서 제시된 다양한 방법들은 추천시스템의 편향을 줄이거나 다양성을 통합하기 위해 사용됩니다.\n",
        "\n",
        "Hybrid Approach 또한 한가지 접근법만을 적용하는 것이 아닌 중첩하여 다양한 방식을 적용할 수도 있습니다.\n",
        "\n",
        "최종적으로 Weighted, Feature Combine 방식을 모두 적용한 최종 output에 대해 살펴 보겠습니다."
      ]
    },
    {
      "cell_type": "code",
      "execution_count": 225,
      "metadata": {
        "colab": {
          "base_uri": "https://localhost:8080/"
        },
        "id": "OTjWBDxSPHVc",
        "outputId": "22125bf3-9817-4dea-c0e3-01fe643447d2"
      },
      "outputs": [
        {
          "data": {
            "text/plain": [
              "{'svd': 2.2151653244307097,\n",
              " 'coclu': 2.5070737129167298,\n",
              " 'lgbm_cl': 2.5746692200347607,\n",
              " 'lgbm_r': 2.356689673676339,\n",
              " 'catboost_cl': 2.606911496136542,\n",
              " 'catboost_r': 2.35107900347085,\n",
              " 'opt_weight': 2.2125957172930684,\n",
              " 'combined_lgbm_cl': 2.3389468995611544,\n",
              " 'combined_catboost_cl': 2.327554524328771}"
            ]
          },
          "execution_count": 225,
          "metadata": {},
          "output_type": "execute_result"
        }
      ],
      "source": [
        "score"
      ]
    },
    {
      "cell_type": "code",
      "execution_count": 226,
      "metadata": {
        "colab": {
          "base_uri": "https://localhost:8080/"
        },
        "id": "sVSu4yNzeCCy",
        "outputId": "27fa5b4d-1b68-40b3-e526-341bd4e03364"
      },
      "outputs": [
        {
          "name": "stdout",
          "output_type": "stream",
          "text": [
            "RMSE 3.5 이하 모델 활용 : ['svd', 'coclu', 'lgbm_cl', 'lgbm_r', 'catboost_cl', 'catboost_r', 'opt_weight', 'combined_lgbm_cl', 'combined_catboost_cl']\n"
          ]
        }
      ],
      "source": [
        "threshold = 3.5\n",
        "suitable_models = find_suitable_model(score,threshold)\n",
        "print(f\"RMSE {threshold} 이하 모델 활용 : {suitable_models}\")"
      ]
    },
    {
      "cell_type": "code",
      "execution_count": 227,
      "metadata": {
        "id": "UWGfE6bAN4kr"
      },
      "outputs": [],
      "source": [
        "final_output_list = [pred[m] for m in suitable_models]"
      ]
    },
    {
      "cell_type": "markdown",
      "metadata": {
        "id": "m3Z5v9MeSKwH"
      },
      "source": [
        "다양한 모델에서 나온 결과값을 앙상블함으로서 보다 편향을 줄인 결과값을 얻을 수 있습니다."
      ]
    },
    {
      "cell_type": "code",
      "execution_count": 228,
      "metadata": {
        "colab": {
          "base_uri": "https://localhost:8080/"
        },
        "id": "2jO9EMdWOmGQ",
        "outputId": "68059097-55c0-48ee-f402-8c6a50758ec4"
      },
      "outputs": [
        {
          "data": {
            "text/plain": [
              "{'rmse': 2.2117102733629173,\n",
              " 'weight': array([0.47319966, 0.02602075, 0.02489623, 0.0889002 , 0.03400712,\n",
              "        0.01670673, 0.12263506, 0.10827803, 0.10535621])}"
            ]
          },
          "execution_count": 228,
          "metadata": {},
          "output_type": "execute_result"
        }
      ],
      "source": [
        "optimal_weighted(final_output_list,n=100)"
      ]
    },
    {
      "cell_type": "markdown",
      "metadata": {
        "id": "GnLkK3-Mrbku"
      },
      "source": [
        "---\n",
        "- reference\n",
        "  - Jeffery chiang, 7 Types of Hybrid Recommendation System\n",
        ", Jun 26, 2021, https://medium.com/analytics-vidhya/7-types-of-hybrid-recommendation-system-3e4f78266ad8"
      ]
    },
    {
      "cell_type": "markdown",
      "metadata": {
        "id": "b2AIuVkLsNQL"
      },
      "source": [
        "---"
      ]
    },
    {
      "cell_type": "markdown",
      "metadata": {
        "id": "TmuzxJ9mGrNn"
      },
      "source": [
        "<font color='red'><b>**WARNING**</b></font> : **본 교육 콘텐츠의 지식재산권은 재단법인 네이버커넥트에 귀속됩니다. 본 콘텐츠를 어떠한 경로로든 외부로 유출 및 수정하는 행위를 엄격히 금합니다.** 다만, 비영리적 교육 및 연구활동에 한정되어 사용할 수 있으나 재단의 허락을 받아야 합니다. 이를 위반하는 경우, 관련 법률에 따라 책임을 질 수 있습니다.\n",
        "\n"
      ]
    },
    {
      "cell_type": "code",
      "execution_count": null,
      "metadata": {
        "id": "NHLh6zbssJ1R"
      },
      "outputs": [],
      "source": []
    }
  ],
  "metadata": {
    "colab": {
      "collapsed_sections": [
        "1NnPT28WfIJi",
        "eS8FXN7U2zG2",
        "dptjXNr723M8",
        "o8XwmNT40JxI"
      ],
      "machine_shape": "hm",
      "provenance": []
    },
    "gpuClass": "standard",
    "kernelspec": {
      "display_name": "Python 3.8.5 ('base')",
      "language": "python",
      "name": "python3"
    },
    "language_info": {
      "codemirror_mode": {
        "name": "ipython",
        "version": 3
      },
      "file_extension": ".py",
      "mimetype": "text/x-python",
      "name": "python",
      "nbconvert_exporter": "python",
      "pygments_lexer": "ipython3",
      "version": "3.8.5"
    },
    "vscode": {
      "interpreter": {
        "hash": "d4d1e4263499bec80672ea0156c357c1ee493ec2b1c70f0acce89fc37c4a6abe"
      }
    }
  },
  "nbformat": 4,
  "nbformat_minor": 0
}
