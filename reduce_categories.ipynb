{
 "cells": [
  {
   "cell_type": "code",
   "execution_count": 1,
   "metadata": {},
   "outputs": [],
   "source": [
    "import numpy as np\n",
    "import pandas as pd"
   ]
  },
  {
   "cell_type": "code",
   "execution_count": 17,
   "metadata": {},
   "outputs": [
    {
     "data": {
      "text/plain": [
       "user_id             68092\n",
       "age                   364\n",
       "location_city        1560\n",
       "location_state        399\n",
       "location_country      199\n",
       "dtype: int64"
      ]
     },
     "execution_count": 17,
     "metadata": {},
     "output_type": "execute_result"
    }
   ],
   "source": [
    "users = pd.read_csv(\"./data/users_preprocessed.csv\")\n",
    "users.nunique()"
   ]
  },
  {
   "cell_type": "markdown",
   "metadata": {},
   "source": [
    "# feature 카테고리 수 줄이기\n",
    "- features\n",
    "    - 'user_id', \n",
    "    - 'isbn'\n",
    "    - 'age' : 범주화해서 사용 (6)\n",
    "    - 'location_city' : x (1560)\n",
    "    - 'location_state' : x (399)\n",
    "    - 'location_country' : o (199)\n",
    "    - 'year_of_publication' : 범주화해서 사용 (5)\n",
    "    - 'new_language' : 'isenglish' (2)\n",
    "    - 'category_high' : 'isfiction' (2)\n",
    "    - 'book_author' : 'book_author_over100' (34)\n",
    "    - 'publisher' : x\n",
    "    "
   ]
  },
  {
   "cell_type": "code",
   "execution_count": null,
   "metadata": {},
   "outputs": [],
   "source": []
  },
  {
   "cell_type": "code",
   "execution_count": 8,
   "metadata": {},
   "outputs": [
    {
     "data": {
      "text/plain": [
       "isbn                   149570\n",
       "book_title             135436\n",
       "book_author             62059\n",
       "year_of_publication        95\n",
       "publisher               11571\n",
       "img_url                149570\n",
       "language                   26\n",
       "category                 4292\n",
       "summary                 79872\n",
       "img_path               149570\n",
       "dtype: int64"
      ]
     },
     "execution_count": 8,
     "metadata": {},
     "output_type": "execute_result"
    }
   ],
   "source": [
    "books = pd.read_csv('./data/books.csv')\n",
    "books.nunique()"
   ]
  },
  {
   "cell_type": "code",
   "execution_count": null,
   "metadata": {},
   "outputs": [],
   "source": []
  },
  {
   "cell_type": "code",
   "execution_count": 10,
   "metadata": {},
   "outputs": [
    {
     "data": {
      "text/plain": [
       "(149570, 10)"
      ]
     },
     "execution_count": 10,
     "metadata": {},
     "output_type": "execute_result"
    }
   ],
   "source": [
    "books.shape"
   ]
  },
  {
   "cell_type": "code",
   "execution_count": 14,
   "metadata": {},
   "outputs": [],
   "source": [
    "books_is = pd.read_csv('./data/isen_isfic_books.csv')"
   ]
  },
  {
   "cell_type": "code",
   "execution_count": 15,
   "metadata": {},
   "outputs": [
    {
     "data": {
      "text/plain": [
       "(149570, 17)"
      ]
     },
     "execution_count": 15,
     "metadata": {},
     "output_type": "execute_result"
    }
   ],
   "source": [
    "books_is.shape"
   ]
  },
  {
   "cell_type": "code",
   "execution_count": 16,
   "metadata": {},
   "outputs": [
    {
     "data": {
      "text/plain": [
       "Unnamed: 0             149570\n",
       "isbn                   149570\n",
       "book_title             135436\n",
       "year_of_publication        95\n",
       "publisher               11571\n",
       "img_url                149570\n",
       "language                   26\n",
       "summary                 79872\n",
       "img_path               149570\n",
       "category_high             749\n",
       "book_author             61828\n",
       "book_author_over10       2105\n",
       "category                 4231\n",
       "new_language               41\n",
       "remove_country_code    148470\n",
       "isfiction                   2\n",
       "isenglish                   2\n",
       "dtype: int64"
      ]
     },
     "execution_count": 16,
     "metadata": {},
     "output_type": "execute_result"
    }
   ],
   "source": [
    "books_is.nunique()"
   ]
  },
  {
   "cell_type": "code",
   "execution_count": 4,
   "metadata": {},
   "outputs": [],
   "source": [
    "books_merged = pd.read_csv('./data/books_merged copy.csv')"
   ]
  },
  {
   "cell_type": "code",
   "execution_count": 11,
   "metadata": {},
   "outputs": [
    {
     "data": {
      "text/plain": [
       "(149570, 18)"
      ]
     },
     "execution_count": 11,
     "metadata": {},
     "output_type": "execute_result"
    }
   ],
   "source": [
    "books_merged.shape"
   ]
  },
  {
   "cell_type": "code",
   "execution_count": 6,
   "metadata": {},
   "outputs": [
    {
     "data": {
      "text/plain": [
       "isbn                   149570\n",
       "book_title             135436\n",
       "year_of_publication        95\n",
       "publisher               11571\n",
       "img_url                149570\n",
       "language                   26\n",
       "summary                 79872\n",
       "img_path               149570\n",
       "category_high             412\n",
       "book_author             61828\n",
       "category                 4263\n",
       "new_language               41\n",
       "remove_country_code    148470\n",
       "book_author_over3       10755\n",
       "book_author_over5        5419\n",
       "book_author_over10       2105\n",
       "book_author_over50        172\n",
       "book_author_over100        34\n",
       "dtype: int64"
      ]
     },
     "execution_count": 6,
     "metadata": {},
     "output_type": "execute_result"
    }
   ],
   "source": [
    "books_merged.nunique()"
   ]
  },
  {
   "cell_type": "code",
   "execution_count": 13,
   "metadata": {},
   "outputs": [
    {
     "data": {
      "text/plain": [
       "isbn                   149570\n",
       "book_title             135436\n",
       "year_of_publication        95\n",
       "publisher                1523\n",
       "img_url                149570\n",
       "language                   26\n",
       "summary                 79872\n",
       "img_path               149570\n",
       "category_high             412\n",
       "book_author             61828\n",
       "book_author_over10       2105\n",
       "category                 4263\n",
       "new_language               41\n",
       "remove_country_code    148470\n",
       "dtype: int64"
      ]
     },
     "execution_count": 13,
     "metadata": {},
     "output_type": "execute_result"
    }
   ],
   "source": [
    "books_merged2 = pd.read_csv('./data/books_merged_2.csv')\n",
    "books_merged2.nunique()"
   ]
  },
  {
   "cell_type": "code",
   "execution_count": 22,
   "metadata": {},
   "outputs": [],
   "source": [
    "new_books = books_merged2.drop(['book_title','img_url','summary'], axis=1).merge(books_is[['isbn','isfiction','isenglish']], how='left', on='isbn').merge(books_merged[['isbn','book_author_over3','book_author_over5','book_author_over50','book_author_over100']], how='left',on='isbn')"
   ]
  },
  {
   "cell_type": "code",
   "execution_count": 24,
   "metadata": {},
   "outputs": [
    {
     "data": {
      "text/plain": [
       "isbn                   149570\n",
       "year_of_publication        95\n",
       "publisher                1523\n",
       "language                   26\n",
       "img_path               149570\n",
       "category_high             412\n",
       "book_author             61828\n",
       "book_author_over10       2105\n",
       "category                 4263\n",
       "new_language               41\n",
       "remove_country_code    148470\n",
       "isfiction                   2\n",
       "isenglish                   2\n",
       "book_author_over3       10755\n",
       "book_author_over5        5419\n",
       "book_author_over50        172\n",
       "book_author_over100        34\n",
       "dtype: int64"
      ]
     },
     "execution_count": 24,
     "metadata": {},
     "output_type": "execute_result"
    }
   ],
   "source": [
    "new_books.nunique()"
   ]
  },
  {
   "cell_type": "code",
   "execution_count": 50,
   "metadata": {},
   "outputs": [],
   "source": [
    "pd.set_option('display.max_rows', 500)\n",
    "def year_to_map(x):\n",
    "    if x < 1970:\n",
    "        return 0\n",
    "    elif x < 1980:\n",
    "        return 1\n",
    "    elif x < 1990:\n",
    "        return 2\n",
    "    elif x < 2000:\n",
    "        return 3\n",
    "    else:\n",
    "        return 4\n",
    "new_books['new_year'] = new_books['year_of_publication'].map(year_to_map)"
   ]
  },
  {
   "cell_type": "code",
   "execution_count": 51,
   "metadata": {},
   "outputs": [
    {
     "data": {
      "text/plain": [
       "3    72358\n",
       "4    46301\n",
       "2    23809\n",
       "1     5636\n",
       "0     1466\n",
       "Name: new_year, dtype: int64"
      ]
     },
     "execution_count": 51,
     "metadata": {},
     "output_type": "execute_result"
    }
   ],
   "source": [
    "new_books['new_year'].value_counts()"
   ]
  },
  {
   "cell_type": "code",
   "execution_count": 67,
   "metadata": {},
   "outputs": [],
   "source": [
    "pd.set_option('display.max_rows', 1600)\n",
    "tmp = new_books['publisher'].value_counts()\n",
    "new_books['publisher_small'] = new_books['publisher'].copy()\n",
    "for id in tmp.index:\n",
    "    if tmp[id] < 1000:\n",
    "        new_books.loc[new_books['publisher']==id, 'publisher_small'] = 'others'"
   ]
  },
  {
   "cell_type": "code",
   "execution_count": 70,
   "metadata": {},
   "outputs": [
    {
     "data": {
      "text/plain": [
       "isbn                   149570\n",
       "year_of_publication        95\n",
       "publisher                1523\n",
       "language                   26\n",
       "img_path               149570\n",
       "category_high             412\n",
       "book_author             61828\n",
       "book_author_over10       2105\n",
       "category                 4263\n",
       "new_language               41\n",
       "remove_country_code    148470\n",
       "isfiction                   2\n",
       "isenglish                   2\n",
       "book_author_over3       10755\n",
       "book_author_over5        5419\n",
       "book_author_over50        172\n",
       "book_author_over100        34\n",
       "new_year                    5\n",
       "publisher_small            26\n",
       "dtype: int64"
      ]
     },
     "execution_count": 70,
     "metadata": {},
     "output_type": "execute_result"
    }
   ],
   "source": [
    "new_books.nunique()"
   ]
  },
  {
   "cell_type": "code",
   "execution_count": 71,
   "metadata": {},
   "outputs": [],
   "source": [
    "new_books.to_csv(\"./data/books_final.csv\", index=False)"
   ]
  },
  {
   "cell_type": "code",
   "execution_count": 2,
   "metadata": {},
   "outputs": [],
   "source": [
    "tmp = pd.read_csv('./data/books_embedding_2.csv')"
   ]
  },
  {
   "cell_type": "code",
   "execution_count": 4,
   "metadata": {},
   "outputs": [],
   "source": [
    "books_new = pd.read_csv('./data/books_final.csv')"
   ]
  },
  {
   "cell_type": "code",
   "execution_count": 8,
   "metadata": {},
   "outputs": [
    {
     "data": {
      "text/html": [
       "<div>\n",
       "<style scoped>\n",
       "    .dataframe tbody tr th:only-of-type {\n",
       "        vertical-align: middle;\n",
       "    }\n",
       "\n",
       "    .dataframe tbody tr th {\n",
       "        vertical-align: top;\n",
       "    }\n",
       "\n",
       "    .dataframe thead th {\n",
       "        text-align: right;\n",
       "    }\n",
       "</style>\n",
       "<table border=\"1\" class=\"dataframe\">\n",
       "  <thead>\n",
       "    <tr style=\"text-align: right;\">\n",
       "      <th></th>\n",
       "      <th>isbn</th>\n",
       "      <th>0</th>\n",
       "      <th>1</th>\n",
       "      <th>2</th>\n",
       "      <th>3</th>\n",
       "      <th>4</th>\n",
       "      <th>5</th>\n",
       "      <th>6</th>\n",
       "      <th>7</th>\n",
       "      <th>8</th>\n",
       "      <th>...</th>\n",
       "      <th>502</th>\n",
       "      <th>503</th>\n",
       "      <th>504</th>\n",
       "      <th>505</th>\n",
       "      <th>506</th>\n",
       "      <th>507</th>\n",
       "      <th>508</th>\n",
       "      <th>509</th>\n",
       "      <th>510</th>\n",
       "      <th>511</th>\n",
       "    </tr>\n",
       "  </thead>\n",
       "  <tbody>\n",
       "    <tr>\n",
       "      <th>0</th>\n",
       "      <td>0002005018</td>\n",
       "      <td>0.503390</td>\n",
       "      <td>0.231714</td>\n",
       "      <td>0.115370</td>\n",
       "      <td>-0.329476</td>\n",
       "      <td>0.266069</td>\n",
       "      <td>0.508641</td>\n",
       "      <td>-0.019863</td>\n",
       "      <td>0.510959</td>\n",
       "      <td>-0.317959</td>\n",
       "      <td>...</td>\n",
       "      <td>0.781929</td>\n",
       "      <td>0.222393</td>\n",
       "      <td>0.487293</td>\n",
       "      <td>0.068784</td>\n",
       "      <td>0.037725</td>\n",
       "      <td>-1.268462</td>\n",
       "      <td>-0.750312</td>\n",
       "      <td>0.107709</td>\n",
       "      <td>-0.462396</td>\n",
       "      <td>0.383121</td>\n",
       "    </tr>\n",
       "    <tr>\n",
       "      <th>1</th>\n",
       "      <td>0060973129</td>\n",
       "      <td>-0.689147</td>\n",
       "      <td>0.700956</td>\n",
       "      <td>1.187890</td>\n",
       "      <td>0.556178</td>\n",
       "      <td>1.047582</td>\n",
       "      <td>0.735019</td>\n",
       "      <td>-0.491351</td>\n",
       "      <td>-0.441994</td>\n",
       "      <td>0.244543</td>\n",
       "      <td>...</td>\n",
       "      <td>0.215752</td>\n",
       "      <td>0.093943</td>\n",
       "      <td>0.151725</td>\n",
       "      <td>-0.537121</td>\n",
       "      <td>-0.453638</td>\n",
       "      <td>-0.858057</td>\n",
       "      <td>-0.290574</td>\n",
       "      <td>-0.710232</td>\n",
       "      <td>-0.775910</td>\n",
       "      <td>-0.211170</td>\n",
       "    </tr>\n",
       "    <tr>\n",
       "      <th>2</th>\n",
       "      <td>0374157065</td>\n",
       "      <td>-0.567941</td>\n",
       "      <td>-0.759501</td>\n",
       "      <td>-0.035331</td>\n",
       "      <td>0.337106</td>\n",
       "      <td>-0.449440</td>\n",
       "      <td>-0.044827</td>\n",
       "      <td>0.211133</td>\n",
       "      <td>0.298013</td>\n",
       "      <td>0.229991</td>\n",
       "      <td>...</td>\n",
       "      <td>0.647762</td>\n",
       "      <td>0.017774</td>\n",
       "      <td>-0.340387</td>\n",
       "      <td>-0.186091</td>\n",
       "      <td>-0.065213</td>\n",
       "      <td>0.268273</td>\n",
       "      <td>-1.180975</td>\n",
       "      <td>0.385781</td>\n",
       "      <td>0.077389</td>\n",
       "      <td>0.683517</td>\n",
       "    </tr>\n",
       "    <tr>\n",
       "      <th>3</th>\n",
       "      <td>0399135782</td>\n",
       "      <td>1.013494</td>\n",
       "      <td>0.018726</td>\n",
       "      <td>0.398491</td>\n",
       "      <td>0.193576</td>\n",
       "      <td>-0.090819</td>\n",
       "      <td>-0.147283</td>\n",
       "      <td>-1.139013</td>\n",
       "      <td>-0.507875</td>\n",
       "      <td>0.461223</td>\n",
       "      <td>...</td>\n",
       "      <td>1.110681</td>\n",
       "      <td>-0.826044</td>\n",
       "      <td>-0.892639</td>\n",
       "      <td>0.164168</td>\n",
       "      <td>-0.205375</td>\n",
       "      <td>-0.245697</td>\n",
       "      <td>-0.806942</td>\n",
       "      <td>1.030093</td>\n",
       "      <td>0.396518</td>\n",
       "      <td>0.037680</td>\n",
       "    </tr>\n",
       "    <tr>\n",
       "      <th>4</th>\n",
       "      <td>0425176428</td>\n",
       "      <td>0.886252</td>\n",
       "      <td>-0.758539</td>\n",
       "      <td>0.158425</td>\n",
       "      <td>-0.916154</td>\n",
       "      <td>-0.395121</td>\n",
       "      <td>-1.181997</td>\n",
       "      <td>0.650359</td>\n",
       "      <td>-0.670347</td>\n",
       "      <td>0.487777</td>\n",
       "      <td>...</td>\n",
       "      <td>-0.153706</td>\n",
       "      <td>0.628128</td>\n",
       "      <td>0.500611</td>\n",
       "      <td>0.919893</td>\n",
       "      <td>-1.029661</td>\n",
       "      <td>-1.536474</td>\n",
       "      <td>-1.166991</td>\n",
       "      <td>-0.001767</td>\n",
       "      <td>0.096962</td>\n",
       "      <td>0.329258</td>\n",
       "    </tr>\n",
       "    <tr>\n",
       "      <th>...</th>\n",
       "      <td>...</td>\n",
       "      <td>...</td>\n",
       "      <td>...</td>\n",
       "      <td>...</td>\n",
       "      <td>...</td>\n",
       "      <td>...</td>\n",
       "      <td>...</td>\n",
       "      <td>...</td>\n",
       "      <td>...</td>\n",
       "      <td>...</td>\n",
       "      <td>...</td>\n",
       "      <td>...</td>\n",
       "      <td>...</td>\n",
       "      <td>...</td>\n",
       "      <td>...</td>\n",
       "      <td>...</td>\n",
       "      <td>...</td>\n",
       "      <td>...</td>\n",
       "      <td>...</td>\n",
       "      <td>...</td>\n",
       "      <td>...</td>\n",
       "    </tr>\n",
       "    <tr>\n",
       "      <th>149565</th>\n",
       "      <td>067161746X</td>\n",
       "      <td>0.793568</td>\n",
       "      <td>-0.433235</td>\n",
       "      <td>0.336982</td>\n",
       "      <td>0.172376</td>\n",
       "      <td>0.645219</td>\n",
       "      <td>-0.632824</td>\n",
       "      <td>0.053440</td>\n",
       "      <td>-0.429813</td>\n",
       "      <td>0.373318</td>\n",
       "      <td>...</td>\n",
       "      <td>-0.032002</td>\n",
       "      <td>0.180925</td>\n",
       "      <td>-0.716202</td>\n",
       "      <td>0.018995</td>\n",
       "      <td>-0.944208</td>\n",
       "      <td>0.684940</td>\n",
       "      <td>-0.474849</td>\n",
       "      <td>0.102360</td>\n",
       "      <td>-0.878273</td>\n",
       "      <td>-0.836812</td>\n",
       "    </tr>\n",
       "    <tr>\n",
       "      <th>149566</th>\n",
       "      <td>0767907566</td>\n",
       "      <td>-0.504454</td>\n",
       "      <td>0.322140</td>\n",
       "      <td>0.080038</td>\n",
       "      <td>-0.428775</td>\n",
       "      <td>0.231001</td>\n",
       "      <td>0.444427</td>\n",
       "      <td>0.115094</td>\n",
       "      <td>-1.053576</td>\n",
       "      <td>-0.202702</td>\n",
       "      <td>...</td>\n",
       "      <td>-0.157287</td>\n",
       "      <td>-0.482961</td>\n",
       "      <td>-0.342532</td>\n",
       "      <td>-0.147599</td>\n",
       "      <td>-0.832974</td>\n",
       "      <td>-0.287492</td>\n",
       "      <td>-0.298440</td>\n",
       "      <td>-0.493880</td>\n",
       "      <td>-1.217481</td>\n",
       "      <td>-0.157467</td>\n",
       "    </tr>\n",
       "    <tr>\n",
       "      <th>149567</th>\n",
       "      <td>0884159221</td>\n",
       "      <td>0.302760</td>\n",
       "      <td>0.249366</td>\n",
       "      <td>0.411577</td>\n",
       "      <td>-0.741776</td>\n",
       "      <td>-0.362098</td>\n",
       "      <td>-0.633594</td>\n",
       "      <td>0.012307</td>\n",
       "      <td>-0.583492</td>\n",
       "      <td>-0.085389</td>\n",
       "      <td>...</td>\n",
       "      <td>-0.186697</td>\n",
       "      <td>-0.001326</td>\n",
       "      <td>-0.347721</td>\n",
       "      <td>-0.063748</td>\n",
       "      <td>-0.538890</td>\n",
       "      <td>0.096727</td>\n",
       "      <td>0.201310</td>\n",
       "      <td>-0.175871</td>\n",
       "      <td>0.166480</td>\n",
       "      <td>-0.597726</td>\n",
       "    </tr>\n",
       "    <tr>\n",
       "      <th>149568</th>\n",
       "      <td>0912333022</td>\n",
       "      <td>0.484288</td>\n",
       "      <td>-0.404645</td>\n",
       "      <td>-1.898071</td>\n",
       "      <td>-0.826890</td>\n",
       "      <td>-0.576069</td>\n",
       "      <td>0.368019</td>\n",
       "      <td>-0.815649</td>\n",
       "      <td>-0.759489</td>\n",
       "      <td>-0.129539</td>\n",
       "      <td>...</td>\n",
       "      <td>1.398664</td>\n",
       "      <td>0.920493</td>\n",
       "      <td>-0.433893</td>\n",
       "      <td>-0.457107</td>\n",
       "      <td>0.263443</td>\n",
       "      <td>-1.829711</td>\n",
       "      <td>1.697475</td>\n",
       "      <td>-0.153881</td>\n",
       "      <td>0.443192</td>\n",
       "      <td>-1.214950</td>\n",
       "    </tr>\n",
       "    <tr>\n",
       "      <th>149569</th>\n",
       "      <td>1569661057</td>\n",
       "      <td>-0.547346</td>\n",
       "      <td>-0.119047</td>\n",
       "      <td>0.048054</td>\n",
       "      <td>0.457854</td>\n",
       "      <td>-0.068116</td>\n",
       "      <td>0.039923</td>\n",
       "      <td>-0.011214</td>\n",
       "      <td>-0.136012</td>\n",
       "      <td>-0.404763</td>\n",
       "      <td>...</td>\n",
       "      <td>0.768632</td>\n",
       "      <td>0.013970</td>\n",
       "      <td>0.274785</td>\n",
       "      <td>-0.002244</td>\n",
       "      <td>-0.214558</td>\n",
       "      <td>-0.686849</td>\n",
       "      <td>-0.300046</td>\n",
       "      <td>0.028379</td>\n",
       "      <td>-0.531429</td>\n",
       "      <td>0.354587</td>\n",
       "    </tr>\n",
       "  </tbody>\n",
       "</table>\n",
       "<p>149570 rows × 513 columns</p>\n",
       "</div>"
      ],
      "text/plain": [
       "              isbn         0         1         2         3         4  \\\n",
       "0       0002005018  0.503390  0.231714  0.115370 -0.329476  0.266069   \n",
       "1       0060973129 -0.689147  0.700956  1.187890  0.556178  1.047582   \n",
       "2       0374157065 -0.567941 -0.759501 -0.035331  0.337106 -0.449440   \n",
       "3       0399135782  1.013494  0.018726  0.398491  0.193576 -0.090819   \n",
       "4       0425176428  0.886252 -0.758539  0.158425 -0.916154 -0.395121   \n",
       "...            ...       ...       ...       ...       ...       ...   \n",
       "149565  067161746X  0.793568 -0.433235  0.336982  0.172376  0.645219   \n",
       "149566  0767907566 -0.504454  0.322140  0.080038 -0.428775  0.231001   \n",
       "149567  0884159221  0.302760  0.249366  0.411577 -0.741776 -0.362098   \n",
       "149568  0912333022  0.484288 -0.404645 -1.898071 -0.826890 -0.576069   \n",
       "149569  1569661057 -0.547346 -0.119047  0.048054  0.457854 -0.068116   \n",
       "\n",
       "               5         6         7         8  ...       502       503  \\\n",
       "0       0.508641 -0.019863  0.510959 -0.317959  ...  0.781929  0.222393   \n",
       "1       0.735019 -0.491351 -0.441994  0.244543  ...  0.215752  0.093943   \n",
       "2      -0.044827  0.211133  0.298013  0.229991  ...  0.647762  0.017774   \n",
       "3      -0.147283 -1.139013 -0.507875  0.461223  ...  1.110681 -0.826044   \n",
       "4      -1.181997  0.650359 -0.670347  0.487777  ... -0.153706  0.628128   \n",
       "...          ...       ...       ...       ...  ...       ...       ...   \n",
       "149565 -0.632824  0.053440 -0.429813  0.373318  ... -0.032002  0.180925   \n",
       "149566  0.444427  0.115094 -1.053576 -0.202702  ... -0.157287 -0.482961   \n",
       "149567 -0.633594  0.012307 -0.583492 -0.085389  ... -0.186697 -0.001326   \n",
       "149568  0.368019 -0.815649 -0.759489 -0.129539  ...  1.398664  0.920493   \n",
       "149569  0.039923 -0.011214 -0.136012 -0.404763  ...  0.768632  0.013970   \n",
       "\n",
       "             504       505       506       507       508       509       510  \\\n",
       "0       0.487293  0.068784  0.037725 -1.268462 -0.750312  0.107709 -0.462396   \n",
       "1       0.151725 -0.537121 -0.453638 -0.858057 -0.290574 -0.710232 -0.775910   \n",
       "2      -0.340387 -0.186091 -0.065213  0.268273 -1.180975  0.385781  0.077389   \n",
       "3      -0.892639  0.164168 -0.205375 -0.245697 -0.806942  1.030093  0.396518   \n",
       "4       0.500611  0.919893 -1.029661 -1.536474 -1.166991 -0.001767  0.096962   \n",
       "...          ...       ...       ...       ...       ...       ...       ...   \n",
       "149565 -0.716202  0.018995 -0.944208  0.684940 -0.474849  0.102360 -0.878273   \n",
       "149566 -0.342532 -0.147599 -0.832974 -0.287492 -0.298440 -0.493880 -1.217481   \n",
       "149567 -0.347721 -0.063748 -0.538890  0.096727  0.201310 -0.175871  0.166480   \n",
       "149568 -0.433893 -0.457107  0.263443 -1.829711  1.697475 -0.153881  0.443192   \n",
       "149569  0.274785 -0.002244 -0.214558 -0.686849 -0.300046  0.028379 -0.531429   \n",
       "\n",
       "             511  \n",
       "0       0.383121  \n",
       "1      -0.211170  \n",
       "2       0.683517  \n",
       "3       0.037680  \n",
       "4       0.329258  \n",
       "...          ...  \n",
       "149565 -0.836812  \n",
       "149566 -0.157467  \n",
       "149567 -0.597726  \n",
       "149568 -1.214950  \n",
       "149569  0.354587  \n",
       "\n",
       "[149570 rows x 513 columns]"
      ]
     },
     "execution_count": 8,
     "metadata": {},
     "output_type": "execute_result"
    }
   ],
   "source": [
    "tmp.filter(regex=r'(^\\d+$)|(isbn)')"
   ]
  },
  {
   "cell_type": "code",
   "execution_count": 9,
   "metadata": {},
   "outputs": [],
   "source": [
    "books_new.merge(tmp.filter(regex=r'(^\\d+$)|(isbn)'),'left','isbn').to_csv('./data/books_final_embedding.csv', index=False)"
   ]
  },
  {
   "cell_type": "code",
   "execution_count": 3,
   "metadata": {},
   "outputs": [
    {
     "data": {
      "text/html": [
       "<div>\n",
       "<style scoped>\n",
       "    .dataframe tbody tr th:only-of-type {\n",
       "        vertical-align: middle;\n",
       "    }\n",
       "\n",
       "    .dataframe tbody tr th {\n",
       "        vertical-align: top;\n",
       "    }\n",
       "\n",
       "    .dataframe thead th {\n",
       "        text-align: right;\n",
       "    }\n",
       "</style>\n",
       "<table border=\"1\" class=\"dataframe\">\n",
       "  <thead>\n",
       "    <tr style=\"text-align: right;\">\n",
       "      <th></th>\n",
       "      <th>isbn</th>\n",
       "      <th>book_title</th>\n",
       "      <th>book_author</th>\n",
       "      <th>year_of_publication</th>\n",
       "      <th>img_url</th>\n",
       "      <th>language</th>\n",
       "      <th>category</th>\n",
       "      <th>summary</th>\n",
       "      <th>img_path</th>\n",
       "      <th>new_language</th>\n",
       "      <th>...</th>\n",
       "      <th>505</th>\n",
       "      <th>506</th>\n",
       "      <th>507</th>\n",
       "      <th>508</th>\n",
       "      <th>509</th>\n",
       "      <th>510</th>\n",
       "      <th>511</th>\n",
       "      <th>publisher</th>\n",
       "      <th>book_author_over10</th>\n",
       "      <th>category_high</th>\n",
       "    </tr>\n",
       "  </thead>\n",
       "  <tbody>\n",
       "    <tr>\n",
       "      <th>0</th>\n",
       "      <td>0002005018</td>\n",
       "      <td>Clara Callan</td>\n",
       "      <td>Richard Bruce Wright</td>\n",
       "      <td>2001.0</td>\n",
       "      <td>http://images.amazon.com/images/P/0002005018.0...</td>\n",
       "      <td>en</td>\n",
       "      <td>actresses</td>\n",
       "      <td>In a small town in Canada, Clara Callan reluct...</td>\n",
       "      <td>images/0002005018.01.THUMBZZZ.jpg</td>\n",
       "      <td>en</td>\n",
       "      <td>...</td>\n",
       "      <td>0.068784</td>\n",
       "      <td>0.037725</td>\n",
       "      <td>-1.268462</td>\n",
       "      <td>-0.750312</td>\n",
       "      <td>0.107709</td>\n",
       "      <td>-0.462396</td>\n",
       "      <td>0.383121</td>\n",
       "      <td>Collins</td>\n",
       "      <td>others</td>\n",
       "      <td>actresses</td>\n",
       "    </tr>\n",
       "    <tr>\n",
       "      <th>1</th>\n",
       "      <td>0060973129</td>\n",
       "      <td>Decision in Normandy</td>\n",
       "      <td>Carlo D'Este</td>\n",
       "      <td>1991.0</td>\n",
       "      <td>http://images.amazon.com/images/P/0060973129.0...</td>\n",
       "      <td>en</td>\n",
       "      <td>1940-1949</td>\n",
       "      <td>Here, for the first time in paperback, is an o...</td>\n",
       "      <td>images/0060973129.01.THUMBZZZ.jpg</td>\n",
       "      <td>en</td>\n",
       "      <td>...</td>\n",
       "      <td>-0.537121</td>\n",
       "      <td>-0.453638</td>\n",
       "      <td>-0.858057</td>\n",
       "      <td>-0.290574</td>\n",
       "      <td>-0.710232</td>\n",
       "      <td>-0.775910</td>\n",
       "      <td>-0.211170</td>\n",
       "      <td>Perennial</td>\n",
       "      <td>others</td>\n",
       "      <td>others</td>\n",
       "    </tr>\n",
       "    <tr>\n",
       "      <th>2</th>\n",
       "      <td>0374157065</td>\n",
       "      <td>Flu: The Story of the Great Influenza Pandemic...</td>\n",
       "      <td>Gina Bari Kolata</td>\n",
       "      <td>1999.0</td>\n",
       "      <td>http://images.amazon.com/images/P/0374157065.0...</td>\n",
       "      <td>en</td>\n",
       "      <td>medical</td>\n",
       "      <td>Describes the great flu epidemic of 1918, an o...</td>\n",
       "      <td>images/0374157065.01.THUMBZZZ.jpg</td>\n",
       "      <td>en</td>\n",
       "      <td>...</td>\n",
       "      <td>-0.186091</td>\n",
       "      <td>-0.065213</td>\n",
       "      <td>0.268273</td>\n",
       "      <td>-1.180975</td>\n",
       "      <td>0.385781</td>\n",
       "      <td>0.077389</td>\n",
       "      <td>0.683517</td>\n",
       "      <td>Farrar Straus Giroux</td>\n",
       "      <td>others</td>\n",
       "      <td>medical</td>\n",
       "    </tr>\n",
       "    <tr>\n",
       "      <th>3</th>\n",
       "      <td>0399135782</td>\n",
       "      <td>The Kitchen God's Wife</td>\n",
       "      <td>Amy Tan</td>\n",
       "      <td>1991.0</td>\n",
       "      <td>http://images.amazon.com/images/P/0399135782.0...</td>\n",
       "      <td>en</td>\n",
       "      <td>fiction</td>\n",
       "      <td>A Chinese immigrant who is convinced she is dy...</td>\n",
       "      <td>images/0399135782.01.THUMBZZZ.jpg</td>\n",
       "      <td>en</td>\n",
       "      <td>...</td>\n",
       "      <td>0.164168</td>\n",
       "      <td>-0.205375</td>\n",
       "      <td>-0.245697</td>\n",
       "      <td>-0.806942</td>\n",
       "      <td>1.030093</td>\n",
       "      <td>0.396518</td>\n",
       "      <td>0.037680</td>\n",
       "      <td>Putnam Pub Group</td>\n",
       "      <td>Amy Tan</td>\n",
       "      <td>fiction</td>\n",
       "    </tr>\n",
       "    <tr>\n",
       "      <th>4</th>\n",
       "      <td>0425176428</td>\n",
       "      <td>What If?: The World's Foremost Military Histor...</td>\n",
       "      <td>Robert Cowley</td>\n",
       "      <td>2000.0</td>\n",
       "      <td>http://images.amazon.com/images/P/0425176428.0...</td>\n",
       "      <td>en</td>\n",
       "      <td>history</td>\n",
       "      <td>Essays by respected military historians, inclu...</td>\n",
       "      <td>images/0425176428.01.THUMBZZZ.jpg</td>\n",
       "      <td>en</td>\n",
       "      <td>...</td>\n",
       "      <td>0.919893</td>\n",
       "      <td>-1.029661</td>\n",
       "      <td>-1.536474</td>\n",
       "      <td>-1.166991</td>\n",
       "      <td>-0.001767</td>\n",
       "      <td>0.096962</td>\n",
       "      <td>0.329258</td>\n",
       "      <td>Berkley Publishing Group</td>\n",
       "      <td>others</td>\n",
       "      <td>history</td>\n",
       "    </tr>\n",
       "  </tbody>\n",
       "</table>\n",
       "<p>5 rows × 526 columns</p>\n",
       "</div>"
      ],
      "text/plain": [
       "         isbn                                         book_title  \\\n",
       "0  0002005018                                       Clara Callan   \n",
       "1  0060973129                               Decision in Normandy   \n",
       "2  0374157065  Flu: The Story of the Great Influenza Pandemic...   \n",
       "3  0399135782                             The Kitchen God's Wife   \n",
       "4  0425176428  What If?: The World's Foremost Military Histor...   \n",
       "\n",
       "            book_author  year_of_publication  \\\n",
       "0  Richard Bruce Wright               2001.0   \n",
       "1          Carlo D'Este               1991.0   \n",
       "2      Gina Bari Kolata               1999.0   \n",
       "3               Amy Tan               1991.0   \n",
       "4         Robert Cowley               2000.0   \n",
       "\n",
       "                                             img_url language   category  \\\n",
       "0  http://images.amazon.com/images/P/0002005018.0...       en  actresses   \n",
       "1  http://images.amazon.com/images/P/0060973129.0...       en  1940-1949   \n",
       "2  http://images.amazon.com/images/P/0374157065.0...       en    medical   \n",
       "3  http://images.amazon.com/images/P/0399135782.0...       en    fiction   \n",
       "4  http://images.amazon.com/images/P/0425176428.0...       en    history   \n",
       "\n",
       "                                             summary  \\\n",
       "0  In a small town in Canada, Clara Callan reluct...   \n",
       "1  Here, for the first time in paperback, is an o...   \n",
       "2  Describes the great flu epidemic of 1918, an o...   \n",
       "3  A Chinese immigrant who is convinced she is dy...   \n",
       "4  Essays by respected military historians, inclu...   \n",
       "\n",
       "                            img_path new_language  ...       505       506  \\\n",
       "0  images/0002005018.01.THUMBZZZ.jpg           en  ...  0.068784  0.037725   \n",
       "1  images/0060973129.01.THUMBZZZ.jpg           en  ... -0.537121 -0.453638   \n",
       "2  images/0374157065.01.THUMBZZZ.jpg           en  ... -0.186091 -0.065213   \n",
       "3  images/0399135782.01.THUMBZZZ.jpg           en  ...  0.164168 -0.205375   \n",
       "4  images/0425176428.01.THUMBZZZ.jpg           en  ...  0.919893 -1.029661   \n",
       "\n",
       "        507       508       509       510       511                 publisher  \\\n",
       "0 -1.268462 -0.750312  0.107709 -0.462396  0.383121                   Collins   \n",
       "1 -0.858057 -0.290574 -0.710232 -0.775910 -0.211170                 Perennial   \n",
       "2  0.268273 -1.180975  0.385781  0.077389  0.683517      Farrar Straus Giroux   \n",
       "3 -0.245697 -0.806942  1.030093  0.396518  0.037680          Putnam Pub Group   \n",
       "4 -1.536474 -1.166991 -0.001767  0.096962  0.329258  Berkley Publishing Group   \n",
       "\n",
       "   book_author_over10  category_high  \n",
       "0              others      actresses  \n",
       "1              others         others  \n",
       "2              others        medical  \n",
       "3             Amy Tan        fiction  \n",
       "4              others        history  \n",
       "\n",
       "[5 rows x 526 columns]"
      ]
     },
     "execution_count": 3,
     "metadata": {},
     "output_type": "execute_result"
    }
   ],
   "source": [
    "tmp.head()"
   ]
  },
  {
   "cell_type": "code",
   "execution_count": 11,
   "metadata": {},
   "outputs": [
    {
     "data": {
      "text/plain": [
       "684"
      ]
     },
     "execution_count": 11,
     "metadata": {},
     "output_type": "execute_result"
    }
   ],
   "source": [
    "sum([64,64, 4,4,4,4,4,4,4,4,4,4,4]) + 512"
   ]
  }
 ],
 "metadata": {
  "kernelspec": {
   "display_name": "Python 3.8.5 ('base')",
   "language": "python",
   "name": "python3"
  },
  "language_info": {
   "codemirror_mode": {
    "name": "ipython",
    "version": 3
   },
   "file_extension": ".py",
   "mimetype": "text/x-python",
   "name": "python",
   "nbconvert_exporter": "python",
   "pygments_lexer": "ipython3",
   "version": "3.8.5"
  },
  "orig_nbformat": 4,
  "vscode": {
   "interpreter": {
    "hash": "d4d1e4263499bec80672ea0156c357c1ee493ec2b1c70f0acce89fc37c4a6abe"
   }
  }
 },
 "nbformat": 4,
 "nbformat_minor": 2
}
