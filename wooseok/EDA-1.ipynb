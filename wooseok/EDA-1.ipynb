{
  "cells": [
    {
      "cell_type": "markdown",
      "metadata": {
        "id": "iCX8vMtMnJvk"
      },
      "source": [
        "# (0) RecSys 기초 대회 미션1\n",
        "\n",
        "Book recommondation Dataset EDA\n",
        "\n",
        "탐색적 데이터 분석이라고 불리는 EDA (Exploratory Data Analysis)는 수집한 데이터를 다양한 각도에서 관찰하고 이해하는 과정을 말합니다.\n",
        "\n",
        "기본적으로 데이터를 잘 파악해야 새로운 인사이트를 발견하고, 이를 분석에 활용하여 더 높은 성능을 내기 위한 다양한 실험을 해볼 수 있습니다.\n",
        "\n",
        "본 미션을 통해 추후 모델의 성능 향상에 도움이 될만한 새로운 아이디어를 떠올릴 수 있는 시간을 갖게 될 것입니다.\n"
      ]
    },
    {
      "cell_type": "markdown",
      "metadata": {
        "id": "HPkQcjgasR2-"
      },
      "source": [
        "# (1) 데이터\n",
        "\n",
        "RecSys 기초 대회 강의에서는Book Crossing 데이터를 사용하여, 모든 실습 및 미션, 대회를 진행합니다. [Kaggle Book-Crossing](https://www.kaggle.com/datasets/ruchi798/bookcrossing-dataset) 을 출처로 하며, 데이터는 재구성되어 제공되었습니다. 해당 데이터는 CC0: Public Domain 라이센스임을 밝힙니다.\n",
        "\n",
        "\n",
        "\n",
        "본 대회에 활용되는 데이터는 총 3개의 파일입니다.\n",
        "\n",
        "user : 사용자 정보를 담고 있는 데이터 파일\n",
        "\n",
        "ratings: 책의 등급을 1-10으로 표현한 데이터 파일\n",
        "\n",
        "books: 책과 관련된 정보를 표현한 데이터 파일\n",
        "\n",
        "먼저 세 파일을 로드하는 과정을 수행하겠습니다."
      ]
    },
    {
      "cell_type": "code",
      "execution_count": null,
      "metadata": {},
      "outputs": [],
      "source": []
    },
    {
      "cell_type": "code",
      "execution_count": 2,
      "metadata": {
        "id": "3CIx8v8d9DZ3"
      },
      "outputs": [],
      "source": [
        "# !pip install -q dython\n",
        "# !pip install -q 'matplotlib==3.5.3'\n",
        "# !pip install -q 'seaborn==0.11.2'"
      ]
    },
    {
      "cell_type": "code",
      "execution_count": 3,
      "metadata": {
        "id": "lVEmDp_FlyPW"
      },
      "outputs": [],
      "source": [
        "import pandas as pd\n",
        "import numpy as np\n",
        "import seaborn as sns\n",
        "import matplotlib.pyplot as plt"
      ]
    },
    {
      "cell_type": "code",
      "execution_count": 2,
      "metadata": {
        "id": "O8kuc51pm9jn"
      },
      "outputs": [],
      "source": [
        "# !wget --load-cookies ~/cookies.txt \"https://docs.google.com/uc?export=download&confirm=$(wget --quiet --save-cookies ~/cookies.txt --keep-session-cookies --no-check-certificate 'https://docs.google.com/uc?export=download&id=17Zbpx_Yn0ggLFVeijUalcnOUt5mCHeEH' -O- | sed -rn 's/.*confirm=([0-9A-Za-z_]+).*/\\1\\n/p')&id=17Zbpx_Yn0ggLFVeijUalcnOUt5mCHeEH\" -O users.csv && rm -rf ~/cookies.txt\n",
        "# !wget --load-cookies ~/cookies.txt \"https://docs.google.com/uc?export=download&confirm=$(wget --quiet --save-cookies ~/cookies.txt --keep-session-cookies --no-check-certificate 'https://docs.google.com/uc?export=download&id=1JIxWPgC8JJkuZaWjk5FJBBKuqSX87HGE' -O- | sed -rn 's/.*confirm=([0-9A-Za-z_]+).*/\\1\\n/p')&id=1JIxWPgC8JJkuZaWjk5FJBBKuqSX87HGE\" -O books.csv && rm -rf ~/cookies.txt\n",
        "# !wget --load-cookies ~/cookies.txt \"https://docs.google.com/uc?export=download&confirm=$(wget --quiet --save-cookies ~/cookies.txt --keep-session-cookies --no-check-certificate 'https://docs.google.com/uc?export=download&id=1B-8lw3a1KPJdhFAMXP58a7taJjpDvfw6' -O- | sed -rn 's/.*confirm=([0-9A-Za-z_]+).*/\\1\\n/p')&id=1B-8lw3a1KPJdhFAMXP58a7taJjpDvfw6\" -O ratings.csv && rm -rf ~/cookies.txt\n",
        "# !wget https://aistages-prod-server-public.s3.amazonaws.com/app/Competitions/000210/data/data.tar.gz\n",
        "# !unzip -q data.tar.gz"
      ]
    },
    {
      "cell_type": "code",
      "execution_count": 4,
      "metadata": {
        "colab": {
          "base_uri": "https://localhost:8080/"
        },
        "id": "WN-q4u-8nCIe",
        "outputId": "c851e557-e190-4187-9372-0320f950a105"
      },
      "outputs": [
        {
          "name": "stdout",
          "output_type": "stream",
          "text": [
            "users shape:  (68092, 3)\n",
            "books shape:  (149570, 10)\n",
            "ratings shape:  (306795, 3)\n"
          ]
        }
      ],
      "source": [
        "path='../data/'\n",
        "\n",
        "users = pd.read_csv(path+'users.csv')\n",
        "books = pd.read_csv(path+'books.csv')\n",
        "ratings = pd.read_csv(path+'train_ratings.csv')\n",
        "\n",
        "print('users shape: ', users.shape)\n",
        "print('books shape: ', books.shape)\n",
        "print('ratings shape: ', ratings.shape)"
      ]
    },
    {
      "cell_type": "markdown",
      "metadata": {
        "id": "ULms70BF6ZdD"
      },
      "source": [
        "\n",
        "> 1.   users.csv\n",
        "> 2.   books.csv\n",
        "> 3.   ratings.csv\n",
        "\n",
        "순서대로 EDA를 진행해 보겠습니다.\n",
        "\n",
        "각 데이터 셋을 열어 데이터를 꼼꼼히 살펴보며 cleaning 을 수행해보고, 간단한 Feature Engineering을 통해 인사이트를 탐색해보겠습니다."
      ]
    },
    {
      "cell_type": "markdown",
      "metadata": {
        "id": "45urP3sNuAYW"
      },
      "source": [
        "## (2-1) Preprocessing & Feature Engineering\n",
        "\n",
        "현재 `location` 칼럼에는 지역, 주, 국가 순서로 모든 정보가 다 들어와있습니다.\n",
        "\n",
        "이를 전처리를 통해 각각 컬럼으로 분리하는 과정을 거치겠습니다."
      ]
    },
    {
      "cell_type": "code",
      "execution_count": 5,
      "metadata": {
        "colab": {
          "base_uri": "https://localhost:8080/"
        },
        "id": "W-FuURF_t-Br",
        "outputId": "58720e1c-945e-4e20-ea1c-d5e2622296e1"
      },
      "outputs": [
        {
          "name": "stderr",
          "output_type": "stream",
          "text": [
            "/tmp/ipykernel_11381/3844664685.py:1: FutureWarning: The default value of regex will change from True to False in a future version.\n",
            "  users['location'] = users['location'].str.replace(r'[^0-9a-zA-Z:,]', '') # 특수문자 제거\n"
          ]
        }
      ],
      "source": [
        "users['location'] = users['location'].str.replace(r'[^0-9a-zA-Z:,]', '') # 특수문자 제거\n",
        "\n",
        "users['location_city'] = users['location'].apply(lambda x: x.split(',')[0].strip())\n",
        "users['location_state'] = users['location'].apply(lambda x: x.split(',')[1].strip())\n",
        "users['location_country'] = users['location'].apply(lambda x: x.split(',')[2].strip())\n",
        "\n",
        "users = users.replace('na', np.nan) #특수문자 제거로 n/a가 na로 바뀌게 되었습니다. 따라서 이를 컴퓨터가 인식할 수 있는 결측값으로 변환합니다.\n",
        "users = users.replace('', np.nan) # 일부 경우 , , ,으로 입력된 경우가 있었으므로 이런 경우에도 결측값으로 변환합니다."
      ]
    },
    {
      "cell_type": "markdown",
      "metadata": {
        "id": "9IEMF3MXNCYr"
      },
      "source": [
        "country가 결측값인 일부 행을 살펴보면 city값이 존재하는데, country 정보가 없는 경우가 있습니다.\n",
        "\n",
        "따라서 이런 경우를 처리해주도록 하겠습니다."
      ]
    },
    {
      "cell_type": "code",
      "execution_count": 6,
      "metadata": {
        "id": "dNbL7ZcOe3ce"
      },
      "outputs": [],
      "source": [
        "modify_location = users[(users['location_country'].isna())&(users['location_city'].notnull())]['location_city'].values\n",
        "location = users[(users['location'].str.contains('seattle'))&(users['location_country'].notnull())]['location'].value_counts().index[0]\n",
        "\n",
        "location_list = []\n",
        "for location in modify_location:\n",
        "    try:\n",
        "        right_location = users[(users['location'].str.contains(location))&(users['location_country'].notnull())]['location'].value_counts().index[0]\n",
        "        location_list.append(right_location)\n",
        "    except:\n",
        "        pass"
      ]
    },
    {
      "cell_type": "code",
      "execution_count": 7,
      "metadata": {
        "id": "PxiQe07HiBeV"
      },
      "outputs": [],
      "source": [
        "for location in location_list:\n",
        "    users.loc[users[users['location_city']==location.split(',')[0]].index,'location_state'] = location.split(',')[1]\n",
        "    users.loc[users[users['location_city']==location.split(',')[0]].index,'location_country'] = location.split(',')[2]"
      ]
    },
    {
      "cell_type": "code",
      "execution_count": 8,
      "metadata": {
        "colab": {
          "base_uri": "https://localhost:8080/"
        },
        "id": "YGdgjdM_kYnt",
        "outputId": "793c2979-0e53-45de-fbd7-56879e4870b0"
      },
      "outputs": [
        {
          "data": {
            "text/plain": [
              "user_id                 0\n",
              "location                0\n",
              "age                 27833\n",
              "location_city         122\n",
              "location_state       1132\n",
              "location_country      271\n",
              "dtype: int64"
            ]
          },
          "execution_count": 8,
          "metadata": {},
          "output_type": "execute_result"
        }
      ],
      "source": [
        "users.isna().sum()"
      ]
    },
    {
      "cell_type": "markdown",
      "metadata": {
        "id": "fHNLV9x-Nb-p"
      },
      "source": [
        "location_state와 location_country의 결측값이 줄어든 것을 확인할 수 있습니다."
      ]
    },
    {
      "cell_type": "markdown",
      "metadata": {
        "id": "BSeC20mx7HSY"
      },
      "source": [
        "## (2-2) 시각화\n",
        "데이터 시각화를 통해 사용자들의 나이 분포, 거주 국가 등을 알아보겠습니다."
      ]
    },
    {
      "cell_type": "code",
      "execution_count": 9,
      "metadata": {
        "id": "qBKN9Vglxf7n"
      },
      "outputs": [],
      "source": [
        "users = users.drop(columns='location')"
      ]
    },
    {
      "cell_type": "markdown",
      "metadata": {
        "id": "n5wfNkFQbGPv"
      },
      "source": [
        "# (3) books\n",
        "이제 책에 대한 정보를 살펴보겠습니다.\n",
        "\n",
        "`isbn`, `book_title`, `book_author`, `year_of_publication`, `publisher`, `img_s', `img_m`, `img_l`, `language`, `category` 칼럼으로 이뤄져있습니다.\n",
        "\n",
        "`isbn`은 책의 고유 코드를 나타냅니다\n",
        "\n",
        "같은 title을 가진 책이더라도 발행 년도, 출판사, 언어 등에 따라 책 코드가 다를 수 있습니다.\n"
      ]
    },
    {
      "cell_type": "code",
      "execution_count": 10,
      "metadata": {
        "colab": {
          "base_uri": "https://localhost:8080/"
        },
        "id": "0IAz9tjpW9II",
        "outputId": "b9471b5d-2d2a-41a7-8319-7f8085648b9a"
      },
      "outputs": [
        {
          "data": {
            "text/plain": [
              "(149570, 10)"
            ]
          },
          "execution_count": 10,
          "metadata": {},
          "output_type": "execute_result"
        }
      ],
      "source": [
        "books.shape"
      ]
    },
    {
      "cell_type": "markdown",
      "metadata": {
        "id": "WVtufy0a-yK8"
      },
      "source": [
        "language는 있지만 category가 결측인 경우는 존재합니다.\n",
        "\n",
        "language가 결측값인 경우, summary도 결측값인 것을 확인할 수 있습니다."
      ]
    },
    {
      "cell_type": "markdown",
      "metadata": {
        "id": "SHBOKRpaeWmV"
      },
      "source": [
        "## (3-1) Preprocessing & Feature Engineering\n",
        "\n",
        "books의 경우 데이터를 다양한 방법으로 수정하여 여러 테스트를 해볼 수 있을 것으로 예상됩니다.\n",
        "\n",
        "본 미션의 내용 이외에 다양한 시도를 해보고 성능을 측정해보시기 바랍니다.\n",
        "\n"
      ]
    },
    {
      "cell_type": "markdown",
      "metadata": {
        "id": "0o8cfvLjmMuj"
      },
      "source": [
        "\n",
        "isbn은 책의 개별적인 고유번호를 나타내는 10자리 숫자입니다.\n",
        "\n",
        "출판 국가, 출판사 번호, 항목 번호, 확인 숫자 순서로 구성되며 확인 숫자의 경우 10을 나타내는 X가 오기도 합니다.\n",
        "\n",
        "이 번호를 활용하여 출판사의 항목 갯수를 줄여보도록 하겠습니다."
      ]
    },
    {
      "cell_type": "code",
      "execution_count": 11,
      "metadata": {
        "id": "Q9IgecfWeV6e"
      },
      "outputs": [],
      "source": [
        "publisher_dict=(books['publisher'].value_counts()).to_dict()\n",
        "publisher_count_df= pd.DataFrame(list(publisher_dict.items()),columns = ['publisher','count'])\n",
        "\n",
        "publisher_count_df = publisher_count_df.sort_values(by=['count'], ascending = False)"
      ]
    },
    {
      "cell_type": "markdown",
      "metadata": {
        "id": "bjvnOusvfDxj"
      },
      "source": [
        "유명출판사를 조회하여 보면 isbn의 시작이 모두 0140으로 시작하는 것을 확인할 수있습니다. \n",
        "\n",
        "그러나 표기 방법의 차이 및 오타로 인해 같은 그룹으로 묶이지 못하는 항목이 있습니다.\n",
        "\n",
        "이런 항목을 수정해보겠습니다."
      ]
    },
    {
      "cell_type": "code",
      "execution_count": 12,
      "metadata": {
        "colab": {
          "base_uri": "https://localhost:8080/"
        },
        "id": "_x6t7JzCijfX",
        "outputId": "2ab65bf0-a5f6-454b-edec-a9441a8155c0"
      },
      "outputs": [
        {
          "data": {
            "text/plain": [
              "11571"
            ]
          },
          "execution_count": 12,
          "metadata": {},
          "output_type": "execute_result"
        }
      ],
      "source": [
        "books['publisher'].nunique() # 수정전 항목 수를 확인합니다."
      ]
    },
    {
      "cell_type": "code",
      "execution_count": 13,
      "metadata": {
        "id": "nA3UWCLegpBc"
      },
      "outputs": [],
      "source": [
        "modify_list = publisher_count_df[publisher_count_df['count']>1].publisher.values"
      ]
    },
    {
      "cell_type": "code",
      "execution_count": 14,
      "metadata": {
        "id": "vk0rsEMwg4n5"
      },
      "outputs": [],
      "source": [
        "for publisher in modify_list:\n",
        "    try:\n",
        "        number = books[books['publisher']==publisher]['isbn'].apply(lambda x: x[:4]).value_counts().index[0]\n",
        "        right_publisher = books[books['isbn'].apply(lambda x: x[:4])==number]['publisher'].value_counts().index[0]\n",
        "        books.loc[books[books['isbn'].apply(lambda x: x[:4])==number].index,'publisher'] = right_publisher\n",
        "    except: \n",
        "        pass"
      ]
    },
    {
      "cell_type": "code",
      "execution_count": 15,
      "metadata": {
        "colab": {
          "base_uri": "https://localhost:8080/"
        },
        "id": "9aSBug1kg4fU",
        "outputId": "300a9a3f-7a27-41e8-c3d0-7166e7edf4ee"
      },
      "outputs": [
        {
          "data": {
            "text/plain": [
              "1523"
            ]
          },
          "execution_count": 15,
          "metadata": {},
          "output_type": "execute_result"
        }
      ],
      "source": [
        "books['publisher'].nunique() #수정 후 출판사 갯수입니다"
      ]
    },
    {
      "cell_type": "markdown",
      "metadata": {
        "id": "Y2DhOXoj8iPh"
      },
      "source": [
        "### (3-1-2) Category\n",
        "\n",
        "category를 칼럼의 항목을 대괄호 밖으로 빼는 과정을 거친 뒤 어떤 category가 있는지 살펴보겠습니다"
      ]
    },
    {
      "cell_type": "code",
      "execution_count": 16,
      "metadata": {
        "id": "ddMLjAU4c1uH"
      },
      "outputs": [],
      "source": [
        "import re\n",
        "books.loc[books[books['category'].notnull()].index, 'category'] = books[books['category'].notnull()]['category'].apply(lambda x: re.sub('[\\W_]+',' ',x).strip())"
      ]
    },
    {
      "cell_type": "code",
      "execution_count": 17,
      "metadata": {
        "colab": {
          "base_uri": "https://localhost:8080/"
        },
        "id": "88cgi9wfc_0j",
        "outputId": "16550511-eaaf-4686-d322-1800933e5aa7"
      },
      "outputs": [
        {
          "data": {
            "text/plain": [
              "Fiction                                            32956\n",
              "Juvenile Fiction                                    5804\n",
              "Biography Autobiography                             3320\n",
              "History                                             1925\n",
              "Religion                                            1818\n",
              "                                                   ...  \n",
              "Eschatology                                            1\n",
              "Dogsledding                                            1\n",
              "Brenner Simon Fictitious character                     1\n",
              "Gone with the wind Motion picture 1939                 1\n",
              "Authors Canadian English 20th century Biography        1\n",
              "Name: category, Length: 4137, dtype: int64"
            ]
          },
          "execution_count": 17,
          "metadata": {},
          "output_type": "execute_result"
        }
      ],
      "source": [
        "books['category'].value_counts()"
      ]
    },
    {
      "cell_type": "code",
      "execution_count": 18,
      "metadata": {
        "id": "UCqKEiXU1T7G"
      },
      "outputs": [],
      "source": [
        "books['category'] = books['category'].str.lower()"
      ]
    },
    {
      "cell_type": "code",
      "execution_count": 19,
      "metadata": {
        "colab": {
          "base_uri": "https://localhost:8080/"
        },
        "id": "OO7wK1Bl10Vm",
        "outputId": "4d428142-0264-499d-ff06-5aa8b3e3bb3e"
      },
      "outputs": [
        {
          "data": {
            "text/plain": [
              "fiction                                            33016\n",
              "juvenile fiction                                    5835\n",
              "biography autobiography                             3326\n",
              "history                                             1927\n",
              "religion                                            1818\n",
              "                                                   ...  \n",
              "brenner simon fictitious character                     1\n",
              "gone with the wind motion picture 1939                 1\n",
              "disguise                                               1\n",
              "country lawyers                                        1\n",
              "authors canadian english 20th century biography        1\n",
              "Name: category, Length: 4105, dtype: int64"
            ]
          },
          "execution_count": 19,
          "metadata": {},
          "output_type": "execute_result"
        }
      ],
      "source": [
        "books['category'].value_counts()"
      ]
    },
    {
      "cell_type": "markdown",
      "metadata": {
        "id": "veaOLOKAhFRA"
      },
      "source": [
        "카테고리를 보면 3000개가 넘는 종류를 갖고 있습니다.\n",
        "\n",
        "그러나 이 중 10개 이상의 중복을 갖는 카테고리가 50개가 안되는것을 통해, 많은 카테고리가 그룹화 안된 채로 존재한다고 볼 수 있습니다.\n",
        "\n",
        "또한 일부 카테고리의 경우 전기&자서전 카테고리와 전기, 자서전 이렇게 나눠져 있는 경우가 있습니다. \n",
        "\n",
        "이러한 카테고리를 좀더 큰 카테고리로 묶어주는 과정을 시도하여 카테고리의 가짓수를 줄일 수 있습니다.\n",
        "\n",
        "본 과정은 여러분들이 EDA를 진행하는 과정에서 더 많은 시도를 해볼 수 있을 것으로 생각됩니다.\n",
        "\n",
        "\n",
        "상위 카테고리를 만들어보겠습니다."
      ]
    },
    {
      "cell_type": "code",
      "execution_count": 20,
      "metadata": {
        "id": "aEVjCe0tlUhp"
      },
      "outputs": [],
      "source": [
        "books['category_high'] = books['category'].copy()\n",
        "books.loc[books[books['category']=='biography'].index, 'category_high'] = 'biography autobiography'\n",
        "books.loc[books[books['category']=='autobiography'].index,'category_high'] = 'biography autobiography'"
      ]
    },
    {
      "cell_type": "markdown",
      "metadata": {
        "id": "xfL31Kt7MvvQ"
      },
      "source": [
        "하나씩 찾아서 변경하기엔 너무 많은 자료양을 갖고 있습니다. \n",
        "\n",
        "따라서 이런식으로 해당 단어를 포함하는 경우 전체를 바꿀 수 있습니다."
      ]
    },
    {
      "cell_type": "code",
      "execution_count": 21,
      "metadata": {
        "id": "NJulGY5ck423"
      },
      "outputs": [],
      "source": [
        "books.loc[books[books['category'].str.contains('history',na=False)].index,'category_high'] = 'history'"
      ]
    },
    {
      "cell_type": "markdown",
      "metadata": {
        "id": "I2FfMoeLPvG9"
      },
      "source": [
        "이렇게 바꾸기에도 방대한 양을 가지고 있으므로 반복문을 통해 몇가지 카테고리들을 처리하는 예시를 보여드리겠습니다."
      ]
    },
    {
      "cell_type": "code",
      "execution_count": 22,
      "metadata": {
        "id": "HPBzP5ocoMjf"
      },
      "outputs": [],
      "source": [
        "categories = ['garden','crafts','physics','adventure','music','fiction','nonfiction','science','science fiction','social','homicide',\n",
        " 'sociology','disease','religion','christian','philosophy','psycholog','mathemat','agricult','environmental',\n",
        " 'business','poetry','drama','literary','travel','motion picture','children','cook','literature','electronic',\n",
        " 'humor','animal','bird','photograph','computer','house','ecology','family','architect','camp','criminal','language','india']\n",
        "\n",
        "for category in categories:\n",
        "    books.loc[books[books['category'].str.contains(category,na=False)].index,'category_high'] = category"
      ]
    },
    {
      "cell_type": "code",
      "execution_count": 23,
      "metadata": {
        "colab": {
          "base_uri": "https://localhost:8080/",
          "height": 352
        },
        "id": "NTbqIllpkA5W",
        "outputId": "b2fe7368-4e79-4240-f882-3a62f70c998c"
      },
      "outputs": [
        {
          "data": {
            "text/html": [
              "<div>\n",
              "<style scoped>\n",
              "    .dataframe tbody tr th:only-of-type {\n",
              "        vertical-align: middle;\n",
              "    }\n",
              "\n",
              "    .dataframe tbody tr th {\n",
              "        vertical-align: top;\n",
              "    }\n",
              "\n",
              "    .dataframe thead th {\n",
              "        text-align: right;\n",
              "    }\n",
              "</style>\n",
              "<table border=\"1\" class=\"dataframe\">\n",
              "  <thead>\n",
              "    <tr style=\"text-align: right;\">\n",
              "      <th></th>\n",
              "      <th>category</th>\n",
              "      <th>count</th>\n",
              "    </tr>\n",
              "  </thead>\n",
              "  <tbody>\n",
              "    <tr>\n",
              "      <th>0</th>\n",
              "      <td>fiction</td>\n",
              "      <td>39678</td>\n",
              "    </tr>\n",
              "    <tr>\n",
              "      <th>1</th>\n",
              "      <td>biography autobiography</td>\n",
              "      <td>3335</td>\n",
              "    </tr>\n",
              "    <tr>\n",
              "      <th>2</th>\n",
              "      <td>history</td>\n",
              "      <td>1949</td>\n",
              "    </tr>\n",
              "    <tr>\n",
              "      <th>3</th>\n",
              "      <td>religion</td>\n",
              "      <td>1824</td>\n",
              "    </tr>\n",
              "    <tr>\n",
              "      <th>4</th>\n",
              "      <td>nonfiction</td>\n",
              "      <td>1427</td>\n",
              "    </tr>\n",
              "    <tr>\n",
              "      <th>5</th>\n",
              "      <td>humor</td>\n",
              "      <td>1291</td>\n",
              "    </tr>\n",
              "    <tr>\n",
              "      <th>6</th>\n",
              "      <td>social</td>\n",
              "      <td>1271</td>\n",
              "    </tr>\n",
              "    <tr>\n",
              "      <th>7</th>\n",
              "      <td>business</td>\n",
              "      <td>1146</td>\n",
              "    </tr>\n",
              "    <tr>\n",
              "      <th>8</th>\n",
              "      <td>cook</td>\n",
              "      <td>1125</td>\n",
              "    </tr>\n",
              "    <tr>\n",
              "      <th>9</th>\n",
              "      <td>body mind spirit</td>\n",
              "      <td>1113</td>\n",
              "    </tr>\n",
              "  </tbody>\n",
              "</table>\n",
              "</div>"
            ],
            "text/plain": [
              "                  category  count\n",
              "0                  fiction  39678\n",
              "1  biography autobiography   3335\n",
              "2                  history   1949\n",
              "3                 religion   1824\n",
              "4               nonfiction   1427\n",
              "5                    humor   1291\n",
              "6                   social   1271\n",
              "7                 business   1146\n",
              "8                     cook   1125\n",
              "9         body mind spirit   1113"
            ]
          },
          "execution_count": 23,
          "metadata": {},
          "output_type": "execute_result"
        }
      ],
      "source": [
        "category_high_df = pd.DataFrame(books['category_high'].value_counts()).reset_index()\n",
        "category_high_df.columns = ['category','count']\n",
        "category_high_df.head(10)"
      ]
    },
    {
      "cell_type": "code",
      "execution_count": 24,
      "metadata": {
        "id": "JmyXh9sRx6kd"
      },
      "outputs": [],
      "source": [
        "# 5개 이하인 항목은 others로 묶어주도록 하겠습니다.\n",
        "others_list = category_high_df[category_high_df['count']<5]['category'].values"
      ]
    },
    {
      "cell_type": "code",
      "execution_count": 25,
      "metadata": {
        "id": "94jUY4j6yRx1"
      },
      "outputs": [],
      "source": [
        "books.loc[books[books['category_high'].isin(others_list)].index, 'category_high']='others'"
      ]
    },
    {
      "cell_type": "markdown",
      "metadata": {
        "id": "yUg3CX3wzPfG"
      },
      "source": [
        "# (5) 파일 merge\n",
        "\n",
        "이제 세 파일을 모두 합쳐서 컬럼간의 관계를 살펴보도록 하겠습니다."
      ]
    },
    {
      "cell_type": "code",
      "execution_count": 26,
      "metadata": {
        "colab": {
          "base_uri": "https://localhost:8080/"
        },
        "id": "TqbsORelxkHm",
        "outputId": "410d450c-e6bb-4748-8a88-339530153761"
      },
      "outputs": [
        {
          "name": "stdout",
          "output_type": "stream",
          "text": [
            "merge 결과 shape:  (306795, 17)\n"
          ]
        }
      ],
      "source": [
        "merge1 = ratings.merge(books, how='left', on='isbn')\n",
        "data = merge1.merge(users, how='inner', on='user_id')\n",
        "print('merge 결과 shape: ', data.shape)"
      ]
    },
    {
      "cell_type": "code",
      "execution_count": 27,
      "metadata": {
        "colab": {
          "base_uri": "https://localhost:8080/"
        },
        "id": "zC7auykbztMr",
        "outputId": "fd38f7aa-9051-4bde-fe11-6f53d691b481"
      },
      "outputs": [
        {
          "data": {
            "text/plain": [
              "(306795, 3)"
            ]
          },
          "execution_count": 27,
          "metadata": {},
          "output_type": "execute_result"
        }
      ],
      "source": [
        "ratings.shape\n",
        "# ratings 기록 갯수만큼 결과가 나온것을 확인 할 수 있습니다."
      ]
    },
    {
      "cell_type": "code",
      "execution_count": 28,
      "metadata": {
        "colab": {
          "base_uri": "https://localhost:8080/"
        },
        "id": "SJedxF_Bz-F2",
        "outputId": "00e1248c-4946-403f-bbc1-d65c87b77025"
      },
      "outputs": [
        {
          "data": {
            "text/plain": [
              "set()"
            ]
          },
          "execution_count": 28,
          "metadata": {},
          "output_type": "execute_result"
        }
      ],
      "source": [
        "set(ratings['isbn']) - set(books['isbn']) "
      ]
    },
    {
      "cell_type": "code",
      "execution_count": 43,
      "metadata": {},
      "outputs": [
        {
          "data": {
            "text/plain": [
              "['books']"
            ]
          },
          "execution_count": 43,
          "metadata": {},
          "output_type": "execute_result"
        }
      ],
      "source": []
    },
    {
      "cell_type": "code",
      "execution_count": 54,
      "metadata": {},
      "outputs": [],
      "source": [
        "# 전처리한 데이터 저장\n",
        "# toSave = [books, users, ratings]\n",
        "# for d in toSave:\n",
        "#     name = [v for v in globals() if globals()[v] is d][0]\n",
        "#     d.to_csv(name+'-mod.csv', index=None)"
      ]
    },
    {
      "cell_type": "markdown",
      "metadata": {
        "id": "QEfQYvyix8WB"
      },
      "source": [
        "# 박우석의 작업"
      ]
    },
    {
      "cell_type": "markdown",
      "metadata": {
        "id": "RPWbuWX1yWsp"
      },
      "source": [
        "## target 과 가장 연관성 있는 feature를 바로 찾을 수 있는가?\n"
      ]
    },
    {
      "cell_type": "code",
      "execution_count": 16,
      "metadata": {},
      "outputs": [],
      "source": [
        "import pandas as pd\n",
        "import numpy as np\n",
        "import seaborn as sns\n",
        "import matplotlib.pyplot as plt\n",
        "\n",
        "from dython.nominal import associations"
      ]
    },
    {
      "cell_type": "code",
      "execution_count": 5,
      "metadata": {},
      "outputs": [],
      "source": [
        "users = pd.read_csv('users-mod.csv')\n",
        "ratings = pd.read_csv('ratings-mod.csv')\n",
        "books = pd.read_csv('books-mod.csv')"
      ]
    },
    {
      "cell_type": "code",
      "execution_count": 6,
      "metadata": {
        "colab": {
          "base_uri": "https://localhost:8080/"
        },
        "id": "UYP7x4Avx8Jr",
        "outputId": "27bb41e3-3fb0-4375-f6ec-1342459057b5"
      },
      "outputs": [
        {
          "name": "stdout",
          "output_type": "stream",
          "text": [
            "merge 결과 shape:  (306795, 17)\n"
          ]
        }
      ],
      "source": [
        "merge1 = ratings.merge(books, how='left', on='isbn')\n",
        "data = merge1.merge(users, how='inner', on='user_id')\n",
        "print('merge 결과 shape: ', data.shape)"
      ]
    },
    {
      "cell_type": "code",
      "execution_count": 7,
      "metadata": {
        "colab": {
          "base_uri": "https://localhost:8080/",
          "height": 411
        },
        "id": "L3daYCkM0YCU",
        "outputId": "5b082723-2334-4d0f-baba-61ce9f85a51a"
      },
      "outputs": [
        {
          "data": {
            "text/html": [
              "<div>\n",
              "<style scoped>\n",
              "    .dataframe tbody tr th:only-of-type {\n",
              "        vertical-align: middle;\n",
              "    }\n",
              "\n",
              "    .dataframe tbody tr th {\n",
              "        vertical-align: top;\n",
              "    }\n",
              "\n",
              "    .dataframe thead th {\n",
              "        text-align: right;\n",
              "    }\n",
              "</style>\n",
              "<table border=\"1\" class=\"dataframe\">\n",
              "  <thead>\n",
              "    <tr style=\"text-align: right;\">\n",
              "      <th></th>\n",
              "      <th>user_id</th>\n",
              "      <th>isbn</th>\n",
              "      <th>rating</th>\n",
              "      <th>book_title</th>\n",
              "      <th>book_author</th>\n",
              "      <th>year_of_publication</th>\n",
              "      <th>publisher</th>\n",
              "      <th>img_url</th>\n",
              "      <th>language</th>\n",
              "      <th>category</th>\n",
              "      <th>summary</th>\n",
              "      <th>img_path</th>\n",
              "      <th>category_high</th>\n",
              "      <th>age</th>\n",
              "      <th>location_city</th>\n",
              "      <th>location_state</th>\n",
              "      <th>location_country</th>\n",
              "    </tr>\n",
              "  </thead>\n",
              "  <tbody>\n",
              "    <tr>\n",
              "      <th>0</th>\n",
              "      <td>8</td>\n",
              "      <td>0002005018</td>\n",
              "      <td>4</td>\n",
              "      <td>Clara Callan</td>\n",
              "      <td>Richard Bruce Wright</td>\n",
              "      <td>2001.0</td>\n",
              "      <td>Collins</td>\n",
              "      <td>http://images.amazon.com/images/P/0002005018.0...</td>\n",
              "      <td>en</td>\n",
              "      <td>actresses</td>\n",
              "      <td>In a small town in Canada, Clara Callan reluct...</td>\n",
              "      <td>images/0002005018.01.THUMBZZZ.jpg</td>\n",
              "      <td>actresses</td>\n",
              "      <td>NaN</td>\n",
              "      <td>timmins</td>\n",
              "      <td>ontario</td>\n",
              "      <td>canada</td>\n",
              "    </tr>\n",
              "    <tr>\n",
              "      <th>1</th>\n",
              "      <td>8</td>\n",
              "      <td>074322678X</td>\n",
              "      <td>4</td>\n",
              "      <td>Where You'll Find Me: And Other Stories</td>\n",
              "      <td>Ann Beattie</td>\n",
              "      <td>2002.0</td>\n",
              "      <td>Pocket</td>\n",
              "      <td>http://images.amazon.com/images/P/074322678X.0...</td>\n",
              "      <td>en</td>\n",
              "      <td>fiction</td>\n",
              "      <td>Now back in print, Ann Beattie&amp;#39;s finest sh...</td>\n",
              "      <td>images/074322678X.01.THUMBZZZ.jpg</td>\n",
              "      <td>fiction</td>\n",
              "      <td>NaN</td>\n",
              "      <td>timmins</td>\n",
              "      <td>ontario</td>\n",
              "      <td>canada</td>\n",
              "    </tr>\n",
              "    <tr>\n",
              "      <th>2</th>\n",
              "      <td>8</td>\n",
              "      <td>0887841740</td>\n",
              "      <td>2</td>\n",
              "      <td>The Middle Stories</td>\n",
              "      <td>Sheila Heti</td>\n",
              "      <td>2004.0</td>\n",
              "      <td>HarperBusiness</td>\n",
              "      <td>http://images.amazon.com/images/P/0887841740.0...</td>\n",
              "      <td>NaN</td>\n",
              "      <td>NaN</td>\n",
              "      <td>NaN</td>\n",
              "      <td>images/0887841740.01.THUMBZZZ.jpg</td>\n",
              "      <td>NaN</td>\n",
              "      <td>NaN</td>\n",
              "      <td>timmins</td>\n",
              "      <td>ontario</td>\n",
              "      <td>canada</td>\n",
              "    </tr>\n",
              "    <tr>\n",
              "      <th>3</th>\n",
              "      <td>8</td>\n",
              "      <td>1552041778</td>\n",
              "      <td>2</td>\n",
              "      <td>Jane Doe</td>\n",
              "      <td>R. J. Kaiser</td>\n",
              "      <td>1999.0</td>\n",
              "      <td>Firefly Books Ltd</td>\n",
              "      <td>http://images.amazon.com/images/P/1552041778.0...</td>\n",
              "      <td>NaN</td>\n",
              "      <td>NaN</td>\n",
              "      <td>NaN</td>\n",
              "      <td>images/1552041778.01.THUMBZZZ.jpg</td>\n",
              "      <td>NaN</td>\n",
              "      <td>NaN</td>\n",
              "      <td>timmins</td>\n",
              "      <td>ontario</td>\n",
              "      <td>canada</td>\n",
              "    </tr>\n",
              "    <tr>\n",
              "      <th>4</th>\n",
              "      <td>8</td>\n",
              "      <td>1567407781</td>\n",
              "      <td>6</td>\n",
              "      <td>The Witchfinder (Amos Walker Mystery Series)</td>\n",
              "      <td>Loren D. Estleman</td>\n",
              "      <td>1998.0</td>\n",
              "      <td>Llewellyn Publications</td>\n",
              "      <td>http://images.amazon.com/images/P/1567407781.0...</td>\n",
              "      <td>NaN</td>\n",
              "      <td>NaN</td>\n",
              "      <td>NaN</td>\n",
              "      <td>images/1567407781.01.THUMBZZZ.jpg</td>\n",
              "      <td>NaN</td>\n",
              "      <td>NaN</td>\n",
              "      <td>timmins</td>\n",
              "      <td>ontario</td>\n",
              "      <td>canada</td>\n",
              "    </tr>\n",
              "  </tbody>\n",
              "</table>\n",
              "</div>"
            ],
            "text/plain": [
              "   user_id        isbn  rating                                    book_title  \\\n",
              "0        8  0002005018       4                                  Clara Callan   \n",
              "1        8  074322678X       4       Where You'll Find Me: And Other Stories   \n",
              "2        8  0887841740       2                            The Middle Stories   \n",
              "3        8  1552041778       2                                      Jane Doe   \n",
              "4        8  1567407781       6  The Witchfinder (Amos Walker Mystery Series)   \n",
              "\n",
              "            book_author  year_of_publication               publisher  \\\n",
              "0  Richard Bruce Wright               2001.0                 Collins   \n",
              "1           Ann Beattie               2002.0                  Pocket   \n",
              "2           Sheila Heti               2004.0          HarperBusiness   \n",
              "3          R. J. Kaiser               1999.0       Firefly Books Ltd   \n",
              "4     Loren D. Estleman               1998.0  Llewellyn Publications   \n",
              "\n",
              "                                             img_url language   category  \\\n",
              "0  http://images.amazon.com/images/P/0002005018.0...       en  actresses   \n",
              "1  http://images.amazon.com/images/P/074322678X.0...       en    fiction   \n",
              "2  http://images.amazon.com/images/P/0887841740.0...      NaN        NaN   \n",
              "3  http://images.amazon.com/images/P/1552041778.0...      NaN        NaN   \n",
              "4  http://images.amazon.com/images/P/1567407781.0...      NaN        NaN   \n",
              "\n",
              "                                             summary  \\\n",
              "0  In a small town in Canada, Clara Callan reluct...   \n",
              "1  Now back in print, Ann Beattie&#39;s finest sh...   \n",
              "2                                                NaN   \n",
              "3                                                NaN   \n",
              "4                                                NaN   \n",
              "\n",
              "                            img_path category_high  age location_city  \\\n",
              "0  images/0002005018.01.THUMBZZZ.jpg     actresses  NaN       timmins   \n",
              "1  images/074322678X.01.THUMBZZZ.jpg       fiction  NaN       timmins   \n",
              "2  images/0887841740.01.THUMBZZZ.jpg           NaN  NaN       timmins   \n",
              "3  images/1552041778.01.THUMBZZZ.jpg           NaN  NaN       timmins   \n",
              "4  images/1567407781.01.THUMBZZZ.jpg           NaN  NaN       timmins   \n",
              "\n",
              "  location_state location_country  \n",
              "0        ontario           canada  \n",
              "1        ontario           canada  \n",
              "2        ontario           canada  \n",
              "3        ontario           canada  \n",
              "4        ontario           canada  "
            ]
          },
          "execution_count": 7,
          "metadata": {},
          "output_type": "execute_result"
        }
      ],
      "source": [
        "data.head()"
      ]
    },
    {
      "cell_type": "code",
      "execution_count": 8,
      "metadata": {
        "colab": {
          "base_uri": "https://localhost:8080/",
          "height": 495
        },
        "id": "grjgG7_gyVkc",
        "outputId": "dc7b5411-27dd-485e-863a-b1ed83cfd94e"
      },
      "outputs": [
        {
          "data": {
            "text/html": [
              "<div>\n",
              "<style scoped>\n",
              "    .dataframe tbody tr th:only-of-type {\n",
              "        vertical-align: middle;\n",
              "    }\n",
              "\n",
              "    .dataframe tbody tr th {\n",
              "        vertical-align: top;\n",
              "    }\n",
              "\n",
              "    .dataframe thead th {\n",
              "        text-align: right;\n",
              "    }\n",
              "</style>\n",
              "<table border=\"1\" class=\"dataframe\">\n",
              "  <thead>\n",
              "    <tr style=\"text-align: right;\">\n",
              "      <th></th>\n",
              "      <th>user_id</th>\n",
              "      <th>isbn</th>\n",
              "      <th>rating_x</th>\n",
              "      <th>book_title</th>\n",
              "      <th>book_author</th>\n",
              "      <th>year_of_publication</th>\n",
              "      <th>publisher</th>\n",
              "      <th>img_url</th>\n",
              "      <th>language</th>\n",
              "      <th>category</th>\n",
              "      <th>summary</th>\n",
              "      <th>img_path</th>\n",
              "      <th>category_high</th>\n",
              "      <th>age</th>\n",
              "      <th>location_city</th>\n",
              "      <th>location_state</th>\n",
              "      <th>location_country</th>\n",
              "      <th>rating_y</th>\n",
              "    </tr>\n",
              "  </thead>\n",
              "  <tbody>\n",
              "    <tr>\n",
              "      <th>0</th>\n",
              "      <td>8</td>\n",
              "      <td>0002005018</td>\n",
              "      <td>4</td>\n",
              "      <td>Clara Callan</td>\n",
              "      <td>Richard Bruce Wright</td>\n",
              "      <td>2001.0</td>\n",
              "      <td>Collins</td>\n",
              "      <td>http://images.amazon.com/images/P/0002005018.0...</td>\n",
              "      <td>en</td>\n",
              "      <td>actresses</td>\n",
              "      <td>In a small town in Canada, Clara Callan reluct...</td>\n",
              "      <td>images/0002005018.01.THUMBZZZ.jpg</td>\n",
              "      <td>actresses</td>\n",
              "      <td>NaN</td>\n",
              "      <td>timmins</td>\n",
              "      <td>ontario</td>\n",
              "      <td>canada</td>\n",
              "      <td>4</td>\n",
              "    </tr>\n",
              "    <tr>\n",
              "      <th>1</th>\n",
              "      <td>8</td>\n",
              "      <td>074322678X</td>\n",
              "      <td>4</td>\n",
              "      <td>Where You'll Find Me: And Other Stories</td>\n",
              "      <td>Ann Beattie</td>\n",
              "      <td>2002.0</td>\n",
              "      <td>Pocket</td>\n",
              "      <td>http://images.amazon.com/images/P/074322678X.0...</td>\n",
              "      <td>en</td>\n",
              "      <td>fiction</td>\n",
              "      <td>Now back in print, Ann Beattie&amp;#39;s finest sh...</td>\n",
              "      <td>images/074322678X.01.THUMBZZZ.jpg</td>\n",
              "      <td>fiction</td>\n",
              "      <td>NaN</td>\n",
              "      <td>timmins</td>\n",
              "      <td>ontario</td>\n",
              "      <td>canada</td>\n",
              "      <td>4</td>\n",
              "    </tr>\n",
              "    <tr>\n",
              "      <th>2</th>\n",
              "      <td>8</td>\n",
              "      <td>0887841740</td>\n",
              "      <td>2</td>\n",
              "      <td>The Middle Stories</td>\n",
              "      <td>Sheila Heti</td>\n",
              "      <td>2004.0</td>\n",
              "      <td>HarperBusiness</td>\n",
              "      <td>http://images.amazon.com/images/P/0887841740.0...</td>\n",
              "      <td>NaN</td>\n",
              "      <td>NaN</td>\n",
              "      <td>NaN</td>\n",
              "      <td>images/0887841740.01.THUMBZZZ.jpg</td>\n",
              "      <td>NaN</td>\n",
              "      <td>NaN</td>\n",
              "      <td>timmins</td>\n",
              "      <td>ontario</td>\n",
              "      <td>canada</td>\n",
              "      <td>2</td>\n",
              "    </tr>\n",
              "    <tr>\n",
              "      <th>3</th>\n",
              "      <td>8</td>\n",
              "      <td>1552041778</td>\n",
              "      <td>2</td>\n",
              "      <td>Jane Doe</td>\n",
              "      <td>R. J. Kaiser</td>\n",
              "      <td>1999.0</td>\n",
              "      <td>Firefly Books Ltd</td>\n",
              "      <td>http://images.amazon.com/images/P/1552041778.0...</td>\n",
              "      <td>NaN</td>\n",
              "      <td>NaN</td>\n",
              "      <td>NaN</td>\n",
              "      <td>images/1552041778.01.THUMBZZZ.jpg</td>\n",
              "      <td>NaN</td>\n",
              "      <td>NaN</td>\n",
              "      <td>timmins</td>\n",
              "      <td>ontario</td>\n",
              "      <td>canada</td>\n",
              "      <td>2</td>\n",
              "    </tr>\n",
              "    <tr>\n",
              "      <th>4</th>\n",
              "      <td>8</td>\n",
              "      <td>1567407781</td>\n",
              "      <td>6</td>\n",
              "      <td>The Witchfinder (Amos Walker Mystery Series)</td>\n",
              "      <td>Loren D. Estleman</td>\n",
              "      <td>1998.0</td>\n",
              "      <td>Llewellyn Publications</td>\n",
              "      <td>http://images.amazon.com/images/P/1567407781.0...</td>\n",
              "      <td>NaN</td>\n",
              "      <td>NaN</td>\n",
              "      <td>NaN</td>\n",
              "      <td>images/1567407781.01.THUMBZZZ.jpg</td>\n",
              "      <td>NaN</td>\n",
              "      <td>NaN</td>\n",
              "      <td>timmins</td>\n",
              "      <td>ontario</td>\n",
              "      <td>canada</td>\n",
              "      <td>6</td>\n",
              "    </tr>\n",
              "  </tbody>\n",
              "</table>\n",
              "</div>"
            ],
            "text/plain": [
              "   user_id        isbn  rating_x  \\\n",
              "0        8  0002005018         4   \n",
              "1        8  074322678X         4   \n",
              "2        8  0887841740         2   \n",
              "3        8  1552041778         2   \n",
              "4        8  1567407781         6   \n",
              "\n",
              "                                     book_title           book_author  \\\n",
              "0                                  Clara Callan  Richard Bruce Wright   \n",
              "1       Where You'll Find Me: And Other Stories           Ann Beattie   \n",
              "2                            The Middle Stories           Sheila Heti   \n",
              "3                                      Jane Doe          R. J. Kaiser   \n",
              "4  The Witchfinder (Amos Walker Mystery Series)     Loren D. Estleman   \n",
              "\n",
              "   year_of_publication               publisher  \\\n",
              "0               2001.0                 Collins   \n",
              "1               2002.0                  Pocket   \n",
              "2               2004.0          HarperBusiness   \n",
              "3               1999.0       Firefly Books Ltd   \n",
              "4               1998.0  Llewellyn Publications   \n",
              "\n",
              "                                             img_url language   category  \\\n",
              "0  http://images.amazon.com/images/P/0002005018.0...       en  actresses   \n",
              "1  http://images.amazon.com/images/P/074322678X.0...       en    fiction   \n",
              "2  http://images.amazon.com/images/P/0887841740.0...      NaN        NaN   \n",
              "3  http://images.amazon.com/images/P/1552041778.0...      NaN        NaN   \n",
              "4  http://images.amazon.com/images/P/1567407781.0...      NaN        NaN   \n",
              "\n",
              "                                             summary  \\\n",
              "0  In a small town in Canada, Clara Callan reluct...   \n",
              "1  Now back in print, Ann Beattie&#39;s finest sh...   \n",
              "2                                                NaN   \n",
              "3                                                NaN   \n",
              "4                                                NaN   \n",
              "\n",
              "                            img_path category_high  age location_city  \\\n",
              "0  images/0002005018.01.THUMBZZZ.jpg     actresses  NaN       timmins   \n",
              "1  images/074322678X.01.THUMBZZZ.jpg       fiction  NaN       timmins   \n",
              "2  images/0887841740.01.THUMBZZZ.jpg           NaN  NaN       timmins   \n",
              "3  images/1552041778.01.THUMBZZZ.jpg           NaN  NaN       timmins   \n",
              "4  images/1567407781.01.THUMBZZZ.jpg           NaN  NaN       timmins   \n",
              "\n",
              "  location_state location_country  rating_y  \n",
              "0        ontario           canada         4  \n",
              "1        ontario           canada         4  \n",
              "2        ontario           canada         2  \n",
              "3        ontario           canada         2  \n",
              "4        ontario           canada         6  "
            ]
          },
          "execution_count": 8,
          "metadata": {},
          "output_type": "execute_result"
        }
      ],
      "source": [
        "data_wr = data.merge(ratings, how='inner', on=['user_id', 'isbn'])\n",
        "data_wr.head()"
      ]
    },
    {
      "cell_type": "code",
      "execution_count": 9,
      "metadata": {
        "id": "kxM34OkO1B5_"
      },
      "outputs": [],
      "source": [
        "from sklearn.preprocessing import StandardScaler, OrdinalEncoder, MinMaxScaler\n",
        "\n",
        "import matplotlib.pyplot as plt\n",
        "import seaborn as sns"
      ]
    },
    {
      "cell_type": "code",
      "execution_count": 10,
      "metadata": {
        "colab": {
          "base_uri": "https://localhost:8080/"
        },
        "id": "dblQSOpm031g",
        "outputId": "b5482733-a7bf-4616-c275-6a38ece8e78e"
      },
      "outputs": [
        {
          "data": {
            "text/plain": [
              "29.0    9085\n",
              "33.0    8084\n",
              "28.0    7724\n",
              "32.0    7595\n",
              "52.0    7583\n",
              "        ... \n",
              "86.0       1\n",
              "94.0       1\n",
              "89.0       1\n",
              "98.0       1\n",
              "92.0       1\n",
              "Name: age, Length: 91, dtype: int64"
            ]
          },
          "execution_count": 10,
          "metadata": {},
          "output_type": "execute_result"
        }
      ],
      "source": [
        "data_wr['age'].value_counts()"
      ]
    },
    {
      "cell_type": "code",
      "execution_count": 11,
      "metadata": {
        "colab": {
          "base_uri": "https://localhost:8080/",
          "height": 429
        },
        "id": "PcnLsQ3ey0Ud",
        "outputId": "f344c794-e3a8-4bfe-cdfb-ddd280671c3d"
      },
      "outputs": [
        {
          "data": {
            "text/html": [
              "<div>\n",
              "<style scoped>\n",
              "    .dataframe tbody tr th:only-of-type {\n",
              "        vertical-align: middle;\n",
              "    }\n",
              "\n",
              "    .dataframe tbody tr th {\n",
              "        vertical-align: top;\n",
              "    }\n",
              "\n",
              "    .dataframe thead th {\n",
              "        text-align: right;\n",
              "    }\n",
              "</style>\n",
              "<table border=\"1\" class=\"dataframe\">\n",
              "  <thead>\n",
              "    <tr style=\"text-align: right;\">\n",
              "      <th></th>\n",
              "      <th>user_id</th>\n",
              "      <th>isbn</th>\n",
              "      <th>book_title</th>\n",
              "      <th>book_author</th>\n",
              "      <th>year_of_publication</th>\n",
              "      <th>publisher</th>\n",
              "      <th>language</th>\n",
              "      <th>category</th>\n",
              "      <th>category_high</th>\n",
              "      <th>age</th>\n",
              "      <th>location_city</th>\n",
              "      <th>location_state</th>\n",
              "      <th>location_country</th>\n",
              "    </tr>\n",
              "  </thead>\n",
              "  <tbody>\n",
              "    <tr>\n",
              "      <th>0</th>\n",
              "      <td>8</td>\n",
              "      <td>0002005018</td>\n",
              "      <td>Clara Callan</td>\n",
              "      <td>Richard Bruce Wright</td>\n",
              "      <td>2001.0</td>\n",
              "      <td>Collins</td>\n",
              "      <td>en</td>\n",
              "      <td>actresses</td>\n",
              "      <td>actresses</td>\n",
              "      <td>NaN</td>\n",
              "      <td>timmins</td>\n",
              "      <td>ontario</td>\n",
              "      <td>canada</td>\n",
              "    </tr>\n",
              "    <tr>\n",
              "      <th>1</th>\n",
              "      <td>8</td>\n",
              "      <td>074322678X</td>\n",
              "      <td>Where You'll Find Me: And Other Stories</td>\n",
              "      <td>Ann Beattie</td>\n",
              "      <td>2002.0</td>\n",
              "      <td>Pocket</td>\n",
              "      <td>en</td>\n",
              "      <td>fiction</td>\n",
              "      <td>fiction</td>\n",
              "      <td>NaN</td>\n",
              "      <td>timmins</td>\n",
              "      <td>ontario</td>\n",
              "      <td>canada</td>\n",
              "    </tr>\n",
              "    <tr>\n",
              "      <th>2</th>\n",
              "      <td>8</td>\n",
              "      <td>0887841740</td>\n",
              "      <td>The Middle Stories</td>\n",
              "      <td>Sheila Heti</td>\n",
              "      <td>2004.0</td>\n",
              "      <td>HarperBusiness</td>\n",
              "      <td>NaN</td>\n",
              "      <td>NaN</td>\n",
              "      <td>NaN</td>\n",
              "      <td>NaN</td>\n",
              "      <td>timmins</td>\n",
              "      <td>ontario</td>\n",
              "      <td>canada</td>\n",
              "    </tr>\n",
              "    <tr>\n",
              "      <th>3</th>\n",
              "      <td>8</td>\n",
              "      <td>1552041778</td>\n",
              "      <td>Jane Doe</td>\n",
              "      <td>R. J. Kaiser</td>\n",
              "      <td>1999.0</td>\n",
              "      <td>Firefly Books Ltd</td>\n",
              "      <td>NaN</td>\n",
              "      <td>NaN</td>\n",
              "      <td>NaN</td>\n",
              "      <td>NaN</td>\n",
              "      <td>timmins</td>\n",
              "      <td>ontario</td>\n",
              "      <td>canada</td>\n",
              "    </tr>\n",
              "    <tr>\n",
              "      <th>4</th>\n",
              "      <td>8</td>\n",
              "      <td>1567407781</td>\n",
              "      <td>The Witchfinder (Amos Walker Mystery Series)</td>\n",
              "      <td>Loren D. Estleman</td>\n",
              "      <td>1998.0</td>\n",
              "      <td>Llewellyn Publications</td>\n",
              "      <td>NaN</td>\n",
              "      <td>NaN</td>\n",
              "      <td>NaN</td>\n",
              "      <td>NaN</td>\n",
              "      <td>timmins</td>\n",
              "      <td>ontario</td>\n",
              "      <td>canada</td>\n",
              "    </tr>\n",
              "  </tbody>\n",
              "</table>\n",
              "</div>"
            ],
            "text/plain": [
              "   user_id        isbn                                    book_title  \\\n",
              "0        8  0002005018                                  Clara Callan   \n",
              "1        8  074322678X       Where You'll Find Me: And Other Stories   \n",
              "2        8  0887841740                            The Middle Stories   \n",
              "3        8  1552041778                                      Jane Doe   \n",
              "4        8  1567407781  The Witchfinder (Amos Walker Mystery Series)   \n",
              "\n",
              "            book_author  year_of_publication               publisher language  \\\n",
              "0  Richard Bruce Wright               2001.0                 Collins       en   \n",
              "1           Ann Beattie               2002.0                  Pocket       en   \n",
              "2           Sheila Heti               2004.0          HarperBusiness      NaN   \n",
              "3          R. J. Kaiser               1999.0       Firefly Books Ltd      NaN   \n",
              "4     Loren D. Estleman               1998.0  Llewellyn Publications      NaN   \n",
              "\n",
              "    category category_high  age location_city location_state location_country  \n",
              "0  actresses     actresses  NaN       timmins        ontario           canada  \n",
              "1    fiction       fiction  NaN       timmins        ontario           canada  \n",
              "2        NaN           NaN  NaN       timmins        ontario           canada  \n",
              "3        NaN           NaN  NaN       timmins        ontario           canada  \n",
              "4        NaN           NaN  NaN       timmins        ontario           canada  "
            ]
          },
          "execution_count": 11,
          "metadata": {},
          "output_type": "execute_result"
        }
      ],
      "source": [
        "data1 = data_wr.drop(columns = ['rating_x', 'img_url', 'img_path', 'summary', 'rating_y'])\n",
        "data1.head()"
      ]
    },
    {
      "cell_type": "code",
      "execution_count": 12,
      "metadata": {
        "colab": {
          "base_uri": "https://localhost:8080/"
        },
        "id": "F0DTW7Bry0SD",
        "outputId": "54e7c21e-3052-402a-8438-c8b2c6fedc89"
      },
      "outputs": [
        {
          "name": "stdout",
          "output_type": "stream",
          "text": [
            "data with nan ages: (306795, 13)\n",
            "data without nan ages: (214133, 13)\n"
          ]
        }
      ],
      "source": [
        "print('data with nan ages:', data1.shape)\n",
        "print('data without nan ages:', data1.loc[data1['age'].notna()].shape)"
      ]
    },
    {
      "cell_type": "code",
      "execution_count": 13,
      "metadata": {
        "colab": {
          "base_uri": "https://localhost:8080/",
          "height": 476
        },
        "id": "ruD5hzZM2EXK",
        "outputId": "62acccd0-62a9-4c0a-d74a-590d620d571d"
      },
      "outputs": [
        {
          "data": {
            "text/html": [
              "<div>\n",
              "<style scoped>\n",
              "    .dataframe tbody tr th:only-of-type {\n",
              "        vertical-align: middle;\n",
              "    }\n",
              "\n",
              "    .dataframe tbody tr th {\n",
              "        vertical-align: top;\n",
              "    }\n",
              "\n",
              "    .dataframe thead th {\n",
              "        text-align: right;\n",
              "    }\n",
              "</style>\n",
              "<table border=\"1\" class=\"dataframe\">\n",
              "  <thead>\n",
              "    <tr style=\"text-align: right;\">\n",
              "      <th></th>\n",
              "      <th>user_id</th>\n",
              "      <th>isbn</th>\n",
              "      <th>book_title</th>\n",
              "      <th>book_author</th>\n",
              "      <th>year_of_publication</th>\n",
              "      <th>publisher</th>\n",
              "      <th>language</th>\n",
              "      <th>category</th>\n",
              "      <th>category_high</th>\n",
              "      <th>age</th>\n",
              "      <th>location_city</th>\n",
              "      <th>location_state</th>\n",
              "      <th>location_country</th>\n",
              "      <th>rating</th>\n",
              "    </tr>\n",
              "  </thead>\n",
              "  <tbody>\n",
              "    <tr>\n",
              "      <th>0</th>\n",
              "      <td>0.0</td>\n",
              "      <td>31.0</td>\n",
              "      <td>17674.0</td>\n",
              "      <td>43657.0</td>\n",
              "      <td>87.0</td>\n",
              "      <td>266.0</td>\n",
              "      <td>4.0</td>\n",
              "      <td>58.0</td>\n",
              "      <td>9.0</td>\n",
              "      <td>NaN</td>\n",
              "      <td>9854.0</td>\n",
              "      <td>790.0</td>\n",
              "      <td>39.0</td>\n",
              "      <td>4</td>\n",
              "    </tr>\n",
              "    <tr>\n",
              "      <th>1</th>\n",
              "      <td>0.0</td>\n",
              "      <td>76197.0</td>\n",
              "      <td>114063.0</td>\n",
              "      <td>2400.0</td>\n",
              "      <td>88.0</td>\n",
              "      <td>1015.0</td>\n",
              "      <td>4.0</td>\n",
              "      <td>2089.0</td>\n",
              "      <td>262.0</td>\n",
              "      <td>NaN</td>\n",
              "      <td>9854.0</td>\n",
              "      <td>790.0</td>\n",
              "      <td>39.0</td>\n",
              "      <td>4</td>\n",
              "    </tr>\n",
              "    <tr>\n",
              "      <th>2</th>\n",
              "      <td>0.0</td>\n",
              "      <td>96808.0</td>\n",
              "      <td>96589.0</td>\n",
              "      <td>47720.0</td>\n",
              "      <td>90.0</td>\n",
              "      <td>558.0</td>\n",
              "      <td>NaN</td>\n",
              "      <td>NaN</td>\n",
              "      <td>NaN</td>\n",
              "      <td>NaN</td>\n",
              "      <td>9854.0</td>\n",
              "      <td>790.0</td>\n",
              "      <td>39.0</td>\n",
              "      <td>2</td>\n",
              "    </tr>\n",
              "    <tr>\n",
              "      <th>3</th>\n",
              "      <td>0.0</td>\n",
              "      <td>104143.0</td>\n",
              "      <td>46578.0</td>\n",
              "      <td>42530.0</td>\n",
              "      <td>85.0</td>\n",
              "      <td>472.0</td>\n",
              "      <td>NaN</td>\n",
              "      <td>NaN</td>\n",
              "      <td>NaN</td>\n",
              "      <td>NaN</td>\n",
              "      <td>9854.0</td>\n",
              "      <td>790.0</td>\n",
              "      <td>39.0</td>\n",
              "      <td>2</td>\n",
              "    </tr>\n",
              "    <tr>\n",
              "      <th>4</th>\n",
              "      <td>0.0</td>\n",
              "      <td>107921.0</td>\n",
              "      <td>104810.0</td>\n",
              "      <td>32348.0</td>\n",
              "      <td>84.0</td>\n",
              "      <td>781.0</td>\n",
              "      <td>NaN</td>\n",
              "      <td>NaN</td>\n",
              "      <td>NaN</td>\n",
              "      <td>NaN</td>\n",
              "      <td>9854.0</td>\n",
              "      <td>790.0</td>\n",
              "      <td>39.0</td>\n",
              "      <td>6</td>\n",
              "    </tr>\n",
              "    <tr>\n",
              "      <th>...</th>\n",
              "      <td>...</td>\n",
              "      <td>...</td>\n",
              "      <td>...</td>\n",
              "      <td>...</td>\n",
              "      <td>...</td>\n",
              "      <td>...</td>\n",
              "      <td>...</td>\n",
              "      <td>...</td>\n",
              "      <td>...</td>\n",
              "      <td>...</td>\n",
              "      <td>...</td>\n",
              "      <td>...</td>\n",
              "      <td>...</td>\n",
              "      <td>...</td>\n",
              "    </tr>\n",
              "    <tr>\n",
              "      <th>306790</th>\n",
              "      <td>59704.0</td>\n",
              "      <td>45277.0</td>\n",
              "      <td>84232.0</td>\n",
              "      <td>50782.0</td>\n",
              "      <td>86.0</td>\n",
              "      <td>1359.0</td>\n",
              "      <td>NaN</td>\n",
              "      <td>NaN</td>\n",
              "      <td>NaN</td>\n",
              "      <td>49.0</td>\n",
              "      <td>9495.0</td>\n",
              "      <td>1052.0</td>\n",
              "      <td>228.0</td>\n",
              "      <td>8</td>\n",
              "    </tr>\n",
              "    <tr>\n",
              "      <th>306791</th>\n",
              "      <td>59754.0</td>\n",
              "      <td>103387.0</td>\n",
              "      <td>36600.0</td>\n",
              "      <td>1968.0</td>\n",
              "      <td>85.0</td>\n",
              "      <td>372.0</td>\n",
              "      <td>4.0</td>\n",
              "      <td>553.0</td>\n",
              "      <td>359.0</td>\n",
              "      <td>69.0</td>\n",
              "      <td>10262.0</td>\n",
              "      <td>288.0</td>\n",
              "      <td>39.0</td>\n",
              "      <td>8</td>\n",
              "    </tr>\n",
              "    <tr>\n",
              "      <th>306792</th>\n",
              "      <td>59756.0</td>\n",
              "      <td>28931.0</td>\n",
              "      <td>101736.0</td>\n",
              "      <td>53836.0</td>\n",
              "      <td>88.0</td>\n",
              "      <td>1341.0</td>\n",
              "      <td>NaN</td>\n",
              "      <td>NaN</td>\n",
              "      <td>NaN</td>\n",
              "      <td>NaN</td>\n",
              "      <td>4597.0</td>\n",
              "      <td>22.0</td>\n",
              "      <td>228.0</td>\n",
              "      <td>2</td>\n",
              "    </tr>\n",
              "    <tr>\n",
              "      <th>306793</th>\n",
              "      <td>59763.0</td>\n",
              "      <td>21196.0</td>\n",
              "      <td>108172.0</td>\n",
              "      <td>38815.0</td>\n",
              "      <td>67.0</td>\n",
              "      <td>121.0</td>\n",
              "      <td>NaN</td>\n",
              "      <td>NaN</td>\n",
              "      <td>NaN</td>\n",
              "      <td>28.0</td>\n",
              "      <td>10184.0</td>\n",
              "      <td>159.0</td>\n",
              "      <td>39.0</td>\n",
              "      <td>10</td>\n",
              "    </tr>\n",
              "    <tr>\n",
              "      <th>306794</th>\n",
              "      <td>59772.0</td>\n",
              "      <td>63383.0</td>\n",
              "      <td>65824.0</td>\n",
              "      <td>4058.0</td>\n",
              "      <td>71.0</td>\n",
              "      <td>1339.0</td>\n",
              "      <td>4.0</td>\n",
              "      <td>780.0</td>\n",
              "      <td>99.0</td>\n",
              "      <td>58.0</td>\n",
              "      <td>167.0</td>\n",
              "      <td>710.0</td>\n",
              "      <td>228.0</td>\n",
              "      <td>7</td>\n",
              "    </tr>\n",
              "  </tbody>\n",
              "</table>\n",
              "<p>306795 rows × 14 columns</p>\n",
              "</div>"
            ],
            "text/plain": [
              "        user_id      isbn  book_title  book_author  year_of_publication  \\\n",
              "0           0.0      31.0     17674.0      43657.0                 87.0   \n",
              "1           0.0   76197.0    114063.0       2400.0                 88.0   \n",
              "2           0.0   96808.0     96589.0      47720.0                 90.0   \n",
              "3           0.0  104143.0     46578.0      42530.0                 85.0   \n",
              "4           0.0  107921.0    104810.0      32348.0                 84.0   \n",
              "...         ...       ...         ...          ...                  ...   \n",
              "306790  59704.0   45277.0     84232.0      50782.0                 86.0   \n",
              "306791  59754.0  103387.0     36600.0       1968.0                 85.0   \n",
              "306792  59756.0   28931.0    101736.0      53836.0                 88.0   \n",
              "306793  59763.0   21196.0    108172.0      38815.0                 67.0   \n",
              "306794  59772.0   63383.0     65824.0       4058.0                 71.0   \n",
              "\n",
              "        publisher  language  category  category_high   age  location_city  \\\n",
              "0           266.0       4.0      58.0            9.0   NaN         9854.0   \n",
              "1          1015.0       4.0    2089.0          262.0   NaN         9854.0   \n",
              "2           558.0       NaN       NaN            NaN   NaN         9854.0   \n",
              "3           472.0       NaN       NaN            NaN   NaN         9854.0   \n",
              "4           781.0       NaN       NaN            NaN   NaN         9854.0   \n",
              "...           ...       ...       ...            ...   ...            ...   \n",
              "306790     1359.0       NaN       NaN            NaN  49.0         9495.0   \n",
              "306791      372.0       4.0     553.0          359.0  69.0        10262.0   \n",
              "306792     1341.0       NaN       NaN            NaN   NaN         4597.0   \n",
              "306793      121.0       NaN       NaN            NaN  28.0        10184.0   \n",
              "306794     1339.0       4.0     780.0           99.0  58.0          167.0   \n",
              "\n",
              "        location_state  location_country  rating  \n",
              "0                790.0              39.0       4  \n",
              "1                790.0              39.0       4  \n",
              "2                790.0              39.0       2  \n",
              "3                790.0              39.0       2  \n",
              "4                790.0              39.0       6  \n",
              "...                ...               ...     ...  \n",
              "306790          1052.0             228.0       8  \n",
              "306791           288.0              39.0       8  \n",
              "306792            22.0             228.0       2  \n",
              "306793           159.0              39.0      10  \n",
              "306794           710.0             228.0       7  \n",
              "\n",
              "[306795 rows x 14 columns]"
            ]
          },
          "execution_count": 13,
          "metadata": {},
          "output_type": "execute_result"
        }
      ],
      "source": [
        "ordinal = OrdinalEncoder()\n",
        "data_ord = ordinal.fit_transform(data1)\n",
        "data_ord = pd.DataFrame(data_ord, columns=data1.columns)\n",
        "data_ord['rating'] = data_wr['rating_x']\n",
        "data_ord"
      ]
    },
    {
      "cell_type": "markdown",
      "metadata": {
        "id": "TrPkcoRs5fQI"
      },
      "source": [
        "### Correlation between features"
      ]
    },
    {
      "cell_type": "code",
      "execution_count": 11,
      "metadata": {},
      "outputs": [
        {
          "data": {
            "text/html": [
              "<div>\n",
              "<style scoped>\n",
              "    .dataframe tbody tr th:only-of-type {\n",
              "        vertical-align: middle;\n",
              "    }\n",
              "\n",
              "    .dataframe tbody tr th {\n",
              "        vertical-align: top;\n",
              "    }\n",
              "\n",
              "    .dataframe thead th {\n",
              "        text-align: right;\n",
              "    }\n",
              "</style>\n",
              "<table border=\"1\" class=\"dataframe\">\n",
              "  <thead>\n",
              "    <tr style=\"text-align: right;\">\n",
              "      <th></th>\n",
              "      <th>user_id</th>\n",
              "      <th>isbn</th>\n",
              "      <th>book_title</th>\n",
              "      <th>book_author</th>\n",
              "      <th>year_of_publication</th>\n",
              "      <th>publisher</th>\n",
              "      <th>language</th>\n",
              "      <th>category</th>\n",
              "      <th>category_high</th>\n",
              "      <th>age</th>\n",
              "      <th>location_city</th>\n",
              "      <th>location_state</th>\n",
              "      <th>location_country</th>\n",
              "    </tr>\n",
              "  </thead>\n",
              "  <tbody>\n",
              "    <tr>\n",
              "      <th>0</th>\n",
              "      <td>8</td>\n",
              "      <td>0002005018</td>\n",
              "      <td>Clara Callan</td>\n",
              "      <td>Richard Bruce Wright</td>\n",
              "      <td>2001.0</td>\n",
              "      <td>Collins</td>\n",
              "      <td>en</td>\n",
              "      <td>actresses</td>\n",
              "      <td>actresses</td>\n",
              "      <td>NaN</td>\n",
              "      <td>timmins</td>\n",
              "      <td>ontario</td>\n",
              "      <td>canada</td>\n",
              "    </tr>\n",
              "  </tbody>\n",
              "</table>\n",
              "</div>"
            ],
            "text/plain": [
              "   user_id        isbn    book_title           book_author  \\\n",
              "0        8  0002005018  Clara Callan  Richard Bruce Wright   \n",
              "\n",
              "   year_of_publication publisher language   category category_high  age  \\\n",
              "0               2001.0   Collins       en  actresses     actresses  NaN   \n",
              "\n",
              "  location_city location_state location_country  \n",
              "0       timmins        ontario           canada  "
            ]
          },
          "execution_count": 11,
          "metadata": {},
          "output_type": "execute_result"
        }
      ],
      "source": [
        "data1.head(1)"
      ]
    },
    {
      "cell_type": "code",
      "execution_count": 12,
      "metadata": {},
      "outputs": [
        {
          "data": {
            "text/plain": [
              "user_id                  int64\n",
              "isbn                    object\n",
              "book_title              object\n",
              "book_author             object\n",
              "year_of_publication    float64\n",
              "publisher               object\n",
              "language                object\n",
              "category                object\n",
              "category_high           object\n",
              "age                    float64\n",
              "location_city           object\n",
              "location_state          object\n",
              "location_country        object\n",
              "dtype: object"
            ]
          },
          "execution_count": 12,
          "metadata": {},
          "output_type": "execute_result"
        }
      ],
      "source": [
        "data1.dtypes"
      ]
    },
    {
      "cell_type": "markdown",
      "metadata": {
        "id": "CXOZFVdR4cBR"
      },
      "source": [
        "### Dython 을 이용해 Theil's U, Cramer's V 계산하기"
      ]
    },
    {
      "cell_type": "code",
      "execution_count": null,
      "metadata": {
        "id": "BRIDgt8q4ia3"
      },
      "outputs": [],
      "source": []
    },
    {
      "cell_type": "code",
      "execution_count": 14,
      "metadata": {
        "colab": {
          "base_uri": "https://localhost:8080/",
          "height": 429
        },
        "id": "oTX0uto4BVT-",
        "outputId": "49f6c014-ac2f-4d61-9b91-d1e5986a7ec0"
      },
      "outputs": [
        {
          "data": {
            "text/html": [
              "<div>\n",
              "<style scoped>\n",
              "    .dataframe tbody tr th:only-of-type {\n",
              "        vertical-align: middle;\n",
              "    }\n",
              "\n",
              "    .dataframe tbody tr th {\n",
              "        vertical-align: top;\n",
              "    }\n",
              "\n",
              "    .dataframe thead th {\n",
              "        text-align: right;\n",
              "    }\n",
              "</style>\n",
              "<table border=\"1\" class=\"dataframe\">\n",
              "  <thead>\n",
              "    <tr style=\"text-align: right;\">\n",
              "      <th></th>\n",
              "      <th>user_id</th>\n",
              "      <th>isbn</th>\n",
              "      <th>book_title</th>\n",
              "      <th>book_author</th>\n",
              "      <th>year_of_publication</th>\n",
              "      <th>publisher</th>\n",
              "      <th>language</th>\n",
              "      <th>category</th>\n",
              "      <th>age</th>\n",
              "      <th>location_city</th>\n",
              "      <th>location_state</th>\n",
              "      <th>location_country</th>\n",
              "      <th>rating</th>\n",
              "    </tr>\n",
              "  </thead>\n",
              "  <tbody>\n",
              "    <tr>\n",
              "      <th>0</th>\n",
              "      <td>8</td>\n",
              "      <td>0002005018</td>\n",
              "      <td>Clara Callan</td>\n",
              "      <td>Richard Bruce Wright</td>\n",
              "      <td>2001.0</td>\n",
              "      <td>Collins</td>\n",
              "      <td>en</td>\n",
              "      <td>actresses</td>\n",
              "      <td>NaN</td>\n",
              "      <td>timmins</td>\n",
              "      <td>ontario</td>\n",
              "      <td>canada</td>\n",
              "      <td>4</td>\n",
              "    </tr>\n",
              "    <tr>\n",
              "      <th>1</th>\n",
              "      <td>8</td>\n",
              "      <td>074322678X</td>\n",
              "      <td>Where You'll Find Me: And Other Stories</td>\n",
              "      <td>Ann Beattie</td>\n",
              "      <td>2002.0</td>\n",
              "      <td>Pocket</td>\n",
              "      <td>en</td>\n",
              "      <td>fiction</td>\n",
              "      <td>NaN</td>\n",
              "      <td>timmins</td>\n",
              "      <td>ontario</td>\n",
              "      <td>canada</td>\n",
              "      <td>4</td>\n",
              "    </tr>\n",
              "    <tr>\n",
              "      <th>2</th>\n",
              "      <td>8</td>\n",
              "      <td>0887841740</td>\n",
              "      <td>The Middle Stories</td>\n",
              "      <td>Sheila Heti</td>\n",
              "      <td>2004.0</td>\n",
              "      <td>HarperBusiness</td>\n",
              "      <td>NaN</td>\n",
              "      <td>NaN</td>\n",
              "      <td>NaN</td>\n",
              "      <td>timmins</td>\n",
              "      <td>ontario</td>\n",
              "      <td>canada</td>\n",
              "      <td>2</td>\n",
              "    </tr>\n",
              "    <tr>\n",
              "      <th>3</th>\n",
              "      <td>8</td>\n",
              "      <td>1552041778</td>\n",
              "      <td>Jane Doe</td>\n",
              "      <td>R. J. Kaiser</td>\n",
              "      <td>1999.0</td>\n",
              "      <td>Firefly Books Ltd</td>\n",
              "      <td>NaN</td>\n",
              "      <td>NaN</td>\n",
              "      <td>NaN</td>\n",
              "      <td>timmins</td>\n",
              "      <td>ontario</td>\n",
              "      <td>canada</td>\n",
              "      <td>2</td>\n",
              "    </tr>\n",
              "    <tr>\n",
              "      <th>4</th>\n",
              "      <td>8</td>\n",
              "      <td>1567407781</td>\n",
              "      <td>The Witchfinder (Amos Walker Mystery Series)</td>\n",
              "      <td>Loren D. Estleman</td>\n",
              "      <td>1998.0</td>\n",
              "      <td>Llewellyn Publications</td>\n",
              "      <td>NaN</td>\n",
              "      <td>NaN</td>\n",
              "      <td>NaN</td>\n",
              "      <td>timmins</td>\n",
              "      <td>ontario</td>\n",
              "      <td>canada</td>\n",
              "      <td>6</td>\n",
              "    </tr>\n",
              "  </tbody>\n",
              "</table>\n",
              "</div>"
            ],
            "text/plain": [
              "   user_id        isbn                                    book_title  \\\n",
              "0        8  0002005018                                  Clara Callan   \n",
              "1        8  074322678X       Where You'll Find Me: And Other Stories   \n",
              "2        8  0887841740                            The Middle Stories   \n",
              "3        8  1552041778                                      Jane Doe   \n",
              "4        8  1567407781  The Witchfinder (Amos Walker Mystery Series)   \n",
              "\n",
              "            book_author  year_of_publication               publisher language  \\\n",
              "0  Richard Bruce Wright               2001.0                 Collins       en   \n",
              "1           Ann Beattie               2002.0                  Pocket       en   \n",
              "2           Sheila Heti               2004.0          HarperBusiness      NaN   \n",
              "3          R. J. Kaiser               1999.0       Firefly Books Ltd      NaN   \n",
              "4     Loren D. Estleman               1998.0  Llewellyn Publications      NaN   \n",
              "\n",
              "    category  age location_city location_state location_country  rating  \n",
              "0  actresses  NaN       timmins        ontario           canada       4  \n",
              "1    fiction  NaN       timmins        ontario           canada       4  \n",
              "2        NaN  NaN       timmins        ontario           canada       2  \n",
              "3        NaN  NaN       timmins        ontario           canada       2  \n",
              "4        NaN  NaN       timmins        ontario           canada       6  "
            ]
          },
          "execution_count": 14,
          "metadata": {},
          "output_type": "execute_result"
        }
      ],
      "source": [
        "data2 = data1.copy().drop(columns=['category_high'])\n",
        "data2['rating'] = data_wr['rating_x']\n",
        "data2.head()"
      ]
    },
    {
      "cell_type": "code",
      "execution_count": 14,
      "metadata": {},
      "outputs": [
        {
          "data": {
            "text/plain": [
              "(306795, 13)"
            ]
          },
          "execution_count": 14,
          "metadata": {},
          "output_type": "execute_result"
        }
      ],
      "source": [
        "data2.shape"
      ]
    },
    {
      "cell_type": "code",
      "execution_count": 15,
      "metadata": {},
      "outputs": [
        {
          "data": {
            "text/html": [
              "<div>\n",
              "<style scoped>\n",
              "    .dataframe tbody tr th:only-of-type {\n",
              "        vertical-align: middle;\n",
              "    }\n",
              "\n",
              "    .dataframe tbody tr th {\n",
              "        vertical-align: top;\n",
              "    }\n",
              "\n",
              "    .dataframe thead th {\n",
              "        text-align: right;\n",
              "    }\n",
              "</style>\n",
              "<table border=\"1\" class=\"dataframe\">\n",
              "  <thead>\n",
              "    <tr style=\"text-align: right;\">\n",
              "      <th></th>\n",
              "      <th>user_id</th>\n",
              "      <th>isbn</th>\n",
              "      <th>book_title</th>\n",
              "      <th>book_author</th>\n",
              "      <th>year_of_publication</th>\n",
              "      <th>publisher</th>\n",
              "      <th>language</th>\n",
              "      <th>category</th>\n",
              "      <th>age</th>\n",
              "      <th>location_city</th>\n",
              "      <th>location_state</th>\n",
              "      <th>location_country</th>\n",
              "      <th>rating</th>\n",
              "    </tr>\n",
              "  </thead>\n",
              "  <tbody>\n",
              "    <tr>\n",
              "      <th>0</th>\n",
              "      <td>8</td>\n",
              "      <td>0002005018</td>\n",
              "      <td>Clara Callan</td>\n",
              "      <td>Richard Bruce Wright</td>\n",
              "      <td>2001.0</td>\n",
              "      <td>Collins</td>\n",
              "      <td>en</td>\n",
              "      <td>actresses</td>\n",
              "      <td>NaN</td>\n",
              "      <td>timmins</td>\n",
              "      <td>ontario</td>\n",
              "      <td>canada</td>\n",
              "      <td>4</td>\n",
              "    </tr>\n",
              "    <tr>\n",
              "      <th>1</th>\n",
              "      <td>8</td>\n",
              "      <td>074322678X</td>\n",
              "      <td>Where You'll Find Me: And Other Stories</td>\n",
              "      <td>Ann Beattie</td>\n",
              "      <td>2002.0</td>\n",
              "      <td>Pocket</td>\n",
              "      <td>en</td>\n",
              "      <td>fiction</td>\n",
              "      <td>NaN</td>\n",
              "      <td>timmins</td>\n",
              "      <td>ontario</td>\n",
              "      <td>canada</td>\n",
              "      <td>4</td>\n",
              "    </tr>\n",
              "    <tr>\n",
              "      <th>2</th>\n",
              "      <td>8</td>\n",
              "      <td>0887841740</td>\n",
              "      <td>The Middle Stories</td>\n",
              "      <td>Sheila Heti</td>\n",
              "      <td>2004.0</td>\n",
              "      <td>HarperBusiness</td>\n",
              "      <td>NaN</td>\n",
              "      <td>NaN</td>\n",
              "      <td>NaN</td>\n",
              "      <td>timmins</td>\n",
              "      <td>ontario</td>\n",
              "      <td>canada</td>\n",
              "      <td>2</td>\n",
              "    </tr>\n",
              "    <tr>\n",
              "      <th>3</th>\n",
              "      <td>8</td>\n",
              "      <td>1552041778</td>\n",
              "      <td>Jane Doe</td>\n",
              "      <td>R. J. Kaiser</td>\n",
              "      <td>1999.0</td>\n",
              "      <td>Firefly Books Ltd</td>\n",
              "      <td>NaN</td>\n",
              "      <td>NaN</td>\n",
              "      <td>NaN</td>\n",
              "      <td>timmins</td>\n",
              "      <td>ontario</td>\n",
              "      <td>canada</td>\n",
              "      <td>2</td>\n",
              "    </tr>\n",
              "    <tr>\n",
              "      <th>4</th>\n",
              "      <td>8</td>\n",
              "      <td>1567407781</td>\n",
              "      <td>The Witchfinder (Amos Walker Mystery Series)</td>\n",
              "      <td>Loren D. Estleman</td>\n",
              "      <td>1998.0</td>\n",
              "      <td>Llewellyn Publications</td>\n",
              "      <td>NaN</td>\n",
              "      <td>NaN</td>\n",
              "      <td>NaN</td>\n",
              "      <td>timmins</td>\n",
              "      <td>ontario</td>\n",
              "      <td>canada</td>\n",
              "      <td>6</td>\n",
              "    </tr>\n",
              "  </tbody>\n",
              "</table>\n",
              "</div>"
            ],
            "text/plain": [
              "   user_id        isbn                                    book_title  \\\n",
              "0        8  0002005018                                  Clara Callan   \n",
              "1        8  074322678X       Where You'll Find Me: And Other Stories   \n",
              "2        8  0887841740                            The Middle Stories   \n",
              "3        8  1552041778                                      Jane Doe   \n",
              "4        8  1567407781  The Witchfinder (Amos Walker Mystery Series)   \n",
              "\n",
              "            book_author  year_of_publication               publisher language  \\\n",
              "0  Richard Bruce Wright               2001.0                 Collins       en   \n",
              "1           Ann Beattie               2002.0                  Pocket       en   \n",
              "2           Sheila Heti               2004.0          HarperBusiness      NaN   \n",
              "3          R. J. Kaiser               1999.0       Firefly Books Ltd      NaN   \n",
              "4     Loren D. Estleman               1998.0  Llewellyn Publications      NaN   \n",
              "\n",
              "    category  age location_city location_state location_country  rating  \n",
              "0  actresses  NaN       timmins        ontario           canada       4  \n",
              "1    fiction  NaN       timmins        ontario           canada       4  \n",
              "2        NaN  NaN       timmins        ontario           canada       2  \n",
              "3        NaN  NaN       timmins        ontario           canada       2  \n",
              "4        NaN  NaN       timmins        ontario           canada       6  "
            ]
          },
          "execution_count": 15,
          "metadata": {},
          "output_type": "execute_result"
        }
      ],
      "source": [
        "data2[:5]"
      ]
    },
    {
      "cell_type": "code",
      "execution_count": 16,
      "metadata": {},
      "outputs": [
        {
          "data": {
            "text/plain": [
              "user_id                  int64\n",
              "isbn                    object\n",
              "book_title              object\n",
              "book_author             object\n",
              "year_of_publication    float64\n",
              "publisher               object\n",
              "language                object\n",
              "category                object\n",
              "age                    float64\n",
              "location_city           object\n",
              "location_state          object\n",
              "location_country        object\n",
              "rating                   int64\n",
              "dtype: object"
            ]
          },
          "execution_count": 16,
          "metadata": {},
          "output_type": "execute_result"
        }
      ],
      "source": [
        "data2.dtypes"
      ]
    },
    {
      "cell_type": "code",
      "execution_count": 17,
      "metadata": {
        "colab": {
          "base_uri": "https://localhost:8080/",
          "height": 1000
        },
        "id": "OTaekNRM4iX0",
        "outputId": "845c2fe2-646e-454b-9d77-c8d9c46fbf0c"
      },
      "outputs": [
        {
          "name": "stderr",
          "output_type": "stream",
          "text": [
            "/opt/conda/lib/python3.8/site-packages/dython/nominal.py:290: RuntimeWarning: Rounded eta = 1.0000000000000002 to 1. This is probably due to floating point precision issues.\n",
            "  warnings.warn(\n",
            "/opt/conda/lib/python3.8/site-packages/dython/nominal.py:669: FutureWarning: In a future version, `df.iloc[:, i] = newvals` will attempt to set the values inplace instead of always setting a new array. To retain the old behavior, use either `df[df.columns[i]] = newvals` or, if columns are non-unique, `df.isetitem(i, newvals)`\n",
            "  corr.loc[:, columns[i]] = 0.0\n"
          ]
        }
      ],
      "source": [
        "associations(data2[:10], nom_nom_assoc='theil', figsize=(15,15))"
      ]
    },
    {
      "cell_type": "code",
      "execution_count": 22,
      "metadata": {},
      "outputs": [
        {
          "data": {
            "text/html": [
              "<div>\n",
              "<style scoped>\n",
              "    .dataframe tbody tr th:only-of-type {\n",
              "        vertical-align: middle;\n",
              "    }\n",
              "\n",
              "    .dataframe tbody tr th {\n",
              "        vertical-align: top;\n",
              "    }\n",
              "\n",
              "    .dataframe thead th {\n",
              "        text-align: right;\n",
              "    }\n",
              "</style>\n",
              "<table border=\"1\" class=\"dataframe\">\n",
              "  <thead>\n",
              "    <tr style=\"text-align: right;\">\n",
              "      <th></th>\n",
              "      <th>user_id</th>\n",
              "      <th>isbn</th>\n",
              "      <th>book_title</th>\n",
              "      <th>book_author</th>\n",
              "      <th>year_of_publication</th>\n",
              "      <th>publisher</th>\n",
              "      <th>language</th>\n",
              "      <th>category</th>\n",
              "      <th>age</th>\n",
              "      <th>location_city</th>\n",
              "      <th>location_state</th>\n",
              "      <th>location_country</th>\n",
              "      <th>rating</th>\n",
              "    </tr>\n",
              "  </thead>\n",
              "  <tbody>\n",
              "    <tr>\n",
              "      <th>user_id</th>\n",
              "      <td>1.000000</td>\n",
              "      <td>0.973525</td>\n",
              "      <td>0.973034</td>\n",
              "      <td>0.947927</td>\n",
              "      <td>-0.083341</td>\n",
              "      <td>0.693234</td>\n",
              "      <td>0.086525</td>\n",
              "      <td>0.636200</td>\n",
              "      <td>-0.145639</td>\n",
              "      <td>1.000000</td>\n",
              "      <td>0.925909</td>\n",
              "      <td>0.663046</td>\n",
              "      <td>0.263590</td>\n",
              "    </tr>\n",
              "    <tr>\n",
              "      <th>isbn</th>\n",
              "      <td>0.973525</td>\n",
              "      <td>1.000000</td>\n",
              "      <td>0.996898</td>\n",
              "      <td>0.980217</td>\n",
              "      <td>1.000000</td>\n",
              "      <td>0.741087</td>\n",
              "      <td>0.143442</td>\n",
              "      <td>0.414556</td>\n",
              "      <td>0.967032</td>\n",
              "      <td>0.339177</td>\n",
              "      <td>0.293086</td>\n",
              "      <td>0.086460</td>\n",
              "      <td>0.971347</td>\n",
              "    </tr>\n",
              "    <tr>\n",
              "      <th>book_title</th>\n",
              "      <td>0.973034</td>\n",
              "      <td>1.000000</td>\n",
              "      <td>1.000000</td>\n",
              "      <td>0.983267</td>\n",
              "      <td>1.000000</td>\n",
              "      <td>0.743393</td>\n",
              "      <td>0.143888</td>\n",
              "      <td>0.415846</td>\n",
              "      <td>0.961438</td>\n",
              "      <td>0.337121</td>\n",
              "      <td>0.290887</td>\n",
              "      <td>0.086729</td>\n",
              "      <td>0.970575</td>\n",
              "    </tr>\n",
              "    <tr>\n",
              "      <th>book_author</th>\n",
              "      <td>0.947927</td>\n",
              "      <td>1.000000</td>\n",
              "      <td>1.000000</td>\n",
              "      <td>1.000000</td>\n",
              "      <td>0.998352</td>\n",
              "      <td>0.752879</td>\n",
              "      <td>0.132484</td>\n",
              "      <td>0.409070</td>\n",
              "      <td>0.942648</td>\n",
              "      <td>0.335334</td>\n",
              "      <td>0.288313</td>\n",
              "      <td>0.088205</td>\n",
              "      <td>0.962829</td>\n",
              "    </tr>\n",
              "    <tr>\n",
              "      <th>year_of_publication</th>\n",
              "      <td>-0.083341</td>\n",
              "      <td>1.000000</td>\n",
              "      <td>1.000000</td>\n",
              "      <td>0.998352</td>\n",
              "      <td>1.000000</td>\n",
              "      <td>0.659511</td>\n",
              "      <td>0.010007</td>\n",
              "      <td>0.549724</td>\n",
              "      <td>-0.134022</td>\n",
              "      <td>0.234940</td>\n",
              "      <td>0.171942</td>\n",
              "      <td>0.036668</td>\n",
              "      <td>0.050346</td>\n",
              "    </tr>\n",
              "    <tr>\n",
              "      <th>publisher</th>\n",
              "      <td>0.693234</td>\n",
              "      <td>1.000000</td>\n",
              "      <td>1.000000</td>\n",
              "      <td>0.995814</td>\n",
              "      <td>0.659511</td>\n",
              "      <td>1.000000</td>\n",
              "      <td>0.084041</td>\n",
              "      <td>0.365186</td>\n",
              "      <td>0.698426</td>\n",
              "      <td>0.265869</td>\n",
              "      <td>0.211838</td>\n",
              "      <td>0.067172</td>\n",
              "      <td>0.697959</td>\n",
              "    </tr>\n",
              "    <tr>\n",
              "      <th>language</th>\n",
              "      <td>0.086525</td>\n",
              "      <td>1.000000</td>\n",
              "      <td>1.000000</td>\n",
              "      <td>0.905334</td>\n",
              "      <td>0.010007</td>\n",
              "      <td>0.434193</td>\n",
              "      <td>1.000000</td>\n",
              "      <td>1.000000</td>\n",
              "      <td>0.247658</td>\n",
              "      <td>0.127377</td>\n",
              "      <td>0.093074</td>\n",
              "      <td>0.044209</td>\n",
              "      <td>0.042055</td>\n",
              "    </tr>\n",
              "    <tr>\n",
              "      <th>category</th>\n",
              "      <td>0.636200</td>\n",
              "      <td>1.000000</td>\n",
              "      <td>1.000000</td>\n",
              "      <td>0.967244</td>\n",
              "      <td>0.549724</td>\n",
              "      <td>0.652829</td>\n",
              "      <td>0.346013</td>\n",
              "      <td>1.000000</td>\n",
              "      <td>0.627157</td>\n",
              "      <td>0.333028</td>\n",
              "      <td>0.299873</td>\n",
              "      <td>0.163221</td>\n",
              "      <td>0.346274</td>\n",
              "    </tr>\n",
              "    <tr>\n",
              "      <th>age</th>\n",
              "      <td>-0.145639</td>\n",
              "      <td>0.967032</td>\n",
              "      <td>0.961438</td>\n",
              "      <td>0.942648</td>\n",
              "      <td>-0.134022</td>\n",
              "      <td>0.698426</td>\n",
              "      <td>0.247658</td>\n",
              "      <td>0.627157</td>\n",
              "      <td>1.000000</td>\n",
              "      <td>1.000000</td>\n",
              "      <td>0.957494</td>\n",
              "      <td>0.530971</td>\n",
              "      <td>-0.112184</td>\n",
              "    </tr>\n",
              "    <tr>\n",
              "      <th>location_city</th>\n",
              "      <td>1.000000</td>\n",
              "      <td>0.917545</td>\n",
              "      <td>0.909154</td>\n",
              "      <td>0.889203</td>\n",
              "      <td>0.234940</td>\n",
              "      <td>0.533012</td>\n",
              "      <td>0.049428</td>\n",
              "      <td>0.373478</td>\n",
              "      <td>1.000000</td>\n",
              "      <td>1.000000</td>\n",
              "      <td>0.826602</td>\n",
              "      <td>0.233893</td>\n",
              "      <td>0.519902</td>\n",
              "    </tr>\n",
              "    <tr>\n",
              "      <th>location_state</th>\n",
              "      <td>0.925909</td>\n",
              "      <td>0.959179</td>\n",
              "      <td>0.949027</td>\n",
              "      <td>0.924891</td>\n",
              "      <td>0.171942</td>\n",
              "      <td>0.513779</td>\n",
              "      <td>0.043693</td>\n",
              "      <td>0.406842</td>\n",
              "      <td>0.957494</td>\n",
              "      <td>1.000000</td>\n",
              "      <td>1.000000</td>\n",
              "      <td>0.282957</td>\n",
              "      <td>0.318721</td>\n",
              "    </tr>\n",
              "    <tr>\n",
              "      <th>location_country</th>\n",
              "      <td>0.663046</td>\n",
              "      <td>1.000000</td>\n",
              "      <td>1.000000</td>\n",
              "      <td>1.000000</td>\n",
              "      <td>0.036668</td>\n",
              "      <td>0.575760</td>\n",
              "      <td>0.073345</td>\n",
              "      <td>0.782606</td>\n",
              "      <td>0.530971</td>\n",
              "      <td>1.000000</td>\n",
              "      <td>1.000000</td>\n",
              "      <td>1.000000</td>\n",
              "      <td>0.024086</td>\n",
              "    </tr>\n",
              "    <tr>\n",
              "      <th>rating</th>\n",
              "      <td>0.263590</td>\n",
              "      <td>0.971347</td>\n",
              "      <td>0.970575</td>\n",
              "      <td>0.962829</td>\n",
              "      <td>0.050346</td>\n",
              "      <td>0.697959</td>\n",
              "      <td>0.042055</td>\n",
              "      <td>0.346274</td>\n",
              "      <td>-0.112184</td>\n",
              "      <td>0.519902</td>\n",
              "      <td>0.318721</td>\n",
              "      <td>0.024086</td>\n",
              "      <td>1.000000</td>\n",
              "    </tr>\n",
              "  </tbody>\n",
              "</table>\n",
              "</div>"
            ],
            "text/plain": [
              "                      user_id      isbn  book_title  book_author  \\\n",
              "user_id              1.000000  0.973525    0.973034     0.947927   \n",
              "isbn                 0.973525  1.000000    0.996898     0.980217   \n",
              "book_title           0.973034  1.000000    1.000000     0.983267   \n",
              "book_author          0.947927  1.000000    1.000000     1.000000   \n",
              "year_of_publication -0.083341  1.000000    1.000000     0.998352   \n",
              "publisher            0.693234  1.000000    1.000000     0.995814   \n",
              "language             0.086525  1.000000    1.000000     0.905334   \n",
              "category             0.636200  1.000000    1.000000     0.967244   \n",
              "age                 -0.145639  0.967032    0.961438     0.942648   \n",
              "location_city        1.000000  0.917545    0.909154     0.889203   \n",
              "location_state       0.925909  0.959179    0.949027     0.924891   \n",
              "location_country     0.663046  1.000000    1.000000     1.000000   \n",
              "rating               0.263590  0.971347    0.970575     0.962829   \n",
              "\n",
              "                     year_of_publication  publisher  language  category  \\\n",
              "user_id                        -0.083341   0.693234  0.086525  0.636200   \n",
              "isbn                            1.000000   0.741087  0.143442  0.414556   \n",
              "book_title                      1.000000   0.743393  0.143888  0.415846   \n",
              "book_author                     0.998352   0.752879  0.132484  0.409070   \n",
              "year_of_publication             1.000000   0.659511  0.010007  0.549724   \n",
              "publisher                       0.659511   1.000000  0.084041  0.365186   \n",
              "language                        0.010007   0.434193  1.000000  1.000000   \n",
              "category                        0.549724   0.652829  0.346013  1.000000   \n",
              "age                            -0.134022   0.698426  0.247658  0.627157   \n",
              "location_city                   0.234940   0.533012  0.049428  0.373478   \n",
              "location_state                  0.171942   0.513779  0.043693  0.406842   \n",
              "location_country                0.036668   0.575760  0.073345  0.782606   \n",
              "rating                          0.050346   0.697959  0.042055  0.346274   \n",
              "\n",
              "                          age  location_city  location_state  \\\n",
              "user_id             -0.145639       1.000000        0.925909   \n",
              "isbn                 0.967032       0.339177        0.293086   \n",
              "book_title           0.961438       0.337121        0.290887   \n",
              "book_author          0.942648       0.335334        0.288313   \n",
              "year_of_publication -0.134022       0.234940        0.171942   \n",
              "publisher            0.698426       0.265869        0.211838   \n",
              "language             0.247658       0.127377        0.093074   \n",
              "category             0.627157       0.333028        0.299873   \n",
              "age                  1.000000       1.000000        0.957494   \n",
              "location_city        1.000000       1.000000        0.826602   \n",
              "location_state       0.957494       1.000000        1.000000   \n",
              "location_country     0.530971       1.000000        1.000000   \n",
              "rating              -0.112184       0.519902        0.318721   \n",
              "\n",
              "                     location_country    rating  \n",
              "user_id                      0.663046  0.263590  \n",
              "isbn                         0.086460  0.971347  \n",
              "book_title                   0.086729  0.970575  \n",
              "book_author                  0.088205  0.962829  \n",
              "year_of_publication          0.036668  0.050346  \n",
              "publisher                    0.067172  0.697959  \n",
              "language                     0.044209  0.042055  \n",
              "category                     0.163221  0.346274  \n",
              "age                          0.530971 -0.112184  \n",
              "location_city                0.233893  0.519902  \n",
              "location_state               0.282957  0.318721  \n",
              "location_country             1.000000  0.024086  \n",
              "rating                       0.024086  1.000000  "
            ]
          },
          "execution_count": 22,
          "metadata": {},
          "output_type": "execute_result"
        }
      ],
      "source": [
        "corr = pd.read_csv('corr.csv')\n",
        "corr.index = ['user_id', 'isbn', 'book_title', 'book_author', 'year_of_publication',\n",
        "       'publisher', 'language', 'category', 'age', 'location_city',\n",
        "       'location_state', 'location_country', 'rating']\n",
        "corr"
      ]
    },
    {
      "cell_type": "code",
      "execution_count": 24,
      "metadata": {},
      "outputs": [
        {
          "data": {
            "image/png": "[encoded data removed]",
            "text/plain": [
              "<Figure size 640x480 with 2 Axes>"
            ]
          },
          "metadata": {},
          "output_type": "display_data"
        }
      ],
      "source": [
        "ax = sns.heatmap(\n",
        "            corr,\n",
        "            annot=True,\n",
        "            fmt=\n",
        "            \n",
        "        )"
      ]
    },
    {
      "cell_type": "markdown",
      "metadata": {
        "id": "Q_bhyJazyarj"
      },
      "source": [
        "## target 과 가장 연관성 있는 feature를 만들어 낼 수 있는가?\n"
      ]
    },
    {
      "cell_type": "code",
      "execution_count": null,
      "metadata": {
        "id": "dubM87APyHQa"
      },
      "outputs": [],
      "source": [
        "\n"
      ]
    },
    {
      "cell_type": "code",
      "execution_count": null,
      "metadata": {
        "id": "XEf_rPHryK7w"
      },
      "outputs": [],
      "source": []
    }
  ],
  "metadata": {
    "colab": {
      "collapsed_sections": [],
      "provenance": []
    },
    "kernelspec": {
      "display_name": "Python 3.8.5 ('base')",
      "language": "python",
      "name": "python3"
    },
    "language_info": {
      "codemirror_mode": {
        "name": "ipython",
        "version": 3
      },
      "file_extension": ".py",
      "mimetype": "text/x-python",
      "name": "python",
      "nbconvert_exporter": "python",
      "pygments_lexer": "ipython3",
      "version": "3.8.5"
    },
    "vscode": {
      "interpreter": {
        "hash": "d4d1e4263499bec80672ea0156c357c1ee493ec2b1c70f0acce89fc37c4a6abe"
      }
    }
  },
  "nbformat": 4,
  "nbformat_minor": 0
}
