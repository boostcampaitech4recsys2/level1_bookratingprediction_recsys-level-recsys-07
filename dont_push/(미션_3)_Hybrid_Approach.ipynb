{
  "cells": [
    {
      "cell_type": "markdown",
      "metadata": {
        "id": "yvVzQrSAafrC"
      },
      "source": [
        "# [0] 미션 설명\n",
        "\n",
        "다양한 Hybrid Approach에 대해 알고, 이를 직접 코드로 작성해 본다.\n",
        "\n",
        "> **학습 목표**\n",
        "> - 추천에서의 앙상블 방법인\u001d Hybrid Approach에 대해 확인한다.\n",
        "> - 여러 모델들을 구현하고 이를 앙상블하는 흐름을 배운다.\n",
        "> - 하이브리드 접근법 중, 일부를 코드로 작성하여 본다."
      ]
    },
    {
      "cell_type": "markdown",
      "metadata": {
        "id": "kbv42aLNQx6L"
      },
      "source": [
        "RecSys 기초 대회 강의에서는 Book Crossing 데이터를 사용하여 모든 실습 및 미션, 대회를 진행합니다. [Kaggle Book-Crossing](https://www.kaggle.com/datasets/ruchi798/bookcrossing-dataset) 을 출처로 하며, 데이터는 재구성되어 제공되었습니다. 해당 데이터는 CC0: Public Domain 라이센스임을 밝힙니다.\n",
        "\n",
        "그럼 본격적으로 **(미션-3) Hybrid Approach** 를 진행하여 보겠습니다.\n"
      ]
    },
    {
      "cell_type": "code",
      "execution_count": 181,
      "metadata": {
        "id": "kcu9BVtKuUYM"
      },
      "outputs": [
        {
          "name": "stdout",
          "output_type": "stream",
          "text": [
            "Requirement already satisfied: Bayesian-Optimization in /opt/conda/lib/python3.8/site-packages (1.3.1)\n",
            "Requirement already satisfied: numpy>=1.9.0 in /opt/conda/lib/python3.8/site-packages (from Bayesian-Optimization) (1.23.4)\n",
            "Requirement already satisfied: scikit-learn>=0.18.0 in /opt/conda/lib/python3.8/site-packages (from Bayesian-Optimization) (1.1.2)\n",
            "Requirement already satisfied: scipy>=1.0.0 in /opt/conda/lib/python3.8/site-packages (from Bayesian-Optimization) (1.9.3)\n",
            "Requirement already satisfied: joblib>=1.0.0 in /opt/conda/lib/python3.8/site-packages (from scikit-learn>=0.18.0->Bayesian-Optimization) (1.2.0)\n",
            "Requirement already satisfied: threadpoolctl>=2.0.0 in /opt/conda/lib/python3.8/site-packages (from scikit-learn>=0.18.0->Bayesian-Optimization) (3.1.0)\n"
          ]
        }
      ],
      "source": [
        "# install packages\n",
        "!pip install catboost -q\n",
        "!pip install scikit-surprise -q\n",
        "!pip install Bayesian-Optimization"
      ]
    },
    {
      "cell_type": "code",
      "execution_count": 182,
      "metadata": {
        "id": "IU9dLBqAaWMf"
      },
      "outputs": [],
      "source": [
        "# import packages\n",
        "import pandas as pd\n",
        "import numpy as np\n",
        "import warnings\n",
        "\n",
        "import re\n",
        "from pandas.api.types import CategoricalDtype\n",
        "from scipy import sparse\n",
        "from sklearn.preprocessing import LabelEncoder\n",
        "\n",
        "from sklearn.model_selection import train_test_split\n",
        "\n",
        "from xgboost import XGBRegressor, XGBClassifier\n",
        "from lightgbm import LGBMRegressor, LGBMClassifier, LGBMRanker\n",
        "from catboost import CatBoostRegressor, CatBoostClassifier, Pool\n",
        "\n",
        "from surprise import Dataset, Reader, accuracy, SVD, KNNBasic, CoClustering\n",
        "from surprise.dataset import DatasetAutoFolds\n",
        "from surprise.model_selection import cross_validate\n",
        "\n",
        "import seaborn as sns\n",
        "import matplotlib.pyplot as plt\n",
        "warnings.filterwarnings(action='ignore')"
      ]
    },
    {
      "cell_type": "markdown",
      "metadata": {
        "id": "A_wprYrR8J52"
      },
      "source": [
        "# [1] Hybrid Approach 이란?\n",
        "\n",
        "추천 시스템은 사용자의 취향을 예측하여 가장 적절한 결과를 추천하기 위한 목적이 있습니다.\n",
        "그러나 이 때, 단일 모델만으로 가장 적합한 결과를 만들어 내기 어렵습니다. 각 모델이 활용하는 feature, 잘 작동하는 상황 등이 모두 다르기 때문입니다.\n",
        "\n",
        "하이브리드 접근법이란 이를 보완하기 위해 여러 모델을 결합하여, 결과를 도출하는 것을 의미합니다. 이를 통해 각 모델의 장점을 사용하여 다른 모델의 단점을 상쇄, 즉 상호 보완하여 성능을 끌어 올릴 수 있습니다.\n",
        "\n",
        "대부분의 추천 시스템은 단일 모델만으로 추천을 진행한다기 보단, 하이브리드 접근법을 사용합니다.\n",
        "하이브리드 접근법은 4강, 5강에서 언급한 바와 같이, Collaborative Filtering, Content Based recommend 등 여러 모델을 결합하는 것을 의미합니다.\n",
        "\n"
      ]
    },
    {
      "cell_type": "markdown",
      "metadata": {
        "id": "PeN200Tr1FwV"
      },
      "source": [
        "하이브리드 접근법은 크게 3가지 대분류와 7가지 종류로 확인할 수 있습니다.\n",
        "\n",
        "1. Monolithic hybrid designs\n",
        "> 다양한 feature를 활용하는 단일 모델\n",
        "  - Feature combination\n",
        "  - Feature Augmentation\n",
        "2. Parallelized hybrid design\n",
        "> 여러 추천 시스템 간의 병렬적인 사용\n",
        "  - Weighted\n",
        "  - Switching\n",
        "  - Mixed\n",
        "3. Pipelined hybrid designs\n",
        "> 후속 입력을 위해 일부 입력을 사전 처리하는 방식\n",
        "  - Cascade\n",
        "  - Meta‐level\n"
      ]
    },
    {
      "cell_type": "markdown",
      "metadata": {
        "id": "O2M0s6ZW7pQx"
      },
      "source": [
        "# [2] 하이브리드 접근법의 종류\n",
        "다양한 방식으로 여러 추천 시스템 기법을 결합하여 사용자의 취향을 효과적으로 예측할 수 있습니다."
      ]
    },
    {
      "cell_type": "markdown",
      "metadata": {
        "id": "_lYIwphBZdlL"
      },
      "source": [
        "## (1) Monolithic hybrid designs"
      ]
    },
    {
      "cell_type": "markdown",
      "metadata": {
        "id": "wPqhWF1s2PMm"
      },
      "source": [
        "### Feature combine\n",
        "\n",
        "> 협업 필터링 추천 시스템의 결과를 콘텐츠 기반 추천 시스템 속성의 일부로 사용하는 방식\n",
        "<div>\n",
        "<img src=\"https://miro.medium.com/max/1400/1*K4ZRADAka8DUM3xh8H76DQ.jpeg\"\n",
        "width=\"700\"/>\n",
        "</div>\n",
        "\n",
        "[출처](https://medium.com/analytics-vidhya/7-types-of-hybrid-recommendation-system-3e4f78266ad8)\n",
        "\n",
        "\n",
        "- 예를 들어, 서로 다른  소스에서 파생된 feature가 함께 결합되어 단일 추천 알고리즘에 제공됩니다.\n",
        "- 사용한 콘텐츠 기반 추천 시스템에 적용하기 전에, 다양한 sources들을 단일된 표현으로 통합합니다.\n",
        "- 아이템의 내재적인 정보를 이용함으로서 협업 필터링이 가진 단점을 상쇄합니다.\n",
        "\n",
        "\n",
        "\n",
        "\n",
        "\n"
      ]
    },
    {
      "cell_type": "markdown",
      "metadata": {
        "id": "TgI9JV4w2UY6"
      },
      "source": [
        "### \bFeature argument\n",
        "> 한 추천시스템의 결과를 다음 추천시스템의 입력값으로 사용하는 방식\n",
        "<div>\n",
        "<img src=\"https://miro.medium.com/max/1400/1*1O_Ve4JyETRCybwT6-1ErA.jpeg\"\n",
        "width=\"700\"/>\n",
        "</div>\n",
        "\n",
        "[출처](https://medium.com/analytics-vidhya/7-types-of-hybrid-recommendation-system-3e4f78266ad8)\n",
        "\n",
        "- staking 방식과 비슷한 방식으로 이루어 집니다.\n",
        "- 1단계의 추천시스템이 features\u001d를 만들어서 2단계(Main)의 추천시스템의 입력 값으로 사용합니다.\n",
        "\n",
        "- 예시\n",
        "  - CB → CF\n",
        "  1. ratings matrix에서 결측치를 콘텐츠 기반 추천 시스템으로 채웁니다.\n",
        "  2. 새롭게 채워진 ratings들을 pseudo-ratings라고 하며, 이렇게 채워진 dense ratings 행렬을 사용해 ratings을 예측합니다.\n"
      ]
    },
    {
      "cell_type": "markdown",
      "metadata": {
        "id": "l5cCeEFQZh7L"
      },
      "source": [
        "## (2) Parallelized hybrid design"
      ]
    },
    {
      "cell_type": "markdown",
      "metadata": {
        "id": "1NnPT28WfIJi"
      },
      "source": [
        "### Weighted\n",
        "> Soft Ensemble 또는 Hard Vote와 같은 방법으로 여러 모델의 추천 결과를 하나로 합쳐 최종 추천 아이템을 정하는 방식\n",
        "\n",
        "<div>\n",
        "<img src=\"https://miro.medium.com/max/1400/1*N9TO6n2tlo1sN8GhsB-tqw.jpeg\"\n",
        "width=\"700\"/>\n",
        "</div>\n",
        "\n",
        "[출처](https://medium.com/analytics-vidhya/7-types-of-hybrid-recommendation-system-3e4f78266ad8)\n",
        "\n",
        "- 가장 보편적인 앙상블 방식\n",
        "- 각 모델의 추천 결과를 구하고, 가중치, 투표 등의 방법을 통해 최종 결과 산출\n"
      ]
    },
    {
      "cell_type": "markdown",
      "metadata": {
        "id": "eS8FXN7U2zG2"
      },
      "source": [
        "### Switching\n",
        "> 플랫폼 내 사용자 또는 서비스 상태 등 특정 상황을 고려하여 여러 추천 알고리즘의 추천 결과를 선택적으로 보여주는 방식\n",
        "<div>\n",
        "<img src=\"https://miro.medium.com/max/1400/1*oyZqArrmwxb5n-sshMzq-w.jpeg\" width=\"700\"/>\n",
        "</div>\n",
        "\n",
        "[출처](https://medium.com/analytics-vidhya/7-types-of-hybrid-recommendation-system-3e4f78266ad8)\n",
        "\n",
        "\n",
        "- 사용하는 추천시스템 모델을 n개 만들고 랜덤 혹은 일정 기준에 맞춰 모델을 변경하여 추천\n"
      ]
    },
    {
      "cell_type": "markdown",
      "metadata": {
        "id": "dptjXNr723M8"
      },
      "source": [
        "### Mixed\n",
        "> 서로 다른 추천에서 나오는 결과물을 섞어서 제공하는 방식\n",
        "\n",
        "<div>\n",
        "<img src=\"https://miro.medium.com/max/1400/1*jcpCf-mfB4AI7JL7x6WmqA.jpeg\"\n",
        "width=\"700\"/>\n",
        "</div>\n",
        "\n",
        "[출처](https://medium.com/analytics-vidhya/7-types-of-hybrid-recommendation-system-3e4f78266ad8)\n",
        "\n",
        "- 사용자 수준에서 다양한 추천 시스템의 결과를 결합합니다.\n",
        "- 여러 추천 시스템의 결과를 활용하고, 이 때 알고리즘의 추천 결과를 모두 보여주는 방식\n",
        "\n"
      ]
    },
    {
      "cell_type": "markdown",
      "metadata": {
        "id": "utudsxclZuhz"
      },
      "source": [
        "## (3) Pipelined hybrid designs\n"
      ]
    },
    {
      "cell_type": "markdown",
      "metadata": {
        "id": "o8XwmNT40JxI"
      },
      "source": [
        "### Cascade\n",
        "> 추천시스템이 다른 추천시스템에 의해 정제된 아이템을 추천하는 방식\n",
        "<div>\n",
        "<img src=\"https://miro.medium.com/max/1400/1*e2oXjzfycXx8WuUMiFmUHA.jpeg\"\n",
        "width=\"700\"/>\n",
        "</div>\n",
        "\n",
        "[출처](https://medium.com/analytics-vidhya/7-types-of-hybrid-recommendation-system-3e4f78266ad8)\n",
        "\n",
        "\n",
        "- cascade 방식은 boosting에 가까운 형식입니다.\n",
        "- 2차 모델의 추천은 1차 모델에 의해 제한됩니다.\n",
        "- 예를 들어, 1차 모델(KB)를 통해 항목을 제거합니다.\n",
        "- (rescore) 2차 모델이 점수를 부여합니다."
      ]
    },
    {
      "cell_type": "markdown",
      "metadata": {
        "id": "7aqP0rmgDy5E"
      },
      "source": [
        "### Meta-level\n",
        "> 하나의 추천 기법이 적용되어 일종의 모델을 생성하고, 이는 다음 기법에서 사용되는 입력입니다."
      ]
    },
    {
      "cell_type": "markdown",
      "metadata": {
        "id": "FkFpE_sg45lw"
      },
      "source": [
        "이 중, \n",
        "Paralled Hybrid Approach 인 Mixed, Weighted 방법론과 Monolitic Hybrid Approach의 한 종류인 Feature combine에 대해 알아보겠습니다."
      ]
    },
    {
      "cell_type": "markdown",
      "metadata": {
        "id": "NjZmDLLbcteD"
      },
      "source": [
        "# [3] 데이터 불러오기"
      ]
    },
    {
      "cell_type": "markdown",
      "metadata": {
        "id": "_1M88g9IaTyi"
      },
      "source": [
        "먼저, 미션용 데이터를 불러 옵니다.\n",
        "wget 형식으로 불러 오며, 다음과 같은 id를 가졌습니다."
      ]
    },
    {
      "cell_type": "markdown",
      "metadata": {
        "id": "II0UVyZTOpKN"
      },
      "source": [
        "- book : 13SoqiN_xLWvQPDXnNdzvzwm1KSRJpfrL\n",
        "- rating : 1YwubS7oWbAS2-wG8-qEDD4RqI_KwX8Fy\n",
        "- user : 17Zbpx_Yn0ggLFVeijUalcnOUt5mCHeEH"
      ]
    },
    {
      "cell_type": "code",
      "execution_count": 183,
      "metadata": {
        "colab": {
          "base_uri": "https://localhost:8080/"
        },
        "id": "-bpvCTZRcftW",
        "outputId": "db304e26-d72c-4c46-f8bb-970eae04eaee"
      },
      "outputs": [],
      "source": [
        "# !wget --load-cookies ~/cookies.txt \"https://docs.google.com/uc?export=download&confirm=$(wget --quiet --save-cookies ~/cookies.txt --keep-session-cookies --no-check-certificate 'https://docs.google.com/uc?export=download&id=17Zbpx_Yn0ggLFVeijUalcnOUt5mCHeEH' -O- | sed -rn 's/.*confirm=([0-9A-Za-z_]+).*/\\1\\n/p')&id=17Zbpx_Yn0ggLFVeijUalcnOUt5mCHeEH\" -O users.csv && rm -rf ~/cookies.txt\n",
        "# !wget --load-cookies ~/cookies.txt \"https://docs.google.com/uc?export=download&confirm=$(wget --quiet --save-cookies ~/cookies.txt --keep-session-cookies --no-check-certificate 'https://docs.google.com/uc?export=download&id=1JIxWPgC8JJkuZaWjk5FJBBKuqSX87HGE' -O- | sed -rn 's/.*confirm=([0-9A-Za-z_]+).*/\\1\\n/p')&id=1JIxWPgC8JJkuZaWjk5FJBBKuqSX87HGE\" -O books.csv && rm -rf ~/cookies.txt\n",
        "# !wget --load-cookies ~/cookies.txt \"https://docs.google.com/uc?export=download&confirm=$(wget --quiet --save-cookies ~/cookies.txt --keep-session-cookies --no-check-certificate 'https://docs.google.com/uc?export=download&id=1B-8lw3a1KPJdhFAMXP58a7taJjpDvfw6' -O- | sed -rn 's/.*confirm=([0-9A-Za-z_]+).*/\\1\\n/p')&id=1B-8lw3a1KPJdhFAMXP58a7taJjpDvfw6\" -O ratings.csv && rm -rf ~/cookies.txt"
      ]
    },
    {
      "cell_type": "code",
      "execution_count": 184,
      "metadata": {
        "id": "S23mKmMpcvzh"
      },
      "outputs": [],
      "source": [
        "books = pd.read_csv('./data/book_language_title&author&summary_embedding.csv').rename(columns=lambda x:re.sub('[^A-Za-z0-9_]+', '', x))\n",
        "_books = pd.read_csv('/opt/ml/input/code/level1_bookratingprediction_recsys-level-recsys-07/data/books_data/isen_isfic_books.csv').rename(columns=lambda x:re.sub('[^A-Za-z0-9_]+', '', x))\n",
        "users = pd.read_csv('./data/users.csv').rename(columns=lambda x:re.sub('[^A-Za-z0-9_]+', '', x))\n",
        "ratings = pd.read_csv('./data/train_ratings.csv').rename(columns=lambda x:re.sub('[^A-Za-z0-9_]+', '', x))\n",
        "evaluate = pd.read_csv('/opt/ml/input/code/level1_bookratingprediction_recsys-level-recsys-07/data/test_ratings.csv').rename(columns=lambda x:re.sub('[^A-Za-z0-9_]+', '', x))\n",
        "\n",
        "books['isenglish'] = _books['isenglish']\n",
        "books['isfiction'] = _books['isfiction']\n",
        "books['category_high'] = _books['category_high']"
      ]
    },
    {
      "cell_type": "code",
      "execution_count": 185,
      "metadata": {
        "colab": {
          "base_uri": "https://localhost:8080/"
        },
        "id": "1NAEs4mMPnUI",
        "outputId": "2c82aa66-63d6-4b34-a291-0566079bf72a"
      },
      "outputs": [
        {
          "data": {
            "text/plain": [
              "((149570, 527), (68092, 3), (306795, 3), (76699, 3))"
            ]
          },
          "execution_count": 185,
          "metadata": {},
          "output_type": "execute_result"
        }
      ],
      "source": [
        "books.shape, users.shape, ratings.shape, evaluate.shape"
      ]
    },
    {
      "cell_type": "markdown",
      "metadata": {
        "id": "uh_8IXJHbIhW"
      },
      "source": [
        "book에 대한 전처리를 진행합니다.\n",
        "먼저, 아이디에 대해 처리를 해줍니다."
      ]
    },
    {
      "cell_type": "code",
      "execution_count": 186,
      "metadata": {
        "id": "E93W4aq3MOX1"
      },
      "outputs": [],
      "source": [
        "# books['isbn'] = books['img_url'].apply(lambda x: x.split('P/')[1][:10])"
      ]
    },
    {
      "cell_type": "markdown",
      "metadata": {
        "id": "uMrj1zKcbQ6t"
      },
      "source": [
        "각각의 데이터 프레임을 확인합니다."
      ]
    },
    {
      "cell_type": "code",
      "execution_count": 187,
      "metadata": {
        "colab": {
          "base_uri": "https://localhost:8080/",
          "height": 322
        },
        "id": "Rx9IsoeSuwZv",
        "outputId": "78e5730b-2d36-421e-e782-3da5798e1a73"
      },
      "outputs": [
        {
          "name": "stdout",
          "output_type": "stream",
          "text": [
            "<<< Dataframe users Example >>>\n",
            "users shape:\n",
            " (68092, 3)\n",
            "\n",
            "col nunique:\n",
            " user_id     68092\n",
            "location    18368\n",
            "age            91\n",
            "dtype: int64\n",
            "\n"
          ]
        },
        {
          "data": {
            "text/html": [
              "<div>\n",
              "<style scoped>\n",
              "    .dataframe tbody tr th:only-of-type {\n",
              "        vertical-align: middle;\n",
              "    }\n",
              "\n",
              "    .dataframe tbody tr th {\n",
              "        vertical-align: top;\n",
              "    }\n",
              "\n",
              "    .dataframe thead th {\n",
              "        text-align: right;\n",
              "    }\n",
              "</style>\n",
              "<table border=\"1\" class=\"dataframe\">\n",
              "  <thead>\n",
              "    <tr style=\"text-align: right;\">\n",
              "      <th></th>\n",
              "      <th>user_id</th>\n",
              "      <th>location</th>\n",
              "      <th>age</th>\n",
              "    </tr>\n",
              "  </thead>\n",
              "  <tbody>\n",
              "    <tr>\n",
              "      <th>0</th>\n",
              "      <td>8</td>\n",
              "      <td>timmins, ontario, canada</td>\n",
              "      <td>NaN</td>\n",
              "    </tr>\n",
              "    <tr>\n",
              "      <th>1</th>\n",
              "      <td>11400</td>\n",
              "      <td>ottawa, ontario, canada</td>\n",
              "      <td>49.0</td>\n",
              "    </tr>\n",
              "    <tr>\n",
              "      <th>2</th>\n",
              "      <td>11676</td>\n",
              "      <td>n/a, n/a, n/a</td>\n",
              "      <td>NaN</td>\n",
              "    </tr>\n",
              "  </tbody>\n",
              "</table>\n",
              "</div>"
            ],
            "text/plain": [
              "   user_id                  location   age\n",
              "0        8  timmins, ontario, canada   NaN\n",
              "1    11400   ottawa, ontario, canada  49.0\n",
              "2    11676             n/a, n/a, n/a   NaN"
            ]
          },
          "metadata": {},
          "output_type": "display_data"
        }
      ],
      "source": [
        "print(\"<<< Dataframe users Example >>>\")\n",
        "print('users shape:\\n', users.shape)\n",
        "print('\\ncol nunique:\\n', users.nunique(),end='\\n\\n')\n",
        "display(users.head(3))"
      ]
    },
    {
      "cell_type": "code",
      "execution_count": 188,
      "metadata": {
        "colab": {
          "base_uri": "https://localhost:8080/",
          "height": 788
        },
        "id": "cnIPhghPWy3J",
        "outputId": "62a9e84b-0f42-4776-cd03-36bff72735d8"
      },
      "outputs": [
        {
          "name": "stdout",
          "output_type": "stream",
          "text": [
            "<<< Dataframe books Example >>>\n",
            "books shape:\n",
            " (149570, 527)\n",
            "\n",
            "col nunique:\n",
            " isbn                   149570\n",
            "book_title             135436\n",
            "book_author             62059\n",
            "year_of_publication        95\n",
            "publisher               11571\n",
            "                        ...  \n",
            "510                    149349\n",
            "511                    149443\n",
            "isenglish                   2\n",
            "isfiction                   2\n",
            "category_high             749\n",
            "Length: 527, dtype: int64\n",
            "\n"
          ]
        },
        {
          "data": {
            "text/html": [
              "<div>\n",
              "<style scoped>\n",
              "    .dataframe tbody tr th:only-of-type {\n",
              "        vertical-align: middle;\n",
              "    }\n",
              "\n",
              "    .dataframe tbody tr th {\n",
              "        vertical-align: top;\n",
              "    }\n",
              "\n",
              "    .dataframe thead th {\n",
              "        text-align: right;\n",
              "    }\n",
              "</style>\n",
              "<table border=\"1\" class=\"dataframe\">\n",
              "  <thead>\n",
              "    <tr style=\"text-align: right;\">\n",
              "      <th></th>\n",
              "      <th>isbn</th>\n",
              "      <th>book_title</th>\n",
              "      <th>book_author</th>\n",
              "      <th>year_of_publication</th>\n",
              "      <th>publisher</th>\n",
              "      <th>img_url</th>\n",
              "      <th>language</th>\n",
              "      <th>category</th>\n",
              "      <th>summary</th>\n",
              "      <th>img_path</th>\n",
              "      <th>...</th>\n",
              "      <th>505</th>\n",
              "      <th>506</th>\n",
              "      <th>507</th>\n",
              "      <th>508</th>\n",
              "      <th>509</th>\n",
              "      <th>510</th>\n",
              "      <th>511</th>\n",
              "      <th>isenglish</th>\n",
              "      <th>isfiction</th>\n",
              "      <th>category_high</th>\n",
              "    </tr>\n",
              "  </thead>\n",
              "  <tbody>\n",
              "    <tr>\n",
              "      <th>0</th>\n",
              "      <td>0002005018</td>\n",
              "      <td>Clara Callan</td>\n",
              "      <td>Richard Bruce Wright</td>\n",
              "      <td>2001.0</td>\n",
              "      <td>HarperFlamingo Canada</td>\n",
              "      <td>http://images.amazon.com/images/P/0002005018.0...</td>\n",
              "      <td>en</td>\n",
              "      <td>actresses</td>\n",
              "      <td>In a small town in Canada, Clara Callan reluct...</td>\n",
              "      <td>images/0002005018.01.THUMBZZZ.jpg</td>\n",
              "      <td>...</td>\n",
              "      <td>0.068784</td>\n",
              "      <td>0.037725</td>\n",
              "      <td>-1.268462</td>\n",
              "      <td>-0.750312</td>\n",
              "      <td>0.107709</td>\n",
              "      <td>-0.462396</td>\n",
              "      <td>0.383121</td>\n",
              "      <td>1</td>\n",
              "      <td>0</td>\n",
              "      <td>actresses</td>\n",
              "    </tr>\n",
              "    <tr>\n",
              "      <th>1</th>\n",
              "      <td>0060973129</td>\n",
              "      <td>Decision in Normandy</td>\n",
              "      <td>Carlo D'Este</td>\n",
              "      <td>1991.0</td>\n",
              "      <td>HarperPerennial</td>\n",
              "      <td>http://images.amazon.com/images/P/0060973129.0...</td>\n",
              "      <td>en</td>\n",
              "      <td>1940-1949</td>\n",
              "      <td>Here, for the first time in paperback, is an o...</td>\n",
              "      <td>images/0060973129.01.THUMBZZZ.jpg</td>\n",
              "      <td>...</td>\n",
              "      <td>-0.537121</td>\n",
              "      <td>-0.453638</td>\n",
              "      <td>-0.858057</td>\n",
              "      <td>-0.290574</td>\n",
              "      <td>-0.710232</td>\n",
              "      <td>-0.775910</td>\n",
              "      <td>-0.211170</td>\n",
              "      <td>1</td>\n",
              "      <td>0</td>\n",
              "      <td>others</td>\n",
              "    </tr>\n",
              "    <tr>\n",
              "      <th>2</th>\n",
              "      <td>0374157065</td>\n",
              "      <td>Flu: The Story of the Great Influenza Pandemic...</td>\n",
              "      <td>Gina Bari Kolata</td>\n",
              "      <td>1999.0</td>\n",
              "      <td>Farrar Straus Giroux</td>\n",
              "      <td>http://images.amazon.com/images/P/0374157065.0...</td>\n",
              "      <td>en</td>\n",
              "      <td>medical</td>\n",
              "      <td>Describes the great flu epidemic of 1918, an o...</td>\n",
              "      <td>images/0374157065.01.THUMBZZZ.jpg</td>\n",
              "      <td>...</td>\n",
              "      <td>-0.186091</td>\n",
              "      <td>-0.065213</td>\n",
              "      <td>0.268273</td>\n",
              "      <td>-1.180975</td>\n",
              "      <td>0.385781</td>\n",
              "      <td>0.077389</td>\n",
              "      <td>0.683517</td>\n",
              "      <td>1</td>\n",
              "      <td>0</td>\n",
              "      <td>medical</td>\n",
              "    </tr>\n",
              "  </tbody>\n",
              "</table>\n",
              "<p>3 rows × 527 columns</p>\n",
              "</div>"
            ],
            "text/plain": [
              "         isbn                                         book_title  \\\n",
              "0  0002005018                                       Clara Callan   \n",
              "1  0060973129                               Decision in Normandy   \n",
              "2  0374157065  Flu: The Story of the Great Influenza Pandemic...   \n",
              "\n",
              "            book_author  year_of_publication              publisher  \\\n",
              "0  Richard Bruce Wright               2001.0  HarperFlamingo Canada   \n",
              "1          Carlo D'Este               1991.0        HarperPerennial   \n",
              "2      Gina Bari Kolata               1999.0   Farrar Straus Giroux   \n",
              "\n",
              "                                             img_url language   category  \\\n",
              "0  http://images.amazon.com/images/P/0002005018.0...       en  actresses   \n",
              "1  http://images.amazon.com/images/P/0060973129.0...       en  1940-1949   \n",
              "2  http://images.amazon.com/images/P/0374157065.0...       en    medical   \n",
              "\n",
              "                                             summary  \\\n",
              "0  In a small town in Canada, Clara Callan reluct...   \n",
              "1  Here, for the first time in paperback, is an o...   \n",
              "2  Describes the great flu epidemic of 1918, an o...   \n",
              "\n",
              "                            img_path  ...       505       506       507  \\\n",
              "0  images/0002005018.01.THUMBZZZ.jpg  ...  0.068784  0.037725 -1.268462   \n",
              "1  images/0060973129.01.THUMBZZZ.jpg  ... -0.537121 -0.453638 -0.858057   \n",
              "2  images/0374157065.01.THUMBZZZ.jpg  ... -0.186091 -0.065213  0.268273   \n",
              "\n",
              "        508       509       510       511  isenglish  isfiction  category_high  \n",
              "0 -0.750312  0.107709 -0.462396  0.383121          1          0      actresses  \n",
              "1 -0.290574 -0.710232 -0.775910 -0.211170          1          0         others  \n",
              "2 -1.180975  0.385781  0.077389  0.683517          1          0        medical  \n",
              "\n",
              "[3 rows x 527 columns]"
            ]
          },
          "metadata": {},
          "output_type": "display_data"
        }
      ],
      "source": [
        "print(\"<<< Dataframe books Example >>>\")\n",
        "print('books shape:\\n', books.shape)\n",
        "print('\\ncol nunique:\\n', books.nunique(),end='\\n\\n')\n",
        "display(books.head(3))"
      ]
    },
    {
      "cell_type": "code",
      "execution_count": 189,
      "metadata": {
        "colab": {
          "base_uri": "https://localhost:8080/",
          "height": 322
        },
        "id": "O38aTtM0bXgH",
        "outputId": "27004364-c670-442a-a0a9-1199325113df"
      },
      "outputs": [
        {
          "name": "stdout",
          "output_type": "stream",
          "text": [
            "<<< Dataframe ratings >>>\n",
            "ratings shape:\n",
            " (306795, 3)\n",
            "\n",
            "col nunique:\n",
            " user_id     59803\n",
            "isbn       129777\n",
            "rating         10\n",
            "dtype: int64\n",
            "\n"
          ]
        },
        {
          "data": {
            "text/html": [
              "<div>\n",
              "<style scoped>\n",
              "    .dataframe tbody tr th:only-of-type {\n",
              "        vertical-align: middle;\n",
              "    }\n",
              "\n",
              "    .dataframe tbody tr th {\n",
              "        vertical-align: top;\n",
              "    }\n",
              "\n",
              "    .dataframe thead th {\n",
              "        text-align: right;\n",
              "    }\n",
              "</style>\n",
              "<table border=\"1\" class=\"dataframe\">\n",
              "  <thead>\n",
              "    <tr style=\"text-align: right;\">\n",
              "      <th></th>\n",
              "      <th>user_id</th>\n",
              "      <th>isbn</th>\n",
              "      <th>rating</th>\n",
              "    </tr>\n",
              "  </thead>\n",
              "  <tbody>\n",
              "    <tr>\n",
              "      <th>0</th>\n",
              "      <td>8</td>\n",
              "      <td>0002005018</td>\n",
              "      <td>4</td>\n",
              "    </tr>\n",
              "    <tr>\n",
              "      <th>1</th>\n",
              "      <td>67544</td>\n",
              "      <td>0002005018</td>\n",
              "      <td>7</td>\n",
              "    </tr>\n",
              "    <tr>\n",
              "      <th>2</th>\n",
              "      <td>123629</td>\n",
              "      <td>0002005018</td>\n",
              "      <td>8</td>\n",
              "    </tr>\n",
              "  </tbody>\n",
              "</table>\n",
              "</div>"
            ],
            "text/plain": [
              "   user_id        isbn  rating\n",
              "0        8  0002005018       4\n",
              "1    67544  0002005018       7\n",
              "2   123629  0002005018       8"
            ]
          },
          "metadata": {},
          "output_type": "display_data"
        }
      ],
      "source": [
        "print(\"<<< Dataframe ratings >>>\")\n",
        "print('ratings shape:\\n', ratings.shape)\n",
        "print('\\ncol nunique:\\n', ratings.nunique(),end='\\n\\n')\n",
        "display(ratings.head(3))"
      ]
    },
    {
      "cell_type": "markdown",
      "metadata": {
        "id": "-7Mk3CS0eXnm"
      },
      "source": [
        "# [4] 데이터 가공하기"
      ]
    },
    {
      "cell_type": "markdown",
      "metadata": {
        "id": "88NCjjGccXAT"
      },
      "source": [
        "## Preprocessing"
      ]
    },
    {
      "cell_type": "markdown",
      "metadata": {
        "id": "6Ppor0V-eeEm"
      },
      "source": [
        "- 고유 번호인 user_id와 isbn 대신 사용하기 편하게 인덱싱 처리를 해줍니다.\n"
      ]
    },
    {
      "cell_type": "code",
      "execution_count": 190,
      "metadata": {
        "id": "0TbFrMJSczpG"
      },
      "outputs": [],
      "source": [
        "user2idx = {v:k for k,v in enumerate(ratings['user_id'].unique())}\n",
        "book2idx = {v:k for k,v in enumerate(ratings['isbn'].unique())}\n",
        "\n",
        "ratings['iid'] = ratings['isbn'].map(book2idx)\n",
        "ratings['uid'] = ratings['user_id'].map(user2idx)"
      ]
    },
    {
      "cell_type": "code",
      "execution_count": 191,
      "metadata": {
        "colab": {
          "base_uri": "https://localhost:8080/",
          "height": 143
        },
        "id": "0dUt3ZS3SAE7",
        "outputId": "b3bc89d6-133c-42bc-b64c-86c13849c669"
      },
      "outputs": [
        {
          "data": {
            "text/html": [
              "<div>\n",
              "<style scoped>\n",
              "    .dataframe tbody tr th:only-of-type {\n",
              "        vertical-align: middle;\n",
              "    }\n",
              "\n",
              "    .dataframe tbody tr th {\n",
              "        vertical-align: top;\n",
              "    }\n",
              "\n",
              "    .dataframe thead th {\n",
              "        text-align: right;\n",
              "    }\n",
              "</style>\n",
              "<table border=\"1\" class=\"dataframe\">\n",
              "  <thead>\n",
              "    <tr style=\"text-align: right;\">\n",
              "      <th></th>\n",
              "      <th>user_id</th>\n",
              "      <th>isbn</th>\n",
              "      <th>rating</th>\n",
              "      <th>iid</th>\n",
              "      <th>uid</th>\n",
              "    </tr>\n",
              "  </thead>\n",
              "  <tbody>\n",
              "    <tr>\n",
              "      <th>0</th>\n",
              "      <td>8</td>\n",
              "      <td>0002005018</td>\n",
              "      <td>4</td>\n",
              "      <td>0</td>\n",
              "      <td>0</td>\n",
              "    </tr>\n",
              "    <tr>\n",
              "      <th>1</th>\n",
              "      <td>67544</td>\n",
              "      <td>0002005018</td>\n",
              "      <td>7</td>\n",
              "      <td>0</td>\n",
              "      <td>1</td>\n",
              "    </tr>\n",
              "    <tr>\n",
              "      <th>2</th>\n",
              "      <td>123629</td>\n",
              "      <td>0002005018</td>\n",
              "      <td>8</td>\n",
              "      <td>0</td>\n",
              "      <td>2</td>\n",
              "    </tr>\n",
              "  </tbody>\n",
              "</table>\n",
              "</div>"
            ],
            "text/plain": [
              "   user_id        isbn  rating  iid  uid\n",
              "0        8  0002005018       4    0    0\n",
              "1    67544  0002005018       7    0    1\n",
              "2   123629  0002005018       8    0    2"
            ]
          },
          "execution_count": 191,
          "metadata": {},
          "output_type": "execute_result"
        }
      ],
      "source": [
        "ratings.head(3)"
      ]
    },
    {
      "cell_type": "markdown",
      "metadata": {
        "id": "hHq2aia_sxVm"
      },
      "source": [
        "이 때, 각 데이터 프레임에 존재하는 결측치를 -1로 채워 줍니다."
      ]
    },
    {
      "cell_type": "code",
      "execution_count": 192,
      "metadata": {
        "colab": {
          "base_uri": "https://localhost:8080/"
        },
        "id": "I74EjskqtDAO",
        "outputId": "ed1376c1-65f1-4ed4-c6c4-670b8b7f58a0"
      },
      "outputs": [
        {
          "name": "stdout",
          "output_type": "stream",
          "text": [
            "books 데이터 프레임의 결측치\n"
          ]
        },
        {
          "data": {
            "text/plain": [
              "isbn                       0\n",
              "book_title                 0\n",
              "book_author                0\n",
              "year_of_publication        0\n",
              "publisher                  0\n",
              "                       ...  \n",
              "510                        0\n",
              "511                        0\n",
              "isenglish                  0\n",
              "isfiction                  0\n",
              "category_high          62565\n",
              "Length: 527, dtype: int64"
            ]
          },
          "execution_count": 192,
          "metadata": {},
          "output_type": "execute_result"
        }
      ],
      "source": [
        "print('books 데이터 프레임의 결측치')\n",
        "books.isnull().sum()"
      ]
    },
    {
      "cell_type": "code",
      "execution_count": 193,
      "metadata": {
        "colab": {
          "base_uri": "https://localhost:8080/"
        },
        "id": "0YcWWdNOs8h5",
        "outputId": "8da27a02-d114-4163-f161-22df701604e2"
      },
      "outputs": [
        {
          "name": "stdout",
          "output_type": "stream",
          "text": [
            "users 데이터 프레임의 결측치\n"
          ]
        },
        {
          "data": {
            "text/plain": [
              "user_id         0\n",
              "location        0\n",
              "age         27833\n",
              "dtype: int64"
            ]
          },
          "execution_count": 193,
          "metadata": {},
          "output_type": "execute_result"
        }
      ],
      "source": [
        "print('users 데이터 프레임의 결측치')\n",
        "users.isnull().sum()"
      ]
    },
    {
      "cell_type": "code",
      "execution_count": 194,
      "metadata": {
        "colab": {
          "base_uri": "https://localhost:8080/"
        },
        "id": "fE7x_W-8tFuV",
        "outputId": "0119216f-a620-474d-a9c8-0f272ba378d4"
      },
      "outputs": [
        {
          "name": "stdout",
          "output_type": "stream",
          "text": [
            "ratings 데이터 프레임의 결측치\n"
          ]
        },
        {
          "data": {
            "text/plain": [
              "user_id    0\n",
              "isbn       0\n",
              "rating     0\n",
              "iid        0\n",
              "uid        0\n",
              "dtype: int64"
            ]
          },
          "execution_count": 194,
          "metadata": {},
          "output_type": "execute_result"
        }
      ],
      "source": [
        "print('ratings 데이터 프레임의 결측치')\n",
        "ratings.isnull().sum()"
      ]
    },
    {
      "cell_type": "code",
      "execution_count": 195,
      "metadata": {
        "id": "qzG2I6vntO2w"
      },
      "outputs": [],
      "source": [
        "books.fillna(-1,inplace=True)\n",
        "users.fillna(-1,inplace=True)\n",
        "ratings.fillna(-1,inplace=True)\n",
        "evaluate.fillna(-1, inplace=True)"
      ]
    },
    {
      "cell_type": "markdown",
      "metadata": {
        "id": "YFG3_sGcaViE"
      },
      "source": [
        "user-item에 대한 interaction matrix를 만들어 줍니다.\n",
        "메모리 관리를 위해 pivot 대신 coo matrix로 만듭니다."
      ]
    },
    {
      "cell_type": "code",
      "execution_count": 196,
      "metadata": {
        "id": "JOaSHCFHQkG7"
      },
      "outputs": [],
      "source": [
        "from pandas.api.types import CategoricalDtype\n",
        "from scipy import sparse\n",
        "\n",
        "size_uid = ratings[\"uid\"].unique()\n",
        "size_iid = ratings[\"iid\"].unique()\n",
        "\n",
        "ui_shape = (len(size_uid), len(size_iid))\n",
        "\n",
        "user_cat = CategoricalDtype(categories=sorted(size_uid), ordered=True)\n",
        "book_cat = CategoricalDtype(categories=sorted(size_iid), ordered=True)\n",
        "\n",
        "user_index = ratings[\"uid\"].astype(user_cat).cat.codes\n",
        "book_index = ratings[\"iid\"].astype(book_cat).cat.codes\n",
        "\n",
        "interactions = sparse.coo_matrix((ratings[\"rating\"], (user_index,book_index)), shape=ui_shape)"
      ]
    },
    {
      "cell_type": "code",
      "execution_count": 197,
      "metadata": {
        "colab": {
          "base_uri": "https://localhost:8080/"
        },
        "id": "jcfYlyQwURJD",
        "outputId": "46b09ca5-7e4f-49c6-8055-a2be01e2d522"
      },
      "outputs": [
        {
          "data": {
            "text/plain": [
              "<59803x129777 sparse matrix of type '<class 'numpy.int64'>'\n",
              "\twith 306795 stored elements in COOrdinate format>"
            ]
          },
          "execution_count": 197,
          "metadata": {},
          "output_type": "execute_result"
        }
      ],
      "source": [
        "interactions"
      ]
    },
    {
      "cell_type": "markdown",
      "metadata": {
        "id": "dFaem4WGbFfb"
      },
      "source": [
        "spare한 정도를 확인하여 봅시다."
      ]
    },
    {
      "cell_type": "code",
      "execution_count": 198,
      "metadata": {
        "id": "tD6j2Qa56mW8"
      },
      "outputs": [],
      "source": [
        "def check_sparsity(interactions:sparse.coo_matrix)->int:\n",
        "  matrix_size = interactions.shape[0]*interactions.shape[1] # Number of possible interactions in the matrix\n",
        "  num_purchases = len(interactions.nonzero()[0]) # Number of items interacted with\n",
        "  sparsity = 100*(1 - (num_purchases/matrix_size))\n",
        "  return round(sparsity,4)"
      ]
    },
    {
      "cell_type": "code",
      "execution_count": 199,
      "metadata": {
        "colab": {
          "base_uri": "https://localhost:8080/"
        },
        "id": "r9l1JEauo5iY",
        "outputId": "a6210b8d-780f-4d0c-f3f4-f243be22afe3"
      },
      "outputs": [
        {
          "name": "stdout",
          "output_type": "stream",
          "text": [
            "matrix sparsity : 99.996%\n"
          ]
        }
      ],
      "source": [
        "print(f\"matrix sparsity : {check_sparsity(interactions)}%\")"
      ]
    },
    {
      "cell_type": "markdown",
      "metadata": {
        "id": "ulxXhCFRUxUu"
      },
      "source": [
        "### Train/Test Split (Interaction)"
      ]
    },
    {
      "cell_type": "markdown",
      "metadata": {
        "id": "y9wyZwN6ffjF"
      },
      "source": [
        "Train, Test를 분할합니다.\n",
        "\n",
        "- 행렬에서 0이 아닌 즉, 평가 기록이 있는 데이터\u001d를 랜덤하게 Train, Test 로 나눠 줍니다.\n",
        "- data를 shuffle한 후, 유저를 기준으로 나눕니다."
      ]
    },
    {
      "cell_type": "code",
      "execution_count": 200,
      "metadata": {
        "id": "S06clqQQqrYf"
      },
      "outputs": [],
      "source": [
        "def shuffle_data(interactions:sparse.coo_matrix, random_state:int=42)->tuple:\n",
        "    random_state = np.random.RandomState(seed=random_state)\n",
        "\n",
        "    interactions = interactions.tocoo()\n",
        "\n",
        "    uids, iids, data = (interactions.row, interactions.col, interactions.data)\n",
        "\n",
        "    shuffle_indices = np.arange(len(uids))\n",
        "    random_state.shuffle(shuffle_indices)\n",
        "\n",
        "    uids = uids[shuffle_indices]\n",
        "    iids = iids[shuffle_indices]\n",
        "    data = data[shuffle_indices]\n",
        "\n",
        "    return uids, iids, data"
      ]
    },
    {
      "cell_type": "code",
      "execution_count": 201,
      "metadata": {
        "id": "FDJ2a4_Zd88w"
      },
      "outputs": [],
      "source": [
        "def cutoff_by_user(uids:list, test_percentage:float=0.2):\n",
        "    cutoff = int((1.0 - test_percentage) * len(uids))\n",
        "    train_idx = slice(None, cutoff)\n",
        "    test_idx = slice(cutoff, None)\n",
        "    return train_idx, test_idx"
      ]
    },
    {
      "cell_type": "markdown",
      "metadata": {
        "id": "0e1JbuWwXqq1"
      },
      "source": [
        "추가로 위치에 맞게 평가 기록을 추가하는 코드를 작성합니다."
      ]
    },
    {
      "cell_type": "code",
      "execution_count": 202,
      "metadata": {
        "id": "qsaIw1sooZOj"
      },
      "outputs": [],
      "source": [
        "def random_train_test_split(interactions, test_percentage=0.2, valid=None, random_state=42):\n",
        "    uids, iids, data = shuffle_data(interactions, random_state)\n",
        "    train_idx, test_idx = cutoff_by_user(uids, test_percentage)\n",
        "    shape = interactions.shape\n",
        "\n",
        "    train = sparse.coo_matrix(\n",
        "        (data[train_idx], (uids[train_idx], iids[train_idx])),\n",
        "        shape=shape,\n",
        "        dtype=interactions.dtype,\n",
        "    )\n",
        "    test = sparse.coo_matrix(\n",
        "        (data[test_idx], (uids[test_idx], iids[test_idx])),\n",
        "        shape=shape,\n",
        "        dtype=interactions.dtype,\n",
        "    )\n",
        "    return train, test"
      ]
    },
    {
      "cell_type": "code",
      "execution_count": 203,
      "metadata": {
        "id": "_i0qxUmvbUKf"
      },
      "outputs": [],
      "source": [
        "train, test = random_train_test_split(interactions,test_percentage=0.2,random_state=42)"
      ]
    },
    {
      "cell_type": "markdown",
      "metadata": {
        "id": "fwFVR4BObbdR"
      },
      "source": [
        "라이브러리에서 원활한 사용을 위해 csr_matrix로 변환하여 줍니다."
      ]
    },
    {
      "cell_type": "code",
      "execution_count": 204,
      "metadata": {
        "id": "2Fct91_hZDAa"
      },
      "outputs": [],
      "source": [
        "train = train.tocsr()\n",
        "test = test.tocsr()"
      ]
    },
    {
      "cell_type": "code",
      "execution_count": 205,
      "metadata": {
        "colab": {
          "base_uri": "https://localhost:8080/"
        },
        "id": "hSjiPOcBZgmg",
        "outputId": "e0f119ed-6c91-418c-8f9b-ba5650a10cc3"
      },
      "outputs": [
        {
          "data": {
            "text/plain": [
              "(<59803x129777 sparse matrix of type '<class 'numpy.int64'>'\n",
              " \twith 245436 stored elements in Compressed Sparse Row format>,\n",
              " <59803x129777 sparse matrix of type '<class 'numpy.int64'>'\n",
              " \twith 61359 stored elements in Compressed Sparse Row format>,\n",
              "        user_id        isbn  rating\n",
              " 0        11676  0002005018       0\n",
              " 1       116866  0002005018       0\n",
              " 2       152827  0060973129       0\n",
              " 3       157969  0374157065       0\n",
              " 4        67958  0399135782       0\n",
              " ...        ...         ...     ...\n",
              " 76694   278543  1576734218       0\n",
              " 76695   278563  3492223710       0\n",
              " 76696   278633  1896095186       0\n",
              " 76697   278668  8408044079       0\n",
              " 76698   278851  0767907566       0\n",
              " \n",
              " [76699 rows x 3 columns])"
            ]
          },
          "execution_count": 205,
          "metadata": {},
          "output_type": "execute_result"
        }
      ],
      "source": [
        "train, test, evaluate"
      ]
    },
    {
      "cell_type": "markdown",
      "metadata": {
        "id": "4jKmOw7aU2lZ"
      },
      "source": [
        "### Train/Test Split (DataFrame)"
      ]
    },
    {
      "cell_type": "markdown",
      "metadata": {
        "id": "Bf8R4gwECKbc"
      },
      "source": [
        "GBDT 모델도 사용하기 위해 데이터프레임도 만들겠습니다.\n",
        "random_train_test_split에서 사용하였던 데이터와 동일하게 사용합니다."
      ]
    },
    {
      "cell_type": "code",
      "execution_count": 206,
      "metadata": {
        "id": "FelYQk47tlPm"
      },
      "outputs": [],
      "source": [
        "uids, iids, data = shuffle_data(interactions)\n",
        "train_idx, test_idx = cutoff_by_user(uids)\n",
        "\n",
        "train_df = pd.DataFrame({'uid':uids[train_idx], 'iid':iids[train_idx], 'ratings':data[train_idx]})\n",
        "test_df = pd.DataFrame({'uid':uids[test_idx], 'iid':iids[test_idx], 'ratings':data[test_idx]})"
      ]
    },
    {
      "cell_type": "markdown",
      "metadata": {
        "id": "IHeFA2KMbnar"
      },
      "source": [
        "앞서 제작한 매트릭스의 stored elements 갯수와 shape[0]\u001d 같음을 확인할 수 있습니다."
      ]
    },
    {
      "cell_type": "code",
      "execution_count": 207,
      "metadata": {
        "colab": {
          "base_uri": "https://localhost:8080/"
        },
        "id": "bX0YMDODmsHs",
        "outputId": "3bb9d385-0453-41f8-8dbe-598c62826e23"
      },
      "outputs": [
        {
          "data": {
            "text/plain": [
              "((245436, 3), (61359, 3))"
            ]
          },
          "execution_count": 207,
          "metadata": {},
          "output_type": "execute_result"
        }
      ],
      "source": [
        "train_df.shape, test_df.shape"
      ]
    },
    {
      "cell_type": "code",
      "execution_count": 208,
      "metadata": {
        "colab": {
          "base_uri": "https://localhost:8080/",
          "height": 206
        },
        "id": "4jlG-7TW09Nc",
        "outputId": "1f93161e-9324-43fd-aa73-b799b62e7667"
      },
      "outputs": [
        {
          "data": {
            "text/html": [
              "<div>\n",
              "<style scoped>\n",
              "    .dataframe tbody tr th:only-of-type {\n",
              "        vertical-align: middle;\n",
              "    }\n",
              "\n",
              "    .dataframe tbody tr th {\n",
              "        vertical-align: top;\n",
              "    }\n",
              "\n",
              "    .dataframe thead th {\n",
              "        text-align: right;\n",
              "    }\n",
              "</style>\n",
              "<table border=\"1\" class=\"dataframe\">\n",
              "  <thead>\n",
              "    <tr style=\"text-align: right;\">\n",
              "      <th></th>\n",
              "      <th>uid</th>\n",
              "      <th>iid</th>\n",
              "      <th>ratings</th>\n",
              "    </tr>\n",
              "  </thead>\n",
              "  <tbody>\n",
              "    <tr>\n",
              "      <th>0</th>\n",
              "      <td>15485</td>\n",
              "      <td>1638</td>\n",
              "      <td>7</td>\n",
              "    </tr>\n",
              "    <tr>\n",
              "      <th>1</th>\n",
              "      <td>10191</td>\n",
              "      <td>13639</td>\n",
              "      <td>6</td>\n",
              "    </tr>\n",
              "    <tr>\n",
              "      <th>2</th>\n",
              "      <td>16627</td>\n",
              "      <td>125648</td>\n",
              "      <td>8</td>\n",
              "    </tr>\n",
              "    <tr>\n",
              "      <th>3</th>\n",
              "      <td>3459</td>\n",
              "      <td>103855</td>\n",
              "      <td>7</td>\n",
              "    </tr>\n",
              "    <tr>\n",
              "      <th>4</th>\n",
              "      <td>2266</td>\n",
              "      <td>795</td>\n",
              "      <td>9</td>\n",
              "    </tr>\n",
              "  </tbody>\n",
              "</table>\n",
              "</div>"
            ],
            "text/plain": [
              "     uid     iid  ratings\n",
              "0  15485    1638        7\n",
              "1  10191   13639        6\n",
              "2  16627  125648        8\n",
              "3   3459  103855        7\n",
              "4   2266     795        9"
            ]
          },
          "execution_count": 208,
          "metadata": {},
          "output_type": "execute_result"
        }
      ],
      "source": [
        "train_df.head()"
      ]
    },
    {
      "cell_type": "markdown",
      "metadata": {
        "id": "wKEtnx1NcM_e"
      },
      "source": [
        "## Feature Engineering"
      ]
    },
    {
      "cell_type": "markdown",
      "metadata": {
        "id": "zaahHlcawdSS"
      },
      "source": [
        "contents based recommender 모델을 위한 여러 feature를 생성합니다."
      ]
    },
    {
      "cell_type": "markdown",
      "metadata": {
        "id": "UbjWe8mSVSRR"
      },
      "source": [
        "### User\n",
        "user에서부터 파생된 feature로 location, age를 사용하여, 모델 생성 예정으로 이를 처리합니다."
      ]
    },
    {
      "cell_type": "code",
      "execution_count": 209,
      "metadata": {
        "id": "Va0a_Sukmgfq"
      },
      "outputs": [],
      "source": [
        "users_location = pd.concat(\n",
        "    [users.drop('location', axis=1), \n",
        "     (users['location'].str.split(',', expand=True)\n",
        "     .assign(location_country = lambda x : np.where(x[2]=='', x[3], x[2]),\n",
        "            location_state = lambda x : x[1],\n",
        "            location_city = lambda x : x[0],\n",
        "            ) \n",
        "      )[['location_country', 'location_state', 'location_city']]\n",
        "     ], axis=1)\n",
        "\n",
        "city_tab = pd.DataFrame([['iowa city','iowa','usa'],\n",
        "['somerset', 'somerset','england'],\n",
        "['milford','massachusetts','usa'],\n",
        "['rockvale','tennessee','usa'],\n",
        "['bronx','newyork','usa'],\n",
        "['tustin','california','usa'],\n",
        "['choctaw','choctaw','usa'],\n",
        "['richmond hill','richmond hill','canada'],\n",
        "['kuala lumpur','kuala lumpur','malaysia']])\n",
        "city_tab.columns = ['city','state','country']\n",
        "\n",
        "for _,row in city_tab.iterrows():\n",
        "    location_idx = users_location['location_city'] == row.city\n",
        "    users_location.loc[location_idx,'location_city'] = row.city\n",
        "    users_location.loc[location_idx,'location_state'] = row.state\n",
        "    users_location.loc[location_idx,'location_country'] = row.country\n",
        "\n",
        "users_location.fillna('unknown',inplace=True)\n",
        "users_location['location_country'] = users_location['location_country'].str.replace('n/a','unknown')\n",
        "users_location['location_city'] = users_location['location_city'].str.replace('n/a','unknown')\n",
        "users_location['location_state'] = users_location['location_state'].str.replace('n/a','unknown')"
      ]
    },
    {
      "cell_type": "markdown",
      "metadata": {
        "id": "WCTHhxaOb5_d"
      },
      "source": [
        "sklearn의 LabelEncoder을 통해 라벨 인코딩하여 사용하였습니다."
      ]
    },
    {
      "cell_type": "code",
      "execution_count": 210,
      "metadata": {
        "id": "B_r16_g3NMd3"
      },
      "outputs": [],
      "source": [
        "users_df = users_location.copy()\n",
        "users_df['uid'] = users_df['user_id'].map(user2idx)"
      ]
    },
    {
      "cell_type": "markdown",
      "metadata": {
        "id": "eU-B3FwY6X4H"
      },
      "source": [
        "아래와 같이 신규 user가 존재함을 확인할 수도 있습니다."
      ]
    },
    {
      "cell_type": "code",
      "execution_count": 211,
      "metadata": {
        "colab": {
          "base_uri": "https://localhost:8080/"
        },
        "id": "yhwMeKb5v8Ex",
        "outputId": "6f930d27-4835-4124-bb24-ae912f7d30c3"
      },
      "outputs": [
        {
          "data": {
            "text/plain": [
              "user_id                0\n",
              "age                    0\n",
              "location_country       0\n",
              "location_state         0\n",
              "location_city          0\n",
              "uid                 8289\n",
              "dtype: int64"
            ]
          },
          "execution_count": 211,
          "metadata": {},
          "output_type": "execute_result"
        }
      ],
      "source": [
        "users_df.isnull().sum()"
      ]
    },
    {
      "cell_type": "code",
      "execution_count": 212,
      "metadata": {
        "id": "06lOzXZbA-yM"
      },
      "outputs": [],
      "source": [
        "u_label = ['location_country', 'location_state', 'location_city']\n",
        "u_encoder = dict()\n",
        "for l in u_label:\n",
        "    u_encoder[l] = LabelEncoder()\n",
        "    u_encoder[l].fit(users_df[l])\n",
        "    users_df[l] = u_encoder[l].transform(users_df[l])"
      ]
    },
    {
      "cell_type": "markdown",
      "metadata": {
        "id": "ZPGuXdPXVqK6"
      },
      "source": [
        "연속형 변수인 age에 대해 연령대별 카테고리화해 줍니다."
      ]
    },
    {
      "cell_type": "code",
      "execution_count": 213,
      "metadata": {
        "id": "HQgWT_MoyDPR"
      },
      "outputs": [],
      "source": [
        "users_df['age'] = users_df['age'].map(lambda x:x//10 if type(x)!=str else -1)"
      ]
    },
    {
      "cell_type": "code",
      "execution_count": 214,
      "metadata": {
        "colab": {
          "base_uri": "https://localhost:8080/",
          "height": 206
        },
        "id": "TEfaHrUp1CBA",
        "outputId": "3ea50be6-1195-40df-99ec-8026e6462e09"
      },
      "outputs": [
        {
          "data": {
            "text/html": [
              "<div>\n",
              "<style scoped>\n",
              "    .dataframe tbody tr th:only-of-type {\n",
              "        vertical-align: middle;\n",
              "    }\n",
              "\n",
              "    .dataframe tbody tr th {\n",
              "        vertical-align: top;\n",
              "    }\n",
              "\n",
              "    .dataframe thead th {\n",
              "        text-align: right;\n",
              "    }\n",
              "</style>\n",
              "<table border=\"1\" class=\"dataframe\">\n",
              "  <thead>\n",
              "    <tr style=\"text-align: right;\">\n",
              "      <th></th>\n",
              "      <th>user_id</th>\n",
              "      <th>age</th>\n",
              "      <th>location_country</th>\n",
              "      <th>location_state</th>\n",
              "      <th>location_city</th>\n",
              "      <th>uid</th>\n",
              "    </tr>\n",
              "  </thead>\n",
              "  <tbody>\n",
              "    <tr>\n",
              "      <th>0</th>\n",
              "      <td>8</td>\n",
              "      <td>-1.0</td>\n",
              "      <td>55</td>\n",
              "      <td>1050</td>\n",
              "      <td>10871</td>\n",
              "      <td>0.0</td>\n",
              "    </tr>\n",
              "    <tr>\n",
              "      <th>1</th>\n",
              "      <td>11400</td>\n",
              "      <td>4.0</td>\n",
              "      <td>55</td>\n",
              "      <td>1050</td>\n",
              "      <td>8071</td>\n",
              "      <td>2334.0</td>\n",
              "    </tr>\n",
              "    <tr>\n",
              "      <th>2</th>\n",
              "      <td>11676</td>\n",
              "      <td>-1.0</td>\n",
              "      <td>315</td>\n",
              "      <td>1428</td>\n",
              "      <td>11127</td>\n",
              "      <td>13.0</td>\n",
              "    </tr>\n",
              "    <tr>\n",
              "      <th>3</th>\n",
              "      <td>67544</td>\n",
              "      <td>3.0</td>\n",
              "      <td>55</td>\n",
              "      <td>1050</td>\n",
              "      <td>10928</td>\n",
              "      <td>1.0</td>\n",
              "    </tr>\n",
              "    <tr>\n",
              "      <th>4</th>\n",
              "      <td>85526</td>\n",
              "      <td>3.0</td>\n",
              "      <td>55</td>\n",
              "      <td>225</td>\n",
              "      <td>11310</td>\n",
              "      <td>4789.0</td>\n",
              "    </tr>\n",
              "  </tbody>\n",
              "</table>\n",
              "</div>"
            ],
            "text/plain": [
              "   user_id  age  location_country  location_state  location_city     uid\n",
              "0        8 -1.0                55            1050          10871     0.0\n",
              "1    11400  4.0                55            1050           8071  2334.0\n",
              "2    11676 -1.0               315            1428          11127    13.0\n",
              "3    67544  3.0                55            1050          10928     1.0\n",
              "4    85526  3.0                55             225          11310  4789.0"
            ]
          },
          "execution_count": 214,
          "metadata": {},
          "output_type": "execute_result"
        }
      ],
      "source": [
        "users_df.head()"
      ]
    },
    {
      "cell_type": "markdown",
      "metadata": {
        "id": "MM612pGFVWJi"
      },
      "source": [
        "### Item\n",
        "마찬가지로 item Feature 도 라벨인코딩해 줍니다."
      ]
    },
    {
      "cell_type": "markdown",
      "metadata": {
        "id": "3novC876pkAs"
      },
      "source": [
        "먼저, isbn을 iid로 바꾸어 줍니다."
      ]
    },
    {
      "cell_type": "code",
      "execution_count": 215,
      "metadata": {
        "id": "D28zEVpSZSuQ"
      },
      "outputs": [],
      "source": [
        "books_df = books.copy()\n",
        "books_df['iid'] = books_df['isbn'].map(book2idx)"
      ]
    },
    {
      "cell_type": "markdown",
      "metadata": {
        "id": "MPXKiGvepqaV"
      },
      "source": [
        "이어, 정규 표현식을 통해 카테고리를 보다 정제하여 주겠습니다."
      ]
    },
    {
      "cell_type": "code",
      "execution_count": 216,
      "metadata": {
        "id": "DE_cQAtRxUjC"
      },
      "outputs": [],
      "source": [
        "books_df['category'] = books_df['category'].apply(lambda x: re.sub('[\\W_]+',' ',str(x)).strip())"
      ]
    },
    {
      "cell_type": "markdown",
      "metadata": {
        "id": "S_lDro74ur0D"
      },
      "source": [
        "결측치 처리 시, -1로 대체하였기 때문에 label encoding의 작동을 원활히 하기 위해 데이터의 type을 일치시켜 "
      ]
    },
    {
      "cell_type": "code",
      "execution_count": 217,
      "metadata": {
        "id": "nLKBwicAugW3"
      },
      "outputs": [],
      "source": [
        "books_df['category'] = books_df['category'].astype(str)\n",
        "books_df['language'] = books_df['language'].astype(str)"
      ]
    },
    {
      "cell_type": "markdown",
      "metadata": {
        "id": "J-0PjuoIpa6w"
      },
      "source": [
        "item에 대한 정보는 제목, 작가명, 출판사 등 다양한 정보가 있지만 간결성을 위해 year_of_publication\t, language, category를 제외하고 drop합니다."
      ]
    },
    {
      "cell_type": "code",
      "execution_count": 218,
      "metadata": {
        "id": "obxVFPjFN1H6"
      },
      "outputs": [],
      "source": [
        "i_label = ['category', 'language']\n",
        "i_encoder = dict()\n",
        "for l in i_label:\n",
        "    i_encoder[l] = LabelEncoder()\n",
        "    i_encoder[l].fit(books_df[l])\n",
        "    books_df[l] = i_encoder[l].transform(books_df[l])"
      ]
    },
    {
      "cell_type": "markdown",
      "metadata": {
        "id": "_LpmmWwm8hfh"
      },
      "source": [
        "context aware recommendation을 위해, 각각의 데이터 프레임을 iid, uid를 기준으로 merge해 줍니다."
      ]
    },
    {
      "cell_type": "code",
      "execution_count": 219,
      "metadata": {
        "id": "pYvr9CLTCXt2"
      },
      "outputs": [],
      "source": [
        "train_context = train_df.merge(users_df, on='uid', how='left').merge(books_df, on='iid', how='left')\n",
        "test_context = test_df.merge(users_df, on='uid', how='left').merge(books_df, on='iid', how='left')"
      ]
    },
    {
      "cell_type": "code",
      "execution_count": 220,
      "metadata": {
        "colab": {
          "base_uri": "https://localhost:8080/"
        },
        "id": "T-hajGQYMbQG",
        "outputId": "18b6c3c5-6482-49d5-b4e2-4e51799671d4"
      },
      "outputs": [
        {
          "data": {
            "text/plain": [
              "uid              0\n",
              "iid              0\n",
              "ratings          0\n",
              "user_id          0\n",
              "age              0\n",
              "                ..\n",
              "510              0\n",
              "511              0\n",
              "isenglish        0\n",
              "isfiction        0\n",
              "category_high    0\n",
              "Length: 535, dtype: int64"
            ]
          },
          "execution_count": 220,
          "metadata": {},
          "output_type": "execute_result"
        }
      ],
      "source": [
        "train_context.isna().sum()"
      ]
    },
    {
      "cell_type": "markdown",
      "metadata": {
        "id": "QkwE0wJ02A9p"
      },
      "source": [
        "train/test set을 분할합니다.\n",
        "추가적으로 다른 모델과 결과 공유할 때 같은 uid, iid 임을 확인하기 위해 rating_train/test 를 저장합니다."
      ]
    },
    {
      "cell_type": "code",
      "execution_count": 221,
      "metadata": {
        "id": "XtJUP6p4vmmv"
      },
      "outputs": [],
      "source": [
        "X_train = train_context.drop(['user_id', 'isbn', 'iid','uid', 'ratings'], axis=1)\n",
        "y_train = train_context['ratings']\n",
        "rating_train = train_context[['uid','iid','ratings']] \n",
        "\n",
        "X_test = test_context.drop(['user_id', 'isbn', 'iid','uid', 'ratings'], axis=1)\n",
        "y_test = test_context['ratings']\n",
        "rating_test = test_context[['uid','iid','ratings']] "
      ]
    },
    {
      "cell_type": "markdown",
      "metadata": {
        "id": "prlVhBEdzj3G"
      },
      "source": [
        "불필요한 feature를 제거하여 줍니다."
      ]
    },
    {
      "cell_type": "code",
      "execution_count": 222,
      "metadata": {
        "id": "9rUjbq1AzjQv"
      },
      "outputs": [],
      "source": [
        "drop_lst = ['book_title','book_author','publisher','img_url','img_path','summary']\n",
        "\n",
        "X_train.drop(drop_lst,axis=1,inplace=True)\n",
        "X_test.drop(drop_lst,axis=1,inplace=True)"
      ]
    },
    {
      "cell_type": "code",
      "execution_count": 223,
      "metadata": {
        "id": "LYels7dC51lW"
      },
      "outputs": [],
      "source": [
        "# RAM 관리를 위해 사용하지 않는 데이터 프레임을 삭제해 줍니다.\n",
        "# magic command 를 사용하여 현행 정의해놓은 변수 목록을 확인한 후, 삭제합니다.\n",
        "#  %whos"
      ]
    },
    {
      "cell_type": "code",
      "execution_count": 224,
      "metadata": {
        "id": "mb1bs6Mm2GGw"
      },
      "outputs": [],
      "source": [
        "# del ratings, users, books, books_df, users_df, users_location, city_tab"
      ]
    },
    {
      "cell_type": "markdown",
      "metadata": {
        "id": "9NSOFE4HvUYH"
      },
      "source": [
        "우리는 대회에서 사용하는 평가 지표 RMSE를 동일하게 사용하여, 모델을 평가합니다. 이를 위해 rmse를 측정하는 함수를 제작합니다."
      ]
    },
    {
      "cell_type": "code",
      "execution_count": 225,
      "metadata": {
        "id": "tzh9UDa2_uta"
      },
      "outputs": [],
      "source": [
        "def modify_range(rating):\n",
        "  if rating < 0:\n",
        "    return 0\n",
        "  elif rating > 10:\n",
        "    return 10\n",
        "  else:\n",
        "    return rating"
      ]
    },
    {
      "cell_type": "code",
      "execution_count": 226,
      "metadata": {
        "id": "OVg1hTq6fj67"
      },
      "outputs": [],
      "source": [
        "def rmse(real, predict):\n",
        "  pred = list(map(modify_range, predict))  \n",
        "  pred = np.array(pred)\n",
        "  return np.sqrt(np.mean((real-pred) ** 2))"
      ]
    },
    {
      "cell_type": "code",
      "execution_count": 227,
      "metadata": {
        "id": "7-ZpGUUvfl-T"
      },
      "outputs": [],
      "source": [
        "def matrix_rmse(real_mat, predict_mat, test_ind=test_idx):\n",
        "  cost = 0\n",
        "\n",
        "  for i, ind in enumerate(test_ind):\n",
        "    pred = predict_mat[ind]\n",
        "    real = real_mat[ind]\n",
        "    cost += pow(real - modify_range(pred), 2)\n",
        "  return np.sqrt(cost/ len(test_ind)) "
      ]
    },
    {
      "cell_type": "markdown",
      "metadata": {
        "id": "Q6sHOntjf1gt"
      },
      "source": [
        "# [5] 단일 모델 확보"
      ]
    },
    {
      "cell_type": "markdown",
      "metadata": {
        "id": "UsKlAUmNf6ym"
      },
      "source": [
        "하이브리드 접근법 파트에서 바로 사용할 수 있도록 모델을 미리 만들어 놓겠습니다.\n",
        "\n",
        "지금까지 3,4, 5강에서 배웠던 방법론들을 이용하여 보겠습니다."
      ]
    },
    {
      "cell_type": "markdown",
      "metadata": {
        "id": "SUrI5JmGkb2N"
      },
      "source": [
        "## SVD\n",
        "5강에서 배웠던 surprise 라이브러리를 사용하여 모델을 만들어 줍니다."
      ]
    },
    {
      "cell_type": "code",
      "execution_count": 228,
      "metadata": {
        "id": "OlFyXG-cN3u_"
      },
      "outputs": [],
      "source": [
        "reader = Reader(rating_scale=(1, 10))\n",
        "train_data = Dataset.load_from_df(train_df[['uid', 'iid', 'ratings']], reader)\n",
        "test_data = Dataset.load_from_df(test_df[['uid', 'iid', 'ratings']], reader)"
      ]
    },
    {
      "cell_type": "code",
      "execution_count": 246,
      "metadata": {
        "id": "6x6ClBi-pI0n"
      },
      "outputs": [
        {
          "data": {
            "text/plain": [
              "<surprise.trainset.Trainset at 0x7f3bb58840a0>"
            ]
          },
          "execution_count": 246,
          "metadata": {},
          "output_type": "execute_result"
        }
      ],
      "source": [
        "fold = DatasetAutoFolds(df = train_df[['uid', 'iid', 'ratings']], reader = reader)\n",
        "trainset = fold.build_full_trainset()\n",
        "trainset"
      ]
    },
    {
      "cell_type": "markdown",
      "metadata": {
        "id": "Z2bIn9eTKtGL"
      },
      "source": [
        "모든 미지수를 추정하기 위해 다음과 같은 정규화 제곱 오차를 최소화합니다.\n",
        "\n",
        "$$\n",
        "\\hat{r}_{ui} = \\mu + b_u + b_i + q_i^Tp_u\n",
        "$$\n",
        "\n",
        "최소화는 매우 간단한 확률적 경사 하강법으로 수행됩니다.\n",
        "$$e_{ui} = r_{ui} - \\hat{r}_{ui}$$ \n",
        "일 때,\n",
        "$$\n",
        "\\begin{split}b_u &\\leftarrow b_u &+ \\gamma (e_{ui} - \\lambda b_u)\\\\\n",
        "b_i &\\leftarrow b_i &+ \\gamma (e_{ui} - \\lambda b_i)\\\\\n",
        "p_u &\\leftarrow p_u &+ \\gamma (e_{ui} \\cdot q_i - \\lambda p_u)\\\\\n",
        "q_i &\\leftarrow q_i &+ \\gamma (e_{ui} \\cdot p_u - \\lambda q_i)\\end{split}\n",
        "$$\n",
        "이 단계는 trainset의 모든 rating에 대해 n_epochs만큼 반복 수행됩니다.\n"
      ]
    },
    {
      "cell_type": "code",
      "execution_count": null,
      "metadata": {},
      "outputs": [],
      "source": []
    },
    {
      "cell_type": "code",
      "execution_count": 242,
      "metadata": {
        "colab": {
          "base_uri": "https://localhost:8080/"
        },
        "id": "XtQc4B0Rkh3A",
        "outputId": "8937c26f-2597-4128-97ff-c7c6e31ba09b"
      },
      "outputs": [],
      "source": [
        "params = {'n_factors':100,\n",
        "          'n_epochs':20,\n",
        "          'lr_all':0.005,\n",
        "          'reg_all':0.02}\n",
        "\n",
        "svd = SVD(**params,random_state=42)"
      ]
    },
    {
      "cell_type": "code",
      "execution_count": null,
      "metadata": {},
      "outputs": [],
      "source": []
    },
    {
      "cell_type": "code",
      "execution_count": 231,
      "metadata": {},
      "outputs": [],
      "source": [
        "from bayes_opt import BayesianOptimization"
      ]
    },
    {
      "cell_type": "code",
      "execution_count": 256,
      "metadata": {},
      "outputs": [
        {
          "name": "stdout",
          "output_type": "stream",
          "text": [
            "|   iter    |  target   | init_mean | init_s... |  lr_all   | n_factors |  reg_all  |\n",
            "-------------------------------------------------------------------------------------\n"
          ]
        },
        {
          "ename": "TypeError",
          "evalue": "'numpy.float64' object cannot be interpreted as an integer",
          "output_type": "error",
          "traceback": [
            "\u001b[0;31m---------------------------------------------------------------------------\u001b[0m",
            "\u001b[0;31mKeyError\u001b[0m                                  Traceback (most recent call last)",
            "File \u001b[0;32m/opt/conda/lib/python3.8/site-packages/bayes_opt/target_space.py:191\u001b[0m, in \u001b[0;36mTargetSpace.probe\u001b[0;34m(self, params)\u001b[0m\n\u001b[1;32m    190\u001b[0m \u001b[39mtry\u001b[39;00m:\n\u001b[0;32m--> 191\u001b[0m     target \u001b[39m=\u001b[39m \u001b[39mself\u001b[39;49m\u001b[39m.\u001b[39;49m_cache[_hashable(x)]\n\u001b[1;32m    192\u001b[0m \u001b[39mexcept\u001b[39;00m \u001b[39mKeyError\u001b[39;00m:\n",
            "\u001b[0;31mKeyError\u001b[0m: (0.249705676062312, 0.2901428612819832, 0.029639878836228102, 147.89267873576293, 0.01748149123539492)",
            "\nDuring handling of the above exception, another exception occurred:\n",
            "\u001b[0;31mTypeError\u001b[0m                                 Traceback (most recent call last)",
            "Cell \u001b[0;32mIn [256], line 22\u001b[0m\n\u001b[1;32m     14\u001b[0m pbounds\u001b[39m=\u001b[39m{\n\u001b[1;32m     15\u001b[0m   \u001b[39m'\u001b[39m\u001b[39mn_factors\u001b[39m\u001b[39m'\u001b[39m:(\u001b[39mint\u001b[39m(\u001b[39m100\u001b[39m),\u001b[39mint\u001b[39m(\u001b[39m180\u001b[39m)), \n\u001b[1;32m     16\u001b[0m   \u001b[39m'\u001b[39m\u001b[39minit_mean\u001b[39m\u001b[39m'\u001b[39m:(\u001b[39m0.01\u001b[39m,\u001b[39m0.65\u001b[39m), \n\u001b[0;32m   (...)\u001b[0m\n\u001b[1;32m     19\u001b[0m   \u001b[39m'\u001b[39m\u001b[39mreg_all\u001b[39m\u001b[39m'\u001b[39m:(\u001b[39m0.005\u001b[39m,\u001b[39m0.085\u001b[39m)\n\u001b[1;32m     20\u001b[0m }\u001b[39m#옵튜나?optuna\u001b[39;00m\n\u001b[1;32m     21\u001b[0m svdB0 \u001b[39m=\u001b[39m BayesianOptimization(f\u001b[39m=\u001b[39msvd, pbounds\u001b[39m=\u001b[39mpbounds,random_state\u001b[39m=\u001b[39m\u001b[39m42\u001b[39m)\n\u001b[0;32m---> 22\u001b[0m svdB0\u001b[39m.\u001b[39;49mmaximize(init_points\u001b[39m=\u001b[39;49m\u001b[39m2\u001b[39;49m, n_iter\u001b[39m=\u001b[39;49m\u001b[39m14\u001b[39;49m)\n\u001b[1;32m     23\u001b[0m \u001b[39mprint\u001b[39m(\u001b[39m'\u001b[39m\u001b[39m-\u001b[39m\u001b[39m'\u001b[39m\u001b[39m*\u001b[39m\u001b[39m50\u001b[39m)\n\u001b[1;32m     24\u001b[0m \u001b[39mprint\u001b[39m(\u001b[39m'\u001b[39m\u001b[39mResult >>>>>\u001b[39m\u001b[39m'\u001b[39m)\n",
            "File \u001b[0;32m/opt/conda/lib/python3.8/site-packages/bayes_opt/bayesian_optimization.py:305\u001b[0m, in \u001b[0;36mBayesianOptimization.maximize\u001b[0;34m(self, init_points, n_iter, acq, kappa, kappa_decay, kappa_decay_delay, xi, **gp_params)\u001b[0m\n\u001b[1;32m    303\u001b[0m     x_probe \u001b[39m=\u001b[39m \u001b[39mself\u001b[39m\u001b[39m.\u001b[39msuggest(util)\n\u001b[1;32m    304\u001b[0m     iteration \u001b[39m+\u001b[39m\u001b[39m=\u001b[39m \u001b[39m1\u001b[39m\n\u001b[0;32m--> 305\u001b[0m \u001b[39mself\u001b[39;49m\u001b[39m.\u001b[39;49mprobe(x_probe, lazy\u001b[39m=\u001b[39;49m\u001b[39mFalse\u001b[39;49;00m)\n\u001b[1;32m    307\u001b[0m \u001b[39mif\u001b[39;00m \u001b[39mself\u001b[39m\u001b[39m.\u001b[39m_bounds_transformer \u001b[39mand\u001b[39;00m iteration \u001b[39m>\u001b[39m \u001b[39m0\u001b[39m:\n\u001b[1;32m    308\u001b[0m     \u001b[39m# The bounds transformer should only modify the bounds after\u001b[39;00m\n\u001b[1;32m    309\u001b[0m     \u001b[39m# the init_points points (only for the true iterations)\u001b[39;00m\n\u001b[1;32m    310\u001b[0m     \u001b[39mself\u001b[39m\u001b[39m.\u001b[39mset_bounds(\n\u001b[1;32m    311\u001b[0m         \u001b[39mself\u001b[39m\u001b[39m.\u001b[39m_bounds_transformer\u001b[39m.\u001b[39mtransform(\u001b[39mself\u001b[39m\u001b[39m.\u001b[39m_space))\n",
            "File \u001b[0;32m/opt/conda/lib/python3.8/site-packages/bayes_opt/bayesian_optimization.py:200\u001b[0m, in \u001b[0;36mBayesianOptimization.probe\u001b[0;34m(self, params, lazy)\u001b[0m\n\u001b[1;32m    198\u001b[0m     \u001b[39mself\u001b[39m\u001b[39m.\u001b[39m_queue\u001b[39m.\u001b[39madd(params)\n\u001b[1;32m    199\u001b[0m \u001b[39melse\u001b[39;00m:\n\u001b[0;32m--> 200\u001b[0m     \u001b[39mself\u001b[39;49m\u001b[39m.\u001b[39;49m_space\u001b[39m.\u001b[39;49mprobe(params)\n\u001b[1;32m    201\u001b[0m     \u001b[39mself\u001b[39m\u001b[39m.\u001b[39mdispatch(Events\u001b[39m.\u001b[39mOPTIMIZATION_STEP)\n",
            "File \u001b[0;32m/opt/conda/lib/python3.8/site-packages/bayes_opt/target_space.py:194\u001b[0m, in \u001b[0;36mTargetSpace.probe\u001b[0;34m(self, params)\u001b[0m\n\u001b[1;32m    192\u001b[0m \u001b[39mexcept\u001b[39;00m \u001b[39mKeyError\u001b[39;00m:\n\u001b[1;32m    193\u001b[0m     params \u001b[39m=\u001b[39m \u001b[39mdict\u001b[39m(\u001b[39mzip\u001b[39m(\u001b[39mself\u001b[39m\u001b[39m.\u001b[39m_keys, x))\n\u001b[0;32m--> 194\u001b[0m     target \u001b[39m=\u001b[39m \u001b[39mself\u001b[39;49m\u001b[39m.\u001b[39;49mtarget_func(\u001b[39m*\u001b[39;49m\u001b[39m*\u001b[39;49mparams)\n\u001b[1;32m    195\u001b[0m     \u001b[39mself\u001b[39m\u001b[39m.\u001b[39mregister(x, target)\n\u001b[1;32m    196\u001b[0m \u001b[39mreturn\u001b[39;00m target\n",
            "Cell \u001b[0;32mIn [256], line 10\u001b[0m, in \u001b[0;36msvd\u001b[0;34m(n_factors, init_mean, init_std_dev, lr_all, reg_all, data, random_state)\u001b[0m\n\u001b[1;32m      2\u001b[0m params \u001b[39m=\u001b[39m {\n\u001b[1;32m      3\u001b[0m   \u001b[39m'\u001b[39m\u001b[39mn_factors\u001b[39m\u001b[39m'\u001b[39m:n_factors, \n\u001b[1;32m      4\u001b[0m   \u001b[39m'\u001b[39m\u001b[39minit_mean\u001b[39m\u001b[39m'\u001b[39m:init_mean, \n\u001b[0;32m   (...)\u001b[0m\n\u001b[1;32m      7\u001b[0m   \u001b[39m'\u001b[39m\u001b[39mreg_all\u001b[39m\u001b[39m'\u001b[39m:reg_all\n\u001b[1;32m      8\u001b[0m }\n\u001b[1;32m      9\u001b[0m svd_algo \u001b[39m=\u001b[39m SVD(\u001b[39m*\u001b[39m\u001b[39m*\u001b[39mparams,random_state\u001b[39m=\u001b[39mrandom_state)\n\u001b[0;32m---> 10\u001b[0m rmse \u001b[39m=\u001b[39m cross_validate(svd_algo, data, measures\u001b[39m=\u001b[39;49m[\u001b[39m\"\u001b[39;49m\u001b[39mRMSE\u001b[39;49m\u001b[39m\"\u001b[39;49m],cv\u001b[39m=\u001b[39;49m\u001b[39m5\u001b[39;49m)\n\u001b[1;32m     11\u001b[0m mean_rmse \u001b[39m=\u001b[39m rmse[\u001b[39m'\u001b[39m\u001b[39mtest_rmse\u001b[39m\u001b[39m'\u001b[39m]\u001b[39m.\u001b[39mmean()\n\u001b[1;32m     12\u001b[0m \u001b[39mreturn\u001b[39;00m \u001b[39m1\u001b[39m\u001b[39m-\u001b[39mmean_rmse\n",
            "File \u001b[0;32m/opt/conda/lib/python3.8/site-packages/surprise/model_selection/validation.py:108\u001b[0m, in \u001b[0;36mcross_validate\u001b[0;34m(algo, data, measures, cv, return_train_measures, n_jobs, pre_dispatch, verbose)\u001b[0m\n\u001b[1;32m    102\u001b[0m cv \u001b[39m=\u001b[39m get_cv(cv)\n\u001b[1;32m    104\u001b[0m delayed_list \u001b[39m=\u001b[39m (\n\u001b[1;32m    105\u001b[0m     delayed(fit_and_score)(algo, trainset, testset, measures, return_train_measures)\n\u001b[1;32m    106\u001b[0m     \u001b[39mfor\u001b[39;00m (trainset, testset) \u001b[39min\u001b[39;00m cv\u001b[39m.\u001b[39msplit(data)\n\u001b[1;32m    107\u001b[0m )\n\u001b[0;32m--> 108\u001b[0m out \u001b[39m=\u001b[39m Parallel(n_jobs\u001b[39m=\u001b[39;49mn_jobs, pre_dispatch\u001b[39m=\u001b[39;49mpre_dispatch)(delayed_list)\n\u001b[1;32m    110\u001b[0m (test_measures_dicts, train_measures_dicts, fit_times, test_times) \u001b[39m=\u001b[39m \u001b[39mzip\u001b[39m(\u001b[39m*\u001b[39mout)\n\u001b[1;32m    112\u001b[0m test_measures \u001b[39m=\u001b[39m \u001b[39mdict\u001b[39m()\n",
            "File \u001b[0;32m/opt/conda/lib/python3.8/site-packages/joblib/parallel.py:1085\u001b[0m, in \u001b[0;36mParallel.__call__\u001b[0;34m(self, iterable)\u001b[0m\n\u001b[1;32m   1076\u001b[0m \u001b[39mtry\u001b[39;00m:\n\u001b[1;32m   1077\u001b[0m     \u001b[39m# Only set self._iterating to True if at least a batch\u001b[39;00m\n\u001b[1;32m   1078\u001b[0m     \u001b[39m# was dispatched. In particular this covers the edge\u001b[39;00m\n\u001b[0;32m   (...)\u001b[0m\n\u001b[1;32m   1082\u001b[0m     \u001b[39m# was very quick and its callback already dispatched all the\u001b[39;00m\n\u001b[1;32m   1083\u001b[0m     \u001b[39m# remaining jobs.\u001b[39;00m\n\u001b[1;32m   1084\u001b[0m     \u001b[39mself\u001b[39m\u001b[39m.\u001b[39m_iterating \u001b[39m=\u001b[39m \u001b[39mFalse\u001b[39;00m\n\u001b[0;32m-> 1085\u001b[0m     \u001b[39mif\u001b[39;00m \u001b[39mself\u001b[39;49m\u001b[39m.\u001b[39;49mdispatch_one_batch(iterator):\n\u001b[1;32m   1086\u001b[0m         \u001b[39mself\u001b[39m\u001b[39m.\u001b[39m_iterating \u001b[39m=\u001b[39m \u001b[39mself\u001b[39m\u001b[39m.\u001b[39m_original_iterator \u001b[39mis\u001b[39;00m \u001b[39mnot\u001b[39;00m \u001b[39mNone\u001b[39;00m\n\u001b[1;32m   1088\u001b[0m     \u001b[39mwhile\u001b[39;00m \u001b[39mself\u001b[39m\u001b[39m.\u001b[39mdispatch_one_batch(iterator):\n",
            "File \u001b[0;32m/opt/conda/lib/python3.8/site-packages/joblib/parallel.py:901\u001b[0m, in \u001b[0;36mParallel.dispatch_one_batch\u001b[0;34m(self, iterator)\u001b[0m\n\u001b[1;32m    899\u001b[0m     \u001b[39mreturn\u001b[39;00m \u001b[39mFalse\u001b[39;00m\n\u001b[1;32m    900\u001b[0m \u001b[39melse\u001b[39;00m:\n\u001b[0;32m--> 901\u001b[0m     \u001b[39mself\u001b[39;49m\u001b[39m.\u001b[39;49m_dispatch(tasks)\n\u001b[1;32m    902\u001b[0m     \u001b[39mreturn\u001b[39;00m \u001b[39mTrue\u001b[39;00m\n",
            "File \u001b[0;32m/opt/conda/lib/python3.8/site-packages/joblib/parallel.py:819\u001b[0m, in \u001b[0;36mParallel._dispatch\u001b[0;34m(self, batch)\u001b[0m\n\u001b[1;32m    817\u001b[0m \u001b[39mwith\u001b[39;00m \u001b[39mself\u001b[39m\u001b[39m.\u001b[39m_lock:\n\u001b[1;32m    818\u001b[0m     job_idx \u001b[39m=\u001b[39m \u001b[39mlen\u001b[39m(\u001b[39mself\u001b[39m\u001b[39m.\u001b[39m_jobs)\n\u001b[0;32m--> 819\u001b[0m     job \u001b[39m=\u001b[39m \u001b[39mself\u001b[39;49m\u001b[39m.\u001b[39;49m_backend\u001b[39m.\u001b[39;49mapply_async(batch, callback\u001b[39m=\u001b[39;49mcb)\n\u001b[1;32m    820\u001b[0m     \u001b[39m# A job can complete so quickly than its callback is\u001b[39;00m\n\u001b[1;32m    821\u001b[0m     \u001b[39m# called before we get here, causing self._jobs to\u001b[39;00m\n\u001b[1;32m    822\u001b[0m     \u001b[39m# grow. To ensure correct results ordering, .insert is\u001b[39;00m\n\u001b[1;32m    823\u001b[0m     \u001b[39m# used (rather than .append) in the following line\u001b[39;00m\n\u001b[1;32m    824\u001b[0m     \u001b[39mself\u001b[39m\u001b[39m.\u001b[39m_jobs\u001b[39m.\u001b[39minsert(job_idx, job)\n",
            "File \u001b[0;32m/opt/conda/lib/python3.8/site-packages/joblib/_parallel_backends.py:208\u001b[0m, in \u001b[0;36mSequentialBackend.apply_async\u001b[0;34m(self, func, callback)\u001b[0m\n\u001b[1;32m    206\u001b[0m \u001b[39mdef\u001b[39;00m \u001b[39mapply_async\u001b[39m(\u001b[39mself\u001b[39m, func, callback\u001b[39m=\u001b[39m\u001b[39mNone\u001b[39;00m):\n\u001b[1;32m    207\u001b[0m     \u001b[39m\"\"\"Schedule a func to be run\"\"\"\u001b[39;00m\n\u001b[0;32m--> 208\u001b[0m     result \u001b[39m=\u001b[39m ImmediateResult(func)\n\u001b[1;32m    209\u001b[0m     \u001b[39mif\u001b[39;00m callback:\n\u001b[1;32m    210\u001b[0m         callback(result)\n",
            "File \u001b[0;32m/opt/conda/lib/python3.8/site-packages/joblib/_parallel_backends.py:597\u001b[0m, in \u001b[0;36mImmediateResult.__init__\u001b[0;34m(self, batch)\u001b[0m\n\u001b[1;32m    594\u001b[0m \u001b[39mdef\u001b[39;00m \u001b[39m__init__\u001b[39m(\u001b[39mself\u001b[39m, batch):\n\u001b[1;32m    595\u001b[0m     \u001b[39m# Don't delay the application, to avoid keeping the input\u001b[39;00m\n\u001b[1;32m    596\u001b[0m     \u001b[39m# arguments in memory\u001b[39;00m\n\u001b[0;32m--> 597\u001b[0m     \u001b[39mself\u001b[39m\u001b[39m.\u001b[39mresults \u001b[39m=\u001b[39m batch()\n",
            "File \u001b[0;32m/opt/conda/lib/python3.8/site-packages/joblib/parallel.py:288\u001b[0m, in \u001b[0;36mBatchedCalls.__call__\u001b[0;34m(self)\u001b[0m\n\u001b[1;32m    284\u001b[0m \u001b[39mdef\u001b[39;00m \u001b[39m__call__\u001b[39m(\u001b[39mself\u001b[39m):\n\u001b[1;32m    285\u001b[0m     \u001b[39m# Set the default nested backend to self._backend but do not set the\u001b[39;00m\n\u001b[1;32m    286\u001b[0m     \u001b[39m# change the default number of processes to -1\u001b[39;00m\n\u001b[1;32m    287\u001b[0m     \u001b[39mwith\u001b[39;00m parallel_backend(\u001b[39mself\u001b[39m\u001b[39m.\u001b[39m_backend, n_jobs\u001b[39m=\u001b[39m\u001b[39mself\u001b[39m\u001b[39m.\u001b[39m_n_jobs):\n\u001b[0;32m--> 288\u001b[0m         \u001b[39mreturn\u001b[39;00m [func(\u001b[39m*\u001b[39margs, \u001b[39m*\u001b[39m\u001b[39m*\u001b[39mkwargs)\n\u001b[1;32m    289\u001b[0m                 \u001b[39mfor\u001b[39;00m func, args, kwargs \u001b[39min\u001b[39;00m \u001b[39mself\u001b[39m\u001b[39m.\u001b[39mitems]\n",
            "File \u001b[0;32m/opt/conda/lib/python3.8/site-packages/joblib/parallel.py:288\u001b[0m, in \u001b[0;36m<listcomp>\u001b[0;34m(.0)\u001b[0m\n\u001b[1;32m    284\u001b[0m \u001b[39mdef\u001b[39;00m \u001b[39m__call__\u001b[39m(\u001b[39mself\u001b[39m):\n\u001b[1;32m    285\u001b[0m     \u001b[39m# Set the default nested backend to self._backend but do not set the\u001b[39;00m\n\u001b[1;32m    286\u001b[0m     \u001b[39m# change the default number of processes to -1\u001b[39;00m\n\u001b[1;32m    287\u001b[0m     \u001b[39mwith\u001b[39;00m parallel_backend(\u001b[39mself\u001b[39m\u001b[39m.\u001b[39m_backend, n_jobs\u001b[39m=\u001b[39m\u001b[39mself\u001b[39m\u001b[39m.\u001b[39m_n_jobs):\n\u001b[0;32m--> 288\u001b[0m         \u001b[39mreturn\u001b[39;00m [func(\u001b[39m*\u001b[39;49margs, \u001b[39m*\u001b[39;49m\u001b[39m*\u001b[39;49mkwargs)\n\u001b[1;32m    289\u001b[0m                 \u001b[39mfor\u001b[39;00m func, args, kwargs \u001b[39min\u001b[39;00m \u001b[39mself\u001b[39m\u001b[39m.\u001b[39mitems]\n",
            "File \u001b[0;32m/opt/conda/lib/python3.8/site-packages/surprise/model_selection/validation.py:173\u001b[0m, in \u001b[0;36mfit_and_score\u001b[0;34m(algo, trainset, testset, measures, return_train_measures)\u001b[0m\n\u001b[1;32m    142\u001b[0m \u001b[39m\"\"\"Helper method that trains an algorithm and compute accuracy measures on\u001b[39;00m\n\u001b[1;32m    143\u001b[0m \u001b[39ma testset. Also report train and test times.\u001b[39;00m\n\u001b[1;32m    144\u001b[0m \n\u001b[0;32m   (...)\u001b[0m\n\u001b[1;32m    169\u001b[0m \u001b[39m        - The testing time in seconds.\u001b[39;00m\n\u001b[1;32m    170\u001b[0m \u001b[39m\"\"\"\u001b[39;00m\n\u001b[1;32m    172\u001b[0m start_fit \u001b[39m=\u001b[39m time\u001b[39m.\u001b[39mtime()\n\u001b[0;32m--> 173\u001b[0m algo\u001b[39m.\u001b[39;49mfit(trainset)\n\u001b[1;32m    174\u001b[0m fit_time \u001b[39m=\u001b[39m time\u001b[39m.\u001b[39mtime() \u001b[39m-\u001b[39m start_fit\n\u001b[1;32m    175\u001b[0m start_test \u001b[39m=\u001b[39m time\u001b[39m.\u001b[39mtime()\n",
            "File \u001b[0;32m/opt/conda/lib/python3.8/site-packages/surprise/prediction_algorithms/matrix_factorization.pyx:155\u001b[0m, in \u001b[0;36msurprise.prediction_algorithms.matrix_factorization.SVD.fit\u001b[0;34m()\u001b[0m\n",
            "File \u001b[0;32m/opt/conda/lib/python3.8/site-packages/surprise/prediction_algorithms/matrix_factorization.pyx:200\u001b[0m, in \u001b[0;36msurprise.prediction_algorithms.matrix_factorization.SVD.sgd\u001b[0;34m()\u001b[0m\n",
            "File \u001b[0;32mmtrand.pyx:1510\u001b[0m, in \u001b[0;36mnumpy.random.mtrand.RandomState.normal\u001b[0;34m()\u001b[0m\n",
            "File \u001b[0;32m_common.pyx:630\u001b[0m, in \u001b[0;36mnumpy.random._common.cont\u001b[0;34m()\u001b[0m\n",
            "\u001b[0;31mTypeError\u001b[0m: 'numpy.float64' object cannot be interpreted as an integer"
          ]
        }
      ],
      "source": [
        "\n",
        "def svd(n_factors, init_mean, init_std_dev, lr_all, reg_all, data=train_data,random_state=42):\n",
        "    params = {\n",
        "      'n_factors':n_factors, \n",
        "      'init_mean':init_mean, \n",
        "      'init_std_dev':init_std_dev, \n",
        "      'lr_all':lr_all, \n",
        "      'reg_all':reg_all\n",
        "    }\n",
        "    svd_algo = SVD(**params,random_state=random_state)\n",
        "    rmse = cross_validate(svd_algo, data, measures=[\"RMSE\"],cv=5)\n",
        "    mean_rmse = rmse['test_rmse'].mean()\n",
        "    return 1-mean_rmse\n",
        "# BayesianOptimization\n",
        "pbounds={\n",
        "  'n_factors':(int(100),int(180)), \n",
        "  'init_mean':(0.01,0.65), \n",
        "  'init_std_dev':(0.1,0.3), \n",
        "  'lr_all':(0.015,0.035), \n",
        "  'reg_all':(0.005,0.085)\n",
        "}#옵튜나?optuna\n",
        "svdB0 = BayesianOptimization(f=svd, pbounds=pbounds,random_state=42)\n",
        "svdB0.maximize(init_points=2, n_iter=14)\n",
        "print('-'*50)\n",
        "print('Result >>>>>')\n",
        "print(svdB0.max)\n",
        "print('SVD val: %f' % svdB0.res['max']['max_val'])\n",
        "print('SVD params: %s' % svdB0.res['max']['max_params'])"
      ]
    },
    {
      "cell_type": "code",
      "execution_count": null,
      "metadata": {},
      "outputs": [],
      "source": []
    },
    {
      "cell_type": "code",
      "execution_count": null,
      "metadata": {},
      "outputs": [
        {
          "data": {
            "text/plain": [
              "<surprise.prediction_algorithms.matrix_factorization.SVD at 0x7f3ba387cd60>"
            ]
          },
          "execution_count": 83,
          "metadata": {},
          "output_type": "execute_result"
        }
      ],
      "source": [
        "svd.fit(trainset)"
      ]
    },
    {
      "cell_type": "markdown",
      "metadata": {
        "id": "g8nNcqtbtZcv"
      },
      "source": [
        "예측을 위해 test 메소드에서 사용할 (u,i,r) 형식의 리스트를 생성합니다."
      ]
    },
    {
      "cell_type": "code",
      "execution_count": null,
      "metadata": {
        "id": "VKLYquNPq9Rn"
      },
      "outputs": [],
      "source": [
        "uir_tuple = list(zip(test_df['uid'], test_df['iid'],test_df['ratings']))"
      ]
    },
    {
      "cell_type": "code",
      "execution_count": null,
      "metadata": {
        "id": "J4BOa5PBq8Gi"
      },
      "outputs": [],
      "source": [
        "svd_test = svd.test(uir_tuple)"
      ]
    },
    {
      "cell_type": "code",
      "execution_count": null,
      "metadata": {
        "colab": {
          "base_uri": "https://localhost:8080/"
        },
        "id": "4bMqsB0cPWi2",
        "outputId": "3b52421f-0a06-4d3c-c312-69c85af781c5"
      },
      "outputs": [
        {
          "data": {
            "text/plain": [
              "7     29617\n",
              "8     15569\n",
              "6      7905\n",
              "9      4502\n",
              "5      1973\n",
              "4       716\n",
              "3       639\n",
              "10      398\n",
              "2        37\n",
              "1         3\n",
              "dtype: int64"
            ]
          },
          "execution_count": 73,
          "metadata": {},
          "output_type": "execute_result"
        }
      ],
      "source": [
        "svd_pred = list(map(lambda x:round(x.est), svd_test))\n",
        "pd.Series(svd_pred).value_counts()"
      ]
    },
    {
      "cell_type": "markdown",
      "metadata": {
        "id": "9EILXdGqjbVi"
      },
      "source": [
        "모델의 성능을 파악하기 위한 score dictionary를 생성하고, SVD 모델의 RMSE를 기록합니다.\n",
        "파라미터 또한 기록하여 줍니다."
      ]
    },
    {
      "cell_type": "code",
      "execution_count": null,
      "metadata": {
        "id": "TWdXdEpvmyXy"
      },
      "outputs": [],
      "source": [
        "param = {}\n",
        "param['svd'] = params"
      ]
    },
    {
      "cell_type": "code",
      "execution_count": null,
      "metadata": {
        "id": "qGBCJvVSonpf"
      },
      "outputs": [],
      "source": [
        "score = {}\n",
        "score['svd'] = rmse(y_test, svd_pred)"
      ]
    },
    {
      "cell_type": "code",
      "execution_count": null,
      "metadata": {
        "id": "fRQOFB2iUPiR"
      },
      "outputs": [],
      "source": [
        "pred = {}\n",
        "pred['svd'] = svd_pred"
      ]
    },
    {
      "cell_type": "code",
      "execution_count": null,
      "metadata": {
        "colab": {
          "base_uri": "https://localhost:8080/"
        },
        "id": "oP3LwXNKjj9N",
        "outputId": "39c2296f-4c59-4e7d-e4a2-4d0f54d04fa1"
      },
      "outputs": [
        {
          "name": "stdout",
          "output_type": "stream",
          "text": [
            "RMSE of svd : 2.2152\n"
          ]
        }
      ],
      "source": [
        "rmse_v = score['svd']\n",
        "print(f\"RMSE of svd : {round(rmse_v,4)}\")"
      ]
    },
    {
      "cell_type": "code",
      "execution_count": null,
      "metadata": {},
      "outputs": [
        {
          "data": {
            "text/plain": [
              "61359"
            ]
          },
          "execution_count": 92,
          "metadata": {},
          "output_type": "execute_result"
        }
      ],
      "source": [
        "len(svd_pred)"
      ]
    },
    {
      "cell_type": "markdown",
      "metadata": {
        "id": "1nxiDSs-XHrM"
      },
      "source": [
        "## Co-clustering\n",
        "사용자와 아이템에 각각 $C_\u001du$,$C_i$,$C_ui$ 클러스터가 부여되고, 이에 대한 평균 평점에서부터 평점을 계산합니다.\n",
        "\n",
        "\n",
        "$$\n",
        "\\hat{r}_{ui} = \\overline{C_{ui}} + (\\mu_u - \\overline{C_u}) + (\\mu_i- \\overline{C_i})\n",
        "$$"
      ]
    },
    {
      "cell_type": "code",
      "execution_count": null,
      "metadata": {
        "id": "5uIHkF5EaFF4"
      },
      "outputs": [],
      "source": [
        "params = {'n_cltr_u':10, 'n_cltr_i':10, 'n_epochs':20}\n",
        "param['coclu'] = params"
      ]
    },
    {
      "cell_type": "code",
      "execution_count": null,
      "metadata": {
        "colab": {
          "base_uri": "https://localhost:8080/"
        },
        "id": "7llGKgoqYj3T",
        "outputId": "3b5e8fcd-9f2f-402d-9722-267f6f46aa1c"
      },
      "outputs": [
        {
          "name": "stdout",
          "output_type": "stream",
          "text": [
            "Processing epoch 0\n",
            "Processing epoch 1\n",
            "Processing epoch 2\n",
            "Processing epoch 3\n",
            "Processing epoch 4\n",
            "Processing epoch 5\n",
            "Processing epoch 6\n",
            "Processing epoch 7\n",
            "Processing epoch 8\n",
            "Processing epoch 9\n",
            "Processing epoch 10\n",
            "Processing epoch 11\n",
            "Processing epoch 12\n",
            "Processing epoch 13\n",
            "Processing epoch 14\n",
            "Processing epoch 15\n",
            "Processing epoch 16\n",
            "Processing epoch 17\n",
            "Processing epoch 18\n",
            "Processing epoch 19\n"
          ]
        },
        {
          "data": {
            "text/plain": [
              "<surprise.prediction_algorithms.co_clustering.CoClustering at 0x7fd4524a02e0>"
            ]
          },
          "execution_count": 60,
          "metadata": {},
          "output_type": "execute_result"
        }
      ],
      "source": [
        "coclu = CoClustering(**params, random_state=42, verbose=True)\n",
        "coclu.fit(trainset)"
      ]
    },
    {
      "cell_type": "code",
      "execution_count": null,
      "metadata": {
        "id": "P5kkt5P_CXeg"
      },
      "outputs": [],
      "source": [
        "coclu_test = coclu.test(uir_tuple)"
      ]
    },
    {
      "cell_type": "code",
      "execution_count": null,
      "metadata": {
        "colab": {
          "base_uri": "https://localhost:8080/"
        },
        "id": "e5tBkLOkCXeh",
        "outputId": "dd1dc179-c3b6-4929-d6dd-6da2377925a4"
      },
      "outputs": [
        {
          "data": {
            "text/plain": [
              "7     32177\n",
              "8      8233\n",
              "9      5971\n",
              "6      4491\n",
              "10     4174\n",
              "5      2650\n",
              "4      1460\n",
              "3       996\n",
              "1       607\n",
              "2       600\n",
              "dtype: int64"
            ]
          },
          "execution_count": 62,
          "metadata": {},
          "output_type": "execute_result"
        }
      ],
      "source": [
        "coclu_pred = list(map(lambda x:round(x.est), coclu_test))\n",
        "pd.Series(coclu_pred).value_counts()"
      ]
    },
    {
      "cell_type": "code",
      "execution_count": null,
      "metadata": {
        "id": "JII2zz7FUVbW"
      },
      "outputs": [],
      "source": [
        "pred['coclu'] = coclu_pred"
      ]
    },
    {
      "cell_type": "code",
      "execution_count": null,
      "metadata": {
        "id": "DOIDvtVWowcF"
      },
      "outputs": [],
      "source": [
        "score['coclu'] = rmse(y_test, coclu_pred)"
      ]
    },
    {
      "cell_type": "code",
      "execution_count": null,
      "metadata": {
        "colab": {
          "base_uri": "https://localhost:8080/"
        },
        "id": "M6dVDyVmk57S",
        "outputId": "0c86ccf3-b999-4845-971e-72c3a97d8f24"
      },
      "outputs": [
        {
          "name": "stdout",
          "output_type": "stream",
          "text": [
            "RMSE of coclustering : 2.5071\n"
          ]
        }
      ],
      "source": [
        "rmse_v = score['coclu']\n",
        "print(f\"RMSE of coclustering : {round(rmse_v,4)}\")"
      ]
    },
    {
      "cell_type": "markdown",
      "metadata": {
        "id": "aAozxDgP_pAY"
      },
      "source": [
        "## LGBM"
      ]
    },
    {
      "cell_type": "markdown",
      "metadata": {
        "id": "_298zpUUGKWt"
      },
      "source": [
        "#### \bLGBM Classifier"
      ]
    },
    {
      "cell_type": "code",
      "execution_count": null,
      "metadata": {
        "id": "XSyX2rZaAaZZ"
      },
      "outputs": [],
      "source": [
        "params = {'objective':'rmse',\n",
        "  'boosting_type':'gbdt',\n",
        "  'lambda': 0.1,\n",
        " 'learning_rate': 0.03,\n",
        " 'max_depth': 34,\n",
        " 'num_leaves': 34,\n",
        " 'n_epochs': 18}"
      ]
    },
    {
      "cell_type": "code",
      "execution_count": null,
      "metadata": {
        "colab": {
          "base_uri": "https://localhost:8080/"
        },
        "id": "sIxapl9NMtjD",
        "outputId": "1f4b4263-b6de-4a6f-d0f8-e26dd8c81432"
      },
      "outputs": [
        {
          "name": "stdout",
          "output_type": "stream",
          "text": [
            "[LightGBM] [Warning] Unknown parameter: n_epochs\n",
            "[LightGBM] [Warning] lambda_l2 is set with lambda=0.1, reg_lambda=0.0 will be ignored. Current value: lambda_l2=0.1\n"
          ]
        },
        {
          "data": {
            "text/plain": [
              "2.5796208095217943"
            ]
          },
          "execution_count": 67,
          "metadata": {},
          "output_type": "execute_result"
        }
      ],
      "source": [
        "lgbm_cl = LGBMClassifier(**params ,random_state=42)\n",
        "lgbm_cl.fit(X_train.select_dtypes(exclude='object'), y_train)\n",
        "lgbm_pred_cl = lgbm_cl.predict(X_test.select_dtypes(exclude='object'))\n",
        "rmse(y_test,lgbm_pred_cl)"
      ]
    },
    {
      "cell_type": "code",
      "execution_count": null,
      "metadata": {
        "colab": {
          "base_uri": "https://localhost:8080/"
        },
        "id": "g5cD93EyYH8y",
        "outputId": "4a472bcf-ac91-4307-df33-cbeb20dc25e2"
      },
      "outputs": [
        {
          "data": {
            "text/plain": [
              "8     57312\n",
              "10     2054\n",
              "9       976\n",
              "7       276\n",
              "4       256\n",
              "2       248\n",
              "3       137\n",
              "1        93\n",
              "6         7\n",
              "dtype: int64"
            ]
          },
          "execution_count": 68,
          "metadata": {},
          "output_type": "execute_result"
        }
      ],
      "source": [
        "pd.Series(lgbm_pred_cl).value_counts()"
      ]
    },
    {
      "cell_type": "code",
      "execution_count": null,
      "metadata": {
        "id": "JbZPf9jDJWwv"
      },
      "outputs": [],
      "source": [
        "param['lgbm'] = params"
      ]
    },
    {
      "cell_type": "code",
      "execution_count": null,
      "metadata": {
        "id": "aF7TuIZapg4p"
      },
      "outputs": [],
      "source": [
        "score['lgbm_cl'] = rmse(y_test,lgbm_pred_cl)"
      ]
    },
    {
      "cell_type": "code",
      "execution_count": null,
      "metadata": {
        "id": "43xd1SvxUiVI"
      },
      "outputs": [],
      "source": [
        "pred['lgbm_cl'] = lgbm_pred_cl"
      ]
    },
    {
      "cell_type": "code",
      "execution_count": null,
      "metadata": {
        "colab": {
          "base_uri": "https://localhost:8080/"
        },
        "id": "o36iFdLBg6dD",
        "outputId": "da608ccb-7646-4682-99d7-2d2bda087d4b"
      },
      "outputs": [
        {
          "name": "stdout",
          "output_type": "stream",
          "text": [
            "RMSE of lgbm_classifier : 2.5796\n"
          ]
        }
      ],
      "source": [
        "rmse_v = score['lgbm_cl']\n",
        "print(f\"RMSE of lgbm_classifier : {round(rmse_v,4)}\")"
      ]
    },
    {
      "cell_type": "markdown",
      "metadata": {
        "id": "10ZDIOlqZNRk"
      },
      "source": [
        "#### LGBM Regressor"
      ]
    },
    {
      "cell_type": "code",
      "execution_count": null,
      "metadata": {
        "id": "T8ywvCibTMzN"
      },
      "outputs": [
        {
          "name": "stdout",
          "output_type": "stream",
          "text": [
            "[LightGBM] [Warning] Unknown parameter: n_epochs\n",
            "[LightGBM] [Warning] lambda_l2 is set with lambda=0.1, reg_lambda=0.0 will be ignored. Current value: lambda_l2=0.1\n"
          ]
        }
      ],
      "source": [
        "lgbm_r = LGBMRegressor(**params ,random_state=42)\n",
        "lgbm_r.fit(X_train.select_dtypes(exclude='object'), y_train)\n",
        "lgbm_pred_r = lgbm_r.predict(X_test.select_dtypes(exclude='object'))"
      ]
    },
    {
      "cell_type": "code",
      "execution_count": null,
      "metadata": {
        "id": "cTTWUiRDo6CP"
      },
      "outputs": [],
      "source": [
        "score['lgbm_r'] = rmse(y_test,lgbm_pred_r)"
      ]
    },
    {
      "cell_type": "code",
      "execution_count": null,
      "metadata": {
        "id": "RPTQtagaUp1n"
      },
      "outputs": [],
      "source": [
        "pred['lgbm_r'] = lgbm_pred_r"
      ]
    },
    {
      "cell_type": "code",
      "execution_count": null,
      "metadata": {
        "colab": {
          "base_uri": "https://localhost:8080/",
          "height": 283
        },
        "id": "EQ6fIRo0KhPJ",
        "outputId": "2c3d4271-a4c8-4cee-cedc-8b8a3a2f35f9"
      },
      "outputs": [
        {
          "data": {
            "text/plain": [
              "<AxesSubplot: ylabel='Density'>"
            ]
          },
          "execution_count": 76,
          "metadata": {},
          "output_type": "execute_result"
        },
        {
          "data": {
            "image/png": "[encoded data removed]",
            "text/plain": [
              "<Figure size 640x480 with 1 Axes>"
            ]
          },
          "metadata": {},
          "output_type": "display_data"
        }
      ],
      "source": [
        "sns.distplot(pd.Series(lgbm_pred_r))"
      ]
    },
    {
      "cell_type": "code",
      "execution_count": null,
      "metadata": {
        "colab": {
          "base_uri": "https://localhost:8080/"
        },
        "id": "AJZn85wiKm6g",
        "outputId": "e869f8ae-3cbf-4dca-c7b2-4fca994d37b5"
      },
      "outputs": [
        {
          "data": {
            "text/plain": [
              "7    56092\n",
              "8     3864\n",
              "6      653\n",
              "5      394\n",
              "4      186\n",
              "9      162\n",
              "3        8\n",
              "dtype: int64"
            ]
          },
          "execution_count": 77,
          "metadata": {},
          "output_type": "execute_result"
        }
      ],
      "source": [
        "pd.Series(lgbm_pred_r).map(round).value_counts()"
      ]
    },
    {
      "cell_type": "code",
      "execution_count": null,
      "metadata": {
        "colab": {
          "base_uri": "https://localhost:8080/"
        },
        "id": "tQD-mksLhKGk",
        "outputId": "ae73348e-40d3-43fe-db10-e3f3abee661d"
      },
      "outputs": [
        {
          "name": "stdout",
          "output_type": "stream",
          "text": [
            "RMSE of lgbm_Regressor : 2.3654\n"
          ]
        }
      ],
      "source": [
        "rmse_v = score['lgbm_r']\n",
        "print(f\"RMSE of lgbm_Regressor : {round(rmse_v,4)}\")"
      ]
    },
    {
      "cell_type": "markdown",
      "metadata": {
        "id": "2DvLqvwP2mGq"
      },
      "source": [
        "## Catboost"
      ]
    },
    {
      "cell_type": "markdown",
      "metadata": {
        "id": "rVE10lnsDI_G"
      },
      "source": [
        "#### Catboost Classifier"
      ]
    },
    {
      "cell_type": "code",
      "execution_count": null,
      "metadata": {
        "id": "RVOQWmT5KheC"
      },
      "outputs": [],
      "source": [
        "params = {}\n",
        "params['iterations'] = 100\n",
        "params['learning_rate']=0.1\n",
        "params['depth']=8"
      ]
    },
    {
      "cell_type": "code",
      "execution_count": null,
      "metadata": {
        "id": "pAIVN3JXZzNr"
      },
      "outputs": [],
      "source": [
        "param['catboost'] = params"
      ]
    },
    {
      "cell_type": "code",
      "execution_count": null,
      "metadata": {
        "colab": {
          "base_uri": "https://localhost:8080/"
        },
        "id": "xoxNPHrLkuYJ",
        "outputId": "375b0ddc-9344-4f1a-c641-6525224e5bb7"
      },
      "outputs": [
        {
          "name": "stdout",
          "output_type": "stream",
          "text": [
            "0:\tlearn: 2.2573079\ttotal: 5.89s\tremaining: 9m 42s\n",
            "1:\tlearn: 2.2223008\ttotal: 12.2s\tremaining: 9m 57s\n",
            "2:\tlearn: 2.1944360\ttotal: 17.5s\tremaining: 9m 24s\n",
            "3:\tlearn: 2.1714222\ttotal: 22.5s\tremaining: 9m\n",
            "4:\tlearn: 2.1527827\ttotal: 27.9s\tremaining: 8m 50s\n",
            "5:\tlearn: 2.1364996\ttotal: 32.8s\tremaining: 8m 34s\n",
            "6:\tlearn: 2.1232447\ttotal: 38.2s\tremaining: 8m 28s\n",
            "7:\tlearn: 2.1120629\ttotal: 43.4s\tremaining: 8m 19s\n",
            "8:\tlearn: 2.1032731\ttotal: 48.5s\tremaining: 8m 10s\n",
            "9:\tlearn: 2.0959580\ttotal: 54s\tremaining: 8m 5s\n",
            "10:\tlearn: 2.0895379\ttotal: 59.1s\tremaining: 7m 57s\n",
            "11:\tlearn: 2.0836086\ttotal: 1m 4s\tremaining: 7m 51s\n",
            "12:\tlearn: 2.0790664\ttotal: 1m 9s\tremaining: 7m 47s\n",
            "13:\tlearn: 2.0752278\ttotal: 1m 14s\tremaining: 7m 40s\n",
            "14:\tlearn: 2.0719345\ttotal: 1m 20s\tremaining: 7m 34s\n",
            "15:\tlearn: 2.0690423\ttotal: 1m 25s\tremaining: 7m 30s\n",
            "16:\tlearn: 2.0664541\ttotal: 1m 30s\tremaining: 7m 23s\n",
            "17:\tlearn: 2.0635698\ttotal: 1m 35s\tremaining: 7m 15s\n",
            "18:\tlearn: 2.0617020\ttotal: 1m 40s\tremaining: 7m 10s\n",
            "19:\tlearn: 2.0596456\ttotal: 1m 45s\tremaining: 7m 3s\n",
            "20:\tlearn: 2.0577064\ttotal: 1m 50s\tremaining: 6m 57s\n",
            "21:\tlearn: 2.0559028\ttotal: 1m 56s\tremaining: 6m 52s\n",
            "22:\tlearn: 2.0545111\ttotal: 2m 1s\tremaining: 6m 46s\n",
            "23:\tlearn: 2.0535179\ttotal: 2m 6s\tremaining: 6m 39s\n",
            "24:\tlearn: 2.0519391\ttotal: 2m 11s\tremaining: 6m 35s\n",
            "25:\tlearn: 2.0496948\ttotal: 2m 16s\tremaining: 6m 29s\n",
            "26:\tlearn: 2.0471181\ttotal: 2m 21s\tremaining: 6m 22s\n",
            "27:\tlearn: 2.0460875\ttotal: 2m 26s\tremaining: 6m 17s\n",
            "28:\tlearn: 2.0444643\ttotal: 2m 31s\tremaining: 6m 11s\n",
            "29:\tlearn: 2.0435427\ttotal: 2m 36s\tremaining: 6m 5s\n",
            "30:\tlearn: 2.0425399\ttotal: 2m 41s\tremaining: 6m\n",
            "31:\tlearn: 2.0412284\ttotal: 2m 46s\tremaining: 5m 54s\n",
            "32:\tlearn: 2.0401840\ttotal: 2m 52s\tremaining: 5m 49s\n",
            "33:\tlearn: 2.0391549\ttotal: 2m 57s\tremaining: 5m 43s\n",
            "34:\tlearn: 2.0382352\ttotal: 3m 2s\tremaining: 5m 38s\n",
            "35:\tlearn: 2.0373366\ttotal: 3m 7s\tremaining: 5m 33s\n",
            "36:\tlearn: 2.0366773\ttotal: 3m 12s\tremaining: 5m 28s\n",
            "37:\tlearn: 2.0360484\ttotal: 3m 17s\tremaining: 5m 22s\n",
            "38:\tlearn: 2.0344131\ttotal: 3m 22s\tremaining: 5m 16s\n",
            "39:\tlearn: 2.0336777\ttotal: 3m 27s\tremaining: 5m 11s\n",
            "40:\tlearn: 2.0330837\ttotal: 3m 32s\tremaining: 5m 5s\n",
            "41:\tlearn: 2.0325279\ttotal: 3m 37s\tremaining: 5m\n",
            "42:\tlearn: 2.0315705\ttotal: 3m 42s\tremaining: 4m 55s\n",
            "43:\tlearn: 2.0307894\ttotal: 3m 47s\tremaining: 4m 49s\n",
            "44:\tlearn: 2.0299700\ttotal: 3m 52s\tremaining: 4m 44s\n",
            "45:\tlearn: 2.0292042\ttotal: 3m 57s\tremaining: 4m 39s\n",
            "46:\tlearn: 2.0285106\ttotal: 4m 2s\tremaining: 4m 33s\n",
            "47:\tlearn: 2.0278619\ttotal: 4m 7s\tremaining: 4m 28s\n",
            "48:\tlearn: 2.0270027\ttotal: 4m 12s\tremaining: 4m 23s\n",
            "49:\tlearn: 2.0254282\ttotal: 4m 17s\tremaining: 4m 17s\n",
            "50:\tlearn: 2.0246527\ttotal: 4m 22s\tremaining: 4m 12s\n",
            "51:\tlearn: 2.0239627\ttotal: 4m 28s\tremaining: 4m 7s\n",
            "52:\tlearn: 2.0232296\ttotal: 4m 33s\tremaining: 4m 2s\n",
            "53:\tlearn: 2.0223115\ttotal: 4m 38s\tremaining: 3m 56s\n",
            "54:\tlearn: 2.0216479\ttotal: 4m 43s\tremaining: 3m 51s\n",
            "55:\tlearn: 2.0210247\ttotal: 4m 48s\tremaining: 3m 46s\n",
            "56:\tlearn: 2.0203787\ttotal: 4m 53s\tremaining: 3m 41s\n",
            "57:\tlearn: 2.0194351\ttotal: 4m 58s\tremaining: 3m 36s\n",
            "58:\tlearn: 2.0184337\ttotal: 5m 3s\tremaining: 3m 31s\n",
            "59:\tlearn: 2.0178913\ttotal: 5m 8s\tremaining: 3m 25s\n",
            "60:\tlearn: 2.0172441\ttotal: 5m 13s\tremaining: 3m 20s\n",
            "61:\tlearn: 2.0156697\ttotal: 5m 18s\tremaining: 3m 15s\n",
            "62:\tlearn: 2.0150902\ttotal: 5m 23s\tremaining: 3m 10s\n",
            "63:\tlearn: 2.0144860\ttotal: 5m 28s\tremaining: 3m 4s\n",
            "64:\tlearn: 2.0136126\ttotal: 5m 34s\tremaining: 2m 59s\n",
            "65:\tlearn: 2.0131308\ttotal: 5m 39s\tremaining: 2m 54s\n",
            "66:\tlearn: 2.0125477\ttotal: 5m 44s\tremaining: 2m 49s\n",
            "67:\tlearn: 2.0117889\ttotal: 5m 49s\tremaining: 2m 44s\n",
            "68:\tlearn: 2.0109964\ttotal: 5m 54s\tremaining: 2m 39s\n",
            "69:\tlearn: 2.0104790\ttotal: 5m 59s\tremaining: 2m 33s\n",
            "70:\tlearn: 2.0099178\ttotal: 6m 4s\tremaining: 2m 28s\n",
            "71:\tlearn: 2.0090885\ttotal: 6m 9s\tremaining: 2m 23s\n",
            "72:\tlearn: 2.0085252\ttotal: 6m 14s\tremaining: 2m 18s\n",
            "73:\tlearn: 2.0078020\ttotal: 6m 19s\tremaining: 2m 13s\n",
            "74:\tlearn: 2.0070813\ttotal: 6m 24s\tremaining: 2m 8s\n",
            "75:\tlearn: 2.0065417\ttotal: 6m 29s\tremaining: 2m 3s\n",
            "76:\tlearn: 2.0057989\ttotal: 6m 34s\tremaining: 1m 57s\n",
            "77:\tlearn: 2.0051910\ttotal: 6m 40s\tremaining: 1m 52s\n",
            "78:\tlearn: 2.0044459\ttotal: 6m 45s\tremaining: 1m 47s\n",
            "79:\tlearn: 2.0040427\ttotal: 6m 50s\tremaining: 1m 42s\n",
            "80:\tlearn: 2.0032428\ttotal: 6m 55s\tremaining: 1m 37s\n",
            "81:\tlearn: 2.0027457\ttotal: 7m\tremaining: 1m 32s\n",
            "82:\tlearn: 2.0021636\ttotal: 7m 5s\tremaining: 1m 27s\n",
            "83:\tlearn: 2.0014307\ttotal: 7m 11s\tremaining: 1m 22s\n",
            "84:\tlearn: 2.0009106\ttotal: 7m 16s\tremaining: 1m 17s\n",
            "85:\tlearn: 2.0001694\ttotal: 7m 21s\tremaining: 1m 11s\n",
            "86:\tlearn: 1.9995215\ttotal: 7m 26s\tremaining: 1m 6s\n",
            "87:\tlearn: 1.9989458\ttotal: 7m 31s\tremaining: 1m 1s\n",
            "88:\tlearn: 1.9983251\ttotal: 7m 36s\tremaining: 56.4s\n",
            "89:\tlearn: 1.9978361\ttotal: 7m 41s\tremaining: 51.3s\n",
            "90:\tlearn: 1.9969547\ttotal: 7m 47s\tremaining: 46.2s\n",
            "91:\tlearn: 1.9962474\ttotal: 7m 53s\tremaining: 41.1s\n",
            "92:\tlearn: 1.9955223\ttotal: 7m 59s\tremaining: 36.1s\n",
            "93:\tlearn: 1.9949543\ttotal: 8m 5s\tremaining: 31s\n",
            "94:\tlearn: 1.9944406\ttotal: 8m 10s\tremaining: 25.8s\n",
            "95:\tlearn: 1.9936185\ttotal: 8m 15s\tremaining: 20.7s\n",
            "96:\tlearn: 1.9932973\ttotal: 8m 20s\tremaining: 15.5s\n",
            "97:\tlearn: 1.9928487\ttotal: 8m 25s\tremaining: 10.3s\n",
            "98:\tlearn: 1.9919687\ttotal: 8m 30s\tremaining: 5.16s\n",
            "99:\tlearn: 1.9913117\ttotal: 8m 36s\tremaining: 0us\n"
          ]
        }
      ],
      "source": [
        "catboost_cl = CatBoostClassifier(**params, verbose=True, random_state=42)\n",
        "catboost_cl.fit(X_train.select_dtypes(exclude='object'), y_train, early_stopping_rounds=100)\n",
        "catboost_pred_cl = catboost_cl.predict(X_test.select_dtypes(exclude='object'))"
      ]
    },
    {
      "cell_type": "code",
      "execution_count": null,
      "metadata": {
        "id": "dXIKcpeOpzVl"
      },
      "outputs": [],
      "source": [
        "score['catboost_cl'] = rmse(y_test,catboost_pred_cl.squeeze(1))"
      ]
    },
    {
      "cell_type": "code",
      "execution_count": null,
      "metadata": {
        "id": "y9SBCdVvUtp7"
      },
      "outputs": [],
      "source": [
        "pred['catboost_cl'] = catboost_pred_cl.squeeze(1)"
      ]
    },
    {
      "cell_type": "code",
      "execution_count": null,
      "metadata": {
        "colab": {
          "base_uri": "https://localhost:8080/"
        },
        "id": "Jl1YZb1Jh9Hv",
        "outputId": "f9469edd-b578-4ad6-8915-ec1f54c55fb9"
      },
      "outputs": [
        {
          "name": "stdout",
          "output_type": "stream",
          "text": [
            "RMSE of Catboost Classifier : 2.6009\n"
          ]
        }
      ],
      "source": [
        "rmse_v = score['catboost_cl']\n",
        "print(f\"RMSE of Catboost Classifier : {round(rmse_v,4)}\")"
      ]
    },
    {
      "cell_type": "markdown",
      "metadata": {
        "id": "TJRs9nmAp0PG"
      },
      "source": [
        "#### Catboost Regressor"
      ]
    },
    {
      "cell_type": "code",
      "execution_count": null,
      "metadata": {
        "colab": {
          "base_uri": "https://localhost:8080/"
        },
        "id": "4A1ubA0deAiz",
        "outputId": "f49ffc18-ed68-4ce4-d37c-e7a075fdb08e"
      },
      "outputs": [
        {
          "name": "stdout",
          "output_type": "stream",
          "text": [
            "0:\tlearn: 2.4289847\ttotal: 313ms\tremaining: 31s\n",
            "1:\tlearn: 2.4254590\ttotal: 599ms\tremaining: 29.4s\n",
            "2:\tlearn: 2.4230839\ttotal: 910ms\tremaining: 29.4s\n",
            "3:\tlearn: 2.4183007\ttotal: 1.22s\tremaining: 29.2s\n",
            "4:\tlearn: 2.4163556\ttotal: 1.53s\tremaining: 29.1s\n",
            "5:\tlearn: 2.4148228\ttotal: 1.86s\tremaining: 29.2s\n",
            "6:\tlearn: 2.4133207\ttotal: 2.15s\tremaining: 28.6s\n",
            "7:\tlearn: 2.4101419\ttotal: 2.47s\tremaining: 28.4s\n",
            "8:\tlearn: 2.4077720\ttotal: 2.76s\tremaining: 27.9s\n",
            "9:\tlearn: 2.4044857\ttotal: 3.1s\tremaining: 27.9s\n",
            "10:\tlearn: 2.4021031\ttotal: 3.38s\tremaining: 27.3s\n",
            "11:\tlearn: 2.3997207\ttotal: 3.67s\tremaining: 26.9s\n",
            "12:\tlearn: 2.3985628\ttotal: 3.88s\tremaining: 26s\n",
            "13:\tlearn: 2.3976525\ttotal: 4.13s\tremaining: 25.4s\n",
            "14:\tlearn: 2.3967281\ttotal: 4.37s\tremaining: 24.8s\n",
            "15:\tlearn: 2.3954818\ttotal: 4.6s\tremaining: 24.1s\n",
            "16:\tlearn: 2.3941660\ttotal: 4.84s\tremaining: 23.6s\n",
            "17:\tlearn: 2.3936758\ttotal: 5.07s\tremaining: 23.1s\n",
            "18:\tlearn: 2.3930865\ttotal: 5.32s\tremaining: 22.7s\n",
            "19:\tlearn: 2.3925765\ttotal: 5.58s\tremaining: 22.3s\n",
            "20:\tlearn: 2.3911339\ttotal: 5.85s\tremaining: 22s\n",
            "21:\tlearn: 2.3893408\ttotal: 6.13s\tremaining: 21.8s\n",
            "22:\tlearn: 2.3886374\ttotal: 6.42s\tremaining: 21.5s\n",
            "23:\tlearn: 2.3879392\ttotal: 6.71s\tremaining: 21.2s\n",
            "24:\tlearn: 2.3874419\ttotal: 6.99s\tremaining: 21s\n",
            "25:\tlearn: 2.3869196\ttotal: 7.28s\tremaining: 20.7s\n",
            "26:\tlearn: 2.3863612\ttotal: 7.58s\tremaining: 20.5s\n",
            "27:\tlearn: 2.3857769\ttotal: 7.93s\tremaining: 20.4s\n",
            "28:\tlearn: 2.3847285\ttotal: 8.26s\tremaining: 20.2s\n",
            "29:\tlearn: 2.3839841\ttotal: 8.58s\tremaining: 20s\n",
            "30:\tlearn: 2.3832786\ttotal: 8.89s\tremaining: 19.8s\n",
            "31:\tlearn: 2.3827554\ttotal: 9.18s\tremaining: 19.5s\n",
            "32:\tlearn: 2.3813669\ttotal: 9.52s\tremaining: 19.3s\n",
            "33:\tlearn: 2.3809069\ttotal: 9.85s\tremaining: 19.1s\n",
            "34:\tlearn: 2.3802553\ttotal: 10.1s\tremaining: 18.8s\n",
            "35:\tlearn: 2.3798458\ttotal: 10.4s\tremaining: 18.5s\n",
            "36:\tlearn: 2.3793113\ttotal: 10.7s\tremaining: 18.1s\n",
            "37:\tlearn: 2.3786306\ttotal: 10.9s\tremaining: 17.7s\n",
            "38:\tlearn: 2.3783430\ttotal: 11.1s\tremaining: 17.3s\n",
            "39:\tlearn: 2.3778811\ttotal: 11.3s\tremaining: 17s\n",
            "40:\tlearn: 2.3773412\ttotal: 11.6s\tremaining: 16.7s\n",
            "41:\tlearn: 2.3768825\ttotal: 11.8s\tremaining: 16.3s\n",
            "42:\tlearn: 2.3764155\ttotal: 12s\tremaining: 15.9s\n",
            "43:\tlearn: 2.3759565\ttotal: 12.3s\tremaining: 15.6s\n",
            "44:\tlearn: 2.3754488\ttotal: 12.5s\tremaining: 15.3s\n",
            "45:\tlearn: 2.3749234\ttotal: 12.8s\tremaining: 15s\n",
            "46:\tlearn: 2.3743428\ttotal: 13.1s\tremaining: 14.8s\n",
            "47:\tlearn: 2.3737982\ttotal: 13.5s\tremaining: 14.6s\n",
            "48:\tlearn: 2.3726189\ttotal: 13.8s\tremaining: 14.4s\n",
            "49:\tlearn: 2.3718225\ttotal: 14.2s\tremaining: 14.2s\n",
            "50:\tlearn: 2.3714440\ttotal: 14.5s\tremaining: 13.9s\n",
            "51:\tlearn: 2.3710414\ttotal: 14.7s\tremaining: 13.6s\n",
            "52:\tlearn: 2.3706217\ttotal: 15.1s\tremaining: 13.4s\n",
            "53:\tlearn: 2.3702243\ttotal: 15.4s\tremaining: 13.1s\n",
            "54:\tlearn: 2.3699132\ttotal: 15.6s\tremaining: 12.8s\n",
            "55:\tlearn: 2.3694880\ttotal: 15.9s\tremaining: 12.5s\n",
            "56:\tlearn: 2.3691201\ttotal: 16.2s\tremaining: 12.2s\n",
            "57:\tlearn: 2.3687978\ttotal: 16.5s\tremaining: 11.9s\n",
            "58:\tlearn: 2.3682177\ttotal: 16.8s\tremaining: 11.7s\n",
            "59:\tlearn: 2.3676946\ttotal: 17.1s\tremaining: 11.4s\n",
            "60:\tlearn: 2.3672731\ttotal: 17.4s\tremaining: 11.1s\n",
            "61:\tlearn: 2.3668569\ttotal: 17.7s\tremaining: 10.8s\n",
            "62:\tlearn: 2.3664009\ttotal: 18s\tremaining: 10.5s\n",
            "63:\tlearn: 2.3660335\ttotal: 18.2s\tremaining: 10.2s\n",
            "64:\tlearn: 2.3656411\ttotal: 18.5s\tremaining: 9.94s\n",
            "65:\tlearn: 2.3651981\ttotal: 18.7s\tremaining: 9.64s\n",
            "66:\tlearn: 2.3647673\ttotal: 19s\tremaining: 9.34s\n",
            "67:\tlearn: 2.3642779\ttotal: 19.2s\tremaining: 9.05s\n",
            "68:\tlearn: 2.3639264\ttotal: 19.5s\tremaining: 8.75s\n",
            "69:\tlearn: 2.3636807\ttotal: 19.7s\tremaining: 8.45s\n",
            "70:\tlearn: 2.3632583\ttotal: 20s\tremaining: 8.16s\n",
            "71:\tlearn: 2.3620682\ttotal: 20.3s\tremaining: 7.89s\n",
            "72:\tlearn: 2.3617300\ttotal: 20.6s\tremaining: 7.6s\n",
            "73:\tlearn: 2.3612777\ttotal: 20.8s\tremaining: 7.32s\n",
            "74:\tlearn: 2.3609234\ttotal: 21.2s\tremaining: 7.06s\n",
            "75:\tlearn: 2.3605736\ttotal: 21.5s\tremaining: 6.78s\n",
            "76:\tlearn: 2.3601622\ttotal: 21.7s\tremaining: 6.49s\n",
            "77:\tlearn: 2.3597270\ttotal: 22.1s\tremaining: 6.23s\n",
            "78:\tlearn: 2.3593227\ttotal: 22.4s\tremaining: 5.95s\n",
            "79:\tlearn: 2.3589258\ttotal: 22.7s\tremaining: 5.67s\n",
            "80:\tlearn: 2.3586458\ttotal: 23s\tremaining: 5.4s\n",
            "81:\tlearn: 2.3581335\ttotal: 23.3s\tremaining: 5.12s\n",
            "82:\tlearn: 2.3576978\ttotal: 23.7s\tremaining: 4.84s\n",
            "83:\tlearn: 2.3572757\ttotal: 23.9s\tremaining: 4.56s\n",
            "84:\tlearn: 2.3569241\ttotal: 24.2s\tremaining: 4.27s\n",
            "85:\tlearn: 2.3557454\ttotal: 24.5s\tremaining: 3.99s\n",
            "86:\tlearn: 2.3553185\ttotal: 24.8s\tremaining: 3.71s\n",
            "87:\tlearn: 2.3550173\ttotal: 25.1s\tremaining: 3.42s\n",
            "88:\tlearn: 2.3545595\ttotal: 25.4s\tremaining: 3.14s\n",
            "89:\tlearn: 2.3541700\ttotal: 25.6s\tremaining: 2.85s\n",
            "90:\tlearn: 2.3539008\ttotal: 25.8s\tremaining: 2.56s\n",
            "91:\tlearn: 2.3534720\ttotal: 26.1s\tremaining: 2.27s\n",
            "92:\tlearn: 2.3531428\ttotal: 26.3s\tremaining: 1.98s\n",
            "93:\tlearn: 2.3527353\ttotal: 26.6s\tremaining: 1.7s\n",
            "94:\tlearn: 2.3523496\ttotal: 26.8s\tremaining: 1.41s\n",
            "95:\tlearn: 2.3519148\ttotal: 27.1s\tremaining: 1.13s\n",
            "96:\tlearn: 2.3514793\ttotal: 27.4s\tremaining: 849ms\n",
            "97:\tlearn: 2.3510563\ttotal: 27.7s\tremaining: 566ms\n",
            "98:\tlearn: 2.3507947\ttotal: 28.1s\tremaining: 283ms\n",
            "99:\tlearn: 2.3504833\ttotal: 28.4s\tremaining: 0us\n"
          ]
        }
      ],
      "source": [
        "catboost_r = CatBoostRegressor(**params, verbose=True, random_state=42)\n",
        "catboost_r.fit(X_train.select_dtypes(exclude='object'), y_train, early_stopping_rounds=100)\n",
        "catboost_pred_r = catboost_r.predict(X_test.select_dtypes(exclude='object'))"
      ]
    },
    {
      "cell_type": "code",
      "execution_count": null,
      "metadata": {
        "id": "bSllYW1rvC2p"
      },
      "outputs": [],
      "source": [
        "score['catboost_r'] = rmse(y_test,catboost_pred_r)"
      ]
    },
    {
      "cell_type": "code",
      "execution_count": null,
      "metadata": {
        "id": "T3czfDnwUxcW"
      },
      "outputs": [],
      "source": [
        "pred['catboost_r'] = catboost_pred_r"
      ]
    },
    {
      "cell_type": "code",
      "execution_count": null,
      "metadata": {
        "colab": {
          "base_uri": "https://localhost:8080/"
        },
        "id": "pU2V81ANibjh",
        "outputId": "ef8838a4-82af-4689-db8b-f00611a6bd07"
      },
      "outputs": [
        {
          "name": "stdout",
          "output_type": "stream",
          "text": [
            "RMSE of Catboost Regressor : 2.3736\n"
          ]
        }
      ],
      "source": [
        "rmse_v = score['catboost_r']\n",
        "print(f\"RMSE of Catboost Regressor : {round(rmse_v,4)}\")"
      ]
    },
    {
      "cell_type": "markdown",
      "metadata": {
        "id": "KLlChb0fCso7"
      },
      "source": [
        "# [6] 하이브리드 접근법을 이용한 성능 개선"
      ]
    },
    {
      "cell_type": "markdown",
      "metadata": {
        "id": "3bC1sxa1iu80"
      },
      "source": [
        "현재까지 하이브리드 기법을 이용하지 않은 성능은 다음과 같습니다."
      ]
    },
    {
      "cell_type": "code",
      "execution_count": null,
      "metadata": {
        "colab": {
          "base_uri": "https://localhost:8080/"
        },
        "id": "JGDDK2TiiuzH",
        "outputId": "4cdcf362-94b8-488f-87b5-7f0181bac0fc"
      },
      "outputs": [
        {
          "data": {
            "text/plain": [
              "{'svd': 2.2151653244307097,\n",
              " 'coclu': 2.5070737129167298,\n",
              " 'lgbm_cl': 2.5796208095217943,\n",
              " 'lgbm_r': 2.3653643082905997,\n",
              " 'catboost_cl': 2.6009437063173064,\n",
              " 'catboost_r': 2.3735758228478514}"
            ]
          },
          "execution_count": 89,
          "metadata": {},
          "output_type": "execute_result"
        }
      ],
      "source": [
        "score"
      ]
    },
    {
      "cell_type": "markdown",
      "metadata": {
        "id": "hflJn21WFTiq"
      },
      "source": [
        "## Weighted\n",
        "\n",
        "먼저 각 결과값에 가중치를 주어, 결과를 앙상블하는 기법인 weighted Approach에 대해 알아봅시다."
      ]
    },
    {
      "cell_type": "markdown",
      "metadata": {
        "id": "iYk3bm4KcXZZ"
      },
      "source": [
        "### Simple Weight : 직접 지정\n",
        "\n",
        "먼저, 직접 지정하는 방법입니다."
      ]
    },
    {
      "cell_type": "code",
      "execution_count": null,
      "metadata": {
        "id": "gtD0kdAdkuQU"
      },
      "outputs": [],
      "source": [
        "# 기본 Weight\n",
        "def simple_weighted(output_list: list, weight: list):\n",
        "    pred = []\n",
        "    for arr in output_list:\n",
        "        pred.append(arr)\n",
        "\n",
        "    pred_arr = np.append([pred[0]], [pred[1]], axis=0)\n",
        "    for i in range(2, len(pred)):\n",
        "        pred_arr = np.append(pred_arr, [pred[i]], axis=0)\n",
        "    \n",
        "    result = np.dot(pred_arr.T, np.array(weight))\n",
        "    return result"
      ]
    },
    {
      "cell_type": "code",
      "execution_count": null,
      "metadata": {
        "id": "-Kq3IsUYg2-Y"
      },
      "outputs": [],
      "source": [
        "weighted_pred = simple_weighted([svd_pred,lgbm_pred_r,catboost_pred_r], weight=[0.5, 0.2, 0.3])"
      ]
    },
    {
      "cell_type": "markdown",
      "metadata": {
        "id": "T0dediLqOFCQ"
      },
      "source": [
        "기존 모델에 비해 성능이 조금 향상됨을 확인할 수 있습니다."
      ]
    },
    {
      "cell_type": "code",
      "execution_count": null,
      "metadata": {
        "colab": {
          "base_uri": "https://localhost:8080/"
        },
        "id": "lajbbI9i2BZm",
        "outputId": "94100daf-f97b-4906-dd90-f581ce06792e"
      },
      "outputs": [
        {
          "name": "stdout",
          "output_type": "stream",
          "text": [
            "RMSE of Simple Weighted : 2.2448\n"
          ]
        }
      ],
      "source": [
        "rmse_v = rmse(y_test, weighted_pred)\n",
        "print(f\"RMSE of Simple Weighted : {round(rmse_v,4)}\")"
      ]
    },
    {
      "cell_type": "markdown",
      "metadata": {
        "id": "OP4Oma9AcbIK"
      },
      "source": [
        "### Optimal Weight : 가중치 탐색"
      ]
    },
    {
      "cell_type": "markdown",
      "metadata": {
        "id": "0tRgVDzpOybN"
      },
      "source": [
        "아래 코드를 통해 최적의 weight를 찾을 수도 있습니다.\n",
        "먼저 Weight를 줄 모델을 선정하여 봅니다.\n"
      ]
    },
    {
      "cell_type": "code",
      "execution_count": null,
      "metadata": {
        "id": "laBp-_qvRjHX"
      },
      "outputs": [],
      "source": [
        "def find_suitable_model(score:dict,threshold:float)->list:\n",
        "    suitable_models = [k for k,v in score.items() if v<threshold]\n",
        "    return suitable_models"
      ]
    },
    {
      "cell_type": "code",
      "execution_count": null,
      "metadata": {
        "colab": {
          "base_uri": "https://localhost:8080/"
        },
        "id": "MgzS-N7UTJNj",
        "outputId": "e4186f26-7de8-4523-f853-bfdee8f2eb3e"
      },
      "outputs": [
        {
          "name": "stdout",
          "output_type": "stream",
          "text": [
            "RMSE 3.4 이하 모델 활용 : ['svd', 'coclu', 'lgbm_cl', 'lgbm_r', 'catboost_cl', 'catboost_r']\n"
          ]
        }
      ],
      "source": [
        "threshold = 3.4\n",
        "suitable_models = find_suitable_model(score,threshold)\n",
        "print(f\"RMSE {threshold} 이하 모델 활용 : {suitable_models}\")"
      ]
    },
    {
      "cell_type": "code",
      "execution_count": null,
      "metadata": {
        "id": "OPiFHoT7ZtLz"
      },
      "outputs": [],
      "source": [
        "output_list = [pred[m] for m in suitable_models]"
      ]
    },
    {
      "cell_type": "code",
      "execution_count": null,
      "metadata": {
        "id": "Xshx-CLpOxoJ"
      },
      "outputs": [],
      "source": [
        "def optimal_weighted(output_list: list, n:int)->dict:\n",
        "    record = {'rmse':10,'weight':[]}\n",
        "    \n",
        "    for _ in range(n):\n",
        "        random_weight = np.random.dirichlet(np.ones(len(output_list)),size=1).squeeze()\n",
        "        pred_weight_zip = zip(output_list,random_weight)\n",
        "        pred_weight_list = [pred*np.array(weight) for pred, weight in pred_weight_zip]\n",
        "        pred_result = np.sum(pred_weight_list, axis=0)\n",
        "        rmse_v = rmse(y_test,pred_result)\n",
        "        if rmse_v < record['rmse']:\n",
        "            record['rmse'] = rmse_v\n",
        "            record['weight'] = random_weight\n",
        "    return record"
      ]
    },
    {
      "cell_type": "markdown",
      "metadata": {
        "id": "X2sLfV-4jGCl"
      },
      "source": [
        "조금 더 향상된 결과를 확인할 수 있습니다."
      ]
    },
    {
      "cell_type": "code",
      "execution_count": null,
      "metadata": {
        "colab": {
          "base_uri": "https://localhost:8080/"
        },
        "id": "vj9ij_czPU1a",
        "outputId": "92e52029-61ed-4a4f-aa45-8a76bf0fb01f"
      },
      "outputs": [
        {
          "data": {
            "text/plain": [
              "{'rmse': 2.2379142363490634,\n",
              " 'weight': array([0.46881251, 0.24616879, 0.19656184, 0.07046152, 0.00909738,\n",
              "        0.00889796])}"
            ]
          },
          "execution_count": 97,
          "metadata": {},
          "output_type": "execute_result"
        }
      ],
      "source": [
        "opt_w = optimal_weighted(output_list=output_list,n=100)\n",
        "opt_w"
      ]
    },
    {
      "cell_type": "markdown",
      "metadata": {
        "id": "fIyu5QNQXIp6"
      },
      "source": [
        "위 코드에서 얻은 optimal한 weight을 가지고, 최적의 pred값을 얻어보겠습니다."
      ]
    },
    {
      "cell_type": "code",
      "execution_count": null,
      "metadata": {
        "id": "szhx8WSEPhkf"
      },
      "outputs": [],
      "source": [
        "opt_weighted_pred = simple_weighted(output_list,\n",
        "                                    weight=opt_w['weight'])"
      ]
    },
    {
      "cell_type": "code",
      "execution_count": null,
      "metadata": {
        "id": "fce-wul_Y752"
      },
      "outputs": [],
      "source": [
        "pred['opt_weight'] = opt_weighted_pred"
      ]
    },
    {
      "cell_type": "code",
      "execution_count": null,
      "metadata": {
        "colab": {
          "base_uri": "https://localhost:8080/"
        },
        "id": "pGry25bwPtO0",
        "outputId": "ff869436-dc13-4a31-b4cb-d7e754709c50"
      },
      "outputs": [
        {
          "name": "stdout",
          "output_type": "stream",
          "text": [
            "RMSE of Optimal Weighted : 2.2379\n"
          ]
        }
      ],
      "source": [
        "rmse_v = rmse(y_test, opt_weighted_pred)\n",
        "score['opt_weight'] = rmse_v\n",
        "print(f\"RMSE of Optimal Weighted : {round(rmse_v,4)}\")"
      ]
    },
    {
      "cell_type": "markdown",
      "metadata": {
        "id": "e8IjcHasGLOQ"
      },
      "source": [
        "## Feature Combine\n",
        "\n",
        "Feature Combine 방법을 이용하여, 타 모델에서 생성된 pred 값을 Input으로 사용합니다.\n",
        "\n",
        "item과 user의 feature를 사용하는 LGBM, Catboost에 추가하여 넘겨주도록 하겠습니다.\n"
      ]
    },
    {
      "cell_type": "code",
      "execution_count": null,
      "metadata": {
        "colab": {
          "base_uri": "https://localhost:8080/"
        },
        "id": "MOG8ifXOYURS",
        "outputId": "f15f0191-049c-4466-c6c5-737b4b3c06b1"
      },
      "outputs": [
        {
          "data": {
            "text/plain": [
              "{'svd': 2.2151653244307097,\n",
              " 'coclu': 2.5070737129167298,\n",
              " 'lgbm_cl': 2.5796208095217943,\n",
              " 'lgbm_r': 2.3653643082905997,\n",
              " 'catboost_cl': 2.6009437063173064,\n",
              " 'catboost_r': 2.3735758228478514,\n",
              " 'opt_weight': 2.2379142363490634}"
            ]
          },
          "execution_count": 101,
          "metadata": {},
          "output_type": "execute_result"
        }
      ],
      "source": [
        "score"
      ]
    },
    {
      "cell_type": "markdown",
      "metadata": {
        "id": "NXZJkEU4yCjY"
      },
      "source": [
        "성능이 가장 좋지 않았던 lgbm_cl, catboost_cl 등의 classifier model\u001d 성능 향상을 확인해 보겠습니다."
      ]
    },
    {
      "cell_type": "code",
      "execution_count": null,
      "metadata": {
        "id": "XN5LZZiLon40"
      },
      "outputs": [],
      "source": [
        "train_uir_tuple = list(zip(train_df['uid'], train_df['iid'], train_df['ratings']))"
      ]
    },
    {
      "cell_type": "code",
      "execution_count": null,
      "metadata": {
        "id": "LUMpZ5JEb7c2"
      },
      "outputs": [],
      "source": [
        "X_train_combine = X_train.copy()\n",
        "X_test_combine = X_test.copy()"
      ]
    },
    {
      "cell_type": "markdown",
      "metadata": {
        "id": "kndt_Q_RH_Iz"
      },
      "source": [
        "### Rating \bFeature 추가"
      ]
    },
    {
      "cell_type": "markdown",
      "metadata": {
        "id": "_6iyFPzgcOwI"
      },
      "source": [
        "여기서는 user-item 사이 interaction 데이터를 이용한 SVD, Co-clustering 알고리즘에서 예측한 pred_rating 에 대한 정보를 넘겨주도록 하겠습니다."
      ]
    },
    {
      "cell_type": "code",
      "execution_count": null,
      "metadata": {
        "id": "SC1nYqL-jVG9"
      },
      "outputs": [],
      "source": [
        "X_train_combine['svd_rating'] = list(map(lambda x:round(x.est), svd.test(train_uir_tuple)))\n",
        "X_test_combine['svd_rating'] = svd_pred"
      ]
    },
    {
      "cell_type": "code",
      "execution_count": null,
      "metadata": {
        "id": "3Fqq-XoifMD6"
      },
      "outputs": [],
      "source": [
        "X_train_combine['\bcoclu_rating'] = list(map(lambda x:round(x.est), coclu.test(train_uir_tuple)))\n",
        "X_test_combine['\bcoclu_rating'] = coclu_pred"
      ]
    },
    {
      "cell_type": "code",
      "execution_count": null,
      "metadata": {
        "id": "5KtAkNh8l0R0"
      },
      "outputs": [
        {
          "name": "stdout",
          "output_type": "stream",
          "text": [
            "[LightGBM] [Warning] Unknown parameter: n_epochs\n",
            "[LightGBM] [Warning] lambda_l2 is set with lambda=0.1, reg_lambda=0.0 will be ignored. Current value: lambda_l2=0.1\n"
          ]
        }
      ],
      "source": [
        "combined_lgbm_cl = LGBMClassifier(**param['lgbm'] , random_state=42)\n",
        "combined_lgbm_cl.fit(X_train_combine.select_dtypes(exclude='object'), y_train)\n",
        "com_lgbm_pred = combined_lgbm_cl.predict(X_test_combine.select_dtypes(exclude='object'))"
      ]
    },
    {
      "cell_type": "markdown",
      "metadata": {
        "id": "OUQ7gfZlITmk"
      },
      "source": [
        "### 성능 향상"
      ]
    },
    {
      "cell_type": "markdown",
      "metadata": {
        "id": "Uc3vM-Ttt-F9"
      },
      "source": [
        "svd 모델에서 파생된 rating pred를 추가한 경우, 같은 파라미터를 사용한 기존 모델보다 성능을 훨씬 향상됨을 확인할 수 있습니다.\n",
        "\n",
        "<!-- only SVD: 3.416 -->"
      ]
    },
    {
      "cell_type": "code",
      "execution_count": null,
      "metadata": {
        "id": "KWtMzU7EYM_V"
      },
      "outputs": [],
      "source": [
        "pred['combined_lgbm_cl'] = com_lgbm_pred"
      ]
    },
    {
      "cell_type": "code",
      "execution_count": null,
      "metadata": {
        "colab": {
          "base_uri": "https://localhost:8080/"
        },
        "id": "8MsM32lHuRYo",
        "outputId": "3b8014da-a493-4e03-ec7b-78a134234ac5"
      },
      "outputs": [
        {
          "name": "stdout",
          "output_type": "stream",
          "text": [
            "RMSE of Combined LGBM Classifier : 2.319\n"
          ]
        }
      ],
      "source": [
        "rmse_v = rmse(y_test, com_lgbm_pred)\n",
        "score['combined_lgbm_cl'] = rmse_v\n",
        "print(f\"RMSE of Combined LGBM Classifier : {round(rmse_v,4)}\")"
      ]
    },
    {
      "cell_type": "code",
      "execution_count": null,
      "metadata": {
        "colab": {
          "base_uri": "https://localhost:8080/"
        },
        "id": "-jVnDGCX3aPC",
        "outputId": "9b73c838-dc51-4aa8-ca03-73a11d69164d"
      },
      "outputs": [
        {
          "name": "stdout",
          "output_type": "stream",
          "text": [
            "feature combine improved RMSE -0.2606\n"
          ]
        }
      ],
      "source": [
        "improved = rmse_v - score['lgbm_cl']\n",
        "print(f'feature combine improved RMSE {round(improved,4)}')"
      ]
    },
    {
      "cell_type": "markdown",
      "metadata": {
        "id": "Ll2tL7A534yC"
      },
      "source": [
        "catboost의 case도 확인해 봅시다."
      ]
    },
    {
      "cell_type": "code",
      "execution_count": null,
      "metadata": {
        "colab": {
          "base_uri": "https://localhost:8080/"
        },
        "id": "IzhdEUC-eojG",
        "outputId": "d5cda265-ac52-4f15-a17e-93a2044d2d2e"
      },
      "outputs": [
        {
          "name": "stdout",
          "output_type": "stream",
          "text": [
            "0:\tlearn: 2.0555041\ttotal: 5.01s\tremaining: 8m 16s\n",
            "1:\tlearn: 1.9055127\ttotal: 9.68s\tremaining: 7m 54s\n",
            "2:\tlearn: 1.7956864\ttotal: 14.6s\tremaining: 7m 51s\n",
            "3:\tlearn: 1.7130405\ttotal: 19.4s\tremaining: 7m 46s\n",
            "4:\tlearn: 1.6460178\ttotal: 24s\tremaining: 7m 36s\n",
            "5:\tlearn: 1.5882979\ttotal: 28.8s\tremaining: 7m 31s\n",
            "6:\tlearn: 1.5390895\ttotal: 33.5s\tremaining: 7m 24s\n",
            "7:\tlearn: 1.4977683\ttotal: 38.1s\tremaining: 7m 17s\n",
            "8:\tlearn: 1.4631376\ttotal: 42.7s\tremaining: 7m 11s\n",
            "9:\tlearn: 1.4336811\ttotal: 47.4s\tremaining: 7m 6s\n",
            "10:\tlearn: 1.4055615\ttotal: 52.2s\tremaining: 7m 2s\n",
            "11:\tlearn: 1.3827643\ttotal: 56.9s\tremaining: 6m 57s\n",
            "12:\tlearn: 1.3623209\ttotal: 1m 1s\tremaining: 6m 51s\n",
            "13:\tlearn: 1.3440832\ttotal: 1m 6s\tremaining: 6m 46s\n",
            "14:\tlearn: 1.3287896\ttotal: 1m 10s\tremaining: 6m 40s\n",
            "15:\tlearn: 1.3149135\ttotal: 1m 15s\tremaining: 6m 37s\n",
            "16:\tlearn: 1.3027936\ttotal: 1m 20s\tremaining: 6m 33s\n",
            "17:\tlearn: 1.2921285\ttotal: 1m 25s\tremaining: 6m 28s\n",
            "18:\tlearn: 1.2823146\ttotal: 1m 30s\tremaining: 6m 24s\n",
            "19:\tlearn: 1.2730498\ttotal: 1m 34s\tremaining: 6m 19s\n",
            "20:\tlearn: 1.2656777\ttotal: 1m 39s\tremaining: 6m 14s\n",
            "21:\tlearn: 1.2575534\ttotal: 1m 44s\tremaining: 6m 9s\n",
            "22:\tlearn: 1.2496885\ttotal: 1m 49s\tremaining: 6m 5s\n",
            "23:\tlearn: 1.2438049\ttotal: 1m 54s\tremaining: 6m 1s\n",
            "24:\tlearn: 1.2389615\ttotal: 1m 58s\tremaining: 5m 55s\n",
            "25:\tlearn: 1.2344611\ttotal: 2m 3s\tremaining: 5m 51s\n",
            "26:\tlearn: 1.2295126\ttotal: 2m 8s\tremaining: 5m 46s\n",
            "27:\tlearn: 1.2265149\ttotal: 2m 13s\tremaining: 5m 42s\n",
            "28:\tlearn: 1.2227954\ttotal: 2m 18s\tremaining: 5m 38s\n",
            "29:\tlearn: 1.2189654\ttotal: 2m 22s\tremaining: 5m 32s\n",
            "30:\tlearn: 1.2162578\ttotal: 2m 27s\tremaining: 5m 28s\n",
            "31:\tlearn: 1.2130570\ttotal: 2m 32s\tremaining: 5m 23s\n",
            "32:\tlearn: 1.2099812\ttotal: 2m 37s\tremaining: 5m 19s\n",
            "33:\tlearn: 1.2077900\ttotal: 2m 42s\tremaining: 5m 14s\n",
            "34:\tlearn: 1.2059672\ttotal: 2m 46s\tremaining: 5m 9s\n",
            "35:\tlearn: 1.2039646\ttotal: 2m 51s\tremaining: 5m 5s\n",
            "36:\tlearn: 1.2013285\ttotal: 2m 56s\tremaining: 5m 1s\n",
            "37:\tlearn: 1.1985924\ttotal: 3m 1s\tremaining: 4m 56s\n",
            "38:\tlearn: 1.1969499\ttotal: 3m 6s\tremaining: 4m 52s\n",
            "39:\tlearn: 1.1951109\ttotal: 3m 12s\tremaining: 4m 48s\n",
            "40:\tlearn: 1.1932656\ttotal: 3m 17s\tremaining: 4m 43s\n",
            "41:\tlearn: 1.1923008\ttotal: 3m 22s\tremaining: 4m 39s\n",
            "42:\tlearn: 1.1913206\ttotal: 3m 27s\tremaining: 4m 35s\n",
            "43:\tlearn: 1.1905456\ttotal: 3m 33s\tremaining: 4m 31s\n",
            "44:\tlearn: 1.1900942\ttotal: 3m 38s\tremaining: 4m 27s\n",
            "45:\tlearn: 1.1892783\ttotal: 3m 44s\tremaining: 4m 23s\n",
            "46:\tlearn: 1.1881475\ttotal: 3m 50s\tremaining: 4m 20s\n",
            "47:\tlearn: 1.1876101\ttotal: 3m 56s\tremaining: 4m 16s\n",
            "48:\tlearn: 1.1859871\ttotal: 4m 2s\tremaining: 4m 12s\n",
            "49:\tlearn: 1.1844082\ttotal: 4m 7s\tremaining: 4m 7s\n",
            "50:\tlearn: 1.1838576\ttotal: 4m 12s\tremaining: 4m 3s\n",
            "51:\tlearn: 1.1835285\ttotal: 4m 17s\tremaining: 3m 58s\n",
            "52:\tlearn: 1.1828647\ttotal: 4m 23s\tremaining: 3m 53s\n",
            "53:\tlearn: 1.1818077\ttotal: 4m 28s\tremaining: 3m 48s\n",
            "54:\tlearn: 1.1807930\ttotal: 4m 33s\tremaining: 3m 43s\n",
            "55:\tlearn: 1.1793909\ttotal: 4m 38s\tremaining: 3m 38s\n",
            "56:\tlearn: 1.1785493\ttotal: 4m 43s\tremaining: 3m 33s\n",
            "57:\tlearn: 1.1775767\ttotal: 4m 48s\tremaining: 3m 29s\n",
            "58:\tlearn: 1.1766414\ttotal: 4m 53s\tremaining: 3m 24s\n",
            "59:\tlearn: 1.1756127\ttotal: 4m 58s\tremaining: 3m 19s\n",
            "60:\tlearn: 1.1751806\ttotal: 5m 3s\tremaining: 3m 14s\n",
            "61:\tlearn: 1.1743342\ttotal: 5m 9s\tremaining: 3m 9s\n",
            "62:\tlearn: 1.1734217\ttotal: 5m 14s\tremaining: 3m 4s\n",
            "63:\tlearn: 1.1727337\ttotal: 5m 19s\tremaining: 2m 59s\n",
            "64:\tlearn: 1.1722418\ttotal: 5m 24s\tremaining: 2m 54s\n",
            "65:\tlearn: 1.1710657\ttotal: 5m 29s\tremaining: 2m 49s\n",
            "66:\tlearn: 1.1705519\ttotal: 5m 34s\tremaining: 2m 44s\n",
            "67:\tlearn: 1.1703191\ttotal: 5m 39s\tremaining: 2m 39s\n",
            "68:\tlearn: 1.1697874\ttotal: 5m 45s\tremaining: 2m 35s\n",
            "69:\tlearn: 1.1689544\ttotal: 5m 50s\tremaining: 2m 30s\n",
            "70:\tlearn: 1.1684858\ttotal: 5m 55s\tremaining: 2m 25s\n",
            "71:\tlearn: 1.1675183\ttotal: 6m\tremaining: 2m 20s\n",
            "72:\tlearn: 1.1670406\ttotal: 6m 5s\tremaining: 2m 15s\n",
            "73:\tlearn: 1.1666817\ttotal: 6m 10s\tremaining: 2m 10s\n",
            "74:\tlearn: 1.1660770\ttotal: 6m 15s\tremaining: 2m 5s\n",
            "75:\tlearn: 1.1655732\ttotal: 6m 20s\tremaining: 2m\n",
            "76:\tlearn: 1.1651597\ttotal: 6m 25s\tremaining: 1m 55s\n",
            "77:\tlearn: 1.1648217\ttotal: 6m 30s\tremaining: 1m 50s\n",
            "78:\tlearn: 1.1642758\ttotal: 6m 35s\tremaining: 1m 45s\n",
            "79:\tlearn: 1.1637735\ttotal: 6m 41s\tremaining: 1m 40s\n",
            "80:\tlearn: 1.1626796\ttotal: 6m 46s\tremaining: 1m 35s\n",
            "81:\tlearn: 1.1622522\ttotal: 6m 51s\tremaining: 1m 30s\n",
            "82:\tlearn: 1.1616816\ttotal: 6m 56s\tremaining: 1m 25s\n",
            "83:\tlearn: 1.1612325\ttotal: 7m 2s\tremaining: 1m 20s\n",
            "84:\tlearn: 1.1609001\ttotal: 7m 7s\tremaining: 1m 15s\n",
            "85:\tlearn: 1.1604660\ttotal: 7m 12s\tremaining: 1m 10s\n",
            "86:\tlearn: 1.1599705\ttotal: 7m 18s\tremaining: 1m 5s\n",
            "87:\tlearn: 1.1594425\ttotal: 7m 23s\tremaining: 1m\n",
            "88:\tlearn: 1.1587891\ttotal: 7m 28s\tremaining: 55.5s\n",
            "89:\tlearn: 1.1583031\ttotal: 7m 34s\tremaining: 50.5s\n",
            "90:\tlearn: 1.1578335\ttotal: 7m 39s\tremaining: 45.5s\n",
            "91:\tlearn: 1.1573142\ttotal: 7m 45s\tremaining: 40.4s\n",
            "92:\tlearn: 1.1568060\ttotal: 7m 50s\tremaining: 35.4s\n",
            "93:\tlearn: 1.1548529\ttotal: 7m 55s\tremaining: 30.4s\n",
            "94:\tlearn: 1.1545132\ttotal: 8m\tremaining: 25.3s\n",
            "95:\tlearn: 1.1540753\ttotal: 8m 5s\tremaining: 20.2s\n",
            "96:\tlearn: 1.1536165\ttotal: 8m 11s\tremaining: 15.2s\n",
            "97:\tlearn: 1.1530491\ttotal: 8m 16s\tremaining: 10.1s\n",
            "98:\tlearn: 1.1523642\ttotal: 8m 22s\tremaining: 5.08s\n",
            "99:\tlearn: 1.1518481\ttotal: 8m 28s\tremaining: 0us\n"
          ]
        }
      ],
      "source": [
        "combined_catboost_cl = CatBoostClassifier(**param['catboost'], verbose=True, random_state=42)\n",
        "combined_catboost_cl.fit(X_train_combine.select_dtypes(exclude='object'), y_train, early_stopping_rounds=100)\n",
        "com_catboost_pred = combined_catboost_cl.predict(X_test_combine.select_dtypes(exclude='object'))"
      ]
    },
    {
      "cell_type": "code",
      "execution_count": null,
      "metadata": {
        "id": "9QSgsVnnYaNs"
      },
      "outputs": [],
      "source": [
        "pred['combined_catboost_cl'] = com_catboost_pred.squeeze(1)"
      ]
    },
    {
      "cell_type": "code",
      "execution_count": null,
      "metadata": {
        "colab": {
          "base_uri": "https://localhost:8080/"
        },
        "id": "5sjc84-2wAD5",
        "outputId": "75349d4e-193a-43d9-9038-103072396b1a"
      },
      "outputs": [
        {
          "name": "stdout",
          "output_type": "stream",
          "text": [
            "RMSE of Combined Catboost Classifier : 2.3003\n"
          ]
        }
      ],
      "source": [
        "rmse_v = rmse(y_test,com_catboost_pred.squeeze(1))\n",
        "score['combined_catboost_cl'] = rmse_v\n",
        "print(f\"RMSE of Combined Catboost Classifier : {round(rmse_v,4)}\")"
      ]
    },
    {
      "cell_type": "code",
      "execution_count": null,
      "metadata": {
        "colab": {
          "base_uri": "https://localhost:8080/"
        },
        "id": "o5CTpZNB62gO",
        "outputId": "e67f4589-573a-44bf-d374-ff4428055f03"
      },
      "outputs": [
        {
          "name": "stdout",
          "output_type": "stream",
          "text": [
            "Feature combine improved RMSE -0.3006\n"
          ]
        }
      ],
      "source": [
        "improved = rmse_v - score['catboost_cl']\n",
        "print(f'Feature combine improved RMSE {round(improved,4)}')"
      ]
    },
    {
      "cell_type": "markdown",
      "metadata": {
        "id": "wW3U8bkWF75b"
      },
      "source": [
        "## Mixed\n",
        "일반적인 Mixed 형식의 하이브리드 접근법은 Ranking 문제에서 주로 사용하는 방식입니다.\n",
        "예를 들어, top k를 추천할 때 n개의 모델에서 나온 item을 각각 섞어 k개를 선정하는 것을 들 수 있습니다.\n",
        "\n",
        "prediction\u001d을 목적으로 진행하는 이번 과제에서는 일반적인 mixed 형식은 어렵습니다.\n",
        "이에 따라, 이번 미션에서는 케이스 별 모델에서 도출한 pred rating을 섞어 최종 결과로 사용하는 방식의 개량된 mixed approach에 대해 알아보겠습니다."
      ]
    },
    {
      "cell_type": "markdown",
      "metadata": {
        "id": "UJbITzuQIiwn"
      },
      "source": [
        "### Case 분화"
      ]
    },
    {
      "cell_type": "markdown",
      "metadata": {
        "id": "0ePt2ah6HFc-"
      },
      "source": [
        "예시를 위해 pulication이 2000년 미만인 경우(20세기)와 이후인 경우(21세기)를 분화하여, 각각 다른 모델을 섞어보도록 하겠습니다."
      ]
    },
    {
      "cell_type": "markdown",
      "metadata": {
        "id": "gU1sFWu4bFCv"
      },
      "source": [
        "- train Set 케이스 분화"
      ]
    },
    {
      "cell_type": "code",
      "execution_count": null,
      "metadata": {
        "id": "T1---7xRZkYR"
      },
      "outputs": [],
      "source": [
        "X_train_combine_21cent = X_train_combine[~(X_train_combine['year_of_publication'] < 2000)].copy().reset_index(drop=True)\n",
        "X_train_combine_20cent = X_train_combine[X_train_combine['year_of_publication'] < 2000].copy().reset_index(drop=True)"
      ]
    },
    {
      "cell_type": "code",
      "execution_count": null,
      "metadata": {
        "id": "y4wRg2cyadPh"
      },
      "outputs": [],
      "source": [
        "y_train_21cent = y_train[~(X_train_combine['year_of_publication'] < 2000)].copy().reset_index(drop=True)\n",
        "y_train_20cent = y_train[X_train_combine['year_of_publication'] < 2000].copy().reset_index(drop=True)"
      ]
    },
    {
      "cell_type": "markdown",
      "metadata": {
        "id": "XnalE3WSbIjB"
      },
      "source": [
        "- test set 케이스 분화"
      ]
    },
    {
      "cell_type": "code",
      "execution_count": null,
      "metadata": {
        "id": "K1wtREyfZVTw"
      },
      "outputs": [],
      "source": [
        "X_test_combine_21cent = X_test_combine[~(X_test_combine['year_of_publication'] < 2000)].copy().reset_index(drop=True)\n",
        "X_test_combine_20cent = X_test_combine[X_test_combine['year_of_publication'] < 2000].copy().reset_index(drop=True)"
      ]
    },
    {
      "cell_type": "code",
      "execution_count": null,
      "metadata": {
        "id": "-1DgtvECa0-Z"
      },
      "outputs": [],
      "source": [
        "y_test_21cent = y_test[~(X_test_combine['year_of_publication'] < 2000)].copy().reset_index(drop=True)\n",
        "y_test_20cent = y_test[X_test_combine['year_of_publication'] < 2000].copy().reset_index(drop=True)"
      ]
    },
    {
      "cell_type": "markdown",
      "metadata": {
        "id": "Nl96UaOObT27"
      },
      "source": [
        "### Case 별 모델 학습"
      ]
    },
    {
      "cell_type": "code",
      "execution_count": null,
      "metadata": {
        "id": "SI7zllw-bUDv"
      },
      "outputs": [],
      "source": [
        "# 20세기\n",
        "lgbm_20cent = LGBMClassifier(**param['lgbm'] , random_state=42)\n",
        "lgbm_20cent.fit(X_train_combine_20cent.select_dtypes(exclude='object'), y_train_20cent)\n",
        "lgbm_20cent_pred = lgbm_20cent.predict(X_test_combine_20cent.select_dtypes(exclude='object'))"
      ]
    },
    {
      "cell_type": "code",
      "execution_count": null,
      "metadata": {
        "colab": {
          "base_uri": "https://localhost:8080/"
        },
        "id": "bghYveebbUB3",
        "outputId": "9ea62493-5e06-44e5-d0e1-d814a170adc2"
      },
      "outputs": [
        {
          "name": "stdout",
          "output_type": "stream",
          "text": [
            "0:\tlearn: 2.0734328\ttotal: 2.52s\tremaining: 4m 9s\n",
            "1:\tlearn: 1.9227940\ttotal: 4.98s\tremaining: 4m 4s\n",
            "2:\tlearn: 1.8112397\ttotal: 7.56s\tremaining: 4m 4s\n",
            "3:\tlearn: 1.7218304\ttotal: 10.8s\tremaining: 4m 19s\n",
            "4:\tlearn: 1.6468328\ttotal: 13.9s\tremaining: 4m 24s\n",
            "5:\tlearn: 1.5932391\ttotal: 17.3s\tremaining: 4m 31s\n",
            "6:\tlearn: 1.5452491\ttotal: 20.4s\tremaining: 4m 30s\n",
            "7:\tlearn: 1.5064522\ttotal: 23.4s\tremaining: 4m 28s\n",
            "8:\tlearn: 1.4718093\ttotal: 26s\tremaining: 4m 23s\n",
            "9:\tlearn: 1.4416469\ttotal: 28.6s\tremaining: 4m 17s\n",
            "10:\tlearn: 1.4140672\ttotal: 30.8s\tremaining: 4m 9s\n",
            "11:\tlearn: 1.3922833\ttotal: 33.5s\tremaining: 4m 5s\n",
            "12:\tlearn: 1.3730014\ttotal: 36.2s\tremaining: 4m 2s\n",
            "13:\tlearn: 1.3558235\ttotal: 38.6s\tremaining: 3m 57s\n",
            "14:\tlearn: 1.3407098\ttotal: 41.1s\tremaining: 3m 53s\n",
            "15:\tlearn: 1.3271560\ttotal: 43.9s\tremaining: 3m 50s\n",
            "16:\tlearn: 1.3162292\ttotal: 46.6s\tremaining: 3m 47s\n",
            "17:\tlearn: 1.3045957\ttotal: 49.1s\tremaining: 3m 43s\n",
            "18:\tlearn: 1.2939760\ttotal: 51.9s\tremaining: 3m 41s\n",
            "19:\tlearn: 1.2834505\ttotal: 54.5s\tremaining: 3m 37s\n",
            "20:\tlearn: 1.2755440\ttotal: 56.8s\tremaining: 3m 33s\n",
            "21:\tlearn: 1.2687985\ttotal: 59.3s\tremaining: 3m 30s\n",
            "22:\tlearn: 1.2610979\ttotal: 1m 1s\tremaining: 3m 26s\n",
            "23:\tlearn: 1.2572232\ttotal: 1m 4s\tremaining: 3m 23s\n",
            "24:\tlearn: 1.2504418\ttotal: 1m 7s\tremaining: 3m 21s\n",
            "25:\tlearn: 1.2444082\ttotal: 1m 9s\tremaining: 3m 18s\n",
            "26:\tlearn: 1.2385293\ttotal: 1m 12s\tremaining: 3m 15s\n",
            "27:\tlearn: 1.2357805\ttotal: 1m 14s\tremaining: 3m 12s\n",
            "28:\tlearn: 1.2312417\ttotal: 1m 17s\tremaining: 3m 9s\n",
            "29:\tlearn: 1.2285448\ttotal: 1m 20s\tremaining: 3m 6s\n",
            "30:\tlearn: 1.2255371\ttotal: 1m 22s\tremaining: 3m 3s\n",
            "31:\tlearn: 1.2226655\ttotal: 1m 25s\tremaining: 3m 1s\n",
            "32:\tlearn: 1.2192117\ttotal: 1m 28s\tremaining: 2m 59s\n",
            "33:\tlearn: 1.2163082\ttotal: 1m 31s\tremaining: 2m 56s\n",
            "34:\tlearn: 1.2128418\ttotal: 1m 33s\tremaining: 2m 53s\n",
            "35:\tlearn: 1.2112966\ttotal: 1m 36s\tremaining: 2m 50s\n",
            "36:\tlearn: 1.2086636\ttotal: 1m 38s\tremaining: 2m 48s\n",
            "37:\tlearn: 1.2061460\ttotal: 1m 41s\tremaining: 2m 45s\n",
            "38:\tlearn: 1.2036720\ttotal: 1m 44s\tremaining: 2m 42s\n",
            "39:\tlearn: 1.2015896\ttotal: 1m 46s\tremaining: 2m 40s\n",
            "40:\tlearn: 1.1996001\ttotal: 1m 49s\tremaining: 2m 37s\n",
            "41:\tlearn: 1.1987578\ttotal: 1m 52s\tremaining: 2m 35s\n",
            "42:\tlearn: 1.1979382\ttotal: 1m 55s\tremaining: 2m 32s\n",
            "43:\tlearn: 1.1955865\ttotal: 1m 58s\tremaining: 2m 30s\n",
            "44:\tlearn: 1.1937969\ttotal: 2m\tremaining: 2m 27s\n",
            "45:\tlearn: 1.1925524\ttotal: 2m 3s\tremaining: 2m 25s\n",
            "46:\tlearn: 1.1910107\ttotal: 2m 6s\tremaining: 2m 22s\n",
            "47:\tlearn: 1.1888973\ttotal: 2m 9s\tremaining: 2m 19s\n",
            "48:\tlearn: 1.1870371\ttotal: 2m 11s\tremaining: 2m 17s\n",
            "49:\tlearn: 1.1858183\ttotal: 2m 14s\tremaining: 2m 14s\n",
            "50:\tlearn: 1.1842287\ttotal: 2m 17s\tremaining: 2m 11s\n",
            "51:\tlearn: 1.1827874\ttotal: 2m 20s\tremaining: 2m 9s\n",
            "52:\tlearn: 1.1808898\ttotal: 2m 24s\tremaining: 2m 7s\n",
            "53:\tlearn: 1.1795737\ttotal: 2m 27s\tremaining: 2m 5s\n",
            "54:\tlearn: 1.1778039\ttotal: 2m 30s\tremaining: 2m 3s\n",
            "55:\tlearn: 1.1766319\ttotal: 2m 33s\tremaining: 2m\n",
            "56:\tlearn: 1.1756801\ttotal: 2m 37s\tremaining: 1m 58s\n",
            "57:\tlearn: 1.1750117\ttotal: 2m 40s\tremaining: 1m 56s\n",
            "58:\tlearn: 1.1741734\ttotal: 2m 43s\tremaining: 1m 53s\n",
            "59:\tlearn: 1.1724444\ttotal: 2m 45s\tremaining: 1m 50s\n",
            "60:\tlearn: 1.1713680\ttotal: 2m 48s\tremaining: 1m 47s\n",
            "61:\tlearn: 1.1699759\ttotal: 2m 51s\tremaining: 1m 44s\n",
            "62:\tlearn: 1.1684799\ttotal: 2m 54s\tremaining: 1m 42s\n",
            "63:\tlearn: 1.1673385\ttotal: 2m 56s\tremaining: 1m 39s\n",
            "64:\tlearn: 1.1666415\ttotal: 2m 59s\tremaining: 1m 36s\n",
            "65:\tlearn: 1.1648083\ttotal: 3m 2s\tremaining: 1m 33s\n",
            "66:\tlearn: 1.1632152\ttotal: 3m 5s\tremaining: 1m 31s\n",
            "67:\tlearn: 1.1626228\ttotal: 3m 7s\tremaining: 1m 28s\n",
            "68:\tlearn: 1.1618180\ttotal: 3m 10s\tremaining: 1m 25s\n",
            "69:\tlearn: 1.1612482\ttotal: 3m 12s\tremaining: 1m 22s\n",
            "70:\tlearn: 1.1601497\ttotal: 3m 15s\tremaining: 1m 19s\n",
            "71:\tlearn: 1.1584482\ttotal: 3m 17s\tremaining: 1m 16s\n",
            "72:\tlearn: 1.1573083\ttotal: 3m 20s\tremaining: 1m 14s\n",
            "73:\tlearn: 1.1562023\ttotal: 3m 23s\tremaining: 1m 11s\n",
            "74:\tlearn: 1.1551551\ttotal: 3m 26s\tremaining: 1m 8s\n",
            "75:\tlearn: 1.1541313\ttotal: 3m 29s\tremaining: 1m 6s\n",
            "76:\tlearn: 1.1525565\ttotal: 3m 32s\tremaining: 1m 3s\n",
            "77:\tlearn: 1.1513614\ttotal: 3m 34s\tremaining: 1m\n",
            "78:\tlearn: 1.1502524\ttotal: 3m 37s\tremaining: 57.8s\n",
            "79:\tlearn: 1.1492006\ttotal: 3m 40s\tremaining: 55.1s\n",
            "80:\tlearn: 1.1486782\ttotal: 3m 43s\tremaining: 52.3s\n",
            "81:\tlearn: 1.1479865\ttotal: 3m 45s\tremaining: 49.5s\n",
            "82:\tlearn: 1.1464923\ttotal: 3m 48s\tremaining: 46.8s\n",
            "83:\tlearn: 1.1453189\ttotal: 3m 51s\tremaining: 44.1s\n",
            "84:\tlearn: 1.1444681\ttotal: 3m 53s\tremaining: 41.3s\n",
            "85:\tlearn: 1.1434900\ttotal: 3m 56s\tremaining: 38.5s\n",
            "86:\tlearn: 1.1425354\ttotal: 3m 58s\tremaining: 35.7s\n",
            "87:\tlearn: 1.1409596\ttotal: 4m 1s\tremaining: 33s\n",
            "88:\tlearn: 1.1395909\ttotal: 4m 4s\tremaining: 30.2s\n",
            "89:\tlearn: 1.1388822\ttotal: 4m 7s\tremaining: 27.5s\n",
            "90:\tlearn: 1.1365862\ttotal: 4m 9s\tremaining: 24.7s\n",
            "91:\tlearn: 1.1356114\ttotal: 4m 12s\tremaining: 21.9s\n",
            "92:\tlearn: 1.1343769\ttotal: 4m 15s\tremaining: 19.2s\n",
            "93:\tlearn: 1.1331846\ttotal: 4m 17s\tremaining: 16.5s\n",
            "94:\tlearn: 1.1323141\ttotal: 4m 20s\tremaining: 13.7s\n",
            "95:\tlearn: 1.1310835\ttotal: 4m 23s\tremaining: 11s\n",
            "96:\tlearn: 1.1300228\ttotal: 4m 25s\tremaining: 8.22s\n",
            "97:\tlearn: 1.1293213\ttotal: 4m 28s\tremaining: 5.48s\n",
            "98:\tlearn: 1.1279891\ttotal: 4m 31s\tremaining: 2.74s\n",
            "99:\tlearn: 1.1273411\ttotal: 4m 34s\tremaining: 0us\n"
          ]
        }
      ],
      "source": [
        "# 21세기\n",
        "catboost_21cent = CatBoostClassifier(**param['catboost'] , random_state=42)\n",
        "catboost_21cent.fit(X_train_combine_21cent.select_dtypes(exclude='object'), y_train_21cent)\n",
        "catboost_21cent_pred = catboost_21cent.predict(X_test_combine_21cent.select_dtypes(exclude='object'))"
      ]
    },
    {
      "cell_type": "markdown",
      "metadata": {
        "id": "HyOk2ysrdICR"
      },
      "source": [
        "### 성능 평가"
      ]
    },
    {
      "cell_type": "code",
      "execution_count": null,
      "metadata": {
        "colab": {
          "base_uri": "https://localhost:8080/"
        },
        "id": "Pybx1Ki2cdCz",
        "outputId": "f2afb061-2cfb-4eed-d542-b1fe94185172"
      },
      "outputs": [
        {
          "data": {
            "text/plain": [
              "{'svd': 2.2151653244307097,\n",
              " 'coclu': 2.5070737129167298,\n",
              " 'lgbm_cl': 2.5796208095217943,\n",
              " 'lgbm_r': 2.3653643082905997,\n",
              " 'catboost_cl': 2.6009437063173064,\n",
              " 'catboost_r': 2.3735758228478514,\n",
              " 'opt_weight': 2.2379142363490634,\n",
              " 'combined_lgbm_cl': 2.3189822996542993,\n",
              " 'combined_catboost_cl': 2.300321995349668}"
            ]
          },
          "execution_count": 121,
          "metadata": {},
          "output_type": "execute_result"
        }
      ],
      "source": [
        "score"
      ]
    },
    {
      "cell_type": "markdown",
      "metadata": {
        "id": "kPwt-pm3dcdN"
      },
      "source": [
        "20세기의 경우, combined_lgbm_cl 보다 성능이 향상되지 않아, 다른 방식의 접근이 필요함을 알 수 있습니다."
      ]
    },
    {
      "cell_type": "code",
      "execution_count": null,
      "metadata": {
        "colab": {
          "base_uri": "https://localhost:8080/"
        },
        "id": "T1HtLjtIe4-5",
        "outputId": "281ef8a1-1019-4c03-a623-547bca16c429"
      },
      "outputs": [
        {
          "name": "stdout",
          "output_type": "stream",
          "text": [
            "RMSE of Combined LGBM Classifier (CASE 20 Century): 2.3173\n"
          ]
        }
      ],
      "source": [
        "rmse_v = rmse(y_test_20cent,lgbm_20cent_pred)\n",
        "print(f\"RMSE of Combined LGBM Classifier (CASE 20 Century): {round(rmse_v,4)}\")"
      ]
    },
    {
      "cell_type": "code",
      "execution_count": null,
      "metadata": {
        "colab": {
          "base_uri": "https://localhost:8080/"
        },
        "id": "PAie4DZIe4-6",
        "outputId": "6ed9a68e-cde8-4626-c092-de458db950ff"
      },
      "outputs": [
        {
          "name": "stdout",
          "output_type": "stream",
          "text": [
            "Mixed improved RMSE -0.0017\n"
          ]
        }
      ],
      "source": [
        "improved = rmse_v - score['combined_lgbm_cl']\n",
        "print(f'Mixed improved RMSE {round(improved,4)}')"
      ]
    },
    {
      "cell_type": "markdown",
      "metadata": {
        "id": "v_S5GI8edmWy"
      },
      "source": [
        "21세기의 경우, combined_catboost_cl보다 평가 지표가 소폭 향상되었음을 확인할 수 있습니다."
      ]
    },
    {
      "cell_type": "code",
      "execution_count": null,
      "metadata": {
        "colab": {
          "base_uri": "https://localhost:8080/"
        },
        "id": "xrLDqJK0bUAB",
        "outputId": "75251e0e-168b-46f3-81a9-86a891cefb7f"
      },
      "outputs": [
        {
          "name": "stdout",
          "output_type": "stream",
          "text": [
            "RMSE of Combined catboost Classifier (CASE 21 Century): 2.3032\n"
          ]
        }
      ],
      "source": [
        "rmse_v = rmse(y_test_21cent, catboost_21cent_pred.squeeze())\n",
        "print(f\"RMSE of Combined catboost Classifier (CASE 21 Century): {round(rmse_v,4)}\")"
      ]
    },
    {
      "cell_type": "code",
      "execution_count": null,
      "metadata": {
        "colab": {
          "base_uri": "https://localhost:8080/"
        },
        "id": "21TYUFQTfL-6",
        "outputId": "ff52e4ad-8c5a-4b7c-db1e-a40c69c377cb"
      },
      "outputs": [
        {
          "name": "stdout",
          "output_type": "stream",
          "text": [
            "Mixed improved RMSE 0.0028\n"
          ]
        }
      ],
      "source": [
        "improved = rmse_v - score['combined_catboost_cl']\n",
        "print(f'Mixed improved RMSE {round(improved,4)}')"
      ]
    },
    {
      "cell_type": "markdown",
      "metadata": {
        "id": "8kJJv7h9O3wa"
      },
      "source": [
        "# [7] 결론"
      ]
    },
    {
      "cell_type": "markdown",
      "metadata": {
        "id": "OTeX4Im7NvVQ"
      },
      "source": [
        "Hybrids 시스템은 전반적으로 강력한 시스템을 만드는 장점을 가지고 있습니다. 여기서 제시된 다양한 방법들은 추천시스템의 편향을 줄이거나 다양성을 통합하기 위해 사용됩니다.\n",
        "\n",
        "Hybrid Approach 또한 한가지 접근법만을 적용하는 것이 아닌 중첩하여 다양한 방식을 적용할 수도 있습니다.\n",
        "\n",
        "최종적으로 Weighted, Feature Combine 방식을 모두 적용한 최종 output에 대해 살펴 보겠습니다."
      ]
    },
    {
      "cell_type": "code",
      "execution_count": null,
      "metadata": {
        "colab": {
          "base_uri": "https://localhost:8080/"
        },
        "id": "OTjWBDxSPHVc",
        "outputId": "22125bf3-9817-4dea-c0e3-01fe643447d2"
      },
      "outputs": [
        {
          "data": {
            "text/plain": [
              "{'svd': 2.2151653244307097,\n",
              " 'coclu': 2.5070737129167298,\n",
              " 'lgbm_cl': 2.5796208095217943,\n",
              " 'lgbm_r': 2.3653643082905997,\n",
              " 'catboost_cl': 2.6009437063173064,\n",
              " 'catboost_r': 2.3735758228478514,\n",
              " 'opt_weight': 2.2379142363490634,\n",
              " 'combined_lgbm_cl': 2.3189822996542993,\n",
              " 'combined_catboost_cl': 2.300321995349668}"
            ]
          },
          "execution_count": 126,
          "metadata": {},
          "output_type": "execute_result"
        }
      ],
      "source": [
        "score"
      ]
    },
    {
      "cell_type": "code",
      "execution_count": null,
      "metadata": {
        "colab": {
          "base_uri": "https://localhost:8080/"
        },
        "id": "sVSu4yNzeCCy",
        "outputId": "27fa5b4d-1b68-40b3-e526-341bd4e03364"
      },
      "outputs": [
        {
          "name": "stdout",
          "output_type": "stream",
          "text": [
            "RMSE 3.5 이하 모델 활용 : ['svd', 'coclu', 'lgbm_cl', 'lgbm_r', 'catboost_cl', 'catboost_r', 'opt_weight', 'combined_lgbm_cl', 'combined_catboost_cl']\n"
          ]
        }
      ],
      "source": [
        "threshold = 3.5\n",
        "suitable_models = find_suitable_model(score,threshold)\n",
        "print(f\"RMSE {threshold} 이하 모델 활용 : {suitable_models}\")"
      ]
    },
    {
      "cell_type": "code",
      "execution_count": null,
      "metadata": {
        "id": "UWGfE6bAN4kr"
      },
      "outputs": [],
      "source": [
        "final_output_list = [pred[m] for m in suitable_models]"
      ]
    },
    {
      "cell_type": "markdown",
      "metadata": {
        "id": "m3Z5v9MeSKwH"
      },
      "source": [
        "다양한 모델에서 나온 결과값을 앙상블함으로서 보다 편향을 줄인 결과값을 얻을 수 있습니다."
      ]
    },
    {
      "cell_type": "code",
      "execution_count": null,
      "metadata": {
        "colab": {
          "base_uri": "https://localhost:8080/"
        },
        "id": "2jO9EMdWOmGQ",
        "outputId": "68059097-55c0-48ee-f402-8c6a50758ec4"
      },
      "outputs": [
        {
          "data": {
            "text/plain": [
              "{'rmse': 2.216146035039558,\n",
              " 'weight': array([0.41220363, 0.10724957, 0.06643234, 0.01436066, 0.02614857,\n",
              "        0.03429501, 0.16818837, 0.02753483, 0.14358702])}"
            ]
          },
          "execution_count": 129,
          "metadata": {},
          "output_type": "execute_result"
        }
      ],
      "source": [
        "optimal_weighted(final_output_list,n=100)"
      ]
    },
    {
      "cell_type": "markdown",
      "metadata": {
        "id": "GnLkK3-Mrbku"
      },
      "source": [
        "---\n",
        "- reference\n",
        "  - Jeffery chiang, 7 Types of Hybrid Recommendation System\n",
        ", Jun 26, 2021, https://medium.com/analytics-vidhya/7-types-of-hybrid-recommendation-system-3e4f78266ad8"
      ]
    },
    {
      "cell_type": "markdown",
      "metadata": {
        "id": "b2AIuVkLsNQL"
      },
      "source": [
        "---"
      ]
    },
    {
      "cell_type": "markdown",
      "metadata": {
        "id": "TmuzxJ9mGrNn"
      },
      "source": [
        "<font color='red'><b>**WARNING**</b></font> : **본 교육 콘텐츠의 지식재산권은 재단법인 네이버커넥트에 귀속됩니다. 본 콘텐츠를 어떠한 경로로든 외부로 유출 및 수정하는 행위를 엄격히 금합니다.** 다만, 비영리적 교육 및 연구활동에 한정되어 사용할 수 있으나 재단의 허락을 받아야 합니다. 이를 위반하는 경우, 관련 법률에 따라 책임을 질 수 있습니다.\n",
        "\n"
      ]
    },
    {
      "cell_type": "code",
      "execution_count": null,
      "metadata": {
        "id": "NHLh6zbssJ1R"
      },
      "outputs": [],
      "source": []
    }
  ],
  "metadata": {
    "colab": {
      "collapsed_sections": [
        "1NnPT28WfIJi",
        "eS8FXN7U2zG2",
        "dptjXNr723M8",
        "o8XwmNT40JxI"
      ],
      "machine_shape": "hm",
      "provenance": []
    },
    "gpuClass": "standard",
    "kernelspec": {
      "display_name": "Python 3.8.5 ('base')",
      "language": "python",
      "name": "python3"
    },
    "language_info": {
      "codemirror_mode": {
        "name": "ipython",
        "version": 3
      },
      "file_extension": ".py",
      "mimetype": "text/x-python",
      "name": "python",
      "nbconvert_exporter": "python",
      "pygments_lexer": "ipython3",
      "version": "3.8.5"
    },
    "vscode": {
      "interpreter": {
        "hash": "d4d1e4263499bec80672ea0156c357c1ee493ec2b1c70f0acce89fc37c4a6abe"
      }
    }
  },
  "nbformat": 4,
  "nbformat_minor": 0
}
